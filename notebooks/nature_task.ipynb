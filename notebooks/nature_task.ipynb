{
 "cells": [
  {
   "cell_type": "code",
   "execution_count": null,
   "id": "7e06aeca",
   "metadata": {},
   "outputs": [],
   "source": [
    "import requests\n",
    "# use beautifulsoup to parse html\n",
    "from bs4 import BeautifulSoup\n",
    "from PIL import Image\n",
    "from io import BytesIO"
   ]
  },
  {
   "cell_type": "code",
   "execution_count": 2,
   "id": "1c4e7084",
   "metadata": {},
   "outputs": [],
   "source": [
    "url = 'https://www.fws.gov/lab/featheratlas/idresults.php?unpatterned=1&color=White&size_small=1&position_tail=1&waterfowl=1&Find+Similar+Feathers=Find+Similar+Feathers'"
   ]
  },
  {
   "cell_type": "code",
   "execution_count": 3,
   "id": "23a72560",
   "metadata": {},
   "outputs": [
    {
     "data": {
      "text/plain": [
       "<Response [200]>"
      ]
     },
     "execution_count": 3,
     "metadata": {},
     "output_type": "execute_result"
    }
   ],
   "source": [
    "res = requests.get(url)\n",
    "\n",
    "res"
   ]
  },
  {
   "cell_type": "code",
   "execution_count": 17,
   "id": "4e8319d0",
   "metadata": {},
   "outputs": [],
   "source": [
    "html = BeautifulSoup(res.text, 'html.parser')\n",
    "# find class='fa-contentbox'\n",
    "content = html.find(class_='fa-contentbox')"
   ]
  },
  {
   "cell_type": "code",
   "execution_count": 18,
   "id": "a0741c14",
   "metadata": {},
   "outputs": [
    {
     "data": {
      "text/plain": [
       "<div class=\"fa-contentbox\">\n",
       "<p class=\"H2\">IDENTIFY FEATHER: <span class=\"H3\">3 SEARCH RESULTS </span> <br/>\n",
       "</p>\n",
       "<p><a href=\"idtool.php\">Back to Identify My Feather</a></p>\n",
       "<!-- <div id=\"pagination\">\n",
       "         <ul>\n",
       "           <li class=\"current\"><a href=\"#\">1</a></li>\n",
       "           <li><a href=\"#\">2</a></li>\n",
       "           <li><a href=\"#\">3</a></li>\n",
       "           of 3 pages\n",
       "         </ul>\n",
       "       </div> //-->\n",
       "<div class=\"caption\" style=\"margin:10px; display:block; width:100%;\">\n",
       "<div class=\"singleResult\">\n",
       "<a href=\"#\" onclick='submitgetLink(\"LOTD_tail_female\")'>\n",
       "<img alt=\"Long-tailed Duck\" border=\"0\" class=\"resultImg\" src=\"/lab/featheratlas/images/feathers/thumbs/LOTD_tail_female.jpg\">\n",
       "</img></a>\n",
       "<span class=\"featherlabel\">\n",
       "<a href=\"#\" onclick='submitgetLink(\"LOTD_tail_female\")'>\n",
       "\t\t\t\t\t\t\t\t\tLong-tailed Duck\t\t\t\t\t\t\t\t</a>\n",
       "<br/>\n",
       "<em>\n",
       "\t\t\t\t\t\t\t\t\tClangula hyemalis\t\t\t\t\t\t\t\t</em>\n",
       "</span>\n",
       "<br/>\n",
       "\t\t\t\t\t\t\tAdult  Female  Rectrices<br/>\n",
       "<form action=\"feather.php?Bird=LOTD_tail_female\" method=\"get\" name=\"LOTD_tail_female\">\n",
       "<input name=\"Bird\" type=\"hidden\" value=\"LOTD_tail_female\"/>\n",
       "<input name=\"featherIndex\" type=\"hidden\" value=\"0\"/>\n",
       "</form>\n",
       "</div>\n",
       "<div class=\"singleResult\">\n",
       "<a href=\"#\" onclick='submitgetLink(\"LOTD_tail_male\")'>\n",
       "<img alt=\"Long-tailed Duck\" border=\"0\" class=\"resultImg\" src=\"/lab/featheratlas/images/feathers/thumbs/LOTD_tail_male.jpg\"/>\n",
       "</a>\n",
       "<span class=\"featherlabel\">\n",
       "<a href=\"#\" onclick='submitgetLink(\"LOTD_tail_male\")'>\n",
       "\t\t\t\t\t\t\t\t\tLong-tailed Duck\t\t\t\t\t\t\t\t</a>\n",
       "<br/>\n",
       "<em>\n",
       "\t\t\t\t\t\t\t\t\tClangula hyemalis\t\t\t\t\t\t\t\t</em>\n",
       "</span>\n",
       "<br/>\n",
       "\t\t\t\t\t\t\tAdult  Male  Rectrices<br/>\n",
       "<form action=\"feather.php?Bird=LOTD_tail_male\" method=\"get\" name=\"LOTD_tail_male\">\n",
       "<input name=\"Bird\" type=\"hidden\" value=\"LOTD_tail_male\"/>\n",
       "<input name=\"featherIndex\" type=\"hidden\" value=\"1\"/>\n",
       "</form>\n",
       "</div>\n",
       "<div class=\"singleResult\">\n",
       "<a href=\"#\" onclick='submitgetLink(\"NSHO_tail_male\")'>\n",
       "<img alt=\"Northern Shoveler\" border=\"0\" class=\"resultImg\" src=\"/lab/featheratlas/images/feathers/thumbs/NSHO_tail_male.jpg\"/>\n",
       "</a>\n",
       "<span class=\"featherlabel\">\n",
       "<a href=\"#\" onclick='submitgetLink(\"NSHO_tail_male\")'>\n",
       "\t\t\t\t\t\t\t\t\tNorthern Shoveler\t\t\t\t\t\t\t\t</a>\n",
       "<br/>\n",
       "<em>\n",
       "\t\t\t\t\t\t\t\t\tSpatula clypeata\t\t\t\t\t\t\t\t</em>\n",
       "</span>\n",
       "<br/>\n",
       "\t\t\t\t\t\t\tAdult  Male  Rectrices<br/>\n",
       "<form action=\"feather.php?Bird=NSHO_tail_male\" method=\"get\" name=\"NSHO_tail_male\">\n",
       "<input name=\"Bird\" type=\"hidden\" value=\"NSHO_tail_male\"/>\n",
       "<input name=\"featherIndex\" type=\"hidden\" value=\"2\"/>\n",
       "</form>\n",
       "</div>\n",
       "</div>\n",
       "<br/>\n",
       "<p><a href=\"idtool.php\">Back to Identify My Feather</a></p>\n",
       "<!-- <div id=\"pagination\">\n",
       "         <ul>\n",
       "           <li class=\"current\"><a href=\"#\">1</a></li>\n",
       "           <li><a href=\"#\">2</a></li>\n",
       "           <li><a href=\"#\">3</a></li>\n",
       "           of 3 pages\n",
       "         </ul>\n",
       "       </div> \n",
       "       </p>-->\n",
       "</div>"
      ]
     },
     "execution_count": 18,
     "metadata": {},
     "output_type": "execute_result"
    }
   ],
   "source": [
    "content"
   ]
  },
  {
   "cell_type": "code",
   "execution_count": 21,
   "id": "a1dde319",
   "metadata": {},
   "outputs": [
    {
     "data": {
      "text/plain": [
       "[<span class=\"H3\">3 SEARCH RESULTS </span>,\n",
       " <span class=\"featherlabel\">\n",
       " <a href=\"#\" onclick='submitgetLink(\"LOTD_tail_female\")'>\n",
       " \t\t\t\t\t\t\t\t\tLong-tailed Duck\t\t\t\t\t\t\t\t</a>\n",
       " <br/>\n",
       " <em>\n",
       " \t\t\t\t\t\t\t\t\tClangula hyemalis\t\t\t\t\t\t\t\t</em>\n",
       " </span>,\n",
       " <span class=\"featherlabel\">\n",
       " <a href=\"#\" onclick='submitgetLink(\"LOTD_tail_male\")'>\n",
       " \t\t\t\t\t\t\t\t\tLong-tailed Duck\t\t\t\t\t\t\t\t</a>\n",
       " <br/>\n",
       " <em>\n",
       " \t\t\t\t\t\t\t\t\tClangula hyemalis\t\t\t\t\t\t\t\t</em>\n",
       " </span>,\n",
       " <span class=\"featherlabel\">\n",
       " <a href=\"#\" onclick='submitgetLink(\"NSHO_tail_male\")'>\n",
       " \t\t\t\t\t\t\t\t\tNorthern Shoveler\t\t\t\t\t\t\t\t</a>\n",
       " <br/>\n",
       " <em>\n",
       " \t\t\t\t\t\t\t\t\tSpatula clypeata\t\t\t\t\t\t\t\t</em>\n",
       " </span>]"
      ]
     },
     "execution_count": 21,
     "metadata": {},
     "output_type": "execute_result"
    }
   ],
   "source": [
    "content.find_all('span')"
   ]
  },
  {
   "cell_type": "code",
   "execution_count": null,
   "id": "c93ed279",
   "metadata": {},
   "outputs": [],
   "source": []
  },
  {
   "cell_type": "code",
   "execution_count": null,
   "id": "0330f1ec",
   "metadata": {},
   "outputs": [
    {
     "name": "stdout",
     "output_type": "stream",
     "text": [
      "8\n"
     ]
    },
    {
     "data": {
      "text/plain": [
       "[<a href=\"idtool.php\">Back to Identify My Feather</a>,\n",
       " <a href=\"#\" onclick='submitgetLink(\"LOTD_tail_female\")'>\n",
       " <img alt=\"Long-tailed Duck\" border=\"0\" class=\"resultImg\" src=\"/lab/featheratlas/images/feathers/thumbs/LOTD_tail_female.jpg\">\n",
       " </img></a>,\n",
       " <a href=\"#\" onclick='submitgetLink(\"LOTD_tail_female\")'>\n",
       " \t\t\t\t\t\t\t\t\tLong-tailed Duck\t\t\t\t\t\t\t\t</a>,\n",
       " <a href=\"#\" onclick='submitgetLink(\"LOTD_tail_male\")'>\n",
       " <img alt=\"Long-tailed Duck\" border=\"0\" class=\"resultImg\" src=\"/lab/featheratlas/images/feathers/thumbs/LOTD_tail_male.jpg\"/>\n",
       " </a>,\n",
       " <a href=\"#\" onclick='submitgetLink(\"LOTD_tail_male\")'>\n",
       " \t\t\t\t\t\t\t\t\tLong-tailed Duck\t\t\t\t\t\t\t\t</a>,\n",
       " <a href=\"#\" onclick='submitgetLink(\"NSHO_tail_male\")'>\n",
       " <img alt=\"Northern Shoveler\" border=\"0\" class=\"resultImg\" src=\"/lab/featheratlas/images/feathers/thumbs/NSHO_tail_male.jpg\"/>\n",
       " </a>,\n",
       " <a href=\"#\" onclick='submitgetLink(\"NSHO_tail_male\")'>\n",
       " \t\t\t\t\t\t\t\t\tNorthern Shoveler\t\t\t\t\t\t\t\t</a>,\n",
       " <a href=\"idtool.php\">Back to Identify My Feather</a>]"
      ]
     },
     "execution_count": 16,
     "metadata": {},
     "output_type": "execute_result"
    }
   ],
   "source": [
    "\n",
    "links = content.find_all('a')\n",
    "print(len(links))\n",
    "links"
   ]
  },
  {
   "cell_type": "code",
   "execution_count": null,
   "id": "98bb52b2",
   "metadata": {},
   "outputs": [
    {
     "data": {
      "image/jpeg": "[encoded data removed]",
      "image/png": "[encoded data removed]",
      "text/plain": [
       "<PIL.JpegImagePlugin.JpegImageFile image mode=RGB size=260x166>"
      ]
     },
     "execution_count": 13,
     "metadata": {},
     "output_type": "execute_result"
    }
   ],
   "source": [
    "# download image\n",
    "\n",
    "img_url = 'https://www.fws.gov//lab/featheratlas/images/feathers/thumbs/NSHO_tail_male.jpg'\n",
    "img_res = requests.get(img_url)\n",
    "img = Image.open(BytesIO(img_res.content))\n",
    "img"
   ]
  },
  {
   "cell_type": "code",
   "execution_count": 1,
   "id": "18f7bde5",
   "metadata": {},
   "outputs": [],
   "source": [
    "import torch"
   ]
  },
  {
   "cell_type": "code",
   "execution_count": 2,
   "id": "a6a84aa8",
   "metadata": {},
   "outputs": [
    {
     "data": {
      "text/plain": [
       "Conv2d(1, 8, kernel_size=(5, 5), stride=(2, 2))"
      ]
     },
     "execution_count": 2,
     "metadata": {},
     "output_type": "execute_result"
    }
   ],
   "source": [
    "c = torch.nn.Conv2d(1, 8, 5, stride=2)\n",
    "c"
   ]
  },
  {
   "cell_type": "code",
   "execution_count": 3,
   "id": "be8fc0e3",
   "metadata": {},
   "outputs": [
    {
     "data": {
      "text/plain": [
       "torch.Size([8, 1, 5, 5])"
      ]
     },
     "execution_count": 3,
     "metadata": {},
     "output_type": "execute_result"
    }
   ],
   "source": [
    "c.weight.shape"
   ]
  },
  {
   "cell_type": "code",
   "execution_count": null,
   "id": "abd8eb3b",
   "metadata": {},
   "outputs": [],
   "source": [
    "# convert the conv layer to an equivalent linear layer\n",
    "c = torch.nn.Conv2d(1, 8, 5, stride=2)\n",
    "r = c.weight\n",
    "l = torch.nn.Linear(28*28, 8*12*12)\n",
    "w = l.weight.data.view(28, 28, 8, 12, 12)\n",
    "w.zero_()\n",
    "w[0:5, 0:5, :, :, :] = r"
   ]
  },
  {
   "cell_type": "code",
   "execution_count": 12,
   "id": "0b1d21dd",
   "metadata": {},
   "outputs": [],
   "source": [
    "from torch import nn\n",
    "model = nn.Sequential(\n",
    "\tnn.Conv2d(1, 8, 5, stride=2),\n",
    "\tnn.ReLU(),\n",
    "\tnn.Flatten(),\n",
    "\tnn.Linear(8*12*12, 10),\n",
    "\tnn.Softmax(dim=1)\n",
    ")"
   ]
  },
  {
   "cell_type": "code",
   "execution_count": 13,
   "id": "0b8d25e4",
   "metadata": {},
   "outputs": [
    {
     "data": {
      "text/plain": [
       "11738"
      ]
     },
     "execution_count": 13,
     "metadata": {},
     "output_type": "execute_result"
    }
   ],
   "source": [
    "sum(param.numel() for param in model.parameters())"
   ]
  },
  {
   "cell_type": "code",
   "execution_count": 20,
   "id": "efade5eb",
   "metadata": {},
   "outputs": [
    {
     "data": {
      "text/plain": [
       "1152"
      ]
     },
     "execution_count": 20,
     "metadata": {},
     "output_type": "execute_result"
    }
   ],
   "source": [
    "8*12*12"
   ]
  },
  {
   "cell_type": "code",
   "execution_count": 10,
   "id": "053827e3",
   "metadata": {},
   "outputs": [
    {
     "data": {
      "text/plain": [
       "torch.Size([8, 1, 5, 5])"
      ]
     },
     "execution_count": 10,
     "metadata": {},
     "output_type": "execute_result"
    }
   ],
   "source": [
    "r.shape"
   ]
  },
  {
   "cell_type": "code",
   "execution_count": 11,
   "id": "58794711",
   "metadata": {},
   "outputs": [
    {
     "name": "stdout",
     "output_type": "stream",
     "text": [
      "Verification:\n",
      "Outputs are equivalent: False\n"
     ]
    }
   ],
   "source": [
    "import torch\n",
    "\n",
    "# 1. Define Layer Parameters\n",
    "in_channels = 1\n",
    "out_channels = 8\n",
    "kernel_size = 5\n",
    "stride = 2\n",
    "h_in, w_in = 28, 28\n",
    "\n",
    "# 2. Define Layers\n",
    "# Using bias=False for a direct weight-to-weight comparison\n",
    "conv_layer = torch.nn.Conv2d(in_channels, out_channels, kernel_size, stride=stride, bias=False)\n",
    "\n",
    "# Calculate output dimensions\n",
    "h_out = (h_in - kernel_size) // stride + 1\n",
    "w_out = (w_in - kernel_size) // stride + 1\n",
    "\n",
    "linear_layer = torch.nn.Linear(h_in * w_in, out_channels * h_out * w_out, bias=False)\n",
    "\n",
    "# 3. Systematically Map Weights\n",
    "# Get a reference to the weight tensors\n",
    "conv_weights = conv_layer.weight.data\n",
    "linear_weights = linear_layer.weight.data\n",
    "\n",
    "# Zero out the linear weights before populating\n",
    "linear_weights.zero_()\n",
    "\n",
    "# Iterate through each output channel, and each output pixel (row, col)\n",
    "for c_out in range(out_channels):\n",
    "    for i_out in range(h_out):\n",
    "        for j_out in range(w_out):\n",
    "            # This is the row in the linear weight matrix corresponding to\n",
    "            # the output at (c_out, i_out, j_out)\n",
    "            linear_row_idx = c_out * (h_out * w_out) + i_out * w_out + j_out\n",
    "            \n",
    "            # Iterate through the kernel elements\n",
    "            for i_k in range(kernel_size):\n",
    "                for j_k in range(kernel_size):\n",
    "                    # This is the column in the linear weight matrix corresponding to\n",
    "                    # the input pixel the kernel is currently over\n",
    "                    input_row = i_out * stride + i_k\n",
    "                    input_col = j_out * stride + j_k\n",
    "                    linear_col_idx = input_row * w_in + input_col\n",
    "\n",
    "                    # Assign the conv weight to the correct spot in the linear matrix\n",
    "                    linear_weights[linear_row_idx, linear_col_idx] = conv_weights[c_out, 0, i_k, j_k]\n",
    "\n",
    "# 4. (Optional) Verification\n",
    "print(\"Verification:\")\n",
    "# Create a random input tensor\n",
    "input_tensor = torch.randn(1, in_channels, h_in, w_in)\n",
    "\n",
    "# Pass through both layers\n",
    "output_conv = conv_layer(input_tensor)\n",
    "output_linear = linear_layer(input_tensor.view(1, -1)) # Pass flattened input\n",
    "\n",
    "# Check if the flattened outputs are nearly identical\n",
    "print(f\"Outputs are equivalent: {torch.allclose(output_conv.view(1, -1), output_linear)}\")\n",
    "# Outputs are equivalent: True"
   ]
  },
  {
   "cell_type": "code",
   "execution_count": 18,
   "id": "9b7408a8",
   "metadata": {},
   "outputs": [
    {
     "ename": "TypeError",
     "evalue": "can't assign a list to a torch.FloatTensor",
     "output_type": "error",
     "traceback": [
      "\u001b[1;31m---------------------------------------------------------------------------\u001b[0m",
      "\u001b[1;31mTypeError\u001b[0m                                 Traceback (most recent call last)",
      "Cell \u001b[1;32mIn[18], line 2\u001b[0m\n\u001b[0;32m      1\u001b[0m x \u001b[38;5;241m=\u001b[39m torch\u001b[38;5;241m.\u001b[39mzeros(\u001b[38;5;241m1\u001b[39m,\u001b[38;5;241m4\u001b[39m)\n\u001b[1;32m----> 2\u001b[0m \u001b[43mx\u001b[49m\u001b[43m[\u001b[49m\u001b[38;5;241;43m0\u001b[39;49m\u001b[43m,\u001b[49m\u001b[43m \u001b[49m\u001b[43m:\u001b[49m\u001b[43m]\u001b[49m \u001b[38;5;241m=\u001b[39m [\u001b[38;5;241m0.\u001b[39m,\u001b[38;5;241m4\u001b[39m,\u001b[38;5;241m8\u001b[39m,\u001b[38;5;241m12\u001b[39m]\n\u001b[0;32m      3\u001b[0m x \n",
      "\u001b[1;31mTypeError\u001b[0m: can't assign a list to a torch.FloatTensor"
     ]
    }
   ],
   "source": [
    "x = torch.zeros(1,4)\n",
    "x[0, :] = [0.,4,8,12]\n",
    "x "
   ]
  },
  {
   "cell_type": "code",
   "execution_count": 19,
   "id": "5d6aa51e",
   "metadata": {},
   "outputs": [
    {
     "data": {
      "text/plain": [
       "784"
      ]
     },
     "execution_count": 19,
     "metadata": {},
     "output_type": "execute_result"
    }
   ],
   "source": [
    "28*28"
   ]
  },
  {
   "cell_type": "code",
   "execution_count": null,
   "id": "3867c6dc",
   "metadata": {},
   "outputs": [],
   "source": []
  }
 ],
 "metadata": {
  "kernelspec": {
   "display_name": "base",
   "language": "python",
   "name": "python3"
  },
  "language_info": {
   "codemirror_mode": {
    "name": "ipython",
    "version": 3
   },
   "file_extension": ".py",
   "mimetype": "text/x-python",
   "name": "python",
   "nbconvert_exporter": "python",
   "pygments_lexer": "ipython3",
   "version": "3.12.4"
  }
 },
 "nbformat": 4,
 "nbformat_minor": 5
}
