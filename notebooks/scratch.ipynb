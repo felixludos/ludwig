{
 "cells": [
  {
   "cell_type": "code",
   "execution_count": 1,
   "id": "initial_id",
   "metadata": {
    "ExecuteTime": {
     "end_time": "2025-08-13T21:21:19.188843Z",
     "start_time": "2025-08-13T21:21:10.616642Z"
    },
    "collapsed": true
   },
   "outputs": [],
   "source": [
    "from pathlib import Path\n",
    "import os, yaml\n",
    "if '_fixed' not in locals():\n",
    "    _fixed = os.chdir(os.path.dirname(os.getcwd()))\n",
    "from ludwig import repo_root\n",
    "from ludwig.util import vllm_Client, SAIA_Client\n",
    "from collections import Counter\n",
    "from tqdm.notebook import tqdm\n",
    "import random\n",
    "from tabulate import tabulate\n",
    "import json\n",
    "import networkx as nx\n",
    "import io\n",
    "import matplotlib.pyplot as plt"
   ]
  },
  {
   "cell_type": "code",
   "execution_count": 2,
   "id": "aefe99f1",
   "metadata": {},
   "outputs": [
    {
     "data": {
      "text/plain": [
       "dict_keys(['meta-llama-3.1-8b-instruct', 'openai-gpt-oss-120b', 'gemma-3-27b-it', 'qwen3-30b-a3b-instruct-2507', 'qwen3-30b-a3b-thinking-2507', 'qwen3-32b', 'qwen3-235b-a22b', 'llama-3.3-70b-instruct', 'qwen2.5-vl-72b-instruct', 'medgemma-27b-it', 'qwq-32b', 'deepseek-r1', 'deepseek-r1-distill-llama-70b', 'mistral-large-instruct', 'qwen2.5-coder-32b-instruct', 'internvl2.5-8b', 'teuken-7b-instruct-research', 'codestral-22b', 'llama-3.1-sauerkrautlm-70b-instruct', 'meta-llama-3.1-8b-rag', 'qwen2.5-omni-7b'])"
      ]
     },
     "execution_count": 2,
     "metadata": {},
     "output_type": "execute_result"
    }
   ],
   "source": [
    "client = SAIA_Client.connect()\n",
    "\n",
    "models = client.available_models()\n",
    "models.keys()"
   ]
  },
  {
   "cell_type": "code",
   "execution_count": 3,
   "id": "b1ed01ce",
   "metadata": {},
   "outputs": [
    {
     "data": {
      "application/vnd.jupyter.widget-view+json": {
       "model_id": "ddc7f5bf85964196ae87b9a5eea61562",
       "version_major": 2,
       "version_minor": 0
      },
      "text/plain": [
       "tokenizer_config.json:   0%|          | 0.00/55.4k [00:00<?, ?B/s]"
      ]
     },
     "metadata": {},
     "output_type": "display_data"
    },
    {
     "data": {
      "application/vnd.jupyter.widget-view+json": {
       "model_id": "b8c82d97db9e4fcbacf8a8c5250f594d",
       "version_major": 2,
       "version_minor": 0
      },
      "text/plain": [
       "tokenizer.json:   0%|          | 0.00/9.09M [00:00<?, ?B/s]"
      ]
     },
     "metadata": {},
     "output_type": "display_data"
    },
    {
     "data": {
      "application/vnd.jupyter.widget-view+json": {
       "model_id": "74bc1cb821ac4ac5bc5f0090b2bffa0e",
       "version_major": 2,
       "version_minor": 0
      },
      "text/plain": [
       "special_tokens_map.json:   0%|          | 0.00/296 [00:00<?, ?B/s]"
      ]
     },
     "metadata": {},
     "output_type": "display_data"
    },
    {
     "name": "stdout",
     "output_type": "stream",
     "text": [
      "WARNING: Default chat template not found at c:\\Users\\anwan\\OneDrive\\Khan\\research\\ludwig\\assets\\chat-template\\tools-pythonic\\meta-llama-3.1-8b-instruct.jinja\n"
     ]
    },
    {
     "data": {
      "text/plain": [
       "<ludwig.util.clients.SAIA_Client at 0x17cdcb3c860>"
      ]
     },
     "execution_count": 3,
     "metadata": {},
     "output_type": "execute_result"
    }
   ],
   "source": [
    "client.set_model('meta-llama-3.1-8b-instruct').prepare()"
   ]
  },
  {
   "cell_type": "code",
   "execution_count": 4,
   "id": "9d8fae4f",
   "metadata": {},
   "outputs": [
    {
     "name": "stdout",
     "output_type": "stream",
     "text": [
      "WARNING: `max_tokens` cannot be None, setting to 2048 for now.\n",
      "A man walked into a library and asked the librarian, \"Do you have any books on Pavlov's dogs and Schrödinger's cat?\" \n",
      "\n",
      "The librarian replied, \"It rings a bell, but I'm not sure if it's here or not.\"\n"
     ]
    }
   ],
   "source": [
    "resp = client.step('Tell me a joke.')\n",
    "print(client.extract_response(resp))"
   ]
  },
  {
   "cell_type": "code",
   "execution_count": null,
   "id": "1eb70776",
   "metadata": {},
   "outputs": [],
   "source": []
  },
  {
   "cell_type": "code",
   "execution_count": 2,
   "id": "f41aa899",
   "metadata": {},
   "outputs": [
    {
     "data": {
      "application/vnd.jupyter.widget-view+json": {
       "model_id": "61d22e55cd90402da6cc5f19ccf3e710",
       "version_major": 2,
       "version_minor": 0
      },
      "text/plain": [
       "tokenizer_config.json: 0.00B [00:00, ?B/s]"
      ]
     },
     "metadata": {},
     "output_type": "display_data"
    },
    {
     "data": {
      "application/vnd.jupyter.widget-view+json": {
       "model_id": "b840ff9dcc6849f2b63f1a42b47b4931",
       "version_major": 2,
       "version_minor": 0
      },
      "text/plain": [
       "vocab.json: 0.00B [00:00, ?B/s]"
      ]
     },
     "metadata": {},
     "output_type": "display_data"
    },
    {
     "data": {
      "application/vnd.jupyter.widget-view+json": {
       "model_id": "c9e6c9f9fdb9485aa0b7a58e39389637",
       "version_major": 2,
       "version_minor": 0
      },
      "text/plain": [
       "merges.txt: 0.00B [00:00, ?B/s]"
      ]
     },
     "metadata": {},
     "output_type": "display_data"
    },
    {
     "name": "stderr",
     "output_type": "stream",
     "text": [
      "Xet Storage is enabled for this repo, but the 'hf_xet' package is not installed. Falling back to regular HTTP download. For better performance, install the package with: `pip install huggingface_hub[hf_xet]` or `pip install hf_xet`\n",
      "WARNING:huggingface_hub.file_download: Xet Storage is enabled for this repo, but the 'hf_xet' package is not installed. Falling back to regular HTTP download. For better performance, install the package with: `pip install huggingface_hub[hf_xet]` or `pip install hf_xet`\n"
     ]
    },
    {
     "data": {
      "application/vnd.jupyter.widget-view+json": {
       "model_id": "3ebbe85cb7a64147a01f5fcd62db6f16",
       "version_major": 2,
       "version_minor": 0
      },
      "text/plain": [
       "tokenizer.json:   0%|          | 0.00/11.4M [00:00<?, ?B/s]"
      ]
     },
     "metadata": {},
     "output_type": "display_data"
    },
    {
     "name": "stdout",
     "output_type": "stream",
     "text": [
      "WARNING: Default chat template not found at c:\\Users\\anwan\\OneDrive\\Khan\\research\\ludwig\\assets\\chat-template\\tools-pythonic\\qwen3-next.jinja\n"
     ]
    },
    {
     "data": {
      "text/plain": [
       "'qwen3-next'"
      ]
     },
     "execution_count": 2,
     "metadata": {},
     "output_type": "execute_result"
    }
   ],
   "source": [
    "client = vllm_Client('8003')\n",
    "client.prepare()\n",
    "client.model_name"
   ]
  },
  {
   "cell_type": "code",
   "execution_count": 3,
   "id": "d8e80daa",
   "metadata": {},
   "outputs": [
    {
     "data": {
      "text/plain": [
       "{'object': 'list',\n",
       " 'data': [{'id': 'qwen3-next',\n",
       "   'object': 'model',\n",
       "   'created': 1759755754,\n",
       "   'owned_by': 'vllm',\n",
       "   'root': '/fast/fleeb/huggingface_cache/hub/models--Qwen--Qwen3-Next-80B-A3B-Thinking/snapshots/e502dd4100cc68c0de57643fd4317ec93a128670',\n",
       "   'parent': None,\n",
       "   'max_model_len': 262144,\n",
       "   'permission': [{'id': 'modelperm-17c0a02571434503a1ac6e4b0bb50cab',\n",
       "     'object': 'model_permission',\n",
       "     'created': 1759755754,\n",
       "     'allow_create_engine': False,\n",
       "     'allow_sampling': True,\n",
       "     'allow_logprobs': True,\n",
       "     'allow_search_indices': False,\n",
       "     'allow_view': True,\n",
       "     'allow_fine_tuning': False,\n",
       "     'organization': '*',\n",
       "     'group': None,\n",
       "     'is_blocking': False}]}]}"
      ]
     },
     "execution_count": 3,
     "metadata": {},
     "output_type": "execute_result"
    }
   ],
   "source": [
    "client._server_model_info()"
   ]
  },
  {
   "cell_type": "code",
   "execution_count": null,
   "id": "3eb472d3",
   "metadata": {},
   "outputs": [
    {
     "name": "stdout",
     "output_type": "stream",
     "text": [
      "**S&P 500 – Market Close (NY Trading Hours)**  \n",
      "\n",
      "| Date | Close | % Change vs. Previous Day |\n",
      "|------|-------|---------------------------|\n",
      "| March 3, 2021 | **3,931.31** | +0.06 % |\n",
      "\n",
      "**Explanation**\n",
      "\n",
      "On Friday, March 3 2021, the S&P 500 finished the trading day at 3,931.31 points. This represented a modest uptick of about 0.06 % relative to the previous trading session (March 2 2021), reflecting the market’s steady recovery in the wake of the early‑2021 pandemic‑era rebound.\n"
     ]
    }
   ],
   "source": [
    "response = client.get_response('How did the S&P 500 do on March 3, 2021?')\n",
    "print(response)"
   ]
  },
  {
   "cell_type": "code",
   "execution_count": null,
   "id": "344aaed4",
   "metadata": {},
   "outputs": [],
   "source": []
  },
  {
   "cell_type": "code",
   "execution_count": null,
   "metadata": {},
   "outputs": [],
   "source": []
  },
  {
   "cell_type": "code",
   "execution_count": 2,
   "id": "debcca1dbe23ec23",
   "metadata": {
    "ExecuteTime": {
     "end_time": "2025-08-13T21:21:19.590090Z",
     "start_time": "2025-08-13T21:21:19.200037Z"
    }
   },
   "outputs": [
    {
     "data": {
      "text/plain": [
       "125"
      ]
     },
     "execution_count": 2,
     "metadata": {},
     "output_type": "execute_result"
    }
   ],
   "source": [
    "path = repo_root().joinpath('assets/plugh/plugh.json')\n",
    "assert path.exists()\n",
    "\n",
    "full = json.load(path.open('r'))\n",
    "len(full)"
   ]
  },
  {
   "cell_type": "code",
   "execution_count": 3,
   "id": "43ccc34b286a22a",
   "metadata": {
    "ExecuteTime": {
     "end_time": "2025-08-13T21:21:19.821864Z",
     "start_time": "2025-08-13T21:21:19.746393Z"
    }
   },
   "outputs": [
    {
     "data": {
      "text/plain": [
       "{'id': 0,\n",
       " 'source_zfile': 'advent.z5.script.json',\n",
       " 'isomorphic_id': 0,\n",
       " 'split': 'train',\n",
       " 'text': 'At the crest of a stone descent known as the Top of Small Pit, the explorer stood, gazing into the depths where white mist whispered secrets from below. A pathway to the west was blocked save for a narrow crack that beckoned the daring. Rough steps carved from the ancient rock led downward, inviting further exploration.\\n\\nWith a steadying breath, the explorer descended the steps into the expansive Hall of Mists. The hall stretched endlessly to the west, its boundaries obscured by swirling, ghost-like mists. Openings flanked either side of the hall, while a wide stone staircase spiraled downward, the source of a chilling wind that stirred the mist into eerie dances. Behind, a passage climbed into the darkness of a domed chamber.\\n\\nIn the midst of exploration, the explorer noticed their score had increased by twenty-five points, a silent acknowledgment of their progress.\\n\\nMoving forward, they stumbled upon the Low Room. The room, humble and confining, held a crude note on the wall, a warning or perhaps a challenge: \"You won\\'t get it up the steps.\" More intriguing, however, was the large, sparkling gold nugget that lay temptingly on the ground. With a quick motion, the explorer secured the nugget, and their score increased by seven points.\\n\\nReturning to the Hall of Mists, the explorer retraced their steps, the familiar cold wind greeting them like an old adversary.\\n\\nTheir path then led to the formidable Hall of the Mountain King. Here, passages diverged in all directions, creating a labyrinthine network of choices. Guarding one such passage was a huge green fierce snake, its presence menacing and unyielding. In a moment of inspiration, the explorer released a bird from its cage. The bird, small but fierce, launched itself at the snake. In a blur of feathers and scales, it drove the fearsome reptile away. The explorer swiftly recaptured the bird in its wicker cage, grateful for its unexpected bravery.\\n\\nVenturing into the Low N/S Passage, the explorer discovered silver bars gleaming in the dim light. After dropping their keys to lighten their load, they swiftly claimed the treasure, boosting their score further by seven points.\\n\\nAt the mysterious location marked \"Y2,\" standing in a large room adorned with a passage to the south and west and a broken eastern rock wall, the explorer uttered a mystical command, \"Plugh.\" Suddenly, they found themselves inside a building, a well house for a large spring. Here, they decided to secure their newfound treasures, depositing the silver and gold nugget, each action increasing their score by five points. The cage and some food were also set aside, lightening their burden.\\n\\nUttering \"Plugh\" once more transported the explorer back to the enigmatic \"Y2.\" They resumed their journey, traversing the Low N/S Passage and returning to the Hall of the Mountain King, where countless paths awaited their choice.\\n\\nTheir adventure continued as they ventured into the Secret E/W Canyon. Suspended over a tight canyon fifteen feet below, the path presented a precarious choice: to descend might mean no return. The explorer paused, weighing their next move in the shadowed silence of the canyon.',\n",
       " 'locations': ['hall of mountain king',\n",
       "  'y2',\n",
       "  'low n/s passage',\n",
       "  'inside building',\n",
       "  'low room',\n",
       "  'hall of mists',\n",
       "  'secret e/w canyon',\n",
       "  'top of small pit'],\n",
       " 'task1': {'target': [['y2', 'low n/s passage'],\n",
       "   ['top of small pit', 'hall of mists'],\n",
       "   ['hall of mountain king', 'low n/s passage'],\n",
       "   ['inside building', 'y2'],\n",
       "   ['secret e/w canyon', 'hall of mountain king'],\n",
       "   ['low room', 'hall of mists'],\n",
       "   ['hall of mists', 'hall of mountain king']],\n",
       "  'few_shots': [['As they moved through the plain corridor, the beige walls and fluorescent lights reminded them of a university building. Yellow and white signs pointed in opposite directions, marking the year \"BiCon 2010.\"\\n\\nEntering the reception, they found themselves amidst a bustling hub of activity. Volunteers, looking slightly frantic yet smiling, manned a desk cluttered with paperwork and empty mugs. A lost property box sat forlornly on one end. Across from the desk, a small table hosted newcomers crafting their name badges, while a large notice board displayed the latest updates and changes to the timetable.\\n\\nCurious, they examined the desk, noting the lost property box and the absence of any tea in the mugs. The paperwork didn\\'t offer anything interesting, just mundane forms and lists. However, a peek into the box revealed a surprising find-a couple of cherries.\\n\\nThe volunteers welcomed them warmly to BiCon, explaining that it was an annual event and this year hosted the International Bisexual Conference. They learned from the name badge table that a star sticker indicated a biker, a fact that amused them.\\n\\nThey moved on to the corridor heading east, marked by doors leading to rooms named \"Canada\" and \"Denmark.\" Choosing \"Denmark,\" they entered a room where a Fun & Games workshop had just concluded. Players milled about, among them Phoenix, who sparkled with an infectious energy. Striking up a conversation about bicycles, they found a shared interest. Phoenix revealed this was their second BiCon, and they chatted amiably about various topics, including a personal crisis involving a friend needing a place to stay. They offered their flat to Phoenix, which led to a deep exchange of life stories and confidences.\\n\\nReturning to reception, they found the volunteers still busy, and some friends suggested ordering pizza. However, after realizing they lacked the number, they attempted to retrieve it from the noticeboard, only to face a mishap of the menus being taken and then needing to be returned under the volunteers\\' instructions.\\n\\nSubsequently, they stepped out onto the lawn, where people practiced juggling and belly dancing next to a bouncy castle. Conversations about the morning\\'s workshops and the upcoming ball buzzed in the air. Despite trying to coordinate pizza ordering, the plan floundered as their friends were distracted by various entertainments and discussions.\\n\\nBack in reception, amid the ongoing hustle, they accidentally captivated everyone\\'s attention with a shiny object they found and dropped. Deciding to leave the shiny distraction behind, they moved again through the corridors and back into the reception, where they finally managed to get the takeaway menus and tried calling for pizza, albeit unsuccessfully.\\n\\nThe evening drew them to the ballroom, where decorations were being hung, and a DJ tested sound equipment. Their friends flirted and laughed, the atmosphere light and expectant for the night\\'s festivities. Despite the earlier chaos, the promise of a good night at BiCon lifted everyone\\'s spirits, ready to dance and celebrate together.',\n",
       "    'graph {\\n\\t\"reception\" -- \"ballroom\"\\n\\t\"corridor (east)\" -- \"reception\"\\n\\t\"reception\" -- \"plain corridor\"\\n\\t\"corridor (east)\" -- \"denmark\"\\n\\t\"lawn\" -- \"reception\"\\n}'],\n",
       "   [\"In the heart of the Dwarven City of Deephome, nestled at the Eastern Guard Post, the air was heavy with the scent of polished iron and wood. This fortified sanctuary was designed like an hourglass, walls tapering in the center where two heavy iron-banded doors stood vigilant. Weapons racks adorned the room, crossbows hanging prominently among the assortment. Beyond, defensive low walls skirted the perimeter, poised for any threat that might venture through the city gates to the southeast.\\n\\nMoving westward, the roads diverged at the Intersection. Main Street stretched north and south, while the Royal Road beckoned westward. Signs and symbols marked the significance of each path, the eastern guard post standing sentinel with its own placard.\\n\\nAlong the East Royal Road, high walls lined the path, interrupted by gates leading to the estates of lesser nobles. The way was clear, the road extending from the bustling intersection toward the grandeur of the castle to the west.\\n\\nTransitioning onto the West Royal Road, the journey became a visual feast. Fluorescent mosses clung to the mineral-rich stones, their glow a stark contrast against the shadowed high walls. The path mimicked a grand hall, gates intermittently breaking the stone's monotony, leading to the palatial domains of the nobility.\\n\\nThe Outer Court of the Lord's Palace was an expanse surrounded by high walls. A long pathway paved the route from the eastern gates to the Throne Room to the west. Here, the courtyard was left accessible, a passage for those like the Dwarven Reclaimer, who had business with the throne.\\n\\nThe Throne Room itself was a stark contrast to the expected opulence. It was quaint, almost understated, with a large tapestry hanging behind the throne and a red carpet leading to the grand eastern doorway. Here, a Luminous Spirit awaited, her presence ethereal and light. Upon opening a net, a squirrel scurried out, darting under the throne. The spirit, smiling gratefully, merged into the squirrel in a wisp of smoke and scampered away, leaving behind a sense of peace and a mysterious increase in stature, as if the very air acknowledged a deed well done.\\n\\nRetracing steps back through the Outer Court and along the West Royal Road, the journey continued eastward, past the gates and high walls, back to the intersection of Main Street and the Royal Road.\\n\\nSouth Main Street was quieter, dedicated to intellectual and spiritual pursuits with the Library to the east and the Great Temple to the west. The road continued its stretch north and south, a pathway of knowledge and reverence.\\n\\nFurther north on North Main Street, the remnants of a bustling trade center were evident. Shops and merchant booths lined the street, offering a variety of goods. A clothier, a bakery, and a scrivener's office marked the intersections of commerce and craft. The Main Hall loomed to the north, a reminder of the street's vibrant past.\\n\\nEntering the Scrivener's, the room was stark, furnished only with desks and chairs for those crafting documents for the illiterate. A search through the desks revealed a stash of papers, one of which was promptly taken.\\n\\nOutside the Scrivener's and into the Bakery next, the smell of stale flour mingled with the warmth of long-cooled ovens. Great stone structures lined the back wall, their purpose long fulfilled. An old water pipe still functioned, filling a cistern that once quenched the bakers' thirst and mixed their doughs. Amidst the decay, an empty bottle caught the eye, its presence a small but curious find in the abandoned space.\",\n",
       "    'graph {\\n\\t\"outer court\" -- \"throne room\"\\n\\t\"n. main street\" -- \"bakery\"\\n\\t\"east royal road\" -- \"intersection\"\\n\\t\"east royal road\" -- \"west royal road\"\\n\\t\"n. main street\" -- \"s. main street\"\\n\\t\"eastern guard post\" -- \"intersection\"\\n\\t\"n. main street\" -- \"scrivener\\'s\"\\n\\t\"s. main street\" -- \"intersection\"\\n\\t\"outer court\" -- \"west royal road\"\\n}'],\n",
       "   ['She moved into the junction, where a gap between the crowded, gloomy buildings revealed a country lane stretching northward over a grassy heath. The main street continued east, and to the northwest, over a steep rise, the vaulted rooftops of the university were just visible.\\n\\nContinuing her journey, she ventured along the Narrow Street. Here, the lane twisted from east to west, the buildings so close their jagged rooftops nearly touched. To the south, a side street led across Whateley Bridge to the town\\'s center, while a twisting lane climbed a hill to the northwest. A short flight of steps to the north descended to the local watering hole.\\n\\nShe entered the Local Pub, a dank, drafty place lit by flickering oil lanterns. Smoke hung heavy among the rafters, and shadows lurked in every corner. Mill workers and fishermen sat at tables, wrapped in their own worlds of dreary fatalism. Noticing a lantern sputtering on a nearby table, she casually pocketed it, confident no one would mind.\\n\\nAs she headed for the door, her foot struck something under a table. Crouching down, she discovered a forgotten flask, tucked into a shadowy corner. The label was faded, barely readable, but the words \"bootleg\" and \"rotgut\" stood out. She slipped it into her pocket and left.\\n\\nBack on Narrow Street, she retraced her steps and then took the twisting lane upwards. The path was steep, the cobblestones slick with moss. At the top, her way was blocked by a brick wall covered in graffiti. A strange symbol-an upturned hand with a triangle in the palm-and an arrow pointing west caught her attention. Following the arrow\\'s direction, she discovered a hidden sidestreet.\\n\\nThis led her to Hidden Court, a peaceful enclave surrounded by steep rooftops. Despite the oppressive gloom of the town, this small courtyard felt like a bright, safe harbor. A humble shop was marked by a hanging sign to the south, while the east led back into the urban labyrinth.\\n\\nCuriosity piqued, she entered the shop named The Cauldron. Inside, the atmosphere was warmly lit, the shelves laden with an array of new age curiosities. The shopkeeper, standing behind a display case, watched her as she entered. She asked about an amulet in the case, which the proprietor described as a charm against evil. Without waiting for her consent, he placed the amulet around her neck, insisting it would be useful.\\n\\nShe offered a puzzle box to the proprietor, who deftly opened it, revealing its secret. Pleased, he suggested she keep it as a gift. With the puzzle box now in her possession, she left the shop, the shopkeeper\\'s farewell echoing behind her.\\n\\nExiting Hidden Court, she returned down Twisting Lane to Narrow Street, then crossed Whateley Bridge. The ancient bridge, made of moss-eaten flagstones, spanned the dark waters of the Miskaton River, connecting the north and south parts of the city. As she crossed, she pondered the unexpected turns her day had taken, each step revealing deeper layers of the mysterious town.',\n",
       "    'graph {\\n\\t\"narrow street\" -- \"local pub\"\\n\\t\"junction\" -- \"narrow street\"\\n\\t\"hidden court\" -- \"cauldron\"\\n\\t\"twisting lane\" -- \"narrow street\"\\n\\t\"narrow street\" -- \"whateley bridge\"\\n\\t\"hidden court\" -- \"twisting lane\"\\n}'],\n",
       "   ['He stepped out of the elevator and made his way outside Linnell House, his eyes scanning the meticulously landscaped area that was more mud than green. The anorexic shrubs and wild crabgrass did little to enhance the charm of the red brick building he called home. A path muddied from frequent travel stretched northward.\\n\\nAs he walked, a figure in a long trench coat stumbled out from behind a bush, tripping over a tree root and, in his flailing for balance, accidentally jabbed him with a hypodermic needle. \"Oops. Sorry, pal!\" the stranger giggled before dashing off, leaving him slightly dazed and confused.\\n\\nContinuing on, he approached the Dining Commons, a white stone building marked ominously with a large \"biohazard\" sign. The path led him to the Dining Commons Entrance, where the smell of garbage was nearly overpowering. Inside, a line lady sat on her stool, popping her gum with annoying proficiency.\\n\\nAs he attempted to pass, the line lady jumped up. \"NOT SO FAST, BUD.\" Her voice was sharp, and her smile cruel as she demanded to see some ID. Reluctantly, he showed his ID, and with a gruff mutter of \"Go ahead, brat,\" she allowed him entry.\\n\\nInside the Dining Commons Atrium, the atmosphere was chaotic with the clamor of students and the unappealing offerings that were being served. He joined the line, eventually grabbing a tray of what could only loosely be called food.\\n\\nAttempting to eat, he quickly realized the meat was dodging his fork, a testament to its inedibility. His stomach protested loudly, but before he could think of a solution, he felt slightly drugged, a lingering effect of the earlier accidental jab.\\n\\nHe moved to the No Smoking Section, hoping for a quieter place to sit. The decor was as uninspiring as the food, with cheap formica tables and uncomfortable chairs. His hunger was becoming unbearable.\\n\\nDeciding to explore further, he entered the Dish Room where he found his friend Milton, looking distinctly hungover. After a brief exchange and an unsuccessful attempt to provide Milton with a suitable smoke, he left Milton and ventured into the Smoking Section.\\n\\nThe smell of stale smoke did nothing for his nausea, but he managed to light and smoke a roach, which calmed his nerves but did little for his hunger. In a state of induced munchies, he forced down the repulsive cafeteria food, his desperation evident.\\n\\nWith his hunger momentarily at bay, he dropped his tray and, feeling a bit rebellious, lit a joint. The sweet smell momentarily distracted him from the dreariness of his surroundings.\\n\\nWith Milton\\'s suggestion, they snuck into the Kitchen, where he was disguised in a DC employee\\'s apron and visor to blend in. There, the overwhelming smell of what was being cooked could barely qualify as food.\\n\\nIntrigued by what else he might find, he ventured into the nearby Closet, discovering a stash of sugared cereal and a hidden pentacle on a silver chain among the spilled contents of a cereal box.\\n\\nClimbing the ladder in the closet led him to the Roof, where the view of the campus was less than impressive. Finding a bong, he pocketed it before jumping down back into the closet, the thrill of his little adventure beginning to wear off.\\n\\nReturning to the Kitchen, he shed his disguise and revisited the Dish Room to drop off the apron and visor. He then moved back to the Smoking Section, grabbed a lighter and a food tray, and decided it was time to leave the Dining Commons behind.\\n\\nEmerging outside, the fresh air was a welcome relief after the stifling atmosphere of the Dining Commons. He walked along the Path, the offensive squelching of his steps a stark reminder of the day\\'s strange and unsettling events. Each step took him further from the chaos behind, his thoughts already turning to what the next day might bring.',\n",
       "    'graph {\\n\\t\"dish room\" -- \"kitchen\"\\n\\t\"dining commons atrium\" -- \"dining commons entrance\"\\n\\t\"outside dining commons\" -- \"dining commons entrance\"\\n\\t\"closet\" -- \"kitchen\"\\n\\t\"closet\" -- \"roof\"\\n\\t\"dining commons atrium\" -- \"no smoking section\"\\n\\t\"outside dining commons\" -- \"path\"\\n\\t\"dining commons atrium\" -- \"smoking section\"\\n\\t\"outside dining commons\" -- \"outside linnell house\"\\n\\t\"dish room\" -- \"no smoking section\"\\n\\t\"dish room\" -- \"smoking section\"\\n}'],\n",
       "   ['Descending into the stifling confines of the engine room aboard the Night Wind, the stench of diesel and the heat from the engines made it difficult to breathe. The space was tiny, a cramped chamber at the very heart of the vessel, where the vital organs of the ship throbbed and hummed incessantly.\\n\\nAfter a brief inspection, he ascended the ladder, emerging into the crew\\'s lounge. The lounge was a modest space, barely accommodating a table and a few chairs. It served as a junction between the captain\\'s cabin aft and the galley forward.\\n\\nMaking his way into the captain\\'s cabin, he found a stark contrast in comfort. The cabin boasted a large, inviting bunk and an air of private luxury that the rest of the ship seemed to lack. In the cabin, Johnny Red, the ship\\'s formidable yet charismatic captain, was present, adding a sense of authority to the room.\\n\\nReturning to the lounge, he then proceeded forward into the galley. The aroma of a simmering stew wafted through the air, a humble but welcoming scent. Pete the Rat, a crew member with a knack for cooking even in the roughest seas, stood watch over his stew, ensuring it didn\\'t spill over as the ship rocked.\\n\\nContinuing his exploration, he descended into the crew\\'s quarters below deck. The quarters were cramped, lined with narrow, uncomfortable bunks reminiscent of sardine cans. It was a functional space, designed solely for the necessity of sleep rather than comfort. The Weasel, another crew member known for his sly demeanor, was there, idly picking his teeth with a menacing-looking knife.\\n\\nA curious peek beneath one of the bunks revealed a hidden envelope tucked under the mattress, an unexpected find that hinted at secrets or perhaps private communications among the crew.\\n\\nHe moved on to the storage locker, a nearly empty space that bore the marks of recent cleaning. Scattered around were spare parts for the engine and other miscellaneous equipment, alongside a small air compressor, the remnants of the ship\\'s last trawling expedition.\\n\\nReturning to the crew\\'s quarters, he was greeted once again by the sight of The Weasel, still engaged in his peculiar grooming ritual with his knife. Suddenly, Johnny Red approached from behind, his voice firm yet calm, \"We\\'ll be leaving shortly. Get some sleep.\" With that, both Johnny Red and The Weasel headed aft, leaving him to ponder the next steps.\\n\\nRising from the depths of the ship, he emerged onto the fore deck. The open ocean stretched out before him, visible over the railing that enclosed the deck. A solitary chair bolted to the deck offered a place to sit and watch the waves, or perhaps to contemplate the journey ahead. The wheelhouse loomed aft, a constant reminder of the course that lay before them, guided by unseen hands from within.',\n",
       "    'graph {\\n\\t\"crew\\'s quarters\" -- \"fore deck\"\\n\\t\"engine room\" -- \"lounge\"\\n\\t\"captain\\'s cabin\" -- \"lounge\"\\n\\t\"crew\\'s quarters\" -- \"galley\"\\n\\t\"galley\" -- \"lounge\"\\n\\t\"crew\\'s quarters\" -- \"storage locker\"\\n}'],\n",
       "   [\"In the dimly lit kitchen, a note hastily scribbled fluttered slightly as it was pinned to the refrigerator. Beside it, a cat bowl lay on the floor, untouched and gathering dust. The clock ticked menacingly, marking the late hour.\\n\\nMoving from the kitchen to the dining room, the atmosphere changed subtly; the window here was firmly shut, as if to keep the secrets of the night at bay. Time seemed to creep by, each minute stretching longer than the last.\\n\\nThe journey continued into the centre hallway, a space that connected various parts of the house like arteries. A quick exploration revealed a can opener, a can, and a pair of scissors lying haphazardly in the hallway. The south door stood closed, an unyielding barrier to the secrets it guarded.\\n\\nLooping back through the centre hallway, the foyer was reached, where the front door also remained closed, reflecting the isolation within. Climbing the stairs to the top, then descending back to the bottom, the basement corridor was ventured into next. A handwritten note clung to the south door, its message obscured in the gloom.\\n\\nWithin the basement corridor, an office chair sat idly by, offering a silent invitation to rest, but the office beckoned instead. In the office, a waste paper basket was the sole occupant, its presence unremarkable and yet somehow poignant. A search of the computer yielded nothing unusual, the digital secrets well-guarded.\\n\\nReturning to the basement corridor, the office chair was claimed and carried along to the storage room. This room was a chaos of clutter, with an opening in the ceiling suggesting escape or perhaps further entrapment. Among the piles, a magazine lay forgotten. Attempting to climb through the ceiling opening proved futile; the burden of possessions too great.\\n\\nAfter shedding the weight of a portable DAT player and a flashlight onto the office chair, the narrow tunnel, west was accessed through the opening. It was part of an air conditioning system, cramped and dusty. Crawling through to the narrow tunnel, centre, and then to the narrow tunnel, east, a sense of claustrophobia began to set in. The east end of the tunnel suggested a descent into a room below, but the darkness was too intimidating.\\n\\nRetreating through the tunnel to the storage room, the flashlight and DAT player were retrieved from the office chair. Standing in the storage room once more, the myriad of objects seemed to mock with their silent judgment.\\n\\nVenturing back to the basement corridor and then to the bottom of the stairs, a climb to the top of the stairs was made once more, leading back into the foyer. Here, the south door was finally opened, revealing the children's bedroom beyond.\\n\\nThe children's bedroom was a stark contrast to the rest of the house. Furnished simply yet tastefully, it held the innocence of childhood within its walls. Toys were scattered about, and two beds occupied the space, each holding a child: Paul on one, Christopher on the other. In the corner, a cheap-looking amplifier sat atop a CD player, silent and waiting.\\n\\nAs the clock ticked on, the house seemed to breathe a sigh, the night's adventures folding into the shadows of the ordinary world once more.\",\n",
       "    'graph {\\n\\t\"basement corridor\" -- \"bottom of stairs\"\\n\\t\"storage room\" -- \"narrow tunnel, west\"\\n\\t\"narrow tunnel, west\" -- \"narrow tunnel, centre\"\\n\\t\"centre hallway\" -- \"dining room\"\\n\\t\"basement corridor\" -- \"office\"\\n\\t\"narrow tunnel, east\" -- \"narrow tunnel, centre\"\\n\\t\"kitchen\" -- \"dining room\"\\n\\t\"children\\'s bedroom\" -- \"foyer\"\\n\\t\"basement corridor\" -- \"storage room\"\\n\\t\"foyer\" -- \"centre hallway\"\\n\\t\"top of stairs\" -- \"bottom of stairs\"\\n\\t\"hallway\" -- \"centre hallway\"\\n\\t\"foyer\" -- \"top of stairs\"\\n}'],\n",
       "   ['In the Marble Hall, an arched expanse of fine marble, the adventurer paused. The hall terminated abruptly to the north at a ford across a stream, where the marble showed signs of cracking and disrepair, likely due to a flood or a collapse. To the south, the hall opened into a large room from which an annoying whirring sound emanated. A square brick, feeling oddly like clay, lay at the adventurer\\'s feet.\\n\\nAs time passed in waiting, a princess, seemingly surprised to encounter another soul, entered from the north. Without a word, she pressed a loose piece of marble on the wall, and with a quiet grinding noise, a large section of the wall slid away, revealing a hidden passage to the east which she quickly entered.\\n\\nThe adventurer followed the path, now at the Path Near Stream. The path skirted the south edge of a deep ravine and headed northeast. A ruined archway choked with vegetation marked the east, while a tunnel narrowed to the southwest, the source of the faint whirring sound. The disheveled princess moved eastward through the archway, casting a glance back as she disappeared from view.\\n\\nContinuing onward, the adventurer arrived at the Formal Garden. The middle part of the garden was hidden by hedges against the cavern walls, dimly lit by mosses high above. The path, made of small crushed white stones, wound through bushes and flower beds. To the north, a small structure peeked through the foliage, and to the south, bushes were sculpted into peculiar shapes. The princess, still slightly unkempt, was also here, moving with a quiet grace.\\n\\nAt the North End of the Garden, the adventurer found themselves in a space where the hedges continued to mask the cavern walls, creating the illusion of a cloudy day outside. A gazebo stood in the center, surrounded by a rosebed. The princess entered from the south, her expression one of surprise at yet another encounter.\\n\\nTogether, they stepped into the gazebo. It was a cool and restful place, with a tea table at its center. Time seemed to slow as they waited in the peaceful enclosure.\\n\\nMoments passed, and then, shyly, a unicorn peeked out from the hedges. It approached the princess, bowed its head in a respectful curtsy, and revealed a red satin ribbon around its neck, from which dangled a delicate gold key. The princess used the ribbon to tie her hair, then handed the key and a fresh rose to the adventurer, thanking them for rescuing her from a dire fate. With a graceful leap, she mounted the unicorn side-saddle and disappeared into the gloom.\\n\\nLeaving the gazebo, the adventurer retraced their steps through the Formal Garden and then ventured into the Topiary. The southern end of the garden was lined with fantastically shaped hedges and bushes - dragons, unicorns, serpents, and misshapen dogs, all crafted from greenery under the dim light of the mosses.\\n\\nTheir exploration continued to the Carousel Room, a large circular chamber disorienting in its symmetry with eight identical passages and a loud, pervasive whirring noise filling the air.\\n\\nHaving lost their sense of direction in the Carousel Room, the adventurer stumbled upon the Menhir Room. This space, once a quarry, was littered with large limestone chunks. One side of the room was dedicated to quarrying building blocks, the other to producing menhirs. A particularly large menhir, carved with the ornate letter \"F,\" blocked a dark opening leading southwest.\\n\\nYet the whirring noise beckoned, and the adventurer found themselves back in the Carousel Room, disoriented once more. Their journey continued back and forth between the Menhir Room and the Carousel Room, the constant disorientation clouding their sense of progress.\\n\\nEventually, they ventured into the Cool Room, where the air was misty and damp, a chill emanating from a narrow westerly tunnel.\\n\\nReturning once more to the Carousel Room and then finding themselves in the Riddle Room, the adventurer faced a great closed stone door with a riddle inscribed above: \"What is tall as a house, round as a cup, and all the king\\'s horses can\\'t draw it up?\" Upon answering \"a well,\" a deafening clap of thunder resounded, and the stone door swung open, revealing a new passage.\\n\\nWith the key in hand, a token from a princess and a unicorn, the adventurer stepped through, ready for whatever mysteries lay beyond.',\n",
       "    'graph {\\n\\t\"carousel\" -- \"menhir\"\\n\\t\"marble hall\" -- \"path near stream\"\\n\\t\"formal garden\" -- \"path near stream\"\\n\\t\"north end of garden\" -- \"gazebo\"\\n\\t\"topiary\" -- \"carousel\"\\n\\t\"cool\" -- \"carousel\"\\n\\t\"formal garden\" -- \"topiary\"\\n\\t\"formal garden\" -- \"north end of garden\"\\n\\t\"carousel\" -- \"marble hall\"\\n\\t\"riddle\" -- \"carousel\"\\n}'],\n",
       "   [\"In the heart of the forest, a determined push against an old tree sent it crashing down, tearing through a section of barbed wire fence with a loud, grating noise. Beyond this impromptu path lay the overgrown dirt road, flanked by dense woods to the east and west. The road meandered north toward a low hill, where a dilapidated guard hut stood quietly, a silent witness to the passage of time.\\n\\nApproaching the hut, the old door creaked open to reveal the Inside Hut, a cramped space that could shelter no more than two from the harsh elements outside. A discarded flashlight lay forgotten on the dusty floor. It was with a quick motion that the flashlight was scooped up and stowed away for future use.\\n\\nExiting the hut, the journey continued along the dirt road until the landscape opened up into the Escarpment. Here, the road split, running east and west around the hill and southward, back the way it had come. Choosing a path less traveled, the journey led southeast, around the base of the rocky hillside to a spot Southeast of Escarpment. The path here stretched west and northeast, hugging the contours of the land.\\n\\nFurther exploration brought a move to the Eastern Hillside, where the remnants of a dark tunnel burrowed into the hillside were visible. Despite apparent attempts at demolition, a climbable pile of debris blocked the way. The road here curved out of sight around the hillside to the southwest, promising more undiscovered paths.\\n\\nClimbing the debris at the Top of Debris Pile, the top of the pile offered a precarious view into the darkness of the tunnel and a safer descent back to the dirt path. A misstep, however, sent tumbling down through the pitch-black tunnel, landing in a surprisingly soft pile of leaves in the Darkness of the tunnel's Eastern End. A flick of the flashlight switch pierced the darkness, illuminating the blocked eastern end of the demolished tunnel and the leaves that had cushioned the fall.\\n\\nPicking up the leaves for closer examination, the journey continued deeper into the tunnel network, arriving at the Tunnel Junction. Here, tunnels extended in three directions, promising further mysteries to uncover. Choosing a path led to the Staff Room, a small area with exits to the north and south, and a door leading east to an office.\\n\\nThe next stop was the Bathroom, a dank and uninviting place with a gunk-filled toilet. Reluctantly removing the gunk revealed nothing but a paperclip-a small but potentially useful find. Back in the Staff Room, the paperclip proved its worth by unlocking the office door.\\n\\nInside the Office, the environment changed to one of quiet order. A safe sat heavily in one corner, and a wooden desk, its drawers closed, hinted at secrets yet to be revealed. The unlocked door swung open with a gentle push, leading back into the ongoing mystery of the underground network.\",\n",
       "    'graph {\\n\\t\"dirt road\" -- \"escarpment\"\\n\\t\"dirt road\" -- \"forest\"\\n\\t\"top of debris pile\" -- \"darkness\"\\n\\t\"darkness\" -- \"eastern end of tunnel\"\\n\\t\"bathroom\" -- \"staff room\"\\n\\t\"tunnel junction\" -- \"staff room\"\\n\\t\"eastern hillside\" -- \"southeast of escarpment\"\\n\\t\"eastern end of tunnel\" -- \"tunnel junction\"\\n\\t\"office\" -- \"staff room\"\\n\\t\"escarpment\" -- \"southeast of escarpment\"\\n\\t\"top of debris pile\" -- \"eastern hillside\"\\n\\t\"dirt road\" -- \"inside hut\"\\n}'],\n",
       "   [\"He rose from his slumber, his muscles groaning in protest as he hoisted himself over the stern rail of the Helena Louise and collapsed breathlessly onto the deck. From his vantage point on the Poop Deck, he surveyed the entirety of the shadowy, two-masted ship. Silhouettes flitted about, their whispers barely audible over the gentle lapping of the waves. The deck was enclosed by a protective railing that only allowed passage forward, past the stern where a rope ladder hung loosely.\\n\\nThe reefs, menacing in the moonlight, seemed to have grown since he last looked.\\n\\nMoving silently across the wooden planks, he advanced to the Quarterdeck. The moon cast enough light to eliminate the need for torches, except where shadows were thrown by the massive navigation wheel. Men murmured near the fore, their voices low and cautious. A barred door lay hidden under the stairs leading back to the Poop Deck. Nearby, a large pyramid of casks was secured with a heavy rope, while cannons stood ready, aimed at the open sea and the distant island.\\n\\nThe Main Deck was alive with a deceptive calm; pirates hummed soft shanties as they busied themselves with cannon repairs, rope twisting, and dagger sharpening. The mainmast threw a vast shadow over the hatch, shielded by canvas, beneath which a complex web of rigging dangled ominously. Two large barrels stood sentinel near the stairs to the foredeck.\\n\\nCurious, he examined the barrels, distinguishing the contents by their distinct aromas-one of rum, the other of water, stained darkly at the mouth where many a pirate had drunk.\\n\\nHe soaked a rag with water from one of the barrels, then approached the hatch. With a cautious glance around, he tugged a corner of the canvas free and descended the steep stairs into the murky darkness of the Hold. A tiny glow flickered menacingly from a cage full of ammunition-an unattended fire threatened disaster.\\n\\nWith no time to spare, he hurled the wet rag towards the fire. It sailed over the gate and smothered the flames with a sputtering sigh. The immediate danger averted, he clambered up through the hatch back to the Main Deck.\\n\\nHe continued his journey to the Forecastle. From this elevated position, he had a commanding view of the island, though the crow's nest high above offered an even better vantage. The deck bore signs of heavy use, with a grated air hole leading to the crew's quarters below and a small, greasy shack behind the mast. The mooring winch caught his eye, an old barrel mounted on a pole with a lever inscribed with faint letters.\\n\\nSquinting towards the sea, he noticed a flicker of light-a man swimming toward shore, the moonlight glinting off his hook. A breeze carried the mixed scents of onions and rum, and the distant sound of a mischievous chuckle.\\n\\nHe raised the lever on the winch, releasing the anchor into the sea with a heavy splash. The ship lurched slightly against the current, and he quickly lowered the lever to halt the spooling chain.\\n\\nEntering the Galley, he was greeted by the stale smell of old stew and yeast. A dagger was embedded in the floorboards, and a bald man, carving into his peg leg, eyed him suspiciously before offering a wink and a casual greeting. He referred to him as Sam and hinted at protecting the Captain's interests while aboard.\\n\\nHe retrieved the dagger from the floor, feeling the ship drift slightly as the tide turned, and made his way back to the Forecastle.\\n\\nContinuing his rounds, he returned to the Main Deck and then to the Quarterdeck. He slid into a large cask to hide, feeling something solid beneath him and noticing the frayed line that tethered the casks together.\\n\\nFrom within the cask, he listened to the sounds of the ship, the crew unaware of the dangers he had just thwarted.\",\n",
       "    'graph {\\n\\t\"quarterdeck\" -- \"poop\"\\n\\t\"main deck\" -- \"forecastle\"\\n\\t\"quarterdeck\" -- \"cask\"\\n\\t\"main deck\" -- \"hold\"\\n\\t\"main deck\" -- \"quarterdeck\"\\n\\t\"galley\" -- \"forecastle\"\\n}'],\n",
       "   ['As the adventurer moved along the trail that twisted around the Lonely Mountain, it bent out of sight to the southeast and southwest. The elevation here was higher than to the south, providing a majestic view of the mountain\\'s peak, veiled in a perpetual shroud of clouds. Unfortunately, no visible path from this vantage point led up the mountain.\\n\\nContinuing the journey, the adventurer arrived at the trail head on the northeast side of the Lonely Mountain. The narrow path snaked through rolling hills. To one side, a sign stood firmly, with a winding path disappearing into the thick undergrowth to the northeast. The trail itself stretched onward to the southeast.\\n\\nThe trail eventually concluded at Shady Brook, marked by the remnants of a ruined stone foundation-the Old Lingolf House. A small brook meandered lazily by, its gentle flow a contrast to the stillness of the abandoned site. The sun had just climbed above the hills, spilling light over the landscape.\\n\\nFeeling the weight of the journey, the adventurer filled a jug with water from the brook, quenching both thirst and preparing for the road ahead.\\n\\nReturning to the trail head, the path was as familiar as it was unwelcoming, flanked by the same rolling hills and the sign that pointed toward the thick undergrowth. The adventurer pressed on, reaching the Eastern Fork where multiple paths diverged around the base of the Lonely Mountain and a smaller path led eastward.\\n\\nThe road soon led into a small village on the outskirts, with the Lonely Mountain towering ominously in the background. The village path split to the northeast, but no path seemed to climb the mountain directly.\\n\\nEntering the deserted village revealed echoes of the past. This was once a bustling place where peasants, merchants, and artisans thrived. Now, it was silent except for the smoke rising from a decrepit hovel to the south. The path through the village led from southwest to northeast, and a less-trodden trail headed north up the mountain.\\n\\nInside the hovel, the air was thick with smoke and the stench of chaos. A pile of rags moved near a bubbling pot, revealing a gnarled hand stirring the contents. The rags belonged to a withered crone who eyed the adventurer with a piercing gaze. \"I should have thought they would send someone more... more...\" She cackled unsettlingly, revealing that everyone had fled from an impending storm in the east. \"Take this and begone!\" With a mystical gesture, she thrust a scroll into the adventurer\\'s hands before pushing them out the door.\\n\\nBack in the open air, the adventurer unfurled the scroll, which revealed the \"rezrov spell\" capable of opening even locked or enchanted objects. With a sense of urgency, the spell was transcribed into the adventurer\\'s spell book, which glowed with an ethereal light as the words were etched permanently into its pages. The scroll itself vanished in a whisper of magic as the last word was copied.\\n\\nThe journey resumed, leading back through the village outskirts and on to the Eastern Fork. The paths here were familiar, yet held new promise with the power of the newly acquired spell. The adventurer then ventured onto the Western Road, which wended its way through dark, rolling hills. To the west, a high mountain loomed; to the east, a dark castle with towering spires awaited.',\n",
       "    'graph {\\n\\t\"deserted village\" -- \"village outskirts\"\\n\\t\"eastern fork\" -- \"village outskirts\"\\n\\t\"shady brook\" -- \"trail head\"\\n\\t\"trail\" -- \"trail head\"\\n\\t\"eastern fork\" -- \"western road\"\\n\\t\"eastern fork\" -- \"trail head\"\\n}'],\n",
       "   [\"With a sense of purpose, they grasped the limb from the ground, the weight of it solid and reassuring in their hands. The storm above raged ferociously as they ventured towards the west side of the church. The untamed grasses whispered secrets in the wind, and a muddy trail beckoned them further into the tempest, winding its way towards the graveyard. Lightning split the sky, an electric dance that was mirrored by the thunder's roar.\\n\\nDriven by an unknown force, they moved on, reaching the front of the church. Two ancient oaks stood guard, their gnarled branches framing the church's weather-beaten facade. The storm seemed intent on cleansing the building, its fervor a match for the darkness clinging to the aged stones. A growl pierced the air, pulling their attention to a formidable guard dog, its eyes alight with a primal warning.\\n\\nThe confrontation was brief and fierce; in a moment of desperation, they struck at the dog, which retaliated with a furious charge. Heart pounding, they fled back to the west side of the church, the snarling beast hot on their heels.\\n\\nTheir flight took them around to the north side of the church, where the wild overgrowth clawed at the stone walls, as if trying to reclaim the holy site for the earth itself. But there was no respite; the dog continued its relentless pursuit.\\n\\nThey dashed to the east side of the church, where the remnants of a once-busy parking lot lay forgotten beneath a carpet of weeds and debris. Still, the dog chased, its barks echoing in the stormy air.\\n\\nCircling back to the front of the church, a stroke of fortune-or perhaps fate-intervened. The dog, in its furious chase, became entangled by its chain, wrapped around the church's solid structure. It barked in frustration as they made their escape to the church porch.\\n\\nOn the porch, they tore a loose section of railing free, a makeshift tool in their uncertain quest. With the railing in hand, they entered the vestibule, the church's once-grand entry now marred by neglect and decay. The hail rattled above, a harsh reminder of the storm outside.\\n\\nThey pushed on into the sanctuary, a hollow shell of its former glory. The pews lay in disarray, and a portrait of Christ watched mournfully from above the archway. They moved to the pulpit, feeling the weight of the empty eyes of the church upon them. Here, a book caught their attention, its passages on souls and windows a grim echo of their own thoughts.\\n\\nWith the book secured, they ventured into a small office, where the past whispered through the debris and a journal awaited on the desk. As they uncovered the journal's last secrets with ashes from a past fire, they learned of regret and innocence lost.\\n\\nA hidden bookshelf revealed its secret-a grimoire wrapped in red, its pages filled with dark rituals concerning the soul. Taking the embroidered robe hanging beside the door, they returned to the pulpit, the church now resonating with the echoes of the storm outside.\\n\\nTheir journey led them back through the sanctuary and into the vestibule, where they used the railing to access the steeple chamber above. Climbing the makeshift ladder, they entered a realm of rain and shadow, where the elements invaded freely and the secrets of the steeple lay exposed.\\n\\nIn that high, hidden place, they pondered the revelations of the grimoire and the journal, the weight of their discoveries as heavy as the storm that continued to rage around the old church.\",\n",
       "    'graph {\\n\\t\"sanctuary\" -- \"vestibule\"\\n\\t\"west side of church\" -- \"north side of church\"\\n\\t\"north side of church\" -- \"east side of church\"\\n\\t\"vestibule\" -- \"church porch\"\\n\\t\"pulpit\" -- \"sanctuary\"\\n\\t\"steeple chamber\" -- \"vestibule\"\\n\\t\"front of church\" -- \"east side of church\"\\n\\t\"pulpit\" -- \"small office\"\\n\\t\"west side of church\" -- \"graveyard\"\\n\\t\"front of church\" -- \"church porch\"\\n\\t\"front of church\" -- \"west side of church\"\\n}'],\n",
       "   [\"Leaping onto the roof of the cottage with a soft thud, she found herself on the thatched surface, trying not to peer down into the abyss below. A chimney with a TV aerial attached interrupted the quaint, picture-perfect scene. Just above the roofline, the top of a giant beanstalk peeked through, adding a touch of whimsy to the view.\\n\\nWith a burst of daring, she slid down the chimney, landing with a satisfying whoosh in the kitchen below. The room was straight out of a storybook, with its cozy ambiance and lack of modern conveniences. A large dining table dominated the center, surrounded by a dresser and an enormous brick fireplace that seemed almost too big for the room. On the table, three bowls of porridge rested, each a different size and temperature, alongside a lone spoon.\\n\\nChoosing to explore further, she ventured into the pantry. The smell of cinnamon and honey mingled with the less pleasant scent of mouse droppings. Boxes of McScottie's porridge oats filled the sturdy shelves, and a mousetrap lay in the corner under the shelves, a dead mouse and a wedge of cheese still inside it. After a moment of contemplation, she retrieved the cheese from the mousetrap, then opened the upright freezer to discover a packet of frozen pork chops, which she also took.\\n\\nBack in the kitchen, she paused only a moment before moving on to the hall. The walls were covered in a macabre display of hunting trophies, from tiny shrews to an ominous collection that included what appeared to be human heads. A full-length portrait of the bear family hung on one wall, and a staircase led upwards.\\n\\nThe doorbell rang suddenly, followed by a booming voice demanding entry in a threatening tone. Cautiously, she opened the door to find the wolf from the path barging in, his eyes wild as he mistook her for one of the Three Little Pigs he was evidently hunting. After a brief and bizarre conversation where the wolf expressed his distaste for human flesh and his craving for the pigs, he wandered off upstairs.\\n\\nFollowing him, she found herself in the bedroom, where the Big Bad Wolf was trying to appear menacing. The room featured three beds of varying sizes and was oddly arranged under the sloping attic walls. Sleeping Beauty herself was there, slumbering peacefully on the smallest bed.\\n\\nIn an attempt to appease the wolf's hunger, she offered him the pork chops, only to be met with dramatic disdain; the wolf declared he could not possibly consume them unless they were cooked to medium rare.\\n\\nAs the wolf announced his departure to continue his search for the pigs, she descended back to the hall, the chill of the open front door brushing against her skin. She decided not to linger and moved into the sitting room.\\n\\nThe sitting room was an explosion of chintz and clutter, with three chairs sized for each bear around a small coffee table that held a copy of 'Hail!' magazine. The decor was overwhelmingly kitsch, every surface adorned with some trinket or another, making the room feel like a cave of treasures that only a bear could love.\",\n",
       "    'graph {\\n\\t\"hall\" -- \"sitting room\"\\n\\t\"bedroom\" -- \"hall\"\\n\\t\"kitchen\" -- \"roof\"\\n\\t\"kitchen\" -- \"pantry\"\\n\\t\"kitchen\" -- \"hall\"\\n}']]},\n",
       " 'task2': {'target': ['top of small pit',\n",
       "   'hall of mists',\n",
       "   'low room',\n",
       "   'hall of mists',\n",
       "   'hall of mountain king',\n",
       "   'low n/s passage',\n",
       "   'y2',\n",
       "   'inside building',\n",
       "   'y2',\n",
       "   'low n/s passage',\n",
       "   'hall of mountain king',\n",
       "   'secret e/w canyon'],\n",
       "  'few_shots': [['As they moved through the plain corridor, the beige walls and fluorescent lights reminded them of a university building. Yellow and white signs pointed in opposite directions, marking the year \"BiCon 2010.\"\\n\\nEntering the reception, they found themselves amidst a bustling hub of activity. Volunteers, looking slightly frantic yet smiling, manned a desk cluttered with paperwork and empty mugs. A lost property box sat forlornly on one end. Across from the desk, a small table hosted newcomers crafting their name badges, while a large notice board displayed the latest updates and changes to the timetable.\\n\\nCurious, they examined the desk, noting the lost property box and the absence of any tea in the mugs. The paperwork didn\\'t offer anything interesting, just mundane forms and lists. However, a peek into the box revealed a surprising find-a couple of cherries.\\n\\nThe volunteers welcomed them warmly to BiCon, explaining that it was an annual event and this year hosted the International Bisexual Conference. They learned from the name badge table that a star sticker indicated a biker, a fact that amused them.\\n\\nThey moved on to the corridor heading east, marked by doors leading to rooms named \"Canada\" and \"Denmark.\" Choosing \"Denmark,\" they entered a room where a Fun & Games workshop had just concluded. Players milled about, among them Phoenix, who sparkled with an infectious energy. Striking up a conversation about bicycles, they found a shared interest. Phoenix revealed this was their second BiCon, and they chatted amiably about various topics, including a personal crisis involving a friend needing a place to stay. They offered their flat to Phoenix, which led to a deep exchange of life stories and confidences.\\n\\nReturning to reception, they found the volunteers still busy, and some friends suggested ordering pizza. However, after realizing they lacked the number, they attempted to retrieve it from the noticeboard, only to face a mishap of the menus being taken and then needing to be returned under the volunteers\\' instructions.\\n\\nSubsequently, they stepped out onto the lawn, where people practiced juggling and belly dancing next to a bouncy castle. Conversations about the morning\\'s workshops and the upcoming ball buzzed in the air. Despite trying to coordinate pizza ordering, the plan floundered as their friends were distracted by various entertainments and discussions.\\n\\nBack in reception, amid the ongoing hustle, they accidentally captivated everyone\\'s attention with a shiny object they found and dropped. Deciding to leave the shiny distraction behind, they moved again through the corridors and back into the reception, where they finally managed to get the takeaway menus and tried calling for pizza, albeit unsuccessfully.\\n\\nThe evening drew them to the ballroom, where decorations were being hung, and a DJ tested sound equipment. Their friends flirted and laughed, the atmosphere light and expectant for the night\\'s festivities. Despite the earlier chaos, the promise of a good night at BiCon lifted everyone\\'s spirits, ready to dance and celebrate together.',\n",
       "    ['plain corridor',\n",
       "     'denmark',\n",
       "     'corridor (east)',\n",
       "     'lawn',\n",
       "     'reception',\n",
       "     'ballroom'],\n",
       "    ['plain corridor',\n",
       "     'reception',\n",
       "     'corridor (east)',\n",
       "     'denmark',\n",
       "     'corridor (east)',\n",
       "     'reception',\n",
       "     'lawn',\n",
       "     'reception',\n",
       "     'corridor (east)',\n",
       "     'reception',\n",
       "     'lawn',\n",
       "     'reception',\n",
       "     'ballroom']],\n",
       "   [\"In the heart of the Dwarven City of Deephome, nestled at the Eastern Guard Post, the air was heavy with the scent of polished iron and wood. This fortified sanctuary was designed like an hourglass, walls tapering in the center where two heavy iron-banded doors stood vigilant. Weapons racks adorned the room, crossbows hanging prominently among the assortment. Beyond, defensive low walls skirted the perimeter, poised for any threat that might venture through the city gates to the southeast.\\n\\nMoving westward, the roads diverged at the Intersection. Main Street stretched north and south, while the Royal Road beckoned westward. Signs and symbols marked the significance of each path, the eastern guard post standing sentinel with its own placard.\\n\\nAlong the East Royal Road, high walls lined the path, interrupted by gates leading to the estates of lesser nobles. The way was clear, the road extending from the bustling intersection toward the grandeur of the castle to the west.\\n\\nTransitioning onto the West Royal Road, the journey became a visual feast. Fluorescent mosses clung to the mineral-rich stones, their glow a stark contrast against the shadowed high walls. The path mimicked a grand hall, gates intermittently breaking the stone's monotony, leading to the palatial domains of the nobility.\\n\\nThe Outer Court of the Lord's Palace was an expanse surrounded by high walls. A long pathway paved the route from the eastern gates to the Throne Room to the west. Here, the courtyard was left accessible, a passage for those like the Dwarven Reclaimer, who had business with the throne.\\n\\nThe Throne Room itself was a stark contrast to the expected opulence. It was quaint, almost understated, with a large tapestry hanging behind the throne and a red carpet leading to the grand eastern doorway. Here, a Luminous Spirit awaited, her presence ethereal and light. Upon opening a net, a squirrel scurried out, darting under the throne. The spirit, smiling gratefully, merged into the squirrel in a wisp of smoke and scampered away, leaving behind a sense of peace and a mysterious increase in stature, as if the very air acknowledged a deed well done.\\n\\nRetracing steps back through the Outer Court and along the West Royal Road, the journey continued eastward, past the gates and high walls, back to the intersection of Main Street and the Royal Road.\\n\\nSouth Main Street was quieter, dedicated to intellectual and spiritual pursuits with the Library to the east and the Great Temple to the west. The road continued its stretch north and south, a pathway of knowledge and reverence.\\n\\nFurther north on North Main Street, the remnants of a bustling trade center were evident. Shops and merchant booths lined the street, offering a variety of goods. A clothier, a bakery, and a scrivener's office marked the intersections of commerce and craft. The Main Hall loomed to the north, a reminder of the street's vibrant past.\\n\\nEntering the Scrivener's, the room was stark, furnished only with desks and chairs for those crafting documents for the illiterate. A search through the desks revealed a stash of papers, one of which was promptly taken.\\n\\nOutside the Scrivener's and into the Bakery next, the smell of stale flour mingled with the warmth of long-cooled ovens. Great stone structures lined the back wall, their purpose long fulfilled. An old water pipe still functioned, filling a cistern that once quenched the bakers' thirst and mixed their doughs. Amidst the decay, an empty bottle caught the eye, its presence a small but curious find in the abandoned space.\",\n",
       "    ['s. main street',\n",
       "     'throne room',\n",
       "     'east royal road',\n",
       "     'eastern guard post',\n",
       "     'intersection',\n",
       "     'outer court',\n",
       "     'west royal road',\n",
       "     'n. main street',\n",
       "     \"scrivener's\",\n",
       "     'bakery'],\n",
       "    ['eastern guard post',\n",
       "     'intersection',\n",
       "     'east royal road',\n",
       "     'west royal road',\n",
       "     'outer court',\n",
       "     'throne room',\n",
       "     'outer court',\n",
       "     'west royal road',\n",
       "     'east royal road',\n",
       "     'intersection',\n",
       "     's. main street',\n",
       "     'n. main street',\n",
       "     \"scrivener's\",\n",
       "     'n. main street',\n",
       "     'bakery']],\n",
       "   ['She moved into the junction, where a gap between the crowded, gloomy buildings revealed a country lane stretching northward over a grassy heath. The main street continued east, and to the northwest, over a steep rise, the vaulted rooftops of the university were just visible.\\n\\nContinuing her journey, she ventured along the Narrow Street. Here, the lane twisted from east to west, the buildings so close their jagged rooftops nearly touched. To the south, a side street led across Whateley Bridge to the town\\'s center, while a twisting lane climbed a hill to the northwest. A short flight of steps to the north descended to the local watering hole.\\n\\nShe entered the Local Pub, a dank, drafty place lit by flickering oil lanterns. Smoke hung heavy among the rafters, and shadows lurked in every corner. Mill workers and fishermen sat at tables, wrapped in their own worlds of dreary fatalism. Noticing a lantern sputtering on a nearby table, she casually pocketed it, confident no one would mind.\\n\\nAs she headed for the door, her foot struck something under a table. Crouching down, she discovered a forgotten flask, tucked into a shadowy corner. The label was faded, barely readable, but the words \"bootleg\" and \"rotgut\" stood out. She slipped it into her pocket and left.\\n\\nBack on Narrow Street, she retraced her steps and then took the twisting lane upwards. The path was steep, the cobblestones slick with moss. At the top, her way was blocked by a brick wall covered in graffiti. A strange symbol-an upturned hand with a triangle in the palm-and an arrow pointing west caught her attention. Following the arrow\\'s direction, she discovered a hidden sidestreet.\\n\\nThis led her to Hidden Court, a peaceful enclave surrounded by steep rooftops. Despite the oppressive gloom of the town, this small courtyard felt like a bright, safe harbor. A humble shop was marked by a hanging sign to the south, while the east led back into the urban labyrinth.\\n\\nCuriosity piqued, she entered the shop named The Cauldron. Inside, the atmosphere was warmly lit, the shelves laden with an array of new age curiosities. The shopkeeper, standing behind a display case, watched her as she entered. She asked about an amulet in the case, which the proprietor described as a charm against evil. Without waiting for her consent, he placed the amulet around her neck, insisting it would be useful.\\n\\nShe offered a puzzle box to the proprietor, who deftly opened it, revealing its secret. Pleased, he suggested she keep it as a gift. With the puzzle box now in her possession, she left the shop, the shopkeeper\\'s farewell echoing behind her.\\n\\nExiting Hidden Court, she returned down Twisting Lane to Narrow Street, then crossed Whateley Bridge. The ancient bridge, made of moss-eaten flagstones, spanned the dark waters of the Miskaton River, connecting the north and south parts of the city. As she crossed, she pondered the unexpected turns her day had taken, each step revealing deeper layers of the mysterious town.',\n",
       "    ['narrow street',\n",
       "     'twisting lane',\n",
       "     'cauldron',\n",
       "     'hidden court',\n",
       "     'whateley bridge',\n",
       "     'junction',\n",
       "     'local pub'],\n",
       "    ['junction',\n",
       "     'narrow street',\n",
       "     'local pub',\n",
       "     'narrow street',\n",
       "     'twisting lane',\n",
       "     'hidden court',\n",
       "     'cauldron',\n",
       "     'hidden court',\n",
       "     'twisting lane',\n",
       "     'narrow street',\n",
       "     'whateley bridge']],\n",
       "   ['He stepped out of the elevator and made his way outside Linnell House, his eyes scanning the meticulously landscaped area that was more mud than green. The anorexic shrubs and wild crabgrass did little to enhance the charm of the red brick building he called home. A path muddied from frequent travel stretched northward.\\n\\nAs he walked, a figure in a long trench coat stumbled out from behind a bush, tripping over a tree root and, in his flailing for balance, accidentally jabbed him with a hypodermic needle. \"Oops. Sorry, pal!\" the stranger giggled before dashing off, leaving him slightly dazed and confused.\\n\\nContinuing on, he approached the Dining Commons, a white stone building marked ominously with a large \"biohazard\" sign. The path led him to the Dining Commons Entrance, where the smell of garbage was nearly overpowering. Inside, a line lady sat on her stool, popping her gum with annoying proficiency.\\n\\nAs he attempted to pass, the line lady jumped up. \"NOT SO FAST, BUD.\" Her voice was sharp, and her smile cruel as she demanded to see some ID. Reluctantly, he showed his ID, and with a gruff mutter of \"Go ahead, brat,\" she allowed him entry.\\n\\nInside the Dining Commons Atrium, the atmosphere was chaotic with the clamor of students and the unappealing offerings that were being served. He joined the line, eventually grabbing a tray of what could only loosely be called food.\\n\\nAttempting to eat, he quickly realized the meat was dodging his fork, a testament to its inedibility. His stomach protested loudly, but before he could think of a solution, he felt slightly drugged, a lingering effect of the earlier accidental jab.\\n\\nHe moved to the No Smoking Section, hoping for a quieter place to sit. The decor was as uninspiring as the food, with cheap formica tables and uncomfortable chairs. His hunger was becoming unbearable.\\n\\nDeciding to explore further, he entered the Dish Room where he found his friend Milton, looking distinctly hungover. After a brief exchange and an unsuccessful attempt to provide Milton with a suitable smoke, he left Milton and ventured into the Smoking Section.\\n\\nThe smell of stale smoke did nothing for his nausea, but he managed to light and smoke a roach, which calmed his nerves but did little for his hunger. In a state of induced munchies, he forced down the repulsive cafeteria food, his desperation evident.\\n\\nWith his hunger momentarily at bay, he dropped his tray and, feeling a bit rebellious, lit a joint. The sweet smell momentarily distracted him from the dreariness of his surroundings.\\n\\nWith Milton\\'s suggestion, they snuck into the Kitchen, where he was disguised in a DC employee\\'s apron and visor to blend in. There, the overwhelming smell of what was being cooked could barely qualify as food.\\n\\nIntrigued by what else he might find, he ventured into the nearby Closet, discovering a stash of sugared cereal and a hidden pentacle on a silver chain among the spilled contents of a cereal box.\\n\\nClimbing the ladder in the closet led him to the Roof, where the view of the campus was less than impressive. Finding a bong, he pocketed it before jumping down back into the closet, the thrill of his little adventure beginning to wear off.\\n\\nReturning to the Kitchen, he shed his disguise and revisited the Dish Room to drop off the apron and visor. He then moved back to the Smoking Section, grabbed a lighter and a food tray, and decided it was time to leave the Dining Commons behind.\\n\\nEmerging outside, the fresh air was a welcome relief after the stifling atmosphere of the Dining Commons. He walked along the Path, the offensive squelching of his steps a stark reminder of the day\\'s strange and unsettling events. Each step took him further from the chaos behind, his thoughts already turning to what the next day might bring.',\n",
       "    ['kitchen',\n",
       "     'roof',\n",
       "     'smoking section',\n",
       "     'dining commons entrance',\n",
       "     'outside linnell house',\n",
       "     'dish room',\n",
       "     'path',\n",
       "     'no smoking section',\n",
       "     'closet',\n",
       "     'outside dining commons',\n",
       "     'dining commons atrium'],\n",
       "    ['outside linnell house',\n",
       "     'outside dining commons',\n",
       "     'dining commons entrance',\n",
       "     'dining commons atrium',\n",
       "     'no smoking section',\n",
       "     'dish room',\n",
       "     'smoking section',\n",
       "     'dish room',\n",
       "     'kitchen',\n",
       "     'closet',\n",
       "     'roof',\n",
       "     'closet',\n",
       "     'kitchen',\n",
       "     'dish room',\n",
       "     'smoking section',\n",
       "     'dining commons atrium',\n",
       "     'dining commons entrance',\n",
       "     'outside dining commons',\n",
       "     'path']],\n",
       "   ['Descending into the stifling confines of the engine room aboard the Night Wind, the stench of diesel and the heat from the engines made it difficult to breathe. The space was tiny, a cramped chamber at the very heart of the vessel, where the vital organs of the ship throbbed and hummed incessantly.\\n\\nAfter a brief inspection, he ascended the ladder, emerging into the crew\\'s lounge. The lounge was a modest space, barely accommodating a table and a few chairs. It served as a junction between the captain\\'s cabin aft and the galley forward.\\n\\nMaking his way into the captain\\'s cabin, he found a stark contrast in comfort. The cabin boasted a large, inviting bunk and an air of private luxury that the rest of the ship seemed to lack. In the cabin, Johnny Red, the ship\\'s formidable yet charismatic captain, was present, adding a sense of authority to the room.\\n\\nReturning to the lounge, he then proceeded forward into the galley. The aroma of a simmering stew wafted through the air, a humble but welcoming scent. Pete the Rat, a crew member with a knack for cooking even in the roughest seas, stood watch over his stew, ensuring it didn\\'t spill over as the ship rocked.\\n\\nContinuing his exploration, he descended into the crew\\'s quarters below deck. The quarters were cramped, lined with narrow, uncomfortable bunks reminiscent of sardine cans. It was a functional space, designed solely for the necessity of sleep rather than comfort. The Weasel, another crew member known for his sly demeanor, was there, idly picking his teeth with a menacing-looking knife.\\n\\nA curious peek beneath one of the bunks revealed a hidden envelope tucked under the mattress, an unexpected find that hinted at secrets or perhaps private communications among the crew.\\n\\nHe moved on to the storage locker, a nearly empty space that bore the marks of recent cleaning. Scattered around were spare parts for the engine and other miscellaneous equipment, alongside a small air compressor, the remnants of the ship\\'s last trawling expedition.\\n\\nReturning to the crew\\'s quarters, he was greeted once again by the sight of The Weasel, still engaged in his peculiar grooming ritual with his knife. Suddenly, Johnny Red approached from behind, his voice firm yet calm, \"We\\'ll be leaving shortly. Get some sleep.\" With that, both Johnny Red and The Weasel headed aft, leaving him to ponder the next steps.\\n\\nRising from the depths of the ship, he emerged onto the fore deck. The open ocean stretched out before him, visible over the railing that enclosed the deck. A solitary chair bolted to the deck offered a place to sit and watch the waves, or perhaps to contemplate the journey ahead. The wheelhouse loomed aft, a constant reminder of the course that lay before them, guided by unseen hands from within.',\n",
       "    ['engine room',\n",
       "     \"captain's cabin\",\n",
       "     'lounge',\n",
       "     'galley',\n",
       "     'fore deck',\n",
       "     \"crew's quarters\",\n",
       "     'storage locker'],\n",
       "    ['engine room',\n",
       "     'lounge',\n",
       "     \"captain's cabin\",\n",
       "     'lounge',\n",
       "     'galley',\n",
       "     \"crew's quarters\",\n",
       "     'storage locker',\n",
       "     \"crew's quarters\",\n",
       "     'fore deck']],\n",
       "   [\"In the dimly lit kitchen, a note hastily scribbled fluttered slightly as it was pinned to the refrigerator. Beside it, a cat bowl lay on the floor, untouched and gathering dust. The clock ticked menacingly, marking the late hour.\\n\\nMoving from the kitchen to the dining room, the atmosphere changed subtly; the window here was firmly shut, as if to keep the secrets of the night at bay. Time seemed to creep by, each minute stretching longer than the last.\\n\\nThe journey continued into the centre hallway, a space that connected various parts of the house like arteries. A quick exploration revealed a can opener, a can, and a pair of scissors lying haphazardly in the hallway. The south door stood closed, an unyielding barrier to the secrets it guarded.\\n\\nLooping back through the centre hallway, the foyer was reached, where the front door also remained closed, reflecting the isolation within. Climbing the stairs to the top, then descending back to the bottom, the basement corridor was ventured into next. A handwritten note clung to the south door, its message obscured in the gloom.\\n\\nWithin the basement corridor, an office chair sat idly by, offering a silent invitation to rest, but the office beckoned instead. In the office, a waste paper basket was the sole occupant, its presence unremarkable and yet somehow poignant. A search of the computer yielded nothing unusual, the digital secrets well-guarded.\\n\\nReturning to the basement corridor, the office chair was claimed and carried along to the storage room. This room was a chaos of clutter, with an opening in the ceiling suggesting escape or perhaps further entrapment. Among the piles, a magazine lay forgotten. Attempting to climb through the ceiling opening proved futile; the burden of possessions too great.\\n\\nAfter shedding the weight of a portable DAT player and a flashlight onto the office chair, the narrow tunnel, west was accessed through the opening. It was part of an air conditioning system, cramped and dusty. Crawling through to the narrow tunnel, centre, and then to the narrow tunnel, east, a sense of claustrophobia began to set in. The east end of the tunnel suggested a descent into a room below, but the darkness was too intimidating.\\n\\nRetreating through the tunnel to the storage room, the flashlight and DAT player were retrieved from the office chair. Standing in the storage room once more, the myriad of objects seemed to mock with their silent judgment.\\n\\nVenturing back to the basement corridor and then to the bottom of the stairs, a climb to the top of the stairs was made once more, leading back into the foyer. Here, the south door was finally opened, revealing the children's bedroom beyond.\\n\\nThe children's bedroom was a stark contrast to the rest of the house. Furnished simply yet tastefully, it held the innocence of childhood within its walls. Toys were scattered about, and two beds occupied the space, each holding a child: Paul on one, Christopher on the other. In the corner, a cheap-looking amplifier sat atop a CD player, silent and waiting.\\n\\nAs the clock ticked on, the house seemed to breathe a sigh, the night's adventures folding into the shadows of the ordinary world once more.\",\n",
       "    ['kitchen',\n",
       "     'narrow tunnel, west',\n",
       "     'foyer',\n",
       "     'centre hallway',\n",
       "     'dining room',\n",
       "     'narrow tunnel, centre',\n",
       "     'bottom of stairs',\n",
       "     'top of stairs',\n",
       "     'office',\n",
       "     \"children's bedroom\",\n",
       "     'basement corridor',\n",
       "     'narrow tunnel, east',\n",
       "     'storage room',\n",
       "     'hallway'],\n",
       "    ['kitchen',\n",
       "     'dining room',\n",
       "     'centre hallway',\n",
       "     'hallway',\n",
       "     'centre hallway',\n",
       "     'foyer',\n",
       "     'top of stairs',\n",
       "     'bottom of stairs',\n",
       "     'basement corridor',\n",
       "     'office',\n",
       "     'basement corridor',\n",
       "     'storage room',\n",
       "     'narrow tunnel, west',\n",
       "     'narrow tunnel, centre',\n",
       "     'narrow tunnel, east',\n",
       "     'narrow tunnel, centre',\n",
       "     'narrow tunnel, west',\n",
       "     'storage room',\n",
       "     'basement corridor',\n",
       "     'bottom of stairs',\n",
       "     'top of stairs',\n",
       "     'foyer',\n",
       "     \"children's bedroom\"]],\n",
       "   ['In the Marble Hall, an arched expanse of fine marble, the adventurer paused. The hall terminated abruptly to the north at a ford across a stream, where the marble showed signs of cracking and disrepair, likely due to a flood or a collapse. To the south, the hall opened into a large room from which an annoying whirring sound emanated. A square brick, feeling oddly like clay, lay at the adventurer\\'s feet.\\n\\nAs time passed in waiting, a princess, seemingly surprised to encounter another soul, entered from the north. Without a word, she pressed a loose piece of marble on the wall, and with a quiet grinding noise, a large section of the wall slid away, revealing a hidden passage to the east which she quickly entered.\\n\\nThe adventurer followed the path, now at the Path Near Stream. The path skirted the south edge of a deep ravine and headed northeast. A ruined archway choked with vegetation marked the east, while a tunnel narrowed to the southwest, the source of the faint whirring sound. The disheveled princess moved eastward through the archway, casting a glance back as she disappeared from view.\\n\\nContinuing onward, the adventurer arrived at the Formal Garden. The middle part of the garden was hidden by hedges against the cavern walls, dimly lit by mosses high above. The path, made of small crushed white stones, wound through bushes and flower beds. To the north, a small structure peeked through the foliage, and to the south, bushes were sculpted into peculiar shapes. The princess, still slightly unkempt, was also here, moving with a quiet grace.\\n\\nAt the North End of the Garden, the adventurer found themselves in a space where the hedges continued to mask the cavern walls, creating the illusion of a cloudy day outside. A gazebo stood in the center, surrounded by a rosebed. The princess entered from the south, her expression one of surprise at yet another encounter.\\n\\nTogether, they stepped into the gazebo. It was a cool and restful place, with a tea table at its center. Time seemed to slow as they waited in the peaceful enclosure.\\n\\nMoments passed, and then, shyly, a unicorn peeked out from the hedges. It approached the princess, bowed its head in a respectful curtsy, and revealed a red satin ribbon around its neck, from which dangled a delicate gold key. The princess used the ribbon to tie her hair, then handed the key and a fresh rose to the adventurer, thanking them for rescuing her from a dire fate. With a graceful leap, she mounted the unicorn side-saddle and disappeared into the gloom.\\n\\nLeaving the gazebo, the adventurer retraced their steps through the Formal Garden and then ventured into the Topiary. The southern end of the garden was lined with fantastically shaped hedges and bushes - dragons, unicorns, serpents, and misshapen dogs, all crafted from greenery under the dim light of the mosses.\\n\\nTheir exploration continued to the Carousel Room, a large circular chamber disorienting in its symmetry with eight identical passages and a loud, pervasive whirring noise filling the air.\\n\\nHaving lost their sense of direction in the Carousel Room, the adventurer stumbled upon the Menhir Room. This space, once a quarry, was littered with large limestone chunks. One side of the room was dedicated to quarrying building blocks, the other to producing menhirs. A particularly large menhir, carved with the ornate letter \"F,\" blocked a dark opening leading southwest.\\n\\nYet the whirring noise beckoned, and the adventurer found themselves back in the Carousel Room, disoriented once more. Their journey continued back and forth between the Menhir Room and the Carousel Room, the constant disorientation clouding their sense of progress.\\n\\nEventually, they ventured into the Cool Room, where the air was misty and damp, a chill emanating from a narrow westerly tunnel.\\n\\nReturning once more to the Carousel Room and then finding themselves in the Riddle Room, the adventurer faced a great closed stone door with a riddle inscribed above: \"What is tall as a house, round as a cup, and all the king\\'s horses can\\'t draw it up?\" Upon answering \"a well,\" a deafening clap of thunder resounded, and the stone door swung open, revealing a new passage.\\n\\nWith the key in hand, a token from a princess and a unicorn, the adventurer stepped through, ready for whatever mysteries lay beyond.',\n",
       "    ['menhir',\n",
       "     'riddle',\n",
       "     'carousel',\n",
       "     'formal garden',\n",
       "     'cool',\n",
       "     'topiary',\n",
       "     'path near stream',\n",
       "     'north end of garden',\n",
       "     'gazebo',\n",
       "     'marble hall'],\n",
       "    ['marble hall',\n",
       "     'path near stream',\n",
       "     'formal garden',\n",
       "     'north end of garden',\n",
       "     'gazebo',\n",
       "     'north end of garden',\n",
       "     'formal garden',\n",
       "     'topiary',\n",
       "     'carousel',\n",
       "     'marble hall',\n",
       "     'carousel',\n",
       "     'menhir',\n",
       "     'carousel',\n",
       "     'menhir',\n",
       "     'carousel',\n",
       "     'cool',\n",
       "     'carousel',\n",
       "     'riddle']],\n",
       "   [\"In the heart of the forest, a determined push against an old tree sent it crashing down, tearing through a section of barbed wire fence with a loud, grating noise. Beyond this impromptu path lay the overgrown dirt road, flanked by dense woods to the east and west. The road meandered north toward a low hill, where a dilapidated guard hut stood quietly, a silent witness to the passage of time.\\n\\nApproaching the hut, the old door creaked open to reveal the Inside Hut, a cramped space that could shelter no more than two from the harsh elements outside. A discarded flashlight lay forgotten on the dusty floor. It was with a quick motion that the flashlight was scooped up and stowed away for future use.\\n\\nExiting the hut, the journey continued along the dirt road until the landscape opened up into the Escarpment. Here, the road split, running east and west around the hill and southward, back the way it had come. Choosing a path less traveled, the journey led southeast, around the base of the rocky hillside to a spot Southeast of Escarpment. The path here stretched west and northeast, hugging the contours of the land.\\n\\nFurther exploration brought a move to the Eastern Hillside, where the remnants of a dark tunnel burrowed into the hillside were visible. Despite apparent attempts at demolition, a climbable pile of debris blocked the way. The road here curved out of sight around the hillside to the southwest, promising more undiscovered paths.\\n\\nClimbing the debris at the Top of Debris Pile, the top of the pile offered a precarious view into the darkness of the tunnel and a safer descent back to the dirt path. A misstep, however, sent tumbling down through the pitch-black tunnel, landing in a surprisingly soft pile of leaves in the Darkness of the tunnel's Eastern End. A flick of the flashlight switch pierced the darkness, illuminating the blocked eastern end of the demolished tunnel and the leaves that had cushioned the fall.\\n\\nPicking up the leaves for closer examination, the journey continued deeper into the tunnel network, arriving at the Tunnel Junction. Here, tunnels extended in three directions, promising further mysteries to uncover. Choosing a path led to the Staff Room, a small area with exits to the north and south, and a door leading east to an office.\\n\\nThe next stop was the Bathroom, a dank and uninviting place with a gunk-filled toilet. Reluctantly removing the gunk revealed nothing but a paperclip-a small but potentially useful find. Back in the Staff Room, the paperclip proved its worth by unlocking the office door.\\n\\nInside the Office, the environment changed to one of quiet order. A safe sat heavily in one corner, and a wooden desk, its drawers closed, hinted at secrets yet to be revealed. The unlocked door swung open with a gentle push, leading back into the ongoing mystery of the underground network.\",\n",
       "    ['dirt road',\n",
       "     'inside hut',\n",
       "     'darkness',\n",
       "     'escarpment',\n",
       "     'forest',\n",
       "     'office',\n",
       "     'eastern end of tunnel',\n",
       "     'top of debris pile',\n",
       "     'staff room',\n",
       "     'bathroom',\n",
       "     'tunnel junction',\n",
       "     'eastern hillside',\n",
       "     'southeast of escarpment'],\n",
       "    ['forest',\n",
       "     'dirt road',\n",
       "     'inside hut',\n",
       "     'dirt road',\n",
       "     'escarpment',\n",
       "     'southeast of escarpment',\n",
       "     'eastern hillside',\n",
       "     'top of debris pile',\n",
       "     'darkness',\n",
       "     'eastern end of tunnel',\n",
       "     'tunnel junction',\n",
       "     'staff room',\n",
       "     'bathroom',\n",
       "     'staff room',\n",
       "     'office']],\n",
       "   [\"He rose from his slumber, his muscles groaning in protest as he hoisted himself over the stern rail of the Helena Louise and collapsed breathlessly onto the deck. From his vantage point on the Poop Deck, he surveyed the entirety of the shadowy, two-masted ship. Silhouettes flitted about, their whispers barely audible over the gentle lapping of the waves. The deck was enclosed by a protective railing that only allowed passage forward, past the stern where a rope ladder hung loosely.\\n\\nThe reefs, menacing in the moonlight, seemed to have grown since he last looked.\\n\\nMoving silently across the wooden planks, he advanced to the Quarterdeck. The moon cast enough light to eliminate the need for torches, except where shadows were thrown by the massive navigation wheel. Men murmured near the fore, their voices low and cautious. A barred door lay hidden under the stairs leading back to the Poop Deck. Nearby, a large pyramid of casks was secured with a heavy rope, while cannons stood ready, aimed at the open sea and the distant island.\\n\\nThe Main Deck was alive with a deceptive calm; pirates hummed soft shanties as they busied themselves with cannon repairs, rope twisting, and dagger sharpening. The mainmast threw a vast shadow over the hatch, shielded by canvas, beneath which a complex web of rigging dangled ominously. Two large barrels stood sentinel near the stairs to the foredeck.\\n\\nCurious, he examined the barrels, distinguishing the contents by their distinct aromas-one of rum, the other of water, stained darkly at the mouth where many a pirate had drunk.\\n\\nHe soaked a rag with water from one of the barrels, then approached the hatch. With a cautious glance around, he tugged a corner of the canvas free and descended the steep stairs into the murky darkness of the Hold. A tiny glow flickered menacingly from a cage full of ammunition-an unattended fire threatened disaster.\\n\\nWith no time to spare, he hurled the wet rag towards the fire. It sailed over the gate and smothered the flames with a sputtering sigh. The immediate danger averted, he clambered up through the hatch back to the Main Deck.\\n\\nHe continued his journey to the Forecastle. From this elevated position, he had a commanding view of the island, though the crow's nest high above offered an even better vantage. The deck bore signs of heavy use, with a grated air hole leading to the crew's quarters below and a small, greasy shack behind the mast. The mooring winch caught his eye, an old barrel mounted on a pole with a lever inscribed with faint letters.\\n\\nSquinting towards the sea, he noticed a flicker of light-a man swimming toward shore, the moonlight glinting off his hook. A breeze carried the mixed scents of onions and rum, and the distant sound of a mischievous chuckle.\\n\\nHe raised the lever on the winch, releasing the anchor into the sea with a heavy splash. The ship lurched slightly against the current, and he quickly lowered the lever to halt the spooling chain.\\n\\nEntering the Galley, he was greeted by the stale smell of old stew and yeast. A dagger was embedded in the floorboards, and a bald man, carving into his peg leg, eyed him suspiciously before offering a wink and a casual greeting. He referred to him as Sam and hinted at protecting the Captain's interests while aboard.\\n\\nHe retrieved the dagger from the floor, feeling the ship drift slightly as the tide turned, and made his way back to the Forecastle.\\n\\nContinuing his rounds, he returned to the Main Deck and then to the Quarterdeck. He slid into a large cask to hide, feeling something solid beneath him and noticing the frayed line that tethered the casks together.\\n\\nFrom within the cask, he listened to the sounds of the ship, the crew unaware of the dangers he had just thwarted.\",\n",
       "    ['hold',\n",
       "     'main deck',\n",
       "     'cask',\n",
       "     'galley',\n",
       "     'poop',\n",
       "     'quarterdeck',\n",
       "     'forecastle'],\n",
       "    ['poop',\n",
       "     'quarterdeck',\n",
       "     'main deck',\n",
       "     'hold',\n",
       "     'main deck',\n",
       "     'forecastle',\n",
       "     'galley',\n",
       "     'forecastle',\n",
       "     'main deck',\n",
       "     'quarterdeck',\n",
       "     'cask']],\n",
       "   ['As the adventurer moved along the trail that twisted around the Lonely Mountain, it bent out of sight to the southeast and southwest. The elevation here was higher than to the south, providing a majestic view of the mountain\\'s peak, veiled in a perpetual shroud of clouds. Unfortunately, no visible path from this vantage point led up the mountain.\\n\\nContinuing the journey, the adventurer arrived at the trail head on the northeast side of the Lonely Mountain. The narrow path snaked through rolling hills. To one side, a sign stood firmly, with a winding path disappearing into the thick undergrowth to the northeast. The trail itself stretched onward to the southeast.\\n\\nThe trail eventually concluded at Shady Brook, marked by the remnants of a ruined stone foundation-the Old Lingolf House. A small brook meandered lazily by, its gentle flow a contrast to the stillness of the abandoned site. The sun had just climbed above the hills, spilling light over the landscape.\\n\\nFeeling the weight of the journey, the adventurer filled a jug with water from the brook, quenching both thirst and preparing for the road ahead.\\n\\nReturning to the trail head, the path was as familiar as it was unwelcoming, flanked by the same rolling hills and the sign that pointed toward the thick undergrowth. The adventurer pressed on, reaching the Eastern Fork where multiple paths diverged around the base of the Lonely Mountain and a smaller path led eastward.\\n\\nThe road soon led into a small village on the outskirts, with the Lonely Mountain towering ominously in the background. The village path split to the northeast, but no path seemed to climb the mountain directly.\\n\\nEntering the deserted village revealed echoes of the past. This was once a bustling place where peasants, merchants, and artisans thrived. Now, it was silent except for the smoke rising from a decrepit hovel to the south. The path through the village led from southwest to northeast, and a less-trodden trail headed north up the mountain.\\n\\nInside the hovel, the air was thick with smoke and the stench of chaos. A pile of rags moved near a bubbling pot, revealing a gnarled hand stirring the contents. The rags belonged to a withered crone who eyed the adventurer with a piercing gaze. \"I should have thought they would send someone more... more...\" She cackled unsettlingly, revealing that everyone had fled from an impending storm in the east. \"Take this and begone!\" With a mystical gesture, she thrust a scroll into the adventurer\\'s hands before pushing them out the door.\\n\\nBack in the open air, the adventurer unfurled the scroll, which revealed the \"rezrov spell\" capable of opening even locked or enchanted objects. With a sense of urgency, the spell was transcribed into the adventurer\\'s spell book, which glowed with an ethereal light as the words were etched permanently into its pages. The scroll itself vanished in a whisper of magic as the last word was copied.\\n\\nThe journey resumed, leading back through the village outskirts and on to the Eastern Fork. The paths here were familiar, yet held new promise with the power of the newly acquired spell. The adventurer then ventured onto the Western Road, which wended its way through dark, rolling hills. To the west, a high mountain loomed; to the east, a dark castle with towering spires awaited.',\n",
       "    ['western road',\n",
       "     'trail',\n",
       "     'shady brook',\n",
       "     'village outskirts',\n",
       "     'trail head',\n",
       "     'eastern fork',\n",
       "     'deserted village'],\n",
       "    ['trail',\n",
       "     'trail head',\n",
       "     'shady brook',\n",
       "     'trail head',\n",
       "     'eastern fork',\n",
       "     'village outskirts',\n",
       "     'deserted village',\n",
       "     'village outskirts',\n",
       "     'eastern fork',\n",
       "     'western road']],\n",
       "   [\"With a sense of purpose, they grasped the limb from the ground, the weight of it solid and reassuring in their hands. The storm above raged ferociously as they ventured towards the west side of the church. The untamed grasses whispered secrets in the wind, and a muddy trail beckoned them further into the tempest, winding its way towards the graveyard. Lightning split the sky, an electric dance that was mirrored by the thunder's roar.\\n\\nDriven by an unknown force, they moved on, reaching the front of the church. Two ancient oaks stood guard, their gnarled branches framing the church's weather-beaten facade. The storm seemed intent on cleansing the building, its fervor a match for the darkness clinging to the aged stones. A growl pierced the air, pulling their attention to a formidable guard dog, its eyes alight with a primal warning.\\n\\nThe confrontation was brief and fierce; in a moment of desperation, they struck at the dog, which retaliated with a furious charge. Heart pounding, they fled back to the west side of the church, the snarling beast hot on their heels.\\n\\nTheir flight took them around to the north side of the church, where the wild overgrowth clawed at the stone walls, as if trying to reclaim the holy site for the earth itself. But there was no respite; the dog continued its relentless pursuit.\\n\\nThey dashed to the east side of the church, where the remnants of a once-busy parking lot lay forgotten beneath a carpet of weeds and debris. Still, the dog chased, its barks echoing in the stormy air.\\n\\nCircling back to the front of the church, a stroke of fortune-or perhaps fate-intervened. The dog, in its furious chase, became entangled by its chain, wrapped around the church's solid structure. It barked in frustration as they made their escape to the church porch.\\n\\nOn the porch, they tore a loose section of railing free, a makeshift tool in their uncertain quest. With the railing in hand, they entered the vestibule, the church's once-grand entry now marred by neglect and decay. The hail rattled above, a harsh reminder of the storm outside.\\n\\nThey pushed on into the sanctuary, a hollow shell of its former glory. The pews lay in disarray, and a portrait of Christ watched mournfully from above the archway. They moved to the pulpit, feeling the weight of the empty eyes of the church upon them. Here, a book caught their attention, its passages on souls and windows a grim echo of their own thoughts.\\n\\nWith the book secured, they ventured into a small office, where the past whispered through the debris and a journal awaited on the desk. As they uncovered the journal's last secrets with ashes from a past fire, they learned of regret and innocence lost.\\n\\nA hidden bookshelf revealed its secret-a grimoire wrapped in red, its pages filled with dark rituals concerning the soul. Taking the embroidered robe hanging beside the door, they returned to the pulpit, the church now resonating with the echoes of the storm outside.\\n\\nTheir journey led them back through the sanctuary and into the vestibule, where they used the railing to access the steeple chamber above. Climbing the makeshift ladder, they entered a realm of rain and shadow, where the elements invaded freely and the secrets of the steeple lay exposed.\\n\\nIn that high, hidden place, they pondered the revelations of the grimoire and the journal, the weight of their discoveries as heavy as the storm that continued to rage around the old church.\",\n",
       "    ['pulpit',\n",
       "     'steeple chamber',\n",
       "     'north side of church',\n",
       "     'sanctuary',\n",
       "     'vestibule',\n",
       "     'church porch',\n",
       "     'graveyard',\n",
       "     'small office',\n",
       "     'west side of church',\n",
       "     'east side of church',\n",
       "     'front of church'],\n",
       "    ['graveyard',\n",
       "     'west side of church',\n",
       "     'front of church',\n",
       "     'west side of church',\n",
       "     'north side of church',\n",
       "     'east side of church',\n",
       "     'front of church',\n",
       "     'church porch',\n",
       "     'vestibule',\n",
       "     'sanctuary',\n",
       "     'pulpit',\n",
       "     'small office',\n",
       "     'pulpit',\n",
       "     'sanctuary',\n",
       "     'vestibule',\n",
       "     'steeple chamber']],\n",
       "   [\"Leaping onto the roof of the cottage with a soft thud, she found herself on the thatched surface, trying not to peer down into the abyss below. A chimney with a TV aerial attached interrupted the quaint, picture-perfect scene. Just above the roofline, the top of a giant beanstalk peeked through, adding a touch of whimsy to the view.\\n\\nWith a burst of daring, she slid down the chimney, landing with a satisfying whoosh in the kitchen below. The room was straight out of a storybook, with its cozy ambiance and lack of modern conveniences. A large dining table dominated the center, surrounded by a dresser and an enormous brick fireplace that seemed almost too big for the room. On the table, three bowls of porridge rested, each a different size and temperature, alongside a lone spoon.\\n\\nChoosing to explore further, she ventured into the pantry. The smell of cinnamon and honey mingled with the less pleasant scent of mouse droppings. Boxes of McScottie's porridge oats filled the sturdy shelves, and a mousetrap lay in the corner under the shelves, a dead mouse and a wedge of cheese still inside it. After a moment of contemplation, she retrieved the cheese from the mousetrap, then opened the upright freezer to discover a packet of frozen pork chops, which she also took.\\n\\nBack in the kitchen, she paused only a moment before moving on to the hall. The walls were covered in a macabre display of hunting trophies, from tiny shrews to an ominous collection that included what appeared to be human heads. A full-length portrait of the bear family hung on one wall, and a staircase led upwards.\\n\\nThe doorbell rang suddenly, followed by a booming voice demanding entry in a threatening tone. Cautiously, she opened the door to find the wolf from the path barging in, his eyes wild as he mistook her for one of the Three Little Pigs he was evidently hunting. After a brief and bizarre conversation where the wolf expressed his distaste for human flesh and his craving for the pigs, he wandered off upstairs.\\n\\nFollowing him, she found herself in the bedroom, where the Big Bad Wolf was trying to appear menacing. The room featured three beds of varying sizes and was oddly arranged under the sloping attic walls. Sleeping Beauty herself was there, slumbering peacefully on the smallest bed.\\n\\nIn an attempt to appease the wolf's hunger, she offered him the pork chops, only to be met with dramatic disdain; the wolf declared he could not possibly consume them unless they were cooked to medium rare.\\n\\nAs the wolf announced his departure to continue his search for the pigs, she descended back to the hall, the chill of the open front door brushing against her skin. She decided not to linger and moved into the sitting room.\\n\\nThe sitting room was an explosion of chintz and clutter, with three chairs sized for each bear around a small coffee table that held a copy of 'Hail!' magazine. The decor was overwhelmingly kitsch, every surface adorned with some trinket or another, making the room feel like a cave of treasures that only a bear could love.\",\n",
       "    ['pantry', 'kitchen', 'roof', 'bedroom', 'sitting room', 'hall'],\n",
       "    ['roof',\n",
       "     'kitchen',\n",
       "     'pantry',\n",
       "     'kitchen',\n",
       "     'hall',\n",
       "     'bedroom',\n",
       "     'hall',\n",
       "     'sitting room']]]},\n",
       " 'task3': {'from': 'top of small pit',\n",
       "  'to': 'hall of mountain king',\n",
       "  'target': [['top of small pit', 'hall of mists', 'hall of mountain king']],\n",
       "  'few_shots': [['As they moved through the plain corridor, the beige walls and fluorescent lights reminded them of a university building. Yellow and white signs pointed in opposite directions, marking the year \"BiCon 2010.\"\\n\\nEntering the reception, they found themselves amidst a bustling hub of activity. Volunteers, looking slightly frantic yet smiling, manned a desk cluttered with paperwork and empty mugs. A lost property box sat forlornly on one end. Across from the desk, a small table hosted newcomers crafting their name badges, while a large notice board displayed the latest updates and changes to the timetable.\\n\\nCurious, they examined the desk, noting the lost property box and the absence of any tea in the mugs. The paperwork didn\\'t offer anything interesting, just mundane forms and lists. However, a peek into the box revealed a surprising find-a couple of cherries.\\n\\nThe volunteers welcomed them warmly to BiCon, explaining that it was an annual event and this year hosted the International Bisexual Conference. They learned from the name badge table that a star sticker indicated a biker, a fact that amused them.\\n\\nThey moved on to the corridor heading east, marked by doors leading to rooms named \"Canada\" and \"Denmark.\" Choosing \"Denmark,\" they entered a room where a Fun & Games workshop had just concluded. Players milled about, among them Phoenix, who sparkled with an infectious energy. Striking up a conversation about bicycles, they found a shared interest. Phoenix revealed this was their second BiCon, and they chatted amiably about various topics, including a personal crisis involving a friend needing a place to stay. They offered their flat to Phoenix, which led to a deep exchange of life stories and confidences.\\n\\nReturning to reception, they found the volunteers still busy, and some friends suggested ordering pizza. However, after realizing they lacked the number, they attempted to retrieve it from the noticeboard, only to face a mishap of the menus being taken and then needing to be returned under the volunteers\\' instructions.\\n\\nSubsequently, they stepped out onto the lawn, where people practiced juggling and belly dancing next to a bouncy castle. Conversations about the morning\\'s workshops and the upcoming ball buzzed in the air. Despite trying to coordinate pizza ordering, the plan floundered as their friends were distracted by various entertainments and discussions.\\n\\nBack in reception, amid the ongoing hustle, they accidentally captivated everyone\\'s attention with a shiny object they found and dropped. Deciding to leave the shiny distraction behind, they moved again through the corridors and back into the reception, where they finally managed to get the takeaway menus and tried calling for pizza, albeit unsuccessfully.\\n\\nThe evening drew them to the ballroom, where decorations were being hung, and a DJ tested sound equipment. Their friends flirted and laughed, the atmosphere light and expectant for the night\\'s festivities. Despite the earlier chaos, the promise of a good night at BiCon lifted everyone\\'s spirits, ready to dance and celebrate together.',\n",
       "    ['plain corridor',\n",
       "     'denmark',\n",
       "     'corridor (east)',\n",
       "     'lawn',\n",
       "     'reception',\n",
       "     'ballroom'],\n",
       "    ['ballroom', 'reception', 'corridor (east)']],\n",
       "   [\"In the heart of the Dwarven City of Deephome, nestled at the Eastern Guard Post, the air was heavy with the scent of polished iron and wood. This fortified sanctuary was designed like an hourglass, walls tapering in the center where two heavy iron-banded doors stood vigilant. Weapons racks adorned the room, crossbows hanging prominently among the assortment. Beyond, defensive low walls skirted the perimeter, poised for any threat that might venture through the city gates to the southeast.\\n\\nMoving westward, the roads diverged at the Intersection. Main Street stretched north and south, while the Royal Road beckoned westward. Signs and symbols marked the significance of each path, the eastern guard post standing sentinel with its own placard.\\n\\nAlong the East Royal Road, high walls lined the path, interrupted by gates leading to the estates of lesser nobles. The way was clear, the road extending from the bustling intersection toward the grandeur of the castle to the west.\\n\\nTransitioning onto the West Royal Road, the journey became a visual feast. Fluorescent mosses clung to the mineral-rich stones, their glow a stark contrast against the shadowed high walls. The path mimicked a grand hall, gates intermittently breaking the stone's monotony, leading to the palatial domains of the nobility.\\n\\nThe Outer Court of the Lord's Palace was an expanse surrounded by high walls. A long pathway paved the route from the eastern gates to the Throne Room to the west. Here, the courtyard was left accessible, a passage for those like the Dwarven Reclaimer, who had business with the throne.\\n\\nThe Throne Room itself was a stark contrast to the expected opulence. It was quaint, almost understated, with a large tapestry hanging behind the throne and a red carpet leading to the grand eastern doorway. Here, a Luminous Spirit awaited, her presence ethereal and light. Upon opening a net, a squirrel scurried out, darting under the throne. The spirit, smiling gratefully, merged into the squirrel in a wisp of smoke and scampered away, leaving behind a sense of peace and a mysterious increase in stature, as if the very air acknowledged a deed well done.\\n\\nRetracing steps back through the Outer Court and along the West Royal Road, the journey continued eastward, past the gates and high walls, back to the intersection of Main Street and the Royal Road.\\n\\nSouth Main Street was quieter, dedicated to intellectual and spiritual pursuits with the Library to the east and the Great Temple to the west. The road continued its stretch north and south, a pathway of knowledge and reverence.\\n\\nFurther north on North Main Street, the remnants of a bustling trade center were evident. Shops and merchant booths lined the street, offering a variety of goods. A clothier, a bakery, and a scrivener's office marked the intersections of commerce and craft. The Main Hall loomed to the north, a reminder of the street's vibrant past.\\n\\nEntering the Scrivener's, the room was stark, furnished only with desks and chairs for those crafting documents for the illiterate. A search through the desks revealed a stash of papers, one of which was promptly taken.\\n\\nOutside the Scrivener's and into the Bakery next, the smell of stale flour mingled with the warmth of long-cooled ovens. Great stone structures lined the back wall, their purpose long fulfilled. An old water pipe still functioned, filling a cistern that once quenched the bakers' thirst and mixed their doughs. Amidst the decay, an empty bottle caught the eye, its presence a small but curious find in the abandoned space.\",\n",
       "    ['s. main street',\n",
       "     'throne room',\n",
       "     'east royal road',\n",
       "     'eastern guard post',\n",
       "     'intersection',\n",
       "     'outer court',\n",
       "     'west royal road',\n",
       "     'n. main street',\n",
       "     \"scrivener's\",\n",
       "     'bakery'],\n",
       "    ['s. main street', 'intersection', 'eastern guard post']],\n",
       "   ['She moved into the junction, where a gap between the crowded, gloomy buildings revealed a country lane stretching northward over a grassy heath. The main street continued east, and to the northwest, over a steep rise, the vaulted rooftops of the university were just visible.\\n\\nContinuing her journey, she ventured along the Narrow Street. Here, the lane twisted from east to west, the buildings so close their jagged rooftops nearly touched. To the south, a side street led across Whateley Bridge to the town\\'s center, while a twisting lane climbed a hill to the northwest. A short flight of steps to the north descended to the local watering hole.\\n\\nShe entered the Local Pub, a dank, drafty place lit by flickering oil lanterns. Smoke hung heavy among the rafters, and shadows lurked in every corner. Mill workers and fishermen sat at tables, wrapped in their own worlds of dreary fatalism. Noticing a lantern sputtering on a nearby table, she casually pocketed it, confident no one would mind.\\n\\nAs she headed for the door, her foot struck something under a table. Crouching down, she discovered a forgotten flask, tucked into a shadowy corner. The label was faded, barely readable, but the words \"bootleg\" and \"rotgut\" stood out. She slipped it into her pocket and left.\\n\\nBack on Narrow Street, she retraced her steps and then took the twisting lane upwards. The path was steep, the cobblestones slick with moss. At the top, her way was blocked by a brick wall covered in graffiti. A strange symbol-an upturned hand with a triangle in the palm-and an arrow pointing west caught her attention. Following the arrow\\'s direction, she discovered a hidden sidestreet.\\n\\nThis led her to Hidden Court, a peaceful enclave surrounded by steep rooftops. Despite the oppressive gloom of the town, this small courtyard felt like a bright, safe harbor. A humble shop was marked by a hanging sign to the south, while the east led back into the urban labyrinth.\\n\\nCuriosity piqued, she entered the shop named The Cauldron. Inside, the atmosphere was warmly lit, the shelves laden with an array of new age curiosities. The shopkeeper, standing behind a display case, watched her as she entered. She asked about an amulet in the case, which the proprietor described as a charm against evil. Without waiting for her consent, he placed the amulet around her neck, insisting it would be useful.\\n\\nShe offered a puzzle box to the proprietor, who deftly opened it, revealing its secret. Pleased, he suggested she keep it as a gift. With the puzzle box now in her possession, she left the shop, the shopkeeper\\'s farewell echoing behind her.\\n\\nExiting Hidden Court, she returned down Twisting Lane to Narrow Street, then crossed Whateley Bridge. The ancient bridge, made of moss-eaten flagstones, spanned the dark waters of the Miskaton River, connecting the north and south parts of the city. As she crossed, she pondered the unexpected turns her day had taken, each step revealing deeper layers of the mysterious town.',\n",
       "    ['narrow street',\n",
       "     'twisting lane',\n",
       "     'cauldron',\n",
       "     'hidden court',\n",
       "     'whateley bridge',\n",
       "     'junction',\n",
       "     'local pub'],\n",
       "    ['junction', 'narrow street', 'whateley bridge']],\n",
       "   ['He stepped out of the elevator and made his way outside Linnell House, his eyes scanning the meticulously landscaped area that was more mud than green. The anorexic shrubs and wild crabgrass did little to enhance the charm of the red brick building he called home. A path muddied from frequent travel stretched northward.\\n\\nAs he walked, a figure in a long trench coat stumbled out from behind a bush, tripping over a tree root and, in his flailing for balance, accidentally jabbed him with a hypodermic needle. \"Oops. Sorry, pal!\" the stranger giggled before dashing off, leaving him slightly dazed and confused.\\n\\nContinuing on, he approached the Dining Commons, a white stone building marked ominously with a large \"biohazard\" sign. The path led him to the Dining Commons Entrance, where the smell of garbage was nearly overpowering. Inside, a line lady sat on her stool, popping her gum with annoying proficiency.\\n\\nAs he attempted to pass, the line lady jumped up. \"NOT SO FAST, BUD.\" Her voice was sharp, and her smile cruel as she demanded to see some ID. Reluctantly, he showed his ID, and with a gruff mutter of \"Go ahead, brat,\" she allowed him entry.\\n\\nInside the Dining Commons Atrium, the atmosphere was chaotic with the clamor of students and the unappealing offerings that were being served. He joined the line, eventually grabbing a tray of what could only loosely be called food.\\n\\nAttempting to eat, he quickly realized the meat was dodging his fork, a testament to its inedibility. His stomach protested loudly, but before he could think of a solution, he felt slightly drugged, a lingering effect of the earlier accidental jab.\\n\\nHe moved to the No Smoking Section, hoping for a quieter place to sit. The decor was as uninspiring as the food, with cheap formica tables and uncomfortable chairs. His hunger was becoming unbearable.\\n\\nDeciding to explore further, he entered the Dish Room where he found his friend Milton, looking distinctly hungover. After a brief exchange and an unsuccessful attempt to provide Milton with a suitable smoke, he left Milton and ventured into the Smoking Section.\\n\\nThe smell of stale smoke did nothing for his nausea, but he managed to light and smoke a roach, which calmed his nerves but did little for his hunger. In a state of induced munchies, he forced down the repulsive cafeteria food, his desperation evident.\\n\\nWith his hunger momentarily at bay, he dropped his tray and, feeling a bit rebellious, lit a joint. The sweet smell momentarily distracted him from the dreariness of his surroundings.\\n\\nWith Milton\\'s suggestion, they snuck into the Kitchen, where he was disguised in a DC employee\\'s apron and visor to blend in. There, the overwhelming smell of what was being cooked could barely qualify as food.\\n\\nIntrigued by what else he might find, he ventured into the nearby Closet, discovering a stash of sugared cereal and a hidden pentacle on a silver chain among the spilled contents of a cereal box.\\n\\nClimbing the ladder in the closet led him to the Roof, where the view of the campus was less than impressive. Finding a bong, he pocketed it before jumping down back into the closet, the thrill of his little adventure beginning to wear off.\\n\\nReturning to the Kitchen, he shed his disguise and revisited the Dish Room to drop off the apron and visor. He then moved back to the Smoking Section, grabbed a lighter and a food tray, and decided it was time to leave the Dining Commons behind.\\n\\nEmerging outside, the fresh air was a welcome relief after the stifling atmosphere of the Dining Commons. He walked along the Path, the offensive squelching of his steps a stark reminder of the day\\'s strange and unsettling events. Each step took him further from the chaos behind, his thoughts already turning to what the next day might bring.',\n",
       "    ['kitchen',\n",
       "     'roof',\n",
       "     'smoking section',\n",
       "     'dining commons entrance',\n",
       "     'outside linnell house',\n",
       "     'dish room',\n",
       "     'path',\n",
       "     'no smoking section',\n",
       "     'closet',\n",
       "     'outside dining commons',\n",
       "     'dining commons atrium'],\n",
       "    ['path', 'outside dining commons', 'outside linnell house']],\n",
       "   ['Descending into the stifling confines of the engine room aboard the Night Wind, the stench of diesel and the heat from the engines made it difficult to breathe. The space was tiny, a cramped chamber at the very heart of the vessel, where the vital organs of the ship throbbed and hummed incessantly.\\n\\nAfter a brief inspection, he ascended the ladder, emerging into the crew\\'s lounge. The lounge was a modest space, barely accommodating a table and a few chairs. It served as a junction between the captain\\'s cabin aft and the galley forward.\\n\\nMaking his way into the captain\\'s cabin, he found a stark contrast in comfort. The cabin boasted a large, inviting bunk and an air of private luxury that the rest of the ship seemed to lack. In the cabin, Johnny Red, the ship\\'s formidable yet charismatic captain, was present, adding a sense of authority to the room.\\n\\nReturning to the lounge, he then proceeded forward into the galley. The aroma of a simmering stew wafted through the air, a humble but welcoming scent. Pete the Rat, a crew member with a knack for cooking even in the roughest seas, stood watch over his stew, ensuring it didn\\'t spill over as the ship rocked.\\n\\nContinuing his exploration, he descended into the crew\\'s quarters below deck. The quarters were cramped, lined with narrow, uncomfortable bunks reminiscent of sardine cans. It was a functional space, designed solely for the necessity of sleep rather than comfort. The Weasel, another crew member known for his sly demeanor, was there, idly picking his teeth with a menacing-looking knife.\\n\\nA curious peek beneath one of the bunks revealed a hidden envelope tucked under the mattress, an unexpected find that hinted at secrets or perhaps private communications among the crew.\\n\\nHe moved on to the storage locker, a nearly empty space that bore the marks of recent cleaning. Scattered around were spare parts for the engine and other miscellaneous equipment, alongside a small air compressor, the remnants of the ship\\'s last trawling expedition.\\n\\nReturning to the crew\\'s quarters, he was greeted once again by the sight of The Weasel, still engaged in his peculiar grooming ritual with his knife. Suddenly, Johnny Red approached from behind, his voice firm yet calm, \"We\\'ll be leaving shortly. Get some sleep.\" With that, both Johnny Red and The Weasel headed aft, leaving him to ponder the next steps.\\n\\nRising from the depths of the ship, he emerged onto the fore deck. The open ocean stretched out before him, visible over the railing that enclosed the deck. A solitary chair bolted to the deck offered a place to sit and watch the waves, or perhaps to contemplate the journey ahead. The wheelhouse loomed aft, a constant reminder of the course that lay before them, guided by unseen hands from within.',\n",
       "    ['engine room',\n",
       "     \"captain's cabin\",\n",
       "     'lounge',\n",
       "     'galley',\n",
       "     'fore deck',\n",
       "     \"crew's quarters\",\n",
       "     'storage locker'],\n",
       "    ['fore deck', \"crew's quarters\", 'galley']],\n",
       "   [\"In the dimly lit kitchen, a note hastily scribbled fluttered slightly as it was pinned to the refrigerator. Beside it, a cat bowl lay on the floor, untouched and gathering dust. The clock ticked menacingly, marking the late hour.\\n\\nMoving from the kitchen to the dining room, the atmosphere changed subtly; the window here was firmly shut, as if to keep the secrets of the night at bay. Time seemed to creep by, each minute stretching longer than the last.\\n\\nThe journey continued into the centre hallway, a space that connected various parts of the house like arteries. A quick exploration revealed a can opener, a can, and a pair of scissors lying haphazardly in the hallway. The south door stood closed, an unyielding barrier to the secrets it guarded.\\n\\nLooping back through the centre hallway, the foyer was reached, where the front door also remained closed, reflecting the isolation within. Climbing the stairs to the top, then descending back to the bottom, the basement corridor was ventured into next. A handwritten note clung to the south door, its message obscured in the gloom.\\n\\nWithin the basement corridor, an office chair sat idly by, offering a silent invitation to rest, but the office beckoned instead. In the office, a waste paper basket was the sole occupant, its presence unremarkable and yet somehow poignant. A search of the computer yielded nothing unusual, the digital secrets well-guarded.\\n\\nReturning to the basement corridor, the office chair was claimed and carried along to the storage room. This room was a chaos of clutter, with an opening in the ceiling suggesting escape or perhaps further entrapment. Among the piles, a magazine lay forgotten. Attempting to climb through the ceiling opening proved futile; the burden of possessions too great.\\n\\nAfter shedding the weight of a portable DAT player and a flashlight onto the office chair, the narrow tunnel, west was accessed through the opening. It was part of an air conditioning system, cramped and dusty. Crawling through to the narrow tunnel, centre, and then to the narrow tunnel, east, a sense of claustrophobia began to set in. The east end of the tunnel suggested a descent into a room below, but the darkness was too intimidating.\\n\\nRetreating through the tunnel to the storage room, the flashlight and DAT player were retrieved from the office chair. Standing in the storage room once more, the myriad of objects seemed to mock with their silent judgment.\\n\\nVenturing back to the basement corridor and then to the bottom of the stairs, a climb to the top of the stairs was made once more, leading back into the foyer. Here, the south door was finally opened, revealing the children's bedroom beyond.\\n\\nThe children's bedroom was a stark contrast to the rest of the house. Furnished simply yet tastefully, it held the innocence of childhood within its walls. Toys were scattered about, and two beds occupied the space, each holding a child: Paul on one, Christopher on the other. In the corner, a cheap-looking amplifier sat atop a CD player, silent and waiting.\\n\\nAs the clock ticked on, the house seemed to breathe a sigh, the night's adventures folding into the shadows of the ordinary world once more.\",\n",
       "    ['kitchen',\n",
       "     'narrow tunnel, west',\n",
       "     'foyer',\n",
       "     'centre hallway',\n",
       "     'dining room',\n",
       "     'narrow tunnel, centre',\n",
       "     'bottom of stairs',\n",
       "     'top of stairs',\n",
       "     'office',\n",
       "     \"children's bedroom\",\n",
       "     'basement corridor',\n",
       "     'narrow tunnel, east',\n",
       "     'storage room',\n",
       "     'hallway'],\n",
       "    ['centre hallway', 'foyer', \"children's bedroom\"]],\n",
       "   ['In the Marble Hall, an arched expanse of fine marble, the adventurer paused. The hall terminated abruptly to the north at a ford across a stream, where the marble showed signs of cracking and disrepair, likely due to a flood or a collapse. To the south, the hall opened into a large room from which an annoying whirring sound emanated. A square brick, feeling oddly like clay, lay at the adventurer\\'s feet.\\n\\nAs time passed in waiting, a princess, seemingly surprised to encounter another soul, entered from the north. Without a word, she pressed a loose piece of marble on the wall, and with a quiet grinding noise, a large section of the wall slid away, revealing a hidden passage to the east which she quickly entered.\\n\\nThe adventurer followed the path, now at the Path Near Stream. The path skirted the south edge of a deep ravine and headed northeast. A ruined archway choked with vegetation marked the east, while a tunnel narrowed to the southwest, the source of the faint whirring sound. The disheveled princess moved eastward through the archway, casting a glance back as she disappeared from view.\\n\\nContinuing onward, the adventurer arrived at the Formal Garden. The middle part of the garden was hidden by hedges against the cavern walls, dimly lit by mosses high above. The path, made of small crushed white stones, wound through bushes and flower beds. To the north, a small structure peeked through the foliage, and to the south, bushes were sculpted into peculiar shapes. The princess, still slightly unkempt, was also here, moving with a quiet grace.\\n\\nAt the North End of the Garden, the adventurer found themselves in a space where the hedges continued to mask the cavern walls, creating the illusion of a cloudy day outside. A gazebo stood in the center, surrounded by a rosebed. The princess entered from the south, her expression one of surprise at yet another encounter.\\n\\nTogether, they stepped into the gazebo. It was a cool and restful place, with a tea table at its center. Time seemed to slow as they waited in the peaceful enclosure.\\n\\nMoments passed, and then, shyly, a unicorn peeked out from the hedges. It approached the princess, bowed its head in a respectful curtsy, and revealed a red satin ribbon around its neck, from which dangled a delicate gold key. The princess used the ribbon to tie her hair, then handed the key and a fresh rose to the adventurer, thanking them for rescuing her from a dire fate. With a graceful leap, she mounted the unicorn side-saddle and disappeared into the gloom.\\n\\nLeaving the gazebo, the adventurer retraced their steps through the Formal Garden and then ventured into the Topiary. The southern end of the garden was lined with fantastically shaped hedges and bushes - dragons, unicorns, serpents, and misshapen dogs, all crafted from greenery under the dim light of the mosses.\\n\\nTheir exploration continued to the Carousel Room, a large circular chamber disorienting in its symmetry with eight identical passages and a loud, pervasive whirring noise filling the air.\\n\\nHaving lost their sense of direction in the Carousel Room, the adventurer stumbled upon the Menhir Room. This space, once a quarry, was littered with large limestone chunks. One side of the room was dedicated to quarrying building blocks, the other to producing menhirs. A particularly large menhir, carved with the ornate letter \"F,\" blocked a dark opening leading southwest.\\n\\nYet the whirring noise beckoned, and the adventurer found themselves back in the Carousel Room, disoriented once more. Their journey continued back and forth between the Menhir Room and the Carousel Room, the constant disorientation clouding their sense of progress.\\n\\nEventually, they ventured into the Cool Room, where the air was misty and damp, a chill emanating from a narrow westerly tunnel.\\n\\nReturning once more to the Carousel Room and then finding themselves in the Riddle Room, the adventurer faced a great closed stone door with a riddle inscribed above: \"What is tall as a house, round as a cup, and all the king\\'s horses can\\'t draw it up?\" Upon answering \"a well,\" a deafening clap of thunder resounded, and the stone door swung open, revealing a new passage.\\n\\nWith the key in hand, a token from a princess and a unicorn, the adventurer stepped through, ready for whatever mysteries lay beyond.',\n",
       "    ['menhir',\n",
       "     'riddle',\n",
       "     'carousel',\n",
       "     'formal garden',\n",
       "     'cool',\n",
       "     'topiary',\n",
       "     'path near stream',\n",
       "     'north end of garden',\n",
       "     'gazebo',\n",
       "     'marble hall'],\n",
       "    ['carousel', 'marble hall', 'path near stream']],\n",
       "   [\"In the heart of the forest, a determined push against an old tree sent it crashing down, tearing through a section of barbed wire fence with a loud, grating noise. Beyond this impromptu path lay the overgrown dirt road, flanked by dense woods to the east and west. The road meandered north toward a low hill, where a dilapidated guard hut stood quietly, a silent witness to the passage of time.\\n\\nApproaching the hut, the old door creaked open to reveal the Inside Hut, a cramped space that could shelter no more than two from the harsh elements outside. A discarded flashlight lay forgotten on the dusty floor. It was with a quick motion that the flashlight was scooped up and stowed away for future use.\\n\\nExiting the hut, the journey continued along the dirt road until the landscape opened up into the Escarpment. Here, the road split, running east and west around the hill and southward, back the way it had come. Choosing a path less traveled, the journey led southeast, around the base of the rocky hillside to a spot Southeast of Escarpment. The path here stretched west and northeast, hugging the contours of the land.\\n\\nFurther exploration brought a move to the Eastern Hillside, where the remnants of a dark tunnel burrowed into the hillside were visible. Despite apparent attempts at demolition, a climbable pile of debris blocked the way. The road here curved out of sight around the hillside to the southwest, promising more undiscovered paths.\\n\\nClimbing the debris at the Top of Debris Pile, the top of the pile offered a precarious view into the darkness of the tunnel and a safer descent back to the dirt path. A misstep, however, sent tumbling down through the pitch-black tunnel, landing in a surprisingly soft pile of leaves in the Darkness of the tunnel's Eastern End. A flick of the flashlight switch pierced the darkness, illuminating the blocked eastern end of the demolished tunnel and the leaves that had cushioned the fall.\\n\\nPicking up the leaves for closer examination, the journey continued deeper into the tunnel network, arriving at the Tunnel Junction. Here, tunnels extended in three directions, promising further mysteries to uncover. Choosing a path led to the Staff Room, a small area with exits to the north and south, and a door leading east to an office.\\n\\nThe next stop was the Bathroom, a dank and uninviting place with a gunk-filled toilet. Reluctantly removing the gunk revealed nothing but a paperclip-a small but potentially useful find. Back in the Staff Room, the paperclip proved its worth by unlocking the office door.\\n\\nInside the Office, the environment changed to one of quiet order. A safe sat heavily in one corner, and a wooden desk, its drawers closed, hinted at secrets yet to be revealed. The unlocked door swung open with a gentle push, leading back into the ongoing mystery of the underground network.\",\n",
       "    ['dirt road',\n",
       "     'inside hut',\n",
       "     'darkness',\n",
       "     'escarpment',\n",
       "     'forest',\n",
       "     'office',\n",
       "     'eastern end of tunnel',\n",
       "     'top of debris pile',\n",
       "     'staff room',\n",
       "     'bathroom',\n",
       "     'tunnel junction',\n",
       "     'eastern hillside',\n",
       "     'southeast of escarpment'],\n",
       "    ['tunnel junction', 'staff room', 'office']],\n",
       "   [\"He rose from his slumber, his muscles groaning in protest as he hoisted himself over the stern rail of the Helena Louise and collapsed breathlessly onto the deck. From his vantage point on the Poop Deck, he surveyed the entirety of the shadowy, two-masted ship. Silhouettes flitted about, their whispers barely audible over the gentle lapping of the waves. The deck was enclosed by a protective railing that only allowed passage forward, past the stern where a rope ladder hung loosely.\\n\\nThe reefs, menacing in the moonlight, seemed to have grown since he last looked.\\n\\nMoving silently across the wooden planks, he advanced to the Quarterdeck. The moon cast enough light to eliminate the need for torches, except where shadows were thrown by the massive navigation wheel. Men murmured near the fore, their voices low and cautious. A barred door lay hidden under the stairs leading back to the Poop Deck. Nearby, a large pyramid of casks was secured with a heavy rope, while cannons stood ready, aimed at the open sea and the distant island.\\n\\nThe Main Deck was alive with a deceptive calm; pirates hummed soft shanties as they busied themselves with cannon repairs, rope twisting, and dagger sharpening. The mainmast threw a vast shadow over the hatch, shielded by canvas, beneath which a complex web of rigging dangled ominously. Two large barrels stood sentinel near the stairs to the foredeck.\\n\\nCurious, he examined the barrels, distinguishing the contents by their distinct aromas-one of rum, the other of water, stained darkly at the mouth where many a pirate had drunk.\\n\\nHe soaked a rag with water from one of the barrels, then approached the hatch. With a cautious glance around, he tugged a corner of the canvas free and descended the steep stairs into the murky darkness of the Hold. A tiny glow flickered menacingly from a cage full of ammunition-an unattended fire threatened disaster.\\n\\nWith no time to spare, he hurled the wet rag towards the fire. It sailed over the gate and smothered the flames with a sputtering sigh. The immediate danger averted, he clambered up through the hatch back to the Main Deck.\\n\\nHe continued his journey to the Forecastle. From this elevated position, he had a commanding view of the island, though the crow's nest high above offered an even better vantage. The deck bore signs of heavy use, with a grated air hole leading to the crew's quarters below and a small, greasy shack behind the mast. The mooring winch caught his eye, an old barrel mounted on a pole with a lever inscribed with faint letters.\\n\\nSquinting towards the sea, he noticed a flicker of light-a man swimming toward shore, the moonlight glinting off his hook. A breeze carried the mixed scents of onions and rum, and the distant sound of a mischievous chuckle.\\n\\nHe raised the lever on the winch, releasing the anchor into the sea with a heavy splash. The ship lurched slightly against the current, and he quickly lowered the lever to halt the spooling chain.\\n\\nEntering the Galley, he was greeted by the stale smell of old stew and yeast. A dagger was embedded in the floorboards, and a bald man, carving into his peg leg, eyed him suspiciously before offering a wink and a casual greeting. He referred to him as Sam and hinted at protecting the Captain's interests while aboard.\\n\\nHe retrieved the dagger from the floor, feeling the ship drift slightly as the tide turned, and made his way back to the Forecastle.\\n\\nContinuing his rounds, he returned to the Main Deck and then to the Quarterdeck. He slid into a large cask to hide, feeling something solid beneath him and noticing the frayed line that tethered the casks together.\\n\\nFrom within the cask, he listened to the sounds of the ship, the crew unaware of the dangers he had just thwarted.\",\n",
       "    ['hold',\n",
       "     'main deck',\n",
       "     'cask',\n",
       "     'galley',\n",
       "     'poop',\n",
       "     'quarterdeck',\n",
       "     'forecastle'],\n",
       "    ['poop', 'quarterdeck', 'cask']],\n",
       "   ['As the adventurer moved along the trail that twisted around the Lonely Mountain, it bent out of sight to the southeast and southwest. The elevation here was higher than to the south, providing a majestic view of the mountain\\'s peak, veiled in a perpetual shroud of clouds. Unfortunately, no visible path from this vantage point led up the mountain.\\n\\nContinuing the journey, the adventurer arrived at the trail head on the northeast side of the Lonely Mountain. The narrow path snaked through rolling hills. To one side, a sign stood firmly, with a winding path disappearing into the thick undergrowth to the northeast. The trail itself stretched onward to the southeast.\\n\\nThe trail eventually concluded at Shady Brook, marked by the remnants of a ruined stone foundation-the Old Lingolf House. A small brook meandered lazily by, its gentle flow a contrast to the stillness of the abandoned site. The sun had just climbed above the hills, spilling light over the landscape.\\n\\nFeeling the weight of the journey, the adventurer filled a jug with water from the brook, quenching both thirst and preparing for the road ahead.\\n\\nReturning to the trail head, the path was as familiar as it was unwelcoming, flanked by the same rolling hills and the sign that pointed toward the thick undergrowth. The adventurer pressed on, reaching the Eastern Fork where multiple paths diverged around the base of the Lonely Mountain and a smaller path led eastward.\\n\\nThe road soon led into a small village on the outskirts, with the Lonely Mountain towering ominously in the background. The village path split to the northeast, but no path seemed to climb the mountain directly.\\n\\nEntering the deserted village revealed echoes of the past. This was once a bustling place where peasants, merchants, and artisans thrived. Now, it was silent except for the smoke rising from a decrepit hovel to the south. The path through the village led from southwest to northeast, and a less-trodden trail headed north up the mountain.\\n\\nInside the hovel, the air was thick with smoke and the stench of chaos. A pile of rags moved near a bubbling pot, revealing a gnarled hand stirring the contents. The rags belonged to a withered crone who eyed the adventurer with a piercing gaze. \"I should have thought they would send someone more... more...\" She cackled unsettlingly, revealing that everyone had fled from an impending storm in the east. \"Take this and begone!\" With a mystical gesture, she thrust a scroll into the adventurer\\'s hands before pushing them out the door.\\n\\nBack in the open air, the adventurer unfurled the scroll, which revealed the \"rezrov spell\" capable of opening even locked or enchanted objects. With a sense of urgency, the spell was transcribed into the adventurer\\'s spell book, which glowed with an ethereal light as the words were etched permanently into its pages. The scroll itself vanished in a whisper of magic as the last word was copied.\\n\\nThe journey resumed, leading back through the village outskirts and on to the Eastern Fork. The paths here were familiar, yet held new promise with the power of the newly acquired spell. The adventurer then ventured onto the Western Road, which wended its way through dark, rolling hills. To the west, a high mountain loomed; to the east, a dark castle with towering spires awaited.',\n",
       "    ['western road',\n",
       "     'trail',\n",
       "     'shady brook',\n",
       "     'village outskirts',\n",
       "     'trail head',\n",
       "     'eastern fork',\n",
       "     'deserted village'],\n",
       "    ['trail head', 'eastern fork', 'western road']],\n",
       "   [\"With a sense of purpose, they grasped the limb from the ground, the weight of it solid and reassuring in their hands. The storm above raged ferociously as they ventured towards the west side of the church. The untamed grasses whispered secrets in the wind, and a muddy trail beckoned them further into the tempest, winding its way towards the graveyard. Lightning split the sky, an electric dance that was mirrored by the thunder's roar.\\n\\nDriven by an unknown force, they moved on, reaching the front of the church. Two ancient oaks stood guard, their gnarled branches framing the church's weather-beaten facade. The storm seemed intent on cleansing the building, its fervor a match for the darkness clinging to the aged stones. A growl pierced the air, pulling their attention to a formidable guard dog, its eyes alight with a primal warning.\\n\\nThe confrontation was brief and fierce; in a moment of desperation, they struck at the dog, which retaliated with a furious charge. Heart pounding, they fled back to the west side of the church, the snarling beast hot on their heels.\\n\\nTheir flight took them around to the north side of the church, where the wild overgrowth clawed at the stone walls, as if trying to reclaim the holy site for the earth itself. But there was no respite; the dog continued its relentless pursuit.\\n\\nThey dashed to the east side of the church, where the remnants of a once-busy parking lot lay forgotten beneath a carpet of weeds and debris. Still, the dog chased, its barks echoing in the stormy air.\\n\\nCircling back to the front of the church, a stroke of fortune-or perhaps fate-intervened. The dog, in its furious chase, became entangled by its chain, wrapped around the church's solid structure. It barked in frustration as they made their escape to the church porch.\\n\\nOn the porch, they tore a loose section of railing free, a makeshift tool in their uncertain quest. With the railing in hand, they entered the vestibule, the church's once-grand entry now marred by neglect and decay. The hail rattled above, a harsh reminder of the storm outside.\\n\\nThey pushed on into the sanctuary, a hollow shell of its former glory. The pews lay in disarray, and a portrait of Christ watched mournfully from above the archway. They moved to the pulpit, feeling the weight of the empty eyes of the church upon them. Here, a book caught their attention, its passages on souls and windows a grim echo of their own thoughts.\\n\\nWith the book secured, they ventured into a small office, where the past whispered through the debris and a journal awaited on the desk. As they uncovered the journal's last secrets with ashes from a past fire, they learned of regret and innocence lost.\\n\\nA hidden bookshelf revealed its secret-a grimoire wrapped in red, its pages filled with dark rituals concerning the soul. Taking the embroidered robe hanging beside the door, they returned to the pulpit, the church now resonating with the echoes of the storm outside.\\n\\nTheir journey led them back through the sanctuary and into the vestibule, where they used the railing to access the steeple chamber above. Climbing the makeshift ladder, they entered a realm of rain and shadow, where the elements invaded freely and the secrets of the steeple lay exposed.\\n\\nIn that high, hidden place, they pondered the revelations of the grimoire and the journal, the weight of their discoveries as heavy as the storm that continued to rage around the old church.\",\n",
       "    ['pulpit',\n",
       "     'steeple chamber',\n",
       "     'north side of church',\n",
       "     'sanctuary',\n",
       "     'vestibule',\n",
       "     'church porch',\n",
       "     'graveyard',\n",
       "     'small office',\n",
       "     'west side of church',\n",
       "     'east side of church',\n",
       "     'front of church'],\n",
       "    ['west side of church', 'front of church', 'church porch']],\n",
       "   [\"Leaping onto the roof of the cottage with a soft thud, she found herself on the thatched surface, trying not to peer down into the abyss below. A chimney with a TV aerial attached interrupted the quaint, picture-perfect scene. Just above the roofline, the top of a giant beanstalk peeked through, adding a touch of whimsy to the view.\\n\\nWith a burst of daring, she slid down the chimney, landing with a satisfying whoosh in the kitchen below. The room was straight out of a storybook, with its cozy ambiance and lack of modern conveniences. A large dining table dominated the center, surrounded by a dresser and an enormous brick fireplace that seemed almost too big for the room. On the table, three bowls of porridge rested, each a different size and temperature, alongside a lone spoon.\\n\\nChoosing to explore further, she ventured into the pantry. The smell of cinnamon and honey mingled with the less pleasant scent of mouse droppings. Boxes of McScottie's porridge oats filled the sturdy shelves, and a mousetrap lay in the corner under the shelves, a dead mouse and a wedge of cheese still inside it. After a moment of contemplation, she retrieved the cheese from the mousetrap, then opened the upright freezer to discover a packet of frozen pork chops, which she also took.\\n\\nBack in the kitchen, she paused only a moment before moving on to the hall. The walls were covered in a macabre display of hunting trophies, from tiny shrews to an ominous collection that included what appeared to be human heads. A full-length portrait of the bear family hung on one wall, and a staircase led upwards.\\n\\nThe doorbell rang suddenly, followed by a booming voice demanding entry in a threatening tone. Cautiously, she opened the door to find the wolf from the path barging in, his eyes wild as he mistook her for one of the Three Little Pigs he was evidently hunting. After a brief and bizarre conversation where the wolf expressed his distaste for human flesh and his craving for the pigs, he wandered off upstairs.\\n\\nFollowing him, she found herself in the bedroom, where the Big Bad Wolf was trying to appear menacing. The room featured three beds of varying sizes and was oddly arranged under the sloping attic walls. Sleeping Beauty herself was there, slumbering peacefully on the smallest bed.\\n\\nIn an attempt to appease the wolf's hunger, she offered him the pork chops, only to be met with dramatic disdain; the wolf declared he could not possibly consume them unless they were cooked to medium rare.\\n\\nAs the wolf announced his departure to continue his search for the pigs, she descended back to the hall, the chill of the open front door brushing against her skin. She decided not to linger and moved into the sitting room.\\n\\nThe sitting room was an explosion of chintz and clutter, with three chairs sized for each bear around a small coffee table that held a copy of 'Hail!' magazine. The decor was overwhelmingly kitsch, every surface adorned with some trinket or another, making the room feel like a cave of treasures that only a bear could love.\",\n",
       "    ['pantry', 'kitchen', 'roof', 'bedroom', 'sitting room', 'hall'],\n",
       "    ['sitting room', 'hall', 'kitchen']]]},\n",
       " 'task4': {'from_marker': 'the place of the first encounter of nugget',\n",
       "  'to_marker': 'the place of the first encounter of silver',\n",
       "  'target': [['low room',\n",
       "    'hall of mists',\n",
       "    'hall of mountain king',\n",
       "    'low n/s passage']],\n",
       "  'few_shots': [['As they moved through the plain corridor, the beige walls and fluorescent lights reminded them of a university building. Yellow and white signs pointed in opposite directions, marking the year \"BiCon 2010.\"\\n\\nEntering the reception, they found themselves amidst a bustling hub of activity. Volunteers, looking slightly frantic yet smiling, manned a desk cluttered with paperwork and empty mugs. A lost property box sat forlornly on one end. Across from the desk, a small table hosted newcomers crafting their name badges, while a large notice board displayed the latest updates and changes to the timetable.\\n\\nCurious, they examined the desk, noting the lost property box and the absence of any tea in the mugs. The paperwork didn\\'t offer anything interesting, just mundane forms and lists. However, a peek into the box revealed a surprising find-a couple of cherries.\\n\\nThe volunteers welcomed them warmly to BiCon, explaining that it was an annual event and this year hosted the International Bisexual Conference. They learned from the name badge table that a star sticker indicated a biker, a fact that amused them.\\n\\nThey moved on to the corridor heading east, marked by doors leading to rooms named \"Canada\" and \"Denmark.\" Choosing \"Denmark,\" they entered a room where a Fun & Games workshop had just concluded. Players milled about, among them Phoenix, who sparkled with an infectious energy. Striking up a conversation about bicycles, they found a shared interest. Phoenix revealed this was their second BiCon, and they chatted amiably about various topics, including a personal crisis involving a friend needing a place to stay. They offered their flat to Phoenix, which led to a deep exchange of life stories and confidences.\\n\\nReturning to reception, they found the volunteers still busy, and some friends suggested ordering pizza. However, after realizing they lacked the number, they attempted to retrieve it from the noticeboard, only to face a mishap of the menus being taken and then needing to be returned under the volunteers\\' instructions.\\n\\nSubsequently, they stepped out onto the lawn, where people practiced juggling and belly dancing next to a bouncy castle. Conversations about the morning\\'s workshops and the upcoming ball buzzed in the air. Despite trying to coordinate pizza ordering, the plan floundered as their friends were distracted by various entertainments and discussions.\\n\\nBack in reception, amid the ongoing hustle, they accidentally captivated everyone\\'s attention with a shiny object they found and dropped. Deciding to leave the shiny distraction behind, they moved again through the corridors and back into the reception, where they finally managed to get the takeaway menus and tried calling for pizza, albeit unsuccessfully.\\n\\nThe evening drew them to the ballroom, where decorations were being hung, and a DJ tested sound equipment. Their friends flirted and laughed, the atmosphere light and expectant for the night\\'s festivities. Despite the earlier chaos, the promise of a good night at BiCon lifted everyone\\'s spirits, ready to dance and celebrate together.',\n",
       "    ['plain corridor',\n",
       "     'denmark',\n",
       "     'corridor (east)',\n",
       "     'lawn',\n",
       "     'reception',\n",
       "     'ballroom'],\n",
       "    ['the place where shiny was left',\n",
       "     'the place of the first encounter of phoenix'],\n",
       "    ['reception', 'corridor (east)', 'denmark']],\n",
       "   [\"In the heart of the Dwarven City of Deephome, nestled at the Eastern Guard Post, the air was heavy with the scent of polished iron and wood. This fortified sanctuary was designed like an hourglass, walls tapering in the center where two heavy iron-banded doors stood vigilant. Weapons racks adorned the room, crossbows hanging prominently among the assortment. Beyond, defensive low walls skirted the perimeter, poised for any threat that might venture through the city gates to the southeast.\\n\\nMoving westward, the roads diverged at the Intersection. Main Street stretched north and south, while the Royal Road beckoned westward. Signs and symbols marked the significance of each path, the eastern guard post standing sentinel with its own placard.\\n\\nAlong the East Royal Road, high walls lined the path, interrupted by gates leading to the estates of lesser nobles. The way was clear, the road extending from the bustling intersection toward the grandeur of the castle to the west.\\n\\nTransitioning onto the West Royal Road, the journey became a visual feast. Fluorescent mosses clung to the mineral-rich stones, their glow a stark contrast against the shadowed high walls. The path mimicked a grand hall, gates intermittently breaking the stone's monotony, leading to the palatial domains of the nobility.\\n\\nThe Outer Court of the Lord's Palace was an expanse surrounded by high walls. A long pathway paved the route from the eastern gates to the Throne Room to the west. Here, the courtyard was left accessible, a passage for those like the Dwarven Reclaimer, who had business with the throne.\\n\\nThe Throne Room itself was a stark contrast to the expected opulence. It was quaint, almost understated, with a large tapestry hanging behind the throne and a red carpet leading to the grand eastern doorway. Here, a Luminous Spirit awaited, her presence ethereal and light. Upon opening a net, a squirrel scurried out, darting under the throne. The spirit, smiling gratefully, merged into the squirrel in a wisp of smoke and scampered away, leaving behind a sense of peace and a mysterious increase in stature, as if the very air acknowledged a deed well done.\\n\\nRetracing steps back through the Outer Court and along the West Royal Road, the journey continued eastward, past the gates and high walls, back to the intersection of Main Street and the Royal Road.\\n\\nSouth Main Street was quieter, dedicated to intellectual and spiritual pursuits with the Library to the east and the Great Temple to the west. The road continued its stretch north and south, a pathway of knowledge and reverence.\\n\\nFurther north on North Main Street, the remnants of a bustling trade center were evident. Shops and merchant booths lined the street, offering a variety of goods. A clothier, a bakery, and a scrivener's office marked the intersections of commerce and craft. The Main Hall loomed to the north, a reminder of the street's vibrant past.\\n\\nEntering the Scrivener's, the room was stark, furnished only with desks and chairs for those crafting documents for the illiterate. A search through the desks revealed a stash of papers, one of which was promptly taken.\\n\\nOutside the Scrivener's and into the Bakery next, the smell of stale flour mingled with the warmth of long-cooled ovens. Great stone structures lined the back wall, their purpose long fulfilled. An old water pipe still functioned, filling a cistern that once quenched the bakers' thirst and mixed their doughs. Amidst the decay, an empty bottle caught the eye, its presence a small but curious find in the abandoned space.\",\n",
       "    ['s. main street',\n",
       "     'throne room',\n",
       "     'east royal road',\n",
       "     'eastern guard post',\n",
       "     'intersection',\n",
       "     'outer court',\n",
       "     'west royal road',\n",
       "     'n. main street',\n",
       "     \"scrivener's\",\n",
       "     'bakery'],\n",
       "    ['the place of the first encounter of paper',\n",
       "     'the place of the first encounter of crossbows'],\n",
       "    [\"scrivener's\",\n",
       "     'n. main street',\n",
       "     's. main street',\n",
       "     'intersection',\n",
       "     'eastern guard post']],\n",
       "   ['She moved into the junction, where a gap between the crowded, gloomy buildings revealed a country lane stretching northward over a grassy heath. The main street continued east, and to the northwest, over a steep rise, the vaulted rooftops of the university were just visible.\\n\\nContinuing her journey, she ventured along the Narrow Street. Here, the lane twisted from east to west, the buildings so close their jagged rooftops nearly touched. To the south, a side street led across Whateley Bridge to the town\\'s center, while a twisting lane climbed a hill to the northwest. A short flight of steps to the north descended to the local watering hole.\\n\\nShe entered the Local Pub, a dank, drafty place lit by flickering oil lanterns. Smoke hung heavy among the rafters, and shadows lurked in every corner. Mill workers and fishermen sat at tables, wrapped in their own worlds of dreary fatalism. Noticing a lantern sputtering on a nearby table, she casually pocketed it, confident no one would mind.\\n\\nAs she headed for the door, her foot struck something under a table. Crouching down, she discovered a forgotten flask, tucked into a shadowy corner. The label was faded, barely readable, but the words \"bootleg\" and \"rotgut\" stood out. She slipped it into her pocket and left.\\n\\nBack on Narrow Street, she retraced her steps and then took the twisting lane upwards. The path was steep, the cobblestones slick with moss. At the top, her way was blocked by a brick wall covered in graffiti. A strange symbol-an upturned hand with a triangle in the palm-and an arrow pointing west caught her attention. Following the arrow\\'s direction, she discovered a hidden sidestreet.\\n\\nThis led her to Hidden Court, a peaceful enclave surrounded by steep rooftops. Despite the oppressive gloom of the town, this small courtyard felt like a bright, safe harbor. A humble shop was marked by a hanging sign to the south, while the east led back into the urban labyrinth.\\n\\nCuriosity piqued, she entered the shop named The Cauldron. Inside, the atmosphere was warmly lit, the shelves laden with an array of new age curiosities. The shopkeeper, standing behind a display case, watched her as she entered. She asked about an amulet in the case, which the proprietor described as a charm against evil. Without waiting for her consent, he placed the amulet around her neck, insisting it would be useful.\\n\\nShe offered a puzzle box to the proprietor, who deftly opened it, revealing its secret. Pleased, he suggested she keep it as a gift. With the puzzle box now in her possession, she left the shop, the shopkeeper\\'s farewell echoing behind her.\\n\\nExiting Hidden Court, she returned down Twisting Lane to Narrow Street, then crossed Whateley Bridge. The ancient bridge, made of moss-eaten flagstones, spanned the dark waters of the Miskaton River, connecting the north and south parts of the city. As she crossed, she pondered the unexpected turns her day had taken, each step revealing deeper layers of the mysterious town.',\n",
       "    ['narrow street',\n",
       "     'twisting lane',\n",
       "     'cauldron',\n",
       "     'hidden court',\n",
       "     'whateley bridge',\n",
       "     'junction',\n",
       "     'local pub'],\n",
       "    ['the place of the first encounter of flask',\n",
       "     'the place of the first encounter of puzzle box'],\n",
       "    ['local pub',\n",
       "     'narrow street',\n",
       "     'twisting lane',\n",
       "     'hidden court',\n",
       "     'cauldron']],\n",
       "   ['He stepped out of the elevator and made his way outside Linnell House, his eyes scanning the meticulously landscaped area that was more mud than green. The anorexic shrubs and wild crabgrass did little to enhance the charm of the red brick building he called home. A path muddied from frequent travel stretched northward.\\n\\nAs he walked, a figure in a long trench coat stumbled out from behind a bush, tripping over a tree root and, in his flailing for balance, accidentally jabbed him with a hypodermic needle. \"Oops. Sorry, pal!\" the stranger giggled before dashing off, leaving him slightly dazed and confused.\\n\\nContinuing on, he approached the Dining Commons, a white stone building marked ominously with a large \"biohazard\" sign. The path led him to the Dining Commons Entrance, where the smell of garbage was nearly overpowering. Inside, a line lady sat on her stool, popping her gum with annoying proficiency.\\n\\nAs he attempted to pass, the line lady jumped up. \"NOT SO FAST, BUD.\" Her voice was sharp, and her smile cruel as she demanded to see some ID. Reluctantly, he showed his ID, and with a gruff mutter of \"Go ahead, brat,\" she allowed him entry.\\n\\nInside the Dining Commons Atrium, the atmosphere was chaotic with the clamor of students and the unappealing offerings that were being served. He joined the line, eventually grabbing a tray of what could only loosely be called food.\\n\\nAttempting to eat, he quickly realized the meat was dodging his fork, a testament to its inedibility. His stomach protested loudly, but before he could think of a solution, he felt slightly drugged, a lingering effect of the earlier accidental jab.\\n\\nHe moved to the No Smoking Section, hoping for a quieter place to sit. The decor was as uninspiring as the food, with cheap formica tables and uncomfortable chairs. His hunger was becoming unbearable.\\n\\nDeciding to explore further, he entered the Dish Room where he found his friend Milton, looking distinctly hungover. After a brief exchange and an unsuccessful attempt to provide Milton with a suitable smoke, he left Milton and ventured into the Smoking Section.\\n\\nThe smell of stale smoke did nothing for his nausea, but he managed to light and smoke a roach, which calmed his nerves but did little for his hunger. In a state of induced munchies, he forced down the repulsive cafeteria food, his desperation evident.\\n\\nWith his hunger momentarily at bay, he dropped his tray and, feeling a bit rebellious, lit a joint. The sweet smell momentarily distracted him from the dreariness of his surroundings.\\n\\nWith Milton\\'s suggestion, they snuck into the Kitchen, where he was disguised in a DC employee\\'s apron and visor to blend in. There, the overwhelming smell of what was being cooked could barely qualify as food.\\n\\nIntrigued by what else he might find, he ventured into the nearby Closet, discovering a stash of sugared cereal and a hidden pentacle on a silver chain among the spilled contents of a cereal box.\\n\\nClimbing the ladder in the closet led him to the Roof, where the view of the campus was less than impressive. Finding a bong, he pocketed it before jumping down back into the closet, the thrill of his little adventure beginning to wear off.\\n\\nReturning to the Kitchen, he shed his disguise and revisited the Dish Room to drop off the apron and visor. He then moved back to the Smoking Section, grabbed a lighter and a food tray, and decided it was time to leave the Dining Commons behind.\\n\\nEmerging outside, the fresh air was a welcome relief after the stifling atmosphere of the Dining Commons. He walked along the Path, the offensive squelching of his steps a stark reminder of the day\\'s strange and unsettling events. Each step took him further from the chaos behind, his thoughts already turning to what the next day might bring.',\n",
       "    ['kitchen',\n",
       "     'roof',\n",
       "     'smoking section',\n",
       "     'dining commons entrance',\n",
       "     'outside linnell house',\n",
       "     'dish room',\n",
       "     'path',\n",
       "     'no smoking section',\n",
       "     'closet',\n",
       "     'outside dining commons',\n",
       "     'dining commons atrium'],\n",
       "    ['the place of the first encounter of oil',\n",
       "     'the place where cereal was left'],\n",
       "    ['kitchen', 'closet']],\n",
       "   ['Descending into the stifling confines of the engine room aboard the Night Wind, the stench of diesel and the heat from the engines made it difficult to breathe. The space was tiny, a cramped chamber at the very heart of the vessel, where the vital organs of the ship throbbed and hummed incessantly.\\n\\nAfter a brief inspection, he ascended the ladder, emerging into the crew\\'s lounge. The lounge was a modest space, barely accommodating a table and a few chairs. It served as a junction between the captain\\'s cabin aft and the galley forward.\\n\\nMaking his way into the captain\\'s cabin, he found a stark contrast in comfort. The cabin boasted a large, inviting bunk and an air of private luxury that the rest of the ship seemed to lack. In the cabin, Johnny Red, the ship\\'s formidable yet charismatic captain, was present, adding a sense of authority to the room.\\n\\nReturning to the lounge, he then proceeded forward into the galley. The aroma of a simmering stew wafted through the air, a humble but welcoming scent. Pete the Rat, a crew member with a knack for cooking even in the roughest seas, stood watch over his stew, ensuring it didn\\'t spill over as the ship rocked.\\n\\nContinuing his exploration, he descended into the crew\\'s quarters below deck. The quarters were cramped, lined with narrow, uncomfortable bunks reminiscent of sardine cans. It was a functional space, designed solely for the necessity of sleep rather than comfort. The Weasel, another crew member known for his sly demeanor, was there, idly picking his teeth with a menacing-looking knife.\\n\\nA curious peek beneath one of the bunks revealed a hidden envelope tucked under the mattress, an unexpected find that hinted at secrets or perhaps private communications among the crew.\\n\\nHe moved on to the storage locker, a nearly empty space that bore the marks of recent cleaning. Scattered around were spare parts for the engine and other miscellaneous equipment, alongside a small air compressor, the remnants of the ship\\'s last trawling expedition.\\n\\nReturning to the crew\\'s quarters, he was greeted once again by the sight of The Weasel, still engaged in his peculiar grooming ritual with his knife. Suddenly, Johnny Red approached from behind, his voice firm yet calm, \"We\\'ll be leaving shortly. Get some sleep.\" With that, both Johnny Red and The Weasel headed aft, leaving him to ponder the next steps.\\n\\nRising from the depths of the ship, he emerged onto the fore deck. The open ocean stretched out before him, visible over the railing that enclosed the deck. A solitary chair bolted to the deck offered a place to sit and watch the waves, or perhaps to contemplate the journey ahead. The wheelhouse loomed aft, a constant reminder of the course that lay before them, guided by unseen hands from within.',\n",
       "    ['engine room',\n",
       "     \"captain's cabin\",\n",
       "     'lounge',\n",
       "     'galley',\n",
       "     'fore deck',\n",
       "     \"crew's quarters\",\n",
       "     'storage locker'],\n",
       "    ['the place of the first encounter of bunk',\n",
       "     'the place of the first encounter of air compressor'],\n",
       "    [\"crew's quarters\", 'storage locker']],\n",
       "   [\"In the dimly lit kitchen, a note hastily scribbled fluttered slightly as it was pinned to the refrigerator. Beside it, a cat bowl lay on the floor, untouched and gathering dust. The clock ticked menacingly, marking the late hour.\\n\\nMoving from the kitchen to the dining room, the atmosphere changed subtly; the window here was firmly shut, as if to keep the secrets of the night at bay. Time seemed to creep by, each minute stretching longer than the last.\\n\\nThe journey continued into the centre hallway, a space that connected various parts of the house like arteries. A quick exploration revealed a can opener, a can, and a pair of scissors lying haphazardly in the hallway. The south door stood closed, an unyielding barrier to the secrets it guarded.\\n\\nLooping back through the centre hallway, the foyer was reached, where the front door also remained closed, reflecting the isolation within. Climbing the stairs to the top, then descending back to the bottom, the basement corridor was ventured into next. A handwritten note clung to the south door, its message obscured in the gloom.\\n\\nWithin the basement corridor, an office chair sat idly by, offering a silent invitation to rest, but the office beckoned instead. In the office, a waste paper basket was the sole occupant, its presence unremarkable and yet somehow poignant. A search of the computer yielded nothing unusual, the digital secrets well-guarded.\\n\\nReturning to the basement corridor, the office chair was claimed and carried along to the storage room. This room was a chaos of clutter, with an opening in the ceiling suggesting escape or perhaps further entrapment. Among the piles, a magazine lay forgotten. Attempting to climb through the ceiling opening proved futile; the burden of possessions too great.\\n\\nAfter shedding the weight of a portable DAT player and a flashlight onto the office chair, the narrow tunnel, west was accessed through the opening. It was part of an air conditioning system, cramped and dusty. Crawling through to the narrow tunnel, centre, and then to the narrow tunnel, east, a sense of claustrophobia began to set in. The east end of the tunnel suggested a descent into a room below, but the darkness was too intimidating.\\n\\nRetreating through the tunnel to the storage room, the flashlight and DAT player were retrieved from the office chair. Standing in the storage room once more, the myriad of objects seemed to mock with their silent judgment.\\n\\nVenturing back to the basement corridor and then to the bottom of the stairs, a climb to the top of the stairs was made once more, leading back into the foyer. Here, the south door was finally opened, revealing the children's bedroom beyond.\\n\\nThe children's bedroom was a stark contrast to the rest of the house. Furnished simply yet tastefully, it held the innocence of childhood within its walls. Toys were scattered about, and two beds occupied the space, each holding a child: Paul on one, Christopher on the other. In the corner, a cheap-looking amplifier sat atop a CD player, silent and waiting.\\n\\nAs the clock ticked on, the house seemed to breathe a sigh, the night's adventures folding into the shadows of the ordinary world once more.\",\n",
       "    ['kitchen',\n",
       "     'narrow tunnel, west',\n",
       "     'foyer',\n",
       "     'centre hallway',\n",
       "     'dining room',\n",
       "     'narrow tunnel, centre',\n",
       "     'bottom of stairs',\n",
       "     'top of stairs',\n",
       "     'office',\n",
       "     \"children's bedroom\",\n",
       "     'basement corridor',\n",
       "     'narrow tunnel, east',\n",
       "     'storage room',\n",
       "     'hallway'],\n",
       "    ['the place of the first encounter of screwdriver',\n",
       "     'the place where screwdriver was left'],\n",
       "    ['dining room',\n",
       "     'centre hallway',\n",
       "     'foyer',\n",
       "     'top of stairs',\n",
       "     'bottom of stairs',\n",
       "     'basement corridor',\n",
       "     'office']],\n",
       "   ['In the Marble Hall, an arched expanse of fine marble, the adventurer paused. The hall terminated abruptly to the north at a ford across a stream, where the marble showed signs of cracking and disrepair, likely due to a flood or a collapse. To the south, the hall opened into a large room from which an annoying whirring sound emanated. A square brick, feeling oddly like clay, lay at the adventurer\\'s feet.\\n\\nAs time passed in waiting, a princess, seemingly surprised to encounter another soul, entered from the north. Without a word, she pressed a loose piece of marble on the wall, and with a quiet grinding noise, a large section of the wall slid away, revealing a hidden passage to the east which she quickly entered.\\n\\nThe adventurer followed the path, now at the Path Near Stream. The path skirted the south edge of a deep ravine and headed northeast. A ruined archway choked with vegetation marked the east, while a tunnel narrowed to the southwest, the source of the faint whirring sound. The disheveled princess moved eastward through the archway, casting a glance back as she disappeared from view.\\n\\nContinuing onward, the adventurer arrived at the Formal Garden. The middle part of the garden was hidden by hedges against the cavern walls, dimly lit by mosses high above. The path, made of small crushed white stones, wound through bushes and flower beds. To the north, a small structure peeked through the foliage, and to the south, bushes were sculpted into peculiar shapes. The princess, still slightly unkempt, was also here, moving with a quiet grace.\\n\\nAt the North End of the Garden, the adventurer found themselves in a space where the hedges continued to mask the cavern walls, creating the illusion of a cloudy day outside. A gazebo stood in the center, surrounded by a rosebed. The princess entered from the south, her expression one of surprise at yet another encounter.\\n\\nTogether, they stepped into the gazebo. It was a cool and restful place, with a tea table at its center. Time seemed to slow as they waited in the peaceful enclosure.\\n\\nMoments passed, and then, shyly, a unicorn peeked out from the hedges. It approached the princess, bowed its head in a respectful curtsy, and revealed a red satin ribbon around its neck, from which dangled a delicate gold key. The princess used the ribbon to tie her hair, then handed the key and a fresh rose to the adventurer, thanking them for rescuing her from a dire fate. With a graceful leap, she mounted the unicorn side-saddle and disappeared into the gloom.\\n\\nLeaving the gazebo, the adventurer retraced their steps through the Formal Garden and then ventured into the Topiary. The southern end of the garden was lined with fantastically shaped hedges and bushes - dragons, unicorns, serpents, and misshapen dogs, all crafted from greenery under the dim light of the mosses.\\n\\nTheir exploration continued to the Carousel Room, a large circular chamber disorienting in its symmetry with eight identical passages and a loud, pervasive whirring noise filling the air.\\n\\nHaving lost their sense of direction in the Carousel Room, the adventurer stumbled upon the Menhir Room. This space, once a quarry, was littered with large limestone chunks. One side of the room was dedicated to quarrying building blocks, the other to producing menhirs. A particularly large menhir, carved with the ornate letter \"F,\" blocked a dark opening leading southwest.\\n\\nYet the whirring noise beckoned, and the adventurer found themselves back in the Carousel Room, disoriented once more. Their journey continued back and forth between the Menhir Room and the Carousel Room, the constant disorientation clouding their sense of progress.\\n\\nEventually, they ventured into the Cool Room, where the air was misty and damp, a chill emanating from a narrow westerly tunnel.\\n\\nReturning once more to the Carousel Room and then finding themselves in the Riddle Room, the adventurer faced a great closed stone door with a riddle inscribed above: \"What is tall as a house, round as a cup, and all the king\\'s horses can\\'t draw it up?\" Upon answering \"a well,\" a deafening clap of thunder resounded, and the stone door swung open, revealing a new passage.\\n\\nWith the key in hand, a token from a princess and a unicorn, the adventurer stepped through, ready for whatever mysteries lay beyond.',\n",
       "    ['menhir',\n",
       "     'riddle',\n",
       "     'carousel',\n",
       "     'formal garden',\n",
       "     'cool',\n",
       "     'topiary',\n",
       "     'path near stream',\n",
       "     'north end of garden',\n",
       "     'gazebo',\n",
       "     'marble hall'],\n",
       "    ['the place of the first encounter of tea table',\n",
       "     'the place of the first encounter of misty and damp air'],\n",
       "    ['gazebo',\n",
       "     'north end of garden',\n",
       "     'formal garden',\n",
       "     'topiary',\n",
       "     'carousel',\n",
       "     'cool']],\n",
       "   [\"In the heart of the forest, a determined push against an old tree sent it crashing down, tearing through a section of barbed wire fence with a loud, grating noise. Beyond this impromptu path lay the overgrown dirt road, flanked by dense woods to the east and west. The road meandered north toward a low hill, where a dilapidated guard hut stood quietly, a silent witness to the passage of time.\\n\\nApproaching the hut, the old door creaked open to reveal the Inside Hut, a cramped space that could shelter no more than two from the harsh elements outside. A discarded flashlight lay forgotten on the dusty floor. It was with a quick motion that the flashlight was scooped up and stowed away for future use.\\n\\nExiting the hut, the journey continued along the dirt road until the landscape opened up into the Escarpment. Here, the road split, running east and west around the hill and southward, back the way it had come. Choosing a path less traveled, the journey led southeast, around the base of the rocky hillside to a spot Southeast of Escarpment. The path here stretched west and northeast, hugging the contours of the land.\\n\\nFurther exploration brought a move to the Eastern Hillside, where the remnants of a dark tunnel burrowed into the hillside were visible. Despite apparent attempts at demolition, a climbable pile of debris blocked the way. The road here curved out of sight around the hillside to the southwest, promising more undiscovered paths.\\n\\nClimbing the debris at the Top of Debris Pile, the top of the pile offered a precarious view into the darkness of the tunnel and a safer descent back to the dirt path. A misstep, however, sent tumbling down through the pitch-black tunnel, landing in a surprisingly soft pile of leaves in the Darkness of the tunnel's Eastern End. A flick of the flashlight switch pierced the darkness, illuminating the blocked eastern end of the demolished tunnel and the leaves that had cushioned the fall.\\n\\nPicking up the leaves for closer examination, the journey continued deeper into the tunnel network, arriving at the Tunnel Junction. Here, tunnels extended in three directions, promising further mysteries to uncover. Choosing a path led to the Staff Room, a small area with exits to the north and south, and a door leading east to an office.\\n\\nThe next stop was the Bathroom, a dank and uninviting place with a gunk-filled toilet. Reluctantly removing the gunk revealed nothing but a paperclip-a small but potentially useful find. Back in the Staff Room, the paperclip proved its worth by unlocking the office door.\\n\\nInside the Office, the environment changed to one of quiet order. A safe sat heavily in one corner, and a wooden desk, its drawers closed, hinted at secrets yet to be revealed. The unlocked door swung open with a gentle push, leading back into the ongoing mystery of the underground network.\",\n",
       "    ['dirt road',\n",
       "     'inside hut',\n",
       "     'darkness',\n",
       "     'escarpment',\n",
       "     'forest',\n",
       "     'office',\n",
       "     'eastern end of tunnel',\n",
       "     'top of debris pile',\n",
       "     'staff room',\n",
       "     'bathroom',\n",
       "     'tunnel junction',\n",
       "     'eastern hillside',\n",
       "     'southeast of escarpment'],\n",
       "    ['the place of the first encounter of tree',\n",
       "     'the place of the first encounter of flashlight'],\n",
       "    ['forest', 'dirt road', 'inside hut']],\n",
       "   [\"He rose from his slumber, his muscles groaning in protest as he hoisted himself over the stern rail of the Helena Louise and collapsed breathlessly onto the deck. From his vantage point on the Poop Deck, he surveyed the entirety of the shadowy, two-masted ship. Silhouettes flitted about, their whispers barely audible over the gentle lapping of the waves. The deck was enclosed by a protective railing that only allowed passage forward, past the stern where a rope ladder hung loosely.\\n\\nThe reefs, menacing in the moonlight, seemed to have grown since he last looked.\\n\\nMoving silently across the wooden planks, he advanced to the Quarterdeck. The moon cast enough light to eliminate the need for torches, except where shadows were thrown by the massive navigation wheel. Men murmured near the fore, their voices low and cautious. A barred door lay hidden under the stairs leading back to the Poop Deck. Nearby, a large pyramid of casks was secured with a heavy rope, while cannons stood ready, aimed at the open sea and the distant island.\\n\\nThe Main Deck was alive with a deceptive calm; pirates hummed soft shanties as they busied themselves with cannon repairs, rope twisting, and dagger sharpening. The mainmast threw a vast shadow over the hatch, shielded by canvas, beneath which a complex web of rigging dangled ominously. Two large barrels stood sentinel near the stairs to the foredeck.\\n\\nCurious, he examined the barrels, distinguishing the contents by their distinct aromas-one of rum, the other of water, stained darkly at the mouth where many a pirate had drunk.\\n\\nHe soaked a rag with water from one of the barrels, then approached the hatch. With a cautious glance around, he tugged a corner of the canvas free and descended the steep stairs into the murky darkness of the Hold. A tiny glow flickered menacingly from a cage full of ammunition-an unattended fire threatened disaster.\\n\\nWith no time to spare, he hurled the wet rag towards the fire. It sailed over the gate and smothered the flames with a sputtering sigh. The immediate danger averted, he clambered up through the hatch back to the Main Deck.\\n\\nHe continued his journey to the Forecastle. From this elevated position, he had a commanding view of the island, though the crow's nest high above offered an even better vantage. The deck bore signs of heavy use, with a grated air hole leading to the crew's quarters below and a small, greasy shack behind the mast. The mooring winch caught his eye, an old barrel mounted on a pole with a lever inscribed with faint letters.\\n\\nSquinting towards the sea, he noticed a flicker of light-a man swimming toward shore, the moonlight glinting off his hook. A breeze carried the mixed scents of onions and rum, and the distant sound of a mischievous chuckle.\\n\\nHe raised the lever on the winch, releasing the anchor into the sea with a heavy splash. The ship lurched slightly against the current, and he quickly lowered the lever to halt the spooling chain.\\n\\nEntering the Galley, he was greeted by the stale smell of old stew and yeast. A dagger was embedded in the floorboards, and a bald man, carving into his peg leg, eyed him suspiciously before offering a wink and a casual greeting. He referred to him as Sam and hinted at protecting the Captain's interests while aboard.\\n\\nHe retrieved the dagger from the floor, feeling the ship drift slightly as the tide turned, and made his way back to the Forecastle.\\n\\nContinuing his rounds, he returned to the Main Deck and then to the Quarterdeck. He slid into a large cask to hide, feeling something solid beneath him and noticing the frayed line that tethered the casks together.\\n\\nFrom within the cask, he listened to the sounds of the ship, the crew unaware of the dangers he had just thwarted.\",\n",
       "    ['hold',\n",
       "     'main deck',\n",
       "     'cask',\n",
       "     'galley',\n",
       "     'poop',\n",
       "     'quarterdeck',\n",
       "     'forecastle'],\n",
       "    ['the place of the first encounter of barrels',\n",
       "     'the place of the first encounter of winch'],\n",
       "    ['main deck', 'forecastle']],\n",
       "   ['As the adventurer moved along the trail that twisted around the Lonely Mountain, it bent out of sight to the southeast and southwest. The elevation here was higher than to the south, providing a majestic view of the mountain\\'s peak, veiled in a perpetual shroud of clouds. Unfortunately, no visible path from this vantage point led up the mountain.\\n\\nContinuing the journey, the adventurer arrived at the trail head on the northeast side of the Lonely Mountain. The narrow path snaked through rolling hills. To one side, a sign stood firmly, with a winding path disappearing into the thick undergrowth to the northeast. The trail itself stretched onward to the southeast.\\n\\nThe trail eventually concluded at Shady Brook, marked by the remnants of a ruined stone foundation-the Old Lingolf House. A small brook meandered lazily by, its gentle flow a contrast to the stillness of the abandoned site. The sun had just climbed above the hills, spilling light over the landscape.\\n\\nFeeling the weight of the journey, the adventurer filled a jug with water from the brook, quenching both thirst and preparing for the road ahead.\\n\\nReturning to the trail head, the path was as familiar as it was unwelcoming, flanked by the same rolling hills and the sign that pointed toward the thick undergrowth. The adventurer pressed on, reaching the Eastern Fork where multiple paths diverged around the base of the Lonely Mountain and a smaller path led eastward.\\n\\nThe road soon led into a small village on the outskirts, with the Lonely Mountain towering ominously in the background. The village path split to the northeast, but no path seemed to climb the mountain directly.\\n\\nEntering the deserted village revealed echoes of the past. This was once a bustling place where peasants, merchants, and artisans thrived. Now, it was silent except for the smoke rising from a decrepit hovel to the south. The path through the village led from southwest to northeast, and a less-trodden trail headed north up the mountain.\\n\\nInside the hovel, the air was thick with smoke and the stench of chaos. A pile of rags moved near a bubbling pot, revealing a gnarled hand stirring the contents. The rags belonged to a withered crone who eyed the adventurer with a piercing gaze. \"I should have thought they would send someone more... more...\" She cackled unsettlingly, revealing that everyone had fled from an impending storm in the east. \"Take this and begone!\" With a mystical gesture, she thrust a scroll into the adventurer\\'s hands before pushing them out the door.\\n\\nBack in the open air, the adventurer unfurled the scroll, which revealed the \"rezrov spell\" capable of opening even locked or enchanted objects. With a sense of urgency, the spell was transcribed into the adventurer\\'s spell book, which glowed with an ethereal light as the words were etched permanently into its pages. The scroll itself vanished in a whisper of magic as the last word was copied.\\n\\nThe journey resumed, leading back through the village outskirts and on to the Eastern Fork. The paths here were familiar, yet held new promise with the power of the newly acquired spell. The adventurer then ventured onto the Western Road, which wended its way through dark, rolling hills. To the west, a high mountain loomed; to the east, a dark castle with towering spires awaited.',\n",
       "    ['western road',\n",
       "     'trail',\n",
       "     'shady brook',\n",
       "     'village outskirts',\n",
       "     'trail head',\n",
       "     'eastern fork',\n",
       "     'deserted village'],\n",
       "    ['the place of the first encounter of water',\n",
       "     'the place of the first encounter of hovel'],\n",
       "    ['shady brook',\n",
       "     'trail head',\n",
       "     'eastern fork',\n",
       "     'village outskirts',\n",
       "     'deserted village']],\n",
       "   [\"With a sense of purpose, they grasped the limb from the ground, the weight of it solid and reassuring in their hands. The storm above raged ferociously as they ventured towards the west side of the church. The untamed grasses whispered secrets in the wind, and a muddy trail beckoned them further into the tempest, winding its way towards the graveyard. Lightning split the sky, an electric dance that was mirrored by the thunder's roar.\\n\\nDriven by an unknown force, they moved on, reaching the front of the church. Two ancient oaks stood guard, their gnarled branches framing the church's weather-beaten facade. The storm seemed intent on cleansing the building, its fervor a match for the darkness clinging to the aged stones. A growl pierced the air, pulling their attention to a formidable guard dog, its eyes alight with a primal warning.\\n\\nThe confrontation was brief and fierce; in a moment of desperation, they struck at the dog, which retaliated with a furious charge. Heart pounding, they fled back to the west side of the church, the snarling beast hot on their heels.\\n\\nTheir flight took them around to the north side of the church, where the wild overgrowth clawed at the stone walls, as if trying to reclaim the holy site for the earth itself. But there was no respite; the dog continued its relentless pursuit.\\n\\nThey dashed to the east side of the church, where the remnants of a once-busy parking lot lay forgotten beneath a carpet of weeds and debris. Still, the dog chased, its barks echoing in the stormy air.\\n\\nCircling back to the front of the church, a stroke of fortune-or perhaps fate-intervened. The dog, in its furious chase, became entangled by its chain, wrapped around the church's solid structure. It barked in frustration as they made their escape to the church porch.\\n\\nOn the porch, they tore a loose section of railing free, a makeshift tool in their uncertain quest. With the railing in hand, they entered the vestibule, the church's once-grand entry now marred by neglect and decay. The hail rattled above, a harsh reminder of the storm outside.\\n\\nThey pushed on into the sanctuary, a hollow shell of its former glory. The pews lay in disarray, and a portrait of Christ watched mournfully from above the archway. They moved to the pulpit, feeling the weight of the empty eyes of the church upon them. Here, a book caught their attention, its passages on souls and windows a grim echo of their own thoughts.\\n\\nWith the book secured, they ventured into a small office, where the past whispered through the debris and a journal awaited on the desk. As they uncovered the journal's last secrets with ashes from a past fire, they learned of regret and innocence lost.\\n\\nA hidden bookshelf revealed its secret-a grimoire wrapped in red, its pages filled with dark rituals concerning the soul. Taking the embroidered robe hanging beside the door, they returned to the pulpit, the church now resonating with the echoes of the storm outside.\\n\\nTheir journey led them back through the sanctuary and into the vestibule, where they used the railing to access the steeple chamber above. Climbing the makeshift ladder, they entered a realm of rain and shadow, where the elements invaded freely and the secrets of the steeple lay exposed.\\n\\nIn that high, hidden place, they pondered the revelations of the grimoire and the journal, the weight of their discoveries as heavy as the storm that continued to rage around the old church.\",\n",
       "    ['pulpit',\n",
       "     'steeple chamber',\n",
       "     'north side of church',\n",
       "     'sanctuary',\n",
       "     'vestibule',\n",
       "     'church porch',\n",
       "     'graveyard',\n",
       "     'small office',\n",
       "     'west side of church',\n",
       "     'east side of church',\n",
       "     'front of church'],\n",
       "    ['the place of the first encounter of limb',\n",
       "     'the place of the first encounter of section'],\n",
       "    ['graveyard', 'west side of church', 'front of church', 'church porch']],\n",
       "   [\"Leaping onto the roof of the cottage with a soft thud, she found herself on the thatched surface, trying not to peer down into the abyss below. A chimney with a TV aerial attached interrupted the quaint, picture-perfect scene. Just above the roofline, the top of a giant beanstalk peeked through, adding a touch of whimsy to the view.\\n\\nWith a burst of daring, she slid down the chimney, landing with a satisfying whoosh in the kitchen below. The room was straight out of a storybook, with its cozy ambiance and lack of modern conveniences. A large dining table dominated the center, surrounded by a dresser and an enormous brick fireplace that seemed almost too big for the room. On the table, three bowls of porridge rested, each a different size and temperature, alongside a lone spoon.\\n\\nChoosing to explore further, she ventured into the pantry. The smell of cinnamon and honey mingled with the less pleasant scent of mouse droppings. Boxes of McScottie's porridge oats filled the sturdy shelves, and a mousetrap lay in the corner under the shelves, a dead mouse and a wedge of cheese still inside it. After a moment of contemplation, she retrieved the cheese from the mousetrap, then opened the upright freezer to discover a packet of frozen pork chops, which she also took.\\n\\nBack in the kitchen, she paused only a moment before moving on to the hall. The walls were covered in a macabre display of hunting trophies, from tiny shrews to an ominous collection that included what appeared to be human heads. A full-length portrait of the bear family hung on one wall, and a staircase led upwards.\\n\\nThe doorbell rang suddenly, followed by a booming voice demanding entry in a threatening tone. Cautiously, she opened the door to find the wolf from the path barging in, his eyes wild as he mistook her for one of the Three Little Pigs he was evidently hunting. After a brief and bizarre conversation where the wolf expressed his distaste for human flesh and his craving for the pigs, he wandered off upstairs.\\n\\nFollowing him, she found herself in the bedroom, where the Big Bad Wolf was trying to appear menacing. The room featured three beds of varying sizes and was oddly arranged under the sloping attic walls. Sleeping Beauty herself was there, slumbering peacefully on the smallest bed.\\n\\nIn an attempt to appease the wolf's hunger, she offered him the pork chops, only to be met with dramatic disdain; the wolf declared he could not possibly consume them unless they were cooked to medium rare.\\n\\nAs the wolf announced his departure to continue his search for the pigs, she descended back to the hall, the chill of the open front door brushing against her skin. She decided not to linger and moved into the sitting room.\\n\\nThe sitting room was an explosion of chintz and clutter, with three chairs sized for each bear around a small coffee table that held a copy of 'Hail!' magazine. The decor was overwhelmingly kitsch, every surface adorned with some trinket or another, making the room feel like a cave of treasures that only a bear could love.\",\n",
       "    ['pantry', 'kitchen', 'roof', 'bedroom', 'sitting room', 'hall'],\n",
       "    ['the place of the first encounter of pork chops',\n",
       "     'the place of the first encounter of wolf'],\n",
       "    ['pantry', 'kitchen', 'hall', 'bedroom']]]}}"
      ]
     },
     "execution_count": 3,
     "metadata": {},
     "output_type": "execute_result"
    }
   ],
   "source": [
    "full[0]"
   ]
  },
  {
   "cell_type": "code",
   "execution_count": 4,
   "id": "2c2d29185bc57853",
   "metadata": {
    "ExecuteTime": {
     "end_time": "2025-08-13T21:21:20.065743Z",
     "start_time": "2025-08-13T21:21:20.053643Z"
    }
   },
   "outputs": [
    {
     "name": "stdout",
     "output_type": "stream",
     "text": [
      "--  --\n",
      " 8  24\n",
      "10  13\n",
      " 6   5\n",
      " 4   4\n",
      " 7   4\n",
      " 9   4\n",
      " 0   3\n",
      "13   3\n",
      "33   3\n",
      " 3   2\n",
      " 5   2\n",
      "14   2\n",
      "15   2\n",
      "16   2\n",
      "30   2\n",
      "40   2\n",
      "43   2\n",
      "48   2\n",
      "53   2\n",
      " 1   1\n",
      " 2   1\n",
      "11   1\n",
      "12   1\n",
      "17   1\n",
      "18   1\n",
      "19   1\n",
      "20   1\n",
      "21   1\n",
      "22   1\n",
      "23   1\n",
      "24   1\n",
      "25   1\n",
      "26   1\n",
      "27   1\n",
      "28   1\n",
      "29   1\n",
      "31   1\n",
      "32   1\n",
      "34   1\n",
      "35   1\n",
      "36   1\n",
      "37   1\n",
      "38   1\n",
      "39   1\n",
      "41   1\n",
      "42   1\n",
      "44   1\n",
      "45   1\n",
      "46   1\n",
      "47   1\n",
      "49   1\n",
      "50   1\n",
      "51   1\n",
      "52   1\n",
      "54   1\n",
      "55   1\n",
      "56   1\n",
      "57   1\n",
      "58   1\n",
      "59   1\n",
      "60   1\n",
      "--  --\n"
     ]
    }
   ],
   "source": [
    "print(tabulate(Counter(item['isomorphic_id'] for item in full).most_common(),))"
   ]
  },
  {
   "cell_type": "code",
   "execution_count": 5,
   "id": "19b6f8641f80d7e0",
   "metadata": {
    "ExecuteTime": {
     "end_time": "2025-08-13T21:22:33.267371Z",
     "start_time": "2025-08-13T21:22:33.261442Z"
    }
   },
   "outputs": [
    {
     "name": "stdout",
     "output_type": "stream",
     "text": [
      "In the heart of the Dwarven City of Deephome, nestled at the Eastern Guard Post, the air was heavy with the scent of polished iron and wood. This fortified sanctuary was designed like an hourglass, walls tapering in the center where two heavy iron-banded doors stood vigilant. Weapons racks adorned the room, crossbows hanging prominently among the assortment. Beyond, defensive low walls skirted the perimeter, poised for any threat that might venture through the city gates to the southeast.\n",
      "\n",
      "Moving westward, the roads diverged at the Intersection. Main Street stretched north and south, while the Royal Road beckoned westward. Signs and symbols marked the significance of each path, the eastern guard post standing sentinel with its own placard.\n",
      "\n",
      "Along the East Royal Road, high walls lined the path, interrupted by gates leading to the estates of lesser nobles. The way was clear, the road extending from the bustling intersection toward the grandeur of the castle to the west.\n",
      "\n",
      "Transitioning onto the West Royal Road, the journey became a visual feast. Fluorescent mosses clung to the mineral-rich stones, their glow a stark contrast against the shadowed high walls. The path mimicked a grand hall, gates intermittently breaking the stone's monotony, leading to the palatial domains of the nobility.\n",
      "\n",
      "The Outer Court of the Lord's Palace was an expanse surrounded by high walls. A long pathway paved the route from the eastern gates to the Throne Room to the west. Here, the courtyard was left accessible, a passage for those like the Dwarven Reclaimer, who had business with the throne.\n",
      "\n",
      "The Throne Room itself was a stark contrast to the expected opulence. It was quaint, almost understated, with a large tapestry hanging behind the throne and a red carpet leading to the grand eastern doorway. Here, a Luminous Spirit awaited, her presence ethereal and light. Upon opening a net, a squirrel scurried out, darting under the throne. The spirit, smiling gratefully, merged into the squirrel in a wisp of smoke and scampered away, leaving behind a sense of peace and a mysterious increase in stature, as if the very air acknowledged a deed well done.\n",
      "\n",
      "Retracing steps back through the Outer Court and along the West Royal Road, the journey continued eastward, past the gates and high walls, back to the intersection of Main Street and the Royal Road.\n",
      "\n",
      "South Main Street was quieter, dedicated to intellectual and spiritual pursuits with the Library to the east and the Great Temple to the west. The road continued its stretch north and south, a pathway of knowledge and reverence.\n",
      "\n",
      "Further north on North Main Street, the remnants of a bustling trade center were evident. Shops and merchant booths lined the street, offering a variety of goods. A clothier, a bakery, and a scrivener's office marked the intersections of commerce and craft. The Main Hall loomed to the north, a reminder of the street's vibrant past.\n",
      "\n",
      "Entering the Scrivener's, the room was stark, furnished only with desks and chairs for those crafting documents for the illiterate. A search through the desks revealed a stash of papers, one of which was promptly taken.\n",
      "\n",
      "Outside the Scrivener's and into the Bakery next, the smell of stale flour mingled with the warmth of long-cooled ovens. Great stone structures lined the back wall, their purpose long fulfilled. An old water pipe still functioned, filling a cistern that once quenched the bakers' thirst and mixed their doughs. Amidst the decay, an empty bottle caught the eye, its presence a small but curious find in the abandoned space.\n"
     ]
    }
   ],
   "source": [
    "text, dot_G = full[0]['task1']['few_shots'][1]\n",
    "print(text)"
   ]
  },
  {
   "cell_type": "code",
   "execution_count": 6,
   "id": "ed7dd3ab8ae769ea",
   "metadata": {
    "ExecuteTime": {
     "end_time": "2025-08-13T21:21:20.232938Z",
     "start_time": "2025-08-13T21:21:20.224692Z"
    }
   },
   "outputs": [
    {
     "name": "stdout",
     "output_type": "stream",
     "text": [
      "graph {\n",
      "\t\"outer court\" -- \"throne room\"\n",
      "\t\"n. main street\" -- \"bakery\"\n",
      "\t\"east royal road\" -- \"intersection\"\n",
      "\t\"east royal road\" -- \"west royal road\"\n",
      "\t\"n. main street\" -- \"s. main street\"\n",
      "\t\"eastern guard post\" -- \"intersection\"\n",
      "\t\"n. main street\" -- \"scrivener's\"\n",
      "\t\"s. main street\" -- \"intersection\"\n",
      "\t\"outer court\" -- \"west royal road\"\n",
      "}\n"
     ]
    }
   ],
   "source": [
    "dot_G = full[0]['task1']['few_shots'][1][1]\n",
    "print(dot_G)"
   ]
  },
  {
   "cell_type": "code",
   "execution_count": null,
   "id": "02f83568",
   "metadata": {},
   "outputs": [],
   "source": []
  },
  {
   "cell_type": "code",
   "execution_count": 7,
   "id": "78998691",
   "metadata": {},
   "outputs": [
    {
     "data": {
      "text/plain": [
       "125"
      ]
     },
     "execution_count": 7,
     "metadata": {},
     "output_type": "execute_result"
    }
   ],
   "source": [
    "def to_graph(edges):\n",
    "\tG = nx.Graph()\n",
    "\tfor s, e in edges:\n",
    "\t\tG.add_edge(s, e)\n",
    "\treturn G\n",
    "\n",
    "# shots = [nx.drawing.nx_pydot.read_dot(io.StringIO(shot[1])) for shot in full[0]['task1']['few_shots']]\n",
    "graphs = [to_graph(item['task1']['target']) for item in full]\n",
    "len(graphs)"
   ]
  },
  {
   "cell_type": "code",
   "execution_count": 8,
   "id": "90cc4719",
   "metadata": {},
   "outputs": [
    {
     "data": {
      "text/plain": [
       "22"
      ]
     },
     "execution_count": 8,
     "metadata": {},
     "output_type": "execute_result"
    }
   ],
   "source": [
    "loopy = [g for g in graphs if len(nx.cycle_basis(g))]\n",
    "len(loopy)"
   ]
  },
  {
   "cell_type": "code",
   "execution_count": null,
   "id": "ada2ce9f",
   "metadata": {},
   "outputs": [],
   "source": []
  },
  {
   "cell_type": "code",
   "execution_count": null,
   "id": "defc5280",
   "metadata": {},
   "outputs": [],
   "source": []
  },
  {
   "cell_type": "code",
   "execution_count": 10,
   "id": "26cb2777c48e6e10",
   "metadata": {
    "ExecuteTime": {
     "end_time": "2025-08-13T21:21:26.040470Z",
     "start_time": "2025-08-13T21:21:25.565767Z"
    }
   },
   "outputs": [],
   "source": [
    "s = io.StringIO(dot_G)\n",
    "G = nx.drawing.nx_pydot.read_dot(s)"
   ]
  },
  {
   "cell_type": "code",
   "execution_count": 32,
   "id": "1b990784",
   "metadata": {},
   "outputs": [
    {
     "data": {
      "image/png": "[encoded data removed]",
      "text/plain": [
       "<Figure size 640x480 with 1 Axes>"
      ]
     },
     "metadata": {},
     "output_type": "display_data"
    },
    {
     "data": {
      "text/plain": [
       "90"
      ]
     },
     "execution_count": 32,
     "metadata": {},
     "output_type": "execute_result"
    }
   ],
   "source": [
    "idx = random.choice(range(len(graphs)))\n",
    "# idx = 3\n",
    "item = full[idx]\n",
    "G = graphs[idx]\n",
    "\n",
    "# edges = item['task1']['target']\n",
    "# G = to_graph(edges)\n",
    "\n",
    "nx.draw(G, with_labels=True)\n",
    "\n",
    "# 3. Display the graph\n",
    "plt.show()\n",
    "idx"
   ]
  },
  {
   "cell_type": "code",
   "execution_count": 16,
   "id": "77f8f3bb",
   "metadata": {},
   "outputs": [
    {
     "data": {
      "text/plain": [
       "[]"
      ]
     },
     "execution_count": 16,
     "metadata": {},
     "output_type": "execute_result"
    }
   ],
   "source": [
    "cycles = nx.cycle_basis(G)\n",
    "cycles"
   ]
  },
  {
   "cell_type": "code",
   "execution_count": 37,
   "id": "5882362c",
   "metadata": {},
   "outputs": [
    {
     "name": "stdout",
     "output_type": "stream",
     "text": [
      "As the campus center concourse stretched before him, he noticed the usual hustle of ideological zealots was missing, leaving only a lone Jesus Freak table to the north. The information desk and lost and found area lay to the south. Amidst the desolation, a teddy bear caught his eye.\n",
      "\n",
      "Without hesitation, he picked up the teddy bear and moved on. The concourse continued at a T-intersection, extending east and west with a branch leading north. The grey flagstone floor was as uninspiring as ever. A hotel room key was lying there, abandoned.\n",
      "\n",
      "He continued eastward, reaching the eastern end of the concourse. The north was alive with futuristic sounds and flashing lights, while a door to the east beckoned him outside. There, he spotted a Kate Bush tape.\n",
      "\n",
      "Intrigued, he ventured into the Arcade, where the screams of video games filled the air. Youths were engrossed in their games, shouting phrases like \"Go fer the hill!\" and \"Lionman!\" The concourse was just to the south, and light from the Student Union filtered through a window in a steel door to the east. His attention was drawn to a pinball machine and a closed steel locker.\n",
      "\n",
      "Examining the pinball machine, he discovered it was out of order, a quarter jammed in the coin slot being the culprit. Attempts to retrieve the quarter with his fingers failed due to their size, but with pliers, he successfully extracted it, hearing the satisfying clink as it hit the ground. After dropping the pliers, he pocketed the quarter.\n",
      "\n",
      "Curiosity led him to open the steel locker, revealing a Cheech 'n' Chong lunch box. Inside the box, he found an ecstasy capsule and a vial of liquid, which he took along with the box itself. He then stored a bong and a sheet of high-powered blotter acid inside the box for safekeeping.\n",
      "\n",
      "Exiting the Arcade through the steel door, he found himself in the Student Union. The area was alive with crowds, intellectual debates, and people glued to television sets. Ignoring the distractions, he ascended a broad staircase leading to the RSO Corridor. The corridor was dark except for a light shining from one office to the north.\n",
      "\n",
      "His journey led him to the Republican Club, where the atmosphere was thick with political paraphernalia and an unpleasant elephant-like odor. M. Greg Rothman, identified by his name tag, was busily weighing propaganda booklets. Greg, visibly upset by the political climate, was distracted as he examined a gelatin capsule he assumed was a vitamin, thanking him for the unexpected gift by offering him a postal scale, which he gladly accepted.\n",
      "\n",
      "He placed the scale into the Cheech 'n' Chong lunch box and closed it, leaving Greg in a state of giggly bliss, fondling the desk.\n",
      "\n",
      "Returning to the Student Union, he descended the stairs and moved to the Vend-O-Mat. The drink machine there accepted his quarter and dispensed a cup of coffee, which he drank despite its poor taste, feeling the familiar caffeine buzz.\n",
      "\n",
      "He then ventured outside to the Campus Center Concourse, where he headed east, leaving the campus center behind. The path led him to the Campus Pond, where resilient ducks swam serenely. From there, he walked to Pleasant Street, the main road through campus, pondering his next move as he observed the life around him.\n"
     ]
    }
   ],
   "source": [
    "print(item['text'])"
   ]
  },
  {
   "cell_type": "code",
   "execution_count": 34,
   "id": "9a82c29a",
   "metadata": {},
   "outputs": [
    {
     "name": "stdout",
     "output_type": "stream",
     "text": [
      "  Node    Count\n",
      "------  -------\n",
      "     6       25\n",
      "     8       23\n",
      "    16       14\n",
      "    18       12\n",
      "    10       10\n",
      "    20        9\n",
      "    14        8\n",
      "    26        5\n",
      "    24        5\n",
      "    22        4\n",
      "    34        2\n",
      "    28        2\n",
      "    40        1\n",
      "    38        1\n",
      "    30        1\n",
      "    32        1\n",
      "    12        1\n",
      "    36        1\n"
     ]
    }
   ],
   "source": [
    "import networkx as nx\n",
    "import itertools\n",
    "\n",
    "def generate_candidates(G):\n",
    "    distances = dict(nx.floyd_warshall(G))\n",
    "    nodes = list(G.nodes())\n",
    "\n",
    "    for a, b in itertools.permutations(nodes, 2):\n",
    "        if distances[a][b] >= 2:\n",
    "            yield a, b\n",
    "\n",
    "def all_paths(G, source, target):\n",
    "    return list(nx.all_simple_paths(G, source=source, target=target))\n",
    "\n",
    "def unused_nodes(G, path):\n",
    "    for node in G.nodes():\n",
    "        if node not in path:\n",
    "            yield node\n",
    "\n",
    "# # Find 5 triplets where dist(A,C) is at least 3.0\n",
    "# found = find_triplets(G, n=20, k=4)\n",
    "\n",
    "# print(f\"Found {len(found)} triplets:\")\n",
    "# for triplet in found:\n",
    "#     print(triplet)\n",
    "\n",
    "def path_nodes(G, a, b):\n",
    "    used = {n for path in all_paths(G, a, b) for n in path if n != a and n != b}\n",
    "    unused = {n for n in G.nodes() if n not in used and n != a and n != b}\n",
    "    return used, unused\n",
    "\n",
    "def select_paths(G):\n",
    "    tbl = [[a, b, *path_nodes(G, a, b)] for a, b in generate_candidates(G)]\n",
    "    tbl = sorted(tbl, key=lambda x: (abs(len(x[2]) - len(x[3])), len(x[0]) + len(x[1])))\n",
    "    assert len(tbl)\n",
    "    # return tbl\n",
    "    # best = [item for item in tbl if len(item[2]) >= 2 and len(item[3]) >= 2]\n",
    "    # if not best:\n",
    "    best = [item for item in tbl if abs(len(item[2]) - len(item[3])) == abs(len(tbl[0][2]) - len(tbl[0][3]))]\n",
    "    return best\n",
    "\n",
    "print(tabulate(Counter(len(select_paths(to_graph(item['task1']['target']))) for item in full).most_common(), headers=['Node', 'Count']))\n"
   ]
  },
  {
   "cell_type": "code",
   "execution_count": 38,
   "id": "189e027c",
   "metadata": {},
   "outputs": [
    {
     "data": {
      "text/plain": [
       "14"
      ]
     },
     "execution_count": 38,
     "metadata": {},
     "output_type": "execute_result"
    }
   ],
   "source": [
    "options = select_paths(G)\n",
    "len(options)"
   ]
  },
  {
   "cell_type": "code",
   "execution_count": 36,
   "id": "e451044f",
   "metadata": {},
   "outputs": [
    {
     "data": {
      "text/plain": [
       "112"
      ]
     },
     "execution_count": 36,
     "metadata": {},
     "output_type": "execute_result"
    }
   ],
   "source": [
    "\n",
    "questions = []\n",
    "for a, b, used, unused in select_paths(G):\n",
    "    for target in used:\n",
    "        questions.append({'start': a, 'end': b, 'target': target, 'answer': 'yes'})\n",
    "    for target in unused:\n",
    "        questions.append({'start': a, 'end': b, 'target': target, 'answer': 'no'})\n",
    "len(questions)"
   ]
  },
  {
   "cell_type": "code",
   "execution_count": 39,
   "id": "3ce75638",
   "metadata": {},
   "outputs": [
    {
     "data": {
      "text/plain": [
       "['republican club',\n",
       " 'campus center concourse',\n",
       " {'arcade', 'rso corridor', 'staircase', 'student union'},\n",
       " {'campus pond', 'outside campus center', 'pleasant street', 'vend-o-mat'}]"
      ]
     },
     "execution_count": 39,
     "metadata": {},
     "output_type": "execute_result"
    }
   ],
   "source": [
    "options[-1]"
   ]
  },
  {
   "cell_type": "code",
   "execution_count": 125,
   "id": "1eb2fe2a",
   "metadata": {},
   "outputs": [
    {
     "name": "stdout",
     "output_type": "stream",
     "text": [
      "A                   B                     Used    Unused\n",
      "------------------  ------------------  ------  --------\n",
      "big top             lions' den               5         4\n",
      "lions' den          big top                  5         4\n",
      "back yard           lions' den               5         4\n",
      "lions' den          back yard                5         4\n",
      "big top             midway of midway         4         5\n",
      "big top             performance ring         4         5\n",
      "midway of midway    big top                  4         5\n",
      "performance ring    big top                  4         5\n",
      "big top             hypnotist's parlor       5         4\n",
      "big top             jennifer's boudoir       5         4\n",
      "back yard           midway of midway         4         5\n",
      "back yard           performance ring         4         5\n",
      "midway of midway    back yard                4         5\n",
      "hypnotist's parlor  big top                  5         4\n",
      "performance ring    back yard                4         5\n",
      "jennifer's boudoir  big top                  5         4\n",
      "midway of midway    lions' den               4         5\n",
      "lions' den          midway of midway         4         5\n",
      "lions' den          near white wagon         5         4\n",
      "near white wagon    lions' den               5         4\n",
      "back yard           hypnotist's parlor       5         4\n",
      "back yard           jennifer's boudoir       5         4\n",
      "hypnotist's parlor  back yard                5         4\n",
      "jennifer's boudoir  back yard                5         4\n",
      "hypnotist's parlor  lions' den               5         4\n",
      "lions' den          hypnotist's parlor       5         4\n",
      "lions' den          jennifer's boudoir       5         4\n",
      "jennifer's boudoir  lions' den               5         4\n",
      "midway of midway    near white wagon         4         5\n",
      "performance ring    near white wagon         4         5\n",
      "near white wagon    midway of midway         4         5\n",
      "near white wagon    performance ring         4         5\n",
      "hypnotist's parlor  performance ring         4         5\n",
      "hypnotist's parlor  near white wagon         5         4\n",
      "performance ring    hypnotist's parlor       4         5\n",
      "performance ring    jennifer's boudoir       4         5\n",
      "near white wagon    hypnotist's parlor       5         4\n",
      "near white wagon    jennifer's boudoir       5         4\n",
      "jennifer's boudoir  performance ring         4         5\n",
      "jennifer's boudoir  near white wagon         5         4\n"
     ]
    }
   ],
   "source": [
    "print(tabulate([[a, b, len(used), len(unused)] for a, b, used, unused in options], headers=['A', 'B', 'Used', 'Unused']))"
   ]
  },
  {
   "cell_type": "code",
   "execution_count": null,
   "id": "ae1a2f01",
   "metadata": {},
   "outputs": [],
   "source": []
  },
  {
   "cell_type": "code",
   "execution_count": 36,
   "id": "56ce3372bcc90c0a",
   "metadata": {},
   "outputs": [
    {
     "name": "stdout",
     "output_type": "stream",
     "text": [
      "Graph has 11 nodes and 10 edges.\n",
      "Finding up to 10 triplets where dist(A, C) >= 4.5\n",
      "\n",
      "Found 10 triplets:\n",
      "  1. ('soft room', 'west end of twopit room', 'plover room') -> dist(soft room, plover room) = 5.00\n",
      "  2. ('soft room', 'east end of twopit room', 'plover room') -> dist(soft room, plover room) = 5.00\n",
      "  3. ('soft room', 'west pit', 'plover room') -> dist(soft room, plover room) = 5.00\n",
      "  4. ('soft room', 'oriental room', 'plover room') -> dist(soft room, plover room) = 5.00\n",
      "  5. ('soft room', 'misty cavern', 'plover room') -> dist(soft room, plover room) = 5.00\n",
      "  6. ('soft room', 'bedquilt', 'plover room') -> dist(soft room, plover room) = 5.00\n",
      "  7. ('soft room', 'complex junction', 'plover room') -> dist(soft room, plover room) = 5.00\n",
      "  8. ('west end of twopit room', 'swiss cheese room', 'alcove') -> dist(west end of twopit room, alcove) = 5.00\n",
      "  9. ('west end of twopit room', 'swiss cheese room', 'plover room') -> dist(west end of twopit room, plover room) = 6.00\n",
      "  10. ('west end of twopit room', 'soft room', 'alcove') -> dist(west end of twopit room, alcove) = 5.00\n"
     ]
    }
   ],
   "source": [
    "import random\n",
    "\n",
    "# --- Setup: Create a sample graph ---\n",
    "# 1. Create a fully connected graph with 12 nodes.\n",
    "# num_nodes = 12\n",
    "# G = nx.complete_graph(num_nodes)\n",
    "\n",
    "\n",
    "# 2. Assign a random weight between 1.0 and 15.0 to each edge.\n",
    "# for u, v in G.edges():\n",
    "#     G.edges[u, v]['weight'] = random.uniform(1.0, 15.0)\n",
    "\n",
    "# --- Execution: Find the triplets ---\n",
    "n_to_find = 10\n",
    "min_distance = 4.5\n",
    "\n",
    "print(f\"Graph has {G.number_of_nodes()} nodes and {G.number_of_edges()} edges.\")\n",
    "print(f\"Finding up to {n_to_find} triplets where dist(A, C) >= {min_distance}\\n\")\n",
    "\n",
    "found_triplets = find_triplets(G, n=n_to_find, k=min_distance)\n",
    "\n",
    "# --- Output: Display the results ---\n",
    "if not found_triplets:\n",
    "    print(\"No triplets found matching the criteria.\")\n",
    "else:\n",
    "    print(f\"Found {len(found_triplets)} triplets:\")\n",
    "    for i, triplet in enumerate(found_triplets):\n",
    "        a, _, c = triplet\n",
    "        dist = nx.shortest_path_length(G, source=a, target=c, weight='weight')\n",
    "        print(f\"  {i+1}. {triplet} -> dist({a}, {c}) = {dist:.2f}\")"
   ]
  },
  {
   "cell_type": "code",
   "execution_count": null,
   "id": "f66cf4378dfe7568",
   "metadata": {},
   "outputs": [],
   "source": []
  },
  {
   "cell_type": "code",
   "execution_count": null,
   "id": "f8e4a65190e7ed54",
   "metadata": {},
   "outputs": [],
   "source": []
  },
  {
   "cell_type": "code",
   "execution_count": null,
   "id": "bd87fded314c781b",
   "metadata": {},
   "outputs": [],
   "source": [
    "from mpmath.matrices.matrices import rowsep\n",
    "\n",
    "len(range(10,100))"
   ]
  },
  {
   "cell_type": "code",
   "execution_count": null,
   "id": "a5bfa387fffbe985",
   "metadata": {},
   "outputs": [],
   "source": [
    "from pathlib import Path"
   ]
  },
  {
   "cell_type": "code",
   "execution_count": null,
   "id": "62b67168b7d8883e",
   "metadata": {},
   "outputs": [],
   "source": [
    "Path('foo/bar').relative_to('foo')"
   ]
  },
  {
   "cell_type": "code",
   "execution_count": null,
   "id": "888c1b4a34c63bcc",
   "metadata": {},
   "outputs": [],
   "source": []
  },
  {
   "cell_type": "code",
   "execution_count": null,
   "id": "426557828a2dc5a4",
   "metadata": {},
   "outputs": [],
   "source": [
    "# find what model is running on a vllm server\n",
    "import requests\n",
    "import json\n",
    "import os\n",
    "from typing import Dict, Any\n",
    "\n",
    "def get_vllm_model_info(server_url: str) -> Dict[str, Any]:\n",
    "\t\"\"\"\n",
    "\tGet the model information from a VLLM server.\n",
    "\n",
    "\tArgs:\n",
    "\t\tserver_url (str): The URL of the VLLM server.\n",
    "\n",
    "\tReturns:\n",
    "\t\tDict[str, Any]: A dictionary containing the model information.\n",
    "\t\"\"\"\n",
    "\ttry:\n",
    "\t\tresponse = requests.get(f\"{server_url}/v1/models\")\n",
    "\t\tresponse.raise_for_status()  # Raise an error for bad responses\n",
    "\t\tmodel_info = response.json()\n",
    "\t\treturn model_info\n",
    "\texcept requests.RequestException as e:\n",
    "\t\tprint(f\"Error fetching model info: {e}\")\n",
    "\t\treturn {}\n",
    "\n",
    "info = get_vllm_model_info(\"http://localhost:8000\")\n",
    "info"
   ]
  },
  {
   "cell_type": "code",
   "execution_count": null,
   "id": "d7b833aa",
   "metadata": {},
   "outputs": [],
   "source": []
  },
  {
   "cell_type": "code",
   "execution_count": null,
   "id": "bc61c4cbc983c28f",
   "metadata": {},
   "outputs": [],
   "source": [
    "info['data'][0]['id']"
   ]
  },
  {
   "cell_type": "code",
   "execution_count": null,
   "id": "81e71e759fae9eca",
   "metadata": {},
   "outputs": [],
   "source": [
    "import openai"
   ]
  },
  {
   "cell_type": "code",
   "execution_count": null,
   "id": "8e2b48a913008b26",
   "metadata": {},
   "outputs": [],
   "source": [
    "openai.ChatCompletion.create(\n",
    "\t  model=\"microsoft/Phi-4-multimodal-instruct\",\n",
    "\n",
    "  messages=[\n",
    "\t\t{\"role\": \"user\", \"content\": \"Hello!\"},\n",
    "\t]\n",
    "\t# temperature=0,\n",
    ")"
   ]
  },
  {
   "cell_type": "code",
   "execution_count": null,
   "id": "2ca534ede83055a4",
   "metadata": {},
   "outputs": [],
   "source": [
    "from openai import OpenAI\n",
    "\n",
    "# Modify OpenAI's API key and API base to use vLLM's API server.\n",
    "openai_api_key = \"EMPTY\"\n",
    "openai_api_base = \"http://localhost:8000/v1\"\n",
    "client = OpenAI(\n",
    "\tapi_key=openai_api_key,\n",
    "\tbase_url=openai_api_base,\n",
    ")\n",
    "completion = client.completions.create(model=\"microsoft/Phi-4-multimodal-instruct\",\n",
    "\t\t\t\t\t\t\t\t\t  prompt=\"Complete the sentence: San Francisco is a\")\n",
    "print(\"Completion result:\", completion)"
   ]
  },
  {
   "cell_type": "code",
   "execution_count": null,
   "id": "331e6e144664ef62",
   "metadata": {},
   "outputs": [],
   "source": [
    "resp = client.chat.completions.create(model=\"microsoft/Phi-4-multimodal-instruct\",\n",
    "\t\t\t\t\t\t\t\t\t  messages=[{'role':'user', 'content': 'Tell me a short joke.'}])\n",
    "resp"
   ]
  },
  {
   "cell_type": "code",
   "execution_count": null,
   "id": "eb4df55a51ebd511",
   "metadata": {},
   "outputs": [],
   "source": [
    "resp.choices[0].completion_tokens"
   ]
  },
  {
   "cell_type": "code",
   "execution_count": null,
   "id": "c46412b03d49e4b6",
   "metadata": {},
   "outputs": [],
   "source": [
    "resp.usage"
   ]
  },
  {
   "cell_type": "code",
   "execution_count": null,
   "id": "148764cd21e66292",
   "metadata": {},
   "outputs": [],
   "source": [
    "stream = client.chat.completions.create(model=\"microsoft/Phi-4-multimodal-instruct\", stream=True,\n",
    "\t\t\t\t\t\t\t\t\t\tstream_options={\"include_usage\": True},\n",
    "\t\t\t\t\t\t\t\t\t  messages=[{'role':'user', 'content': 'Tell me a short joke.'}])\n"
   ]
  },
  {
   "cell_type": "code",
   "execution_count": null,
   "id": "557c01de99969331",
   "metadata": {},
   "outputs": [],
   "source": [
    "stream"
   ]
  },
  {
   "cell_type": "code",
   "execution_count": null,
   "id": "6bdd4e14b24dc4f9",
   "metadata": {},
   "outputs": [],
   "source": [
    "chunk = next(stream)"
   ]
  },
  {
   "cell_type": "code",
   "execution_count": null,
   "id": "e68974c9fb20f2c0",
   "metadata": {},
   "outputs": [],
   "source": [
    "chunk.choices[0].delta"
   ]
  },
  {
   "cell_type": "code",
   "execution_count": null,
   "id": "b25c1c3b092ecfef",
   "metadata": {},
   "outputs": [],
   "source": [
    "type(stream)"
   ]
  },
  {
   "cell_type": "code",
   "execution_count": null,
   "id": "2d8f2814dfec5e6d",
   "metadata": {},
   "outputs": [],
   "source": [
    "chunk"
   ]
  },
  {
   "cell_type": "code",
   "execution_count": null,
   "id": "efbd23daf489368f",
   "metadata": {},
   "outputs": [],
   "source": [
    "type(chunk)"
   ]
  },
  {
   "cell_type": "code",
   "execution_count": null,
   "id": "47b1f982575c26f5",
   "metadata": {},
   "outputs": [],
   "source": [
    "client = openai.OpenAI(api_key='EMPTY', base_url='http://localhost:8000/v1')\n"
   ]
  },
  {
   "cell_type": "code",
   "execution_count": null,
   "id": "11029fe591a323db",
   "metadata": {},
   "outputs": [],
   "source": [
    "str(client.base_url)"
   ]
  },
  {
   "cell_type": "code",
   "execution_count": null,
   "id": "312ffb39af53e777",
   "metadata": {},
   "outputs": [],
   "source": [
    "client.base_url.host"
   ]
  },
  {
   "cell_type": "code",
   "execution_count": null,
   "id": "3465267aa24ca984",
   "metadata": {},
   "outputs": [],
   "source": [
    "str(client.base_url)[:-3]"
   ]
  },
  {
   "cell_type": "code",
   "execution_count": null,
   "id": "40bbd4df166e49f6",
   "metadata": {},
   "outputs": [],
   "source": [
    "openai.types.chat.chatcompletion.ChatCompletionChunk"
   ]
  },
  {
   "cell_type": "code",
   "execution_count": null,
   "id": "ebad3a310719e232",
   "metadata": {},
   "outputs": [],
   "source": [
    "openai.ChatCompletion.chatcompletion.ChatCompletionChunk"
   ]
  },
  {
   "cell_type": "code",
   "execution_count": null,
   "id": "15a5efd5ff9b8999",
   "metadata": {},
   "outputs": [],
   "source": [
    "openai.ChatCompletion"
   ]
  },
  {
   "cell_type": "code",
   "execution_count": null,
   "id": "1ab6bcb3e7e722a5",
   "metadata": {},
   "outputs": [],
   "source": [
    "from pathlib import Path\n",
    "from ludwig.direct_prompt_and_parse.dpp_ttt import DPPforTicTacToe\n",
    "from ludwig.util.clients import MockEndpoint"
   ]
  },
  {
   "cell_type": "code",
   "execution_count": null,
   "id": "c1835830ddd98bd",
   "metadata": {},
   "outputs": [],
   "source": [
    "dpp = DPPforTicTacToe('bfs', client=MockEndpoint())"
   ]
  },
  {
   "cell_type": "code",
   "execution_count": null,
   "id": "c26429040a73adb3",
   "metadata": {},
   "outputs": [],
   "source": [
    "dpp.state_desc_template"
   ]
  },
  {
   "cell_type": "code",
   "execution_count": null,
   "id": "510b5a58907939a5",
   "metadata": {},
   "outputs": [],
   "source": [
    "root = Path().absolute().parent.joinpath('assets/prompts') / 'dpp'\n",
    "root.mkdir(parents=True, exist_ok=True)"
   ]
  },
  {
   "cell_type": "code",
   "execution_count": null,
   "id": "3597c91cc827de14",
   "metadata": {},
   "outputs": [],
   "source": [
    "# root.joinpath('respones.txt').write_text(dpp.response_template, encoding='utf-8')"
   ]
  },
  {
   "cell_type": "code",
   "execution_count": null,
   "id": "ea64c776b683d5b6",
   "metadata": {},
   "outputs": [],
   "source": [
    "class TestContextManager:\n",
    "\tdef __enter__(self):\n",
    "\t\tprint(\"Entering context\")\n",
    "\t\tself.data = {}\n",
    "\t\treturn self.data\n",
    "\n",
    "\tdef __exit__(self, exc_type, exc_value, traceback):\n",
    "\t\tprint(\"Exiting context\")\n",
    "\t\tif exc_type:\n",
    "\t\t\tprint(f\"An exception occurred: {exc_value}\")\n",
    "\t\tself.data['something']= 'foo'\n",
    "\n",
    "class Top:\n",
    "\tdef collect(self):\n",
    "\t\treturn TestContextManager()\n",
    "\n",
    "cm  = Top()\n",
    "\n",
    "with cm.collect() as x:\n",
    "\tprint(x)\n",
    "\tpass\n",
    "print(x)"
   ]
  },
  {
   "cell_type": "code",
   "execution_count": null,
   "id": "39a63c1ab4be1fe9",
   "metadata": {},
   "outputs": [],
   "source": [
    "with strat.collect_stats() as stats:\n",
    "\tstrat.work(something)\n",
    "print(stats)"
   ]
  },
  {
   "cell_type": "code",
   "execution_count": null,
   "id": "4292ffc8e76a91b7",
   "metadata": {},
   "outputs": [],
   "source": []
  },
  {
   "cell_type": "code",
   "execution_count": null,
   "id": "381f803df3263c70",
   "metadata": {},
   "outputs": [],
   "source": []
  },
  {
   "cell_type": "code",
   "execution_count": null,
   "id": "459f99f063bc4ba2",
   "metadata": {},
   "outputs": [],
   "source": [
    "# def is_valid_tic_tac_toe(board):\n",
    "# \tdef count(board):\n",
    "# \t\tx_count = sum(row.count('X') for row in board)\n",
    "# \t\to_count = sum(row.count('O') for row in board)\n",
    "# \t\treturn x_count, o_count\n",
    "#\n",
    "# \tdef win(player):\n",
    "# \t\t# Check rows, columns, and diagonals\n",
    "# \t\tfor i in range(3):\n",
    "# \t\t\tif all(board[i][j] == player for j in range(3)):  # row\n",
    "# \t\t\t\treturn True\n",
    "# \t\t\tif all(board[j][i] == player for j in range(3)):  # column\n",
    "# \t\t\t\treturn True\n",
    "# \t\tif all(board[i][i] == player for i in range(3)):      # main diagonal\n",
    "# \t\t\treturn True\n",
    "# \t\tif all(board[i][2 - i] == player for i in range(3)):  # anti-diagonal\n",
    "# \t\t\treturn True\n",
    "# \t\treturn False\n",
    "#\n",
    "# \tx_count, o_count = count(board)\n",
    "#\n",
    "# \t# Rule: X always goes first\n",
    "# \tif o_count > x_count or x_count > o_count + 1:\n",
    "# \t\treturn False\n",
    "#\n",
    "# \tx_win = win('X')\n",
    "# \to_win = win('O')\n",
    "#\n",
    "# \t# Rule: Both players cannot win simultaneously\n",
    "# \tif x_win and o_win:\n",
    "# \t\treturn False\n",
    "#\n",
    "# \t# Rule: If X wins, X must have one more move\n",
    "# \tif x_win and x_count != o_count + 1:\n",
    "# \t\treturn False\n",
    "#\n",
    "# \t# Rule: If O wins, X and O must have the same number of moves\n",
    "# \tif o_win and x_count != o_count:\n",
    "# \t\treturn False\n",
    "#\n",
    "# \treturn True\n",
    "#\n",
    "# def check_winner(board):\n",
    "# \tdef win(player):\n",
    "# \t\t# Check rows, columns, and diagonals\n",
    "# \t\tfor i in range(3):\n",
    "# \t\t\tif all(board[i][j] == player for j in range(3)):  # row\n",
    "# \t\t\t\treturn True\n",
    "# \t\t\tif all(board[j][i] == player for j in range(3)):  # column\n",
    "# \t\t\t\treturn True\n",
    "# \t\tif all(board[i][i] == player for i in range(3)):      # main diagonal\n",
    "# \t\t\treturn True\n",
    "# \t\tif all(board[i][2 - i] == player for i in range(3)):  # anti-diagonal\n",
    "# \t\t\treturn True\n",
    "# \t\treturn False\n",
    "#\n",
    "# \tif win('X'):\n",
    "# \t\treturn 'X'\n",
    "# \telif win('O'):\n",
    "# \t\treturn 'O'\n",
    "# \telse:\n",
    "# \t\treturn None\n",
    "#\n",
    "# from itertools import product\n",
    "# def generate_ttt_states():\n",
    "# \tfor raw in product(*[['X', 'O', ' '] for _ in range(9)]):\n",
    "# \t\tboard = [list(raw[i:i+3]) for i in range(0, 9, 3)]\n",
    "# \t\tif is_valid_tic_tac_toe(board):\n",
    "# \t\t\tyield board\n",
    "#\n",
    "# def generate_next_states(state):\n",
    "# \t# Count pieces\n",
    "# \tx_count = sum(row.count('X') for row in state)\n",
    "# \to_count = sum(row.count('O') for row in state)\n",
    "#\n",
    "# \t# Infer next player\n",
    "# \tif x_count == o_count:\n",
    "# \t\tplayer = 'X'\n",
    "# \telif x_count == o_count + 1:\n",
    "# \t\tplayer = 'O'\n",
    "# \telse:\n",
    "# \t\traise ValueError(\"Invalid board state: too many Xs or Os\")\n",
    "#\n",
    "# \t# Generate next states\n",
    "# \tnext_states = []\n",
    "# \tfor i in range(3):\n",
    "# \t\tfor j in range(3):\n",
    "# \t\t\tif state[i][j] == ' ':\n",
    "# \t\t\t\tnew_state = [row[:] for row in state]\n",
    "# \t\t\t\tnew_state[i][j] = player\n",
    "# \t\t\t\tnext_states.append(new_state)\n",
    "# \treturn next_states\n",
    "#\n",
    "# def state_value(state):\n",
    "# \twinner = check_winner(state)\n",
    "# \tif winner == 'X':\n",
    "# \t\treturn 1\n",
    "# \telif winner == 'O':\n",
    "# \t\treturn -1\n",
    "#\n",
    "# \toptions = [state_value(state) for state in generate_next_states(state)]\n",
    "# \treturn sum(options) / len(options) if options else 0\n"
   ]
  },
  {
   "cell_type": "code",
   "execution_count": null,
   "id": "31b82f0f30bd2efc",
   "metadata": {},
   "outputs": [],
   "source": [
    "states = list(generate_ttt_states())\n",
    "len(states)"
   ]
  },
  {
   "cell_type": "code",
   "execution_count": null,
   "id": "483b5501d968fec1",
   "metadata": {},
   "outputs": [],
   "source": [
    "from tqdm.notebook import tqdm"
   ]
  },
  {
   "cell_type": "code",
   "execution_count": null,
   "id": "bf921684c40a2202",
   "metadata": {},
   "outputs": [],
   "source": [
    "to_code = lambda state: ''.join(''.join(row) for row in state)\n",
    "exp_values = {to_code(state): state_value(state) for state in tqdm(states)}\n"
   ]
  },
  {
   "cell_type": "code",
   "execution_count": null,
   "id": "cb169c8a8b5f120c",
   "metadata": {},
   "outputs": [],
   "source": [
    "# import json\n",
    "# json.dump(exp_values, open('expectimax.json', 'w'), indent=2)"
   ]
  },
  {
   "cell_type": "code",
   "execution_count": null,
   "id": "3f95ecbcd5c8f440",
   "metadata": {},
   "outputs": [],
   "source": [
    "exp_values[' '*9]"
   ]
  },
  {
   "cell_type": "code",
   "execution_count": null,
   "id": "d1efa406635664f3",
   "metadata": {},
   "outputs": [],
   "source": [
    "exp_values['XXO O    ']"
   ]
  },
  {
   "cell_type": "code",
   "execution_count": null,
   "id": "78a90350e03482c8",
   "metadata": {},
   "outputs": [],
   "source": []
  },
  {
   "cell_type": "code",
   "execution_count": null,
   "id": "3d6530a474be63ec",
   "metadata": {},
   "outputs": [],
   "source": [
    "from collections import Counter"
   ]
  },
  {
   "cell_type": "code",
   "execution_count": null,
   "id": "f434f648ad1c9864",
   "metadata": {},
   "outputs": [],
   "source": []
  },
  {
   "cell_type": "code",
   "execution_count": null,
   "id": "3b4dac227ac15142",
   "metadata": {},
   "outputs": [],
   "source": [
    "Counter(check_winner(tuple(state)) for state in states)"
   ]
  },
  {
   "cell_type": "code",
   "execution_count": null,
   "id": "176a4d854b02622",
   "metadata": {},
   "outputs": [],
   "source": [
    "sel = [state for state in states if check_winner(tuple(state)) == 'X']\n",
    "len(sel)"
   ]
  },
  {
   "cell_type": "code",
   "execution_count": null,
   "id": "fc18fe574771bc74",
   "metadata": {},
   "outputs": [],
   "source": []
  },
  {
   "cell_type": "code",
   "execution_count": null,
   "id": "789bd6492498e83c",
   "metadata": {},
   "outputs": [],
   "source": [
    "def check_winner(state):\n",
    "\tlines = [\n",
    "\t\tstate[0:3], state[3:6], state[6:9],  # rows\n",
    "\t\tstate[0::3], state[1::3], state[2::3],  # columns\n",
    "\t\tstate[0::4], state[2:7:2]  # diagonals\n",
    "\t]\n",
    "\tfor line in lines:\n",
    "\t\tif line == 'XXX':\n",
    "\t\t\treturn 'X'\n",
    "\t\tif line == 'OOO':\n",
    "\t\t\treturn 'O'\n",
    "\treturn None\n",
    "\n",
    "def is_full(state):\n",
    "\treturn ' ' not in state\n",
    "\n",
    "from functools import lru_cache\n",
    "\n",
    "def generate_next_states(state):\n",
    "\tif check_winner(state) is not None:\n",
    "\t\treturn []\n",
    "\tis_x_turn = state.count('X') == state.count('O')\n",
    "\tnext_states = []\n",
    "\tfor i in range(9):\n",
    "\t\tif state[i] == ' ':\n",
    "\t\t\tnew_state = state[:i] + ('X' if is_x_turn else 'O') + state[i+1:]\n",
    "\t\t\tnext_states.append(new_state)\n",
    "\treturn next_states\n",
    "\n",
    "\n",
    "@lru_cache(maxsize=None)\n",
    "def minimax(state):\n",
    "\twinner = check_winner(state)\n",
    "\tif winner == 'X':\n",
    "\t\treturn 1\n",
    "\tif winner == 'O':\n",
    "\t\treturn -1\n",
    "\tif is_full(state):\n",
    "\t\treturn 0\n",
    "\tis_x_turn = state.count('X') == state.count('O')\n",
    "\treturn (max if is_x_turn else min)(minimax(option) for option in generate_next_states(state))\n",
    "\n",
    "@lru_cache(maxsize=None)\n",
    "def expectimax(state):\n",
    "\twinner = check_winner(state)\n",
    "\tif winner == 'X':\n",
    "\t\treturn 1\n",
    "\tif winner == 'O':\n",
    "\t\treturn -1\n",
    "\tif is_full(state):\n",
    "\t\treturn 0\n",
    "\tis_x_turn = state.count('X') == state.count('O')\n",
    "\tvalues = [expectimax(option) for option in generate_next_states(state)]\n",
    "\treturn sum(values) / len(values) if values else 0\n"
   ]
  },
  {
   "cell_type": "code",
   "execution_count": null,
   "id": "41cb7aabe3b04fd1",
   "metadata": {},
   "outputs": [],
   "source": [
    "all_states = []\n",
    "past_states = set()\n",
    "origin_state = ' ' * 9\n",
    "todo = [origin_state]\n",
    "while todo:\n",
    "\tstate = todo.pop()\n",
    "\tall_states.append(state)\n",
    "\tpast_states.add(state)\n",
    "\tfor next_state in generate_next_states(state):\n",
    "\t\tif next_state not in past_states:\n",
    "\t\t\ttodo.append(next_state)\n",
    "len(all_states)"
   ]
  },
  {
   "cell_type": "code",
   "execution_count": null,
   "id": "12463e8aaef95e67",
   "metadata": {},
   "outputs": [],
   "source": [
    "all_states"
   ]
  },
  {
   "cell_type": "code",
   "execution_count": null,
   "id": "56a5adf2bf77f9b8",
   "metadata": {},
   "outputs": [],
   "source": [
    "mm_values = {state: minimax(state) for state in tqdm(all_states)}\n",
    "Counter(mm_values.values()), mm_values[origin_state]"
   ]
  },
  {
   "cell_type": "code",
   "execution_count": null,
   "id": "3757d9b6fe5d2ace",
   "metadata": {},
   "outputs": [],
   "source": [
    "ex_values = {state: expectimax(state) for state in tqdm(all_states)}\n",
    "ex_values[origin_state]"
   ]
  },
  {
   "cell_type": "code",
   "execution_count": null,
   "id": "af050bb6b584cc9a",
   "metadata": {},
   "outputs": [],
   "source": [
    "mm_values['XXOOXOX  ']"
   ]
  },
  {
   "cell_type": "code",
   "execution_count": null,
   "id": "ed846c764f00623f",
   "metadata": {},
   "outputs": [],
   "source": []
  },
  {
   "cell_type": "code",
   "execution_count": null,
   "id": "6979a471830980dc",
   "metadata": {},
   "outputs": [],
   "source": [
    "import json\n",
    "json.dump(mm_values, open('minimax.json', 'w'), indent=2)\n",
    "json.dump(ex_values, open('expectimax.json', 'w'), indent=2)"
   ]
  },
  {
   "cell_type": "code",
   "execution_count": null,
   "id": "63b0bcc820cc5a26",
   "metadata": {},
   "outputs": [],
   "source": [
    "mm_values = {state: minimax_str(state, True) for state in tqdm(exp_values)}"
   ]
  },
  {
   "cell_type": "code",
   "execution_count": null,
   "id": "8ff7e99d8e631e9e",
   "metadata": {},
   "outputs": [],
   "source": [
    "Counter(mm_values.values())"
   ]
  },
  {
   "cell_type": "code",
   "execution_count": null,
   "id": "8ad49a2d2b3ca8e0",
   "metadata": {},
   "outputs": [],
   "source": [
    "mm_values[' '*9]"
   ]
  },
  {
   "cell_type": "code",
   "execution_count": null,
   "id": "d1864350bf36b30c",
   "metadata": {},
   "outputs": [],
   "source": []
  },
  {
   "cell_type": "code",
   "execution_count": null,
   "id": "e99d4d395a31b5ef",
   "metadata": {},
   "outputs": [],
   "source": []
  },
  {
   "cell_type": "code",
   "execution_count": null,
   "id": "44b7a16bb04dfdf0",
   "metadata": {},
   "outputs": [],
   "source": [
    "from tabulate import tabulate"
   ]
  },
  {
   "cell_type": "code",
   "execution_count": null,
   "id": "db9ae67a61bc10e4",
   "metadata": {},
   "outputs": [],
   "source": [
    "inits = [\"OO X  X X\", \"OX X XO  \", \"OXX   O X\", \"O XX  X O\"]\n",
    "for init in inits:\n",
    "\tprint(f'{init!r} - {mm_values[init]:.1f} - {exp_values[init]:.1f}')\n",
    "\ttbl = []\n",
    "\tfor state in generate_next_states(init):\n",
    "\t\ttbl.append((state, state[4] == 'O', mm_values[state], exp_values[state]))\n",
    "\tprint(tabulate(tbl, headers=['State', 'Minimax', 'Expectimax'], tablefmt='grid'))\n",
    "\tprint()"
   ]
  },
  {
   "cell_type": "code",
   "execution_count": null,
   "id": "784bbf4e1a019014",
   "metadata": {},
   "outputs": [],
   "source": [
    "all_states = list(mm_values)"
   ]
  },
  {
   "cell_type": "code",
   "execution_count": null,
   "id": "dea9c69195c85a8a",
   "metadata": {},
   "outputs": [],
   "source": [
    "candidates = [state for state in all_states if state.count(' ') == 4 and state[4] == ' ' and check_winner_str(state) is None]\n",
    "len(candidates)"
   ]
  },
  {
   "cell_type": "code",
   "execution_count": null,
   "id": "789a34c68be94cd2",
   "metadata": {},
   "outputs": [],
   "source": [
    "candidates[0]"
   ]
  },
  {
   "cell_type": "code",
   "execution_count": null,
   "id": "e528ce240360e891",
   "metadata": {},
   "outputs": [],
   "source": [
    "cand_vals = [{n: mm_values[n] for n in generate_next_states(state)} for state in candidates]\n",
    "gold = []\n",
    "for state, vals in zip(candidates, cand_vals):\n",
    "\tm = list(state)\n",
    "\tm[4] = 'O'\n",
    "\tm = ''.join(m)\n",
    "\tif vals[m] < min(v for s, v in vals.items() if s != m):\n",
    "\t\tgold.append(state)\n",
    "len(gold)"
   ]
  },
  {
   "cell_type": "code",
   "execution_count": null,
   "id": "f802c7876788b06d",
   "metadata": {},
   "outputs": [],
   "source": [
    "gold # where taking the middle is actually the best"
   ]
  },
  {
   "cell_type": "code",
   "execution_count": null,
   "id": "c47632c7f4971fba",
   "metadata": {},
   "outputs": [],
   "source": [
    "# print(gold) # ['XXOO   X ', 'XXOO    X', 'XXO  O  X', 'XXO   OX ', 'XXO   O X', 'XXO    OX', 'XX O O X ', 'XX O O  X', 'XOXO  X  ', 'XOX  O  X', 'XOX   XO ', 'XOX    OX', 'XOO  X  X', 'XO X XO  ', 'XO X X O ', 'XO X  O X', 'XO X   OX', 'XO   XXO ', 'XO   X OX', 'XO    XOX', 'XO    OXX', 'X XO OX  ', 'X XO O X ', 'X XO O  X', 'X OX XO  ', 'X OX  O X', 'X OO X  X', 'X O  XOX ', 'X O  XO X', 'X O  X OX', 'X O   OXX', 'X  X OO X', 'X  X  OOX', 'X  O OX X', 'X  O O XX', 'X  O  XOX', 'X  O  OXX', 'X    OOXX', 'OXXO  X  ', 'OXX  OX  ', 'OXX  O X ', 'OXX   XO ', 'OXX   X O', 'OXX    XO', 'OXOX X   ', 'OXOX   X ', 'OXO  X X ', 'OX X XO  ', 'OX X X O ', 'OX X X  O', 'OX X O X ', 'OX X  OX ', 'OX X   XO', 'OX   XX O', 'OX   X XO', 'OX    XXO', 'OOXX  X  ', 'O XX X  O', 'O XX OX  ', 'O XX  XO ', 'O XX  X O', 'O XX   XO', 'O X  XX O', 'O X   XXO', 'O  X XXO ', 'O  X XX O', 'O  X XOX ', 'O  X X XO', ' XXO OX  ', ' XXO O X ', ' XOX XO  ', ' XOX X O ', ' XOX X  O', ' XOX  OX ', ' XOX  O X', ' XOO X X ', ' XO  XOX ', ' XO  X XO', ' XO   OXX', ' X X OOX ', ' X X  OXO', ' X O X XO', ' X O OXX ', ' X O OX X', ' X O O XX', ' X O  XXO', ' X   XOXO', ' X   OOXX', ' OXX X O ', ' OXX X  O', ' OXX  XO ', ' OXX   OX', ' OX  XXO ', ' OX  XX O', ' OX   XXO', ' OX   XOX', ' O X XXO ', ' O X XOX ', ' O X X XO', ' O X X OX', '  XO XX O', '  XO OXX ', '  XO OX X', '  XO  XXO', '  X  XXOO', '  X  OXXO', '  X  OXOX', '  OX XOX ', '  OX XO X', '  OX X XO', '  OX X OX', '   X XOXO']\n",
    "\n",
    "# print(candidates) # ['XXOX O   ', 'XXOX  O  ', 'XXOX   O ', 'XXOX    O', 'XXOO X   ', 'XXOO  X  ', 'XXOO   X ', 'XXOO    X', 'XXO  XO  ', 'XXO  X O ', 'XXO  X  O', 'XXO  OX  ', 'XXO  O X ', 'XXO  O  X', 'XXO   XO ', 'XXO   X O', 'XXO   OX ', 'XXO   O X', 'XXO    XO', 'XXO    OX', 'XX X OO  ', 'XX X O O ', 'XX X O  O', 'XX X  OO ', 'XX X  O O', 'XX X   OO', 'XX O XO  ', 'XX O X O ', 'XX O X  O', 'XX O OX  ', 'XX O O X ', 'XX O O  X', 'XX O  XO ', 'XX O  X O', 'XX O  OX ', 'XX O  O X', 'XX O   XO', 'XX O   OX', 'XX   XOO ', 'XX   XO O', 'XX   X OO', 'XX   OXO ', 'XX   OX O', 'XX   OOX ', 'XX   OO X', 'XX   O XO', 'XX   O OX', 'XX    XOO', 'XX    OXO', 'XX    OOX', 'XOXX O   ', 'XOXX  O  ', 'XOXX   O ', 'XOXX    O', 'XOXO X   ', 'XOXO  X  ', 'XOXO   X ', 'XOXO    X', 'XOX  XO  ', 'XOX  X O ', 'XOX  X  O', 'XOX  OX  ', 'XOX  O X ', 'XOX  O  X', 'XOX   XO ', 'XOX   X O', 'XOX   OX ', 'XOX   O X', 'XOX    XO', 'XOX    OX', 'XOOX X   ', 'XOOX   X ', 'XOOX    X', 'XOO  XX  ', 'XOO  X X ', 'XOO  X  X', 'XOO   XX ', 'XOO   X X', 'XOO    XX', 'XO X XO  ', 'XO X X O ', 'XO X X  O', 'XO X O X ', 'XO X O  X', 'XO X  OX ', 'XO X  O X', 'XO X   XO', 'XO X   OX', 'XO O XX  ', 'XO O X X ', 'XO O X  X', 'XO O  XX ', 'XO O  X X', 'XO O   XX', 'XO   XXO ', 'XO   XX O', 'XO   XOX ', 'XO   XO X', 'XO   X XO', 'XO   X OX', 'XO   OXX ', 'XO   OX X', 'XO   O XX', 'XO    XXO', 'XO    XOX', 'XO    OXX', 'X XX OO  ', 'X XX O O ', 'X XX O  O', 'X XX  OO ', 'X XX  O O', 'X XX   OO', 'X XO XO  ', 'X XO X O ', 'X XO X  O', 'X XO OX  ', 'X XO O X ', 'X XO O  X', 'X XO  XO ', 'X XO  X O', 'X XO  OX ', 'X XO  O X', 'X XO   XO', 'X XO   OX', 'X X  XOO ', 'X X  XO O', 'X X  X OO', 'X X  OXO ', 'X X  OX O', 'X X  OOX ', 'X X  OO X', 'X X  O XO', 'X X  O OX', 'X X   XOO', 'X X   OXO', 'X X   OOX', 'X OX XO  ', 'X OX X O ', 'X OX X  O', 'X OX O X ', 'X OX O  X', 'X OX  OX ', 'X OX  O X', 'X OX   XO', 'X OX   OX', 'X OO XX  ', 'X OO X X ', 'X OO X  X', 'X OO  XX ', 'X OO  X X', 'X OO   XX', 'X O  XXO ', 'X O  XX O', 'X O  XOX ', 'X O  XO X', 'X O  X XO', 'X O  X OX', 'X O  OXX ', 'X O  OX X', 'X O  O XX', 'X O   XXO', 'X O   XOX', 'X O   OXX', 'X  X XOO ', 'X  X XO O', 'X  X X OO', 'X  X OOX ', 'X  X OO X', 'X  X O XO', 'X  X O OX', 'X  X  OXO', 'X  X  OOX', 'X  O XXO ', 'X  O XX O', 'X  O XOX ', 'X  O XO X', 'X  O X XO', 'X  O X OX', 'X  O OXX ', 'X  O OX X', 'X  O O XX', 'X  O  XXO', 'X  O  XOX', 'X  O  OXX', 'X    XXOO', 'X    XOXO', 'X    XOOX', 'X    OXXO', 'X    OXOX', 'X    OOXX', 'OXXX O   ', 'OXXX  O  ', 'OXXX   O ', 'OXXX    O', 'OXXO X   ', 'OXXO  X  ', 'OXXO   X ', 'OXXO    X', 'OXX  XO  ', 'OXX  X O ', 'OXX  X  O', 'OXX  OX  ', 'OXX  O X ', 'OXX  O  X', 'OXX   XO ', 'OXX   X O', 'OXX   OX ', 'OXX   O X', 'OXX    XO', 'OXX    OX', 'OXOX X   ', 'OXOX  X  ', 'OXOX   X ', 'OXOX    X', 'OXO  XX  ', 'OXO  X X ', 'OXO  X  X', 'OXO   XX ', 'OXO   X X', 'OXO    XX', 'OX X XO  ', 'OX X X O ', 'OX X X  O', 'OX X OX  ', 'OX X O X ', 'OX X O  X', 'OX X  XO ', 'OX X  X O', 'OX X  OX ', 'OX X  O X', 'OX X   XO', 'OX X   OX', 'OX O XX  ', 'OX O X X ', 'OX O X  X', 'OX O  XX ', 'OX O  X X', 'OX O   XX', 'OX   XXO ', 'OX   XX O', 'OX   XOX ', 'OX   XO X', 'OX   X XO', 'OX   X OX', 'OX   OXX ', 'OX   OX X', 'OX   O XX', 'OX    XXO', 'OX    XOX', 'OX    OXX', 'OOXX X   ', 'OOXX  X  ', 'OOXX   X ', 'OOXX    X', 'OOX  XX  ', 'OOX  X X ', 'OOX   XX ', 'OOX   X X', 'OOX    XX', 'OO X XX  ', 'OO X X X ', 'OO X X  X', 'OO X  XX ', 'OO X  X X', 'OO X   XX', 'OO   XXX ', 'OO   XX X', 'OO   X XX', 'O XX XO  ', 'O XX X O ', 'O XX X  O', 'O XX OX  ', 'O XX O X ', 'O XX O  X', 'O XX  XO ', 'O XX  X O', 'O XX  OX ', 'O XX  O X', 'O XX   XO', 'O XX   OX', 'O XO XX  ', 'O XO X X ', 'O XO  XX ', 'O XO  X X', 'O XO   XX', 'O X  XXO ', 'O X  XX O', 'O X  XOX ', 'O X  X XO', 'O X  OXX ', 'O X  OX X', 'O X  O XX', 'O X   XXO', 'O X   XOX', 'O X   OXX', 'O OX XX  ', 'O OX X X ', 'O OX X  X', 'O OX  XX ', 'O OX  X X', 'O OX   XX', 'O O  XXX ', 'O O  XX X', 'O O  X XX', 'O  X XXO ', 'O  X XX O', 'O  X XOX ', 'O  X XO X', 'O  X X XO', 'O  X X OX', 'O  X OXX ', 'O  X OX X', 'O  X O XX', 'O  X  XXO', 'O  X  XOX', 'O  X  OXX', 'O  O XXX ', 'O  O XX X', 'O  O X XX', 'O    XXXO', 'O    XXOX', 'O    XOXX', ' XXX OO  ', ' XXX O O ', ' XXX O  O', ' XXX  OO ', ' XXX  O O', ' XXX   OO', ' XXO XO  ', ' XXO X O ', ' XXO X  O', ' XXO OX  ', ' XXO O X ', ' XXO O  X', ' XXO  XO ', ' XXO  X O', ' XXO  OX ', ' XXO  O X', ' XXO   XO', ' XXO   OX', ' XX  XOO ', ' XX  XO O', ' XX  X OO', ' XX  OXO ', ' XX  OX O', ' XX  OOX ', ' XX  OO X', ' XX  O XO', ' XX  O OX', ' XX   XOO', ' XX   OXO', ' XX   OOX', ' XOX XO  ', ' XOX X O ', ' XOX X  O', ' XOX OX  ', ' XOX O X ', ' XOX O  X', ' XOX  XO ', ' XOX  X O', ' XOX  OX ', ' XOX  O X', ' XOX   XO', ' XOX   OX', ' XOO XX  ', ' XOO X X ', ' XOO X  X', ' XOO  XX ', ' XOO  X X', ' XOO   XX', ' XO  XXO ', ' XO  XX O', ' XO  XOX ', ' XO  XO X', ' XO  X XO', ' XO  X OX', ' XO  OXX ', ' XO  OX X', ' XO  O XX', ' XO   XXO', ' XO   XOX', ' XO   OXX', ' X X XOO ', ' X X XO O', ' X X X OO', ' X X OXO ', ' X X OX O', ' X X OOX ', ' X X OO X', ' X X O XO', ' X X O OX', ' X X  XOO', ' X X  OXO', ' X X  OOX', ' X O XXO ', ' X O XX O', ' X O XOX ', ' X O XO X', ' X O X XO', ' X O X OX', ' X O OXX ', ' X O OX X', ' X O O XX', ' X O  XXO', ' X O  XOX', ' X O  OXX', ' X   XXOO', ' X   XOXO', ' X   XOOX', ' X   OXXO', ' X   OXOX', ' X   OOXX', ' OXX XO  ', ' OXX X O ', ' OXX X  O', ' OXX OX  ', ' OXX O X ', ' OXX O  X', ' OXX  XO ', ' OXX  X O', ' OXX  OX ', ' OXX  O X', ' OXX   XO', ' OXX   OX', ' OXO XX  ', ' OXO X X ', ' OXO  XX ', ' OXO  X X', ' OXO   XX', ' OX  XXO ', ' OX  XX O', ' OX  XOX ', ' OX  X XO', ' OX  OXX ', ' OX  OX X', ' OX  O XX', ' OX   XXO', ' OX   XOX', ' OX   OXX', ' OOX XX  ', ' OOX X X ', ' OOX X  X', ' OOX  XX ', ' OOX  X X', ' OOX   XX', ' OO  XXX ', ' OO  XX X', ' OO  X XX', ' O X XXO ', ' O X XX O', ' O X XOX ', ' O X XO X', ' O X X XO', ' O X X OX', ' O X OXX ', ' O X OX X', ' O X O XX', ' O X  XXO', ' O X  XOX', ' O X  OXX', ' O O XXX ', ' O O XX X', ' O O X XX', ' O   XXXO', ' O   XXOX', ' O   XOXX', '  XX XOO ', '  XX XO O', '  XX X OO', '  XX OXO ', '  XX OX O', '  XX OOX ', '  XX OO X', '  XX O XO', '  XX O OX', '  XX  XOO', '  XX  OXO', '  XX  OOX', '  XO XXO ', '  XO XX O', '  XO XOX ', '  XO X XO', '  XO OXX ', '  XO OX X', '  XO O XX', '  XO  XXO', '  XO  XOX', '  XO  OXX', '  X  XXOO', '  X  XOXO', '  X  OXXO', '  X  OXOX', '  X  OOXX', '  OX XXO ', '  OX XX O', '  OX XOX ', '  OX XO X', '  OX X XO', '  OX X OX', '  OX OXX ', '  OX OX X', '  OX O XX', '  OX  XXO', '  OX  XOX', '  OX  OXX', '  OO XXX ', '  OO XX X', '  OO X XX', '  O  XXXO', '  O  XXOX', '  O  XOXX', '   X XXOO', '   X XOXO', '   X XOOX', '   X OXXO', '   X OXOX', '   X OOXX', '   O XXXO', '   O XXOX', '   O XOXX']"
   ]
  },
  {
   "cell_type": "code",
   "execution_count": null,
   "id": "d444c682e45b7cbf",
   "metadata": {},
   "outputs": [],
   "source": []
  },
  {
   "cell_type": "code",
   "execution_count": null,
   "id": "d79e3059653f10ef",
   "metadata": {},
   "outputs": [],
   "source": [
    "import json\n",
    "from omnibelt import pformat"
   ]
  },
  {
   "cell_type": "code",
   "execution_count": null,
   "id": "ea316848c2debdde",
   "metadata": {},
   "outputs": [],
   "source": [
    "products = {'p1': {'title': 'Product 1', 'description': 'Description of product 1'},\n",
    "\t\t\t'p2': {'title': 'Product 2', 'description': 'Description of product 2'},\n",
    "\t\t\t'p3': {'title': 'Product 3', 'description': 'Description of product 3'}}\n",
    "selected1 = '[\"p1\", \"p2\"]'"
   ]
  },
  {
   "cell_type": "code",
   "execution_count": null,
   "id": "36cae350b9c033e5",
   "metadata": {},
   "outputs": [],
   "source": []
  },
  {
   "cell_type": "code",
   "execution_count": null,
   "id": "351548e86bf5eff0",
   "metadata": {},
   "outputs": [],
   "source": [
    "pformat('{[x for x in range(3)]}')"
   ]
  },
  {
   "cell_type": "code",
   "execution_count": null,
   "id": "1a2c6508807a49ed",
   "metadata": {},
   "outputs": [],
   "source": [
    "\n",
    "\n",
    "# tmpl = \"The user selected the following recommendation:\\n{'- '+'\\n- '.join([f'**{products[pid]['title']}**: {products[pid]['description']}' for pid in json.loads(selected1)])}\"\n",
    "#\n",
    "# print(pformat(tmpl, products=products, json=json, selected1=selected1))\n"
   ]
  },
  {
   "cell_type": "code",
   "execution_count": null,
   "id": "f38bd04eab800980",
   "metadata": {},
   "outputs": [],
   "source": [
    "# eval('''[f'**{products[pid][\"title\"]}**: {products[pid][\"description\"]}' for pid in json.loads(selected1)]''')"
   ]
  },
  {
   "cell_type": "code",
   "execution_count": null,
   "id": "6b1504caafd5bf37",
   "metadata": {},
   "outputs": [],
   "source": []
  },
  {
   "cell_type": "code",
   "execution_count": null,
   "id": "71186a6ac9f4cc5a",
   "metadata": {},
   "outputs": [],
   "source": [
    "import ast\n",
    "\n",
    "raw = \"[state_value(state=[['X', 'O', ' '], [' ', 'X', ' '], ['O', ' ', 'O']], current_player='X')]\"\n",
    "\n",
    "exp = ast.parse(raw, mode='eval')\n",
    "\n",
    "exp.body"
   ]
  },
  {
   "cell_type": "code",
   "execution_count": null,
   "id": "1fd0da3c866457e8",
   "metadata": {},
   "outputs": [],
   "source": [
    "import ast\n",
    "import json\n",
    "\n",
    "parsed_json"
   ]
  },
  {
   "cell_type": "code",
   "execution_count": null,
   "id": "7358cea189a03e06",
   "metadata": {},
   "outputs": [],
   "source": [
    "import openai"
   ]
  },
  {
   "cell_type": "code",
   "execution_count": null,
   "id": "d3b6fe3b5c4d788",
   "metadata": {},
   "outputs": [],
   "source": [
    "Function = openai.types.chat.chat_completion_message_tool_call.Function\n",
    "ToolCall = openai.types.chat.chat_completion_message_tool_call.ChatCompletionMessageToolCall"
   ]
  },
  {
   "cell_type": "code",
   "execution_count": null,
   "id": "9f787c44827110f",
   "metadata": {},
   "outputs": [],
   "source": [
    "\n",
    "function_name = parsed_json[0]['name']\n",
    "arguments_dict = parsed_json[0]['']\n",
    "function_obj = Function(\n",
    "            name=function_name,\n",
    "            arguments=json.dumps(arguments_dict)\n",
    "        )"
   ]
  },
  {
   "cell_type": "code",
   "execution_count": null,
   "id": "3ac2a9d1f7a552d9",
   "metadata": {},
   "outputs": [],
   "source": [
    "import ast\n",
    "import json\n",
    "import uuid\n",
    "from typing import List\n",
    "\n",
    "from openai.types.chat.chat_completion_message_tool_call import ChatCompletionMessageToolCall as ToolCall\n",
    "from openai.types.chat.chat_completion_message_tool_call import Function\n",
    "# except ImportError:\n",
    "#     print(\"openai library not found. Using mock objects for demonstration.\")\n",
    "#     from pydantic import BaseModel, Field\n",
    "#\n",
    "#     class Function(BaseModel):\n",
    "#         name: str\n",
    "#         arguments: str\n",
    "#\n",
    "#     class ToolCall(BaseModel):\n",
    "#         id: str = Field(default_factory=lambda: f\"call_{uuid.uuid4().hex}\")\n",
    "#         function: Function\n",
    "#         type: str = \"function\"\n",
    "\n",
    "\n",
    "def parse_to_openai_tool_calls(raw_string: str) -> List[ToolCall]:\n",
    "    \"\"\"\n",
    "    Parses a stringified list of tool calls into a list of OpenAI-compatible\n",
    "    ChatCompletionMessageToolCall Pydantic objects.\n",
    "\n",
    "    Args:\n",
    "        raw_string: A string representing a Python list of function calls,\n",
    "                    e.g., \"[my_func(arg1='val1'), another_func(arg2=123)]\"\n",
    "\n",
    "    Returns:\n",
    "        A list of ToolCall Pydantic objects.\n",
    "    \"\"\"\n",
    "    try:\n",
    "        parsed_ast = ast.parse(raw_string, mode='eval')\n",
    "        if not isinstance(parsed_ast.body, ast.List):\n",
    "            raise ValueError(\"Input string must be a list of function calls.\")\n",
    "    except (ValueError, SyntaxError) as e:\n",
    "        print(f\"Error parsing the raw string: {e}\")\n",
    "        return []\n",
    "\n",
    "    tool_calls = []\n",
    "    for call_node in parsed_ast.body.elts:\n",
    "        if not isinstance(call_node, ast.Call):\n",
    "            continue\n",
    "\n",
    "        # 1. Extract function name and arguments\n",
    "        function_name = call_node.func.id\n",
    "        arguments_dict = {\n",
    "            keyword.arg: ast.literal_eval(keyword.value)\n",
    "            for keyword in call_node.keywords\n",
    "        }\n",
    "\n",
    "        # 2. Create the Pydantic `Function` object\n",
    "        # The arguments must be a JSON string.\n",
    "        function_obj = Function(\n",
    "            name=function_name,\n",
    "            arguments=json.dumps(arguments_dict)\n",
    "        )\n",
    "\n",
    "        # 3. Create the `ToolCall` Pydantic object\n",
    "        tool_call_obj = ToolCall(\n",
    "            id=f\"call_{uuid.uuid4().hex}\",\n",
    "            function=function_obj,\n",
    "\t\t\ttype='function',\n",
    "        )\n",
    "        tool_calls.append(tool_call_obj)\n",
    "\n",
    "    return tool_calls\n",
    "\n",
    "# --- Example Usage ---\n",
    "raw = \"[state_value(state=[['X', 'O', ' '], [' ', 'X', ' '], ['O', ' ', 'O']], current_player='X'), next_state(state=[['X', 'O', ' '], [' ', 'X', ' '], ['O', ' ', 'O']], current_player='X')]\"\n",
    "\n",
    "# Get the list of formatted Pydantic tool call objects\n",
    "parsed_tool_calls = parse_to_openai_tool_calls(raw)\n",
    "\n",
    "# # To print the result, we convert the Pydantic objects to dictionaries\n",
    "# # using model_dump() and then serialize to a JSON string for readability.\n",
    "# if parsed_tool_calls:\n",
    "#     # `model_dump()` is the Pydantic v2 method to convert model to dict\n",
    "#     list_of_dicts = [call.model_dump() for call in parsed_tool_calls]\n",
    "#     print(json.dumps(list_of_dicts, indent=2))\n",
    "parsed_tool_calls\n"
   ]
  },
  {
   "cell_type": "code",
   "execution_count": null,
   "id": "9728b2efd5a86ca7",
   "metadata": {},
   "outputs": [],
   "source": [
    "import ast\n",
    "import json\n",
    "import uuid\n",
    "import re\n",
    "from typing import List, Optional, Dict\n",
    "\n",
    "# In your actual application, you would import the real Pydantic models\n",
    "# from openai.types.chat.chat_completion_message_tool_call import ChatCompletionMessageToolCall, Function\n",
    "# For this example to be self-contained and runnable, we'll mock them.\n",
    "try:\n",
    "    from openai.types.chat.chat_completion_message_tool_call import ChatCompletionMessageToolCall as ToolCall\n",
    "    from openai.types.chat.chat_completion_message_tool_call import Function\n",
    "except ImportError:\n",
    "    print(\"openai library not found. Using mock objects for demonstration.\")\n",
    "    from pydantic import BaseModel, Field\n",
    "\n",
    "    class Function(BaseModel):\n",
    "        name: str\n",
    "        arguments: str\n",
    "\n",
    "    class ToolCall(BaseModel):\n",
    "        id: str = Field(default_factory=lambda: f\"call_{uuid.uuid4().hex}\")\n",
    "        function: Function\n",
    "        type: str = \"function\"\n",
    "\n",
    "def _build_tool_call(name: str, args: dict) -> ToolCall:\n",
    "    \"\"\"Helper to construct a ToolCall object.\"\"\"\n",
    "    function_obj = Function(name=name, arguments=json.dumps(args))\n",
    "    return ToolCall(id=f\"call_{uuid.uuid4().hex}\", function=function_obj, type='function')\n",
    "\n",
    "def _parse_pythonic_block(block_string: str) -> List[ToolCall]:\n",
    "    \"\"\"[Strict] Parses a string containing a Python list of function calls.\"\"\"\n",
    "    try:\n",
    "        parsed_ast = ast.parse(block_string, mode='eval')\n",
    "        if not isinstance(parsed_ast.body, ast.List): return []\n",
    "    except (ValueError, SyntaxError):\n",
    "        return []\n",
    "\n",
    "    tool_calls = []\n",
    "    for node in parsed_ast.body.elts:\n",
    "        call_node = None\n",
    "        if isinstance(node, ast.Call): call_node = node\n",
    "        elif isinstance(node, ast.Str):\n",
    "            try:\n",
    "                inner_expr = ast.parse(node.s, mode='eval')\n",
    "                if isinstance(inner_expr.body, ast.Call): call_node = inner_expr.body\n",
    "            except (ValueError, SyntaxError): continue\n",
    "        if call_node is None: continue\n",
    "\n",
    "        args = {kw.arg: ast.literal_eval(kw.value) for kw in call_node.keywords}\n",
    "        tool_calls.append(_build_tool_call(call_node.func.id, args))\n",
    "    return tool_calls\n",
    "\n",
    "def _parse_json_block(block_string: str) -> Optional[ToolCall]:\n",
    "    \"\"\"[Strict] Parses a string containing a single JSON tool call object.\"\"\"\n",
    "    try:\n",
    "        data = json.loads(block_string)\n",
    "        name = data.get(\"name\")\n",
    "        args = data.get(\"parameters\", {})\n",
    "        if not name: return None\n",
    "        return _build_tool_call(name, args)\n",
    "    except json.JSONDecodeError:\n",
    "        return None\n",
    "\n",
    "def _parse_pseudo_pythonic_calls(text: str, schema: Dict[str, List[str]]) -> List[ToolCall]:\n",
    "    \"\"\"\n",
    "    [Lenient] Parses malformed Python-style calls from a string.\n",
    "    Handles missing commas, missing parentheses, etc.\n",
    "    \"\"\"\n",
    "    tool_calls = []\n",
    "    tool_names = list(schema.keys())\n",
    "    # Regex to find the start of a potential tool call\n",
    "    pattern = re.compile(rf'({\"|\".join(re.escape(name) for name in tool_names)})\\s*\\(')\n",
    "\n",
    "    matches = list(pattern.finditer(text))\n",
    "    if not matches:\n",
    "        return []\n",
    "\n",
    "    for i, match in enumerate(matches):\n",
    "        tool_name = match.group(1)\n",
    "\n",
    "        # Determine the substring for this specific tool call\n",
    "        start_pos = match.start()\n",
    "        end_pos = matches[i + 1].start() if i + 1 < len(matches) else len(text)\n",
    "        call_block = text[start_pos:end_pos]\n",
    "\n",
    "        # Find the content within the first parenthesis\n",
    "        arg_content_match = re.search(r'\\((.*)', call_block, re.DOTALL)\n",
    "        if not arg_content_match:\n",
    "            continue\n",
    "\n",
    "        arg_string = arg_content_match.group(1).rstrip()\n",
    "        # Clean up trailing parentheses\n",
    "        if arg_string.endswith(')'):\n",
    "            arg_string = arg_string[:-1].rstrip()\n",
    "\n",
    "        # --- Argument Extraction Logic ---\n",
    "        known_args = schema.get(tool_name, [])\n",
    "        arg_positions = []\n",
    "        for arg_name in known_args:\n",
    "            # Find keyword argument assignments\n",
    "            arg_pattern = rf'\\b{re.escape(arg_name)}\\s*='\n",
    "            for arg_match in re.finditer(arg_pattern, arg_string):\n",
    "                arg_positions.append({'name': arg_name, 'start': arg_match.start()})\n",
    "\n",
    "        arg_positions.sort(key=lambda x: x['start'])\n",
    "\n",
    "        parsed_args = {}\n",
    "        for j, pos_info in enumerate(arg_positions):\n",
    "            arg_name = pos_info['name']\n",
    "            value_start = pos_info['start'] + len(arg_name)\n",
    "            while value_start < len(arg_string) and arg_string[value_start] in [' ', '=']:\n",
    "                value_start += 1\n",
    "\n",
    "            value_end = arg_positions[j + 1]['start'] if j + 1 < len(arg_positions) else len(arg_string)\n",
    "            value_str = arg_string[value_start:value_end].strip()\n",
    "            # Clean trailing comma if it exists\n",
    "            if value_str.endswith(','):\n",
    "                value_str = value_str[:-1].strip()\n",
    "\n",
    "            try:\n",
    "                # Attempt to parse the value as a Python literal\n",
    "                parsed_args[arg_name] = ast.literal_eval(value_str)\n",
    "            except (ValueError, SyntaxError):\n",
    "                # Fallback to treating it as a raw string\n",
    "                parsed_args[arg_name] = value_str.strip('\\'\"')\n",
    "\n",
    "        if parsed_args:\n",
    "            tool_calls.append(_build_tool_call(tool_name, parsed_args))\n",
    "\n",
    "    return tool_calls\n",
    "\n",
    "def parse_tool_calls(raw_string: str, tools_schema: Dict[str, List[str]]) -> List[ToolCall]:\n",
    "    \"\"\"\n",
    "    Extracts and parses tool calls from a raw string using multiple strategies.\n",
    "\n",
    "    It finds tool calls embedded in other text, processing them in order of strictness:\n",
    "    1. [Strict] Well-formed JSON objects: `{...}`\n",
    "    2. [Strict] Well-formed Pythonic calls in a list: `[...]`\n",
    "    3. [Lenient] Malformed Pythonic calls with syntax errors.\n",
    "\n",
    "    Args:\n",
    "        raw_string: The raw string which may contain text and tool calls.\n",
    "        tools_schema: A dict where keys are tool names and values are lists of their argument names.\n",
    "\n",
    "    Returns:\n",
    "        A list of all successfully parsed ToolCall Pydantic objects.\n",
    "    \"\"\"\n",
    "    if not tools_schema:\n",
    "        return []\n",
    "\n",
    "    all_tool_calls = []\n",
    "    processed_string = raw_string\n",
    "    tool_names = list(tools_schema.keys())\n",
    "    tool_name_pattern = \"|\".join(re.escape(name) for name in tool_names)\n",
    "\n",
    "    # 1. Find and parse STRICT JSON blocks, then remove them from the string\n",
    "    json_pattern = rf'(\\{{\\s*?\"name\"\\s*?:\\s*?\"(?:{tool_name_pattern})\".*?\\}})'\n",
    "    for block in re.findall(json_pattern, processed_string, re.DOTALL):\n",
    "        tool_call = _parse_json_block(block)\n",
    "        if tool_call:\n",
    "            all_tool_calls.append(tool_call)\n",
    "    processed_string = re.sub(json_pattern, '', processed_string)\n",
    "\n",
    "    # 2. Find and parse STRICT Pythonic blocks, then remove them\n",
    "    pythonic_pattern = rf'(\\[.*?({tool_name_pattern})\\(.*?\\].*?\\])'\n",
    "    for block_tuple in re.findall(pythonic_pattern, processed_string, re.DOTALL):\n",
    "        block = block_tuple[0]  # findall with groups returns tuples\n",
    "        all_tool_calls.extend(_parse_pythonic_block(block))\n",
    "    processed_string = re.sub(pythonic_pattern, '', processed_string)\n",
    "\n",
    "    # 3. Find and parse PSEUDO-PYTHONIC (lenient) calls from the remaining text\n",
    "    all_tool_calls.extend(_parse_pseudo_pythonic_calls(processed_string, tools_schema))\n",
    "\n",
    "    return all_tool_calls\n",
    "\n",
    "# --- Example Usage ---\n",
    "\n",
    "TOOLS_SCHEMA = {\n",
    "    \"get_stock_price\": [\"ticker\", \"exchange\"],\n",
    "    \"search_news\": [\"query\", \"max_results\"],\n",
    "    \"get_current_weather\": [\"city\", \"unit\"]\n",
    "}\n",
    "\n",
    "# A complex string with reasoning, multiple formats, and syntax errors.\n",
    "COMPLEX_RAW_STRING = \"\"\"\n",
    "Okay, I need to find the stock price for NVDA.\n",
    "{\"name\": \"get_stock_price\", \"parameters\": {\"ticker\": \"NVDA\", \"exchange\": \"NASDAQ\"}}\n",
    "Then I will search for news about AI. This call is a bit messy.\n",
    "search_news(query='AI Hardware' max_results=5\n",
    "Also, let's check the weather in Vienna but I'll forget the closing parenthesis and comma.\n",
    "get_current_weather(city=\"Vienna\" unit='celsius'\n",
    "And finally a well-formed pythonic call for good measure.\n",
    "['get_stock_price(ticker=\"GOOGL\", exchange=\"NASDAQ\")']\n",
    "This should be all.\n",
    "\"\"\"\n",
    "\n",
    "print(\"--- Parsing complex string with mixed formats and errors ---\")\n",
    "parsed_calls = parse_tool_calls(COMPLEX_RAW_STRING, TOOLS_SCHEMA)\n",
    "\n",
    "if parsed_calls:\n",
    "    print(json.dumps([call.model_dump() for call in parsed_calls], indent=2))\n",
    "else:\n",
    "    print(\"No valid tool calls found.\")\n"
   ]
  },
  {
   "cell_type": "code",
   "execution_count": null,
   "id": "4f69ab566dcbcbe0",
   "metadata": {},
   "outputs": [],
   "source": [
    "import ast\n",
    "import json\n",
    "import uuid\n",
    "import re\n",
    "from typing import List, Optional, Dict\n",
    "\n",
    "# In your actual application, you would import the real Pydantic models\n",
    "# from openai.types.chat.chat_completion_message_tool_call import ChatCompletionMessageToolCall, Function\n",
    "# For this example to be self-contained and runnable, we'll mock them.\n",
    "try:\n",
    "    from openai.types.chat.chat_completion_message_tool_call import ChatCompletionMessageToolCall as ToolCall\n",
    "    from openai.types.chat.chat_completion_message_tool_call import Function\n",
    "except ImportError:\n",
    "    print(\"openai library not found. Using mock objects for demonstration.\")\n",
    "    from pydantic import BaseModel, Field\n",
    "\n",
    "    class Function(BaseModel):\n",
    "        name: str\n",
    "        arguments: str\n",
    "\n",
    "    class ToolCall(BaseModel):\n",
    "        id: str = Field(default_factory=lambda: f\"call_{uuid.uuid4().hex}\")\n",
    "        function: Function\n",
    "        type: str = \"function\"\n",
    "\n",
    "def _build_tool_call(name: str, args: dict) -> ToolCall:\n",
    "    \"\"\"Helper to construct a ToolCall object.\"\"\"\n",
    "    function_obj = Function(name=name, arguments=json.dumps(args))\n",
    "    return ToolCall(id=f\"call_{uuid.uuid4().hex}\", function=function_obj, type='function')\n",
    "\n",
    "def _parse_pythonic_block(block_string: str) -> List[ToolCall]:\n",
    "    \"\"\"[Strict] Parses a string containing a Python list of function calls.\"\"\"\n",
    "    try:\n",
    "        parsed_ast = ast.parse(block_string, mode='eval')\n",
    "        if not isinstance(parsed_ast.body, ast.List): return []\n",
    "    except (ValueError, SyntaxError):\n",
    "        return []\n",
    "\n",
    "    tool_calls = []\n",
    "    for node in parsed_ast.body.elts:\n",
    "        call_node = None\n",
    "        if isinstance(node, ast.Call): call_node = node\n",
    "        elif isinstance(node, ast.Str):\n",
    "            try:\n",
    "                inner_expr = ast.parse(node.s, mode='eval')\n",
    "                if isinstance(inner_expr.body, ast.Call): call_node = inner_expr.body\n",
    "            except (ValueError, SyntaxError): continue\n",
    "        if call_node is None: continue\n",
    "\n",
    "        args = {kw.arg: ast.literal_eval(kw.value) for kw in call_node.keywords}\n",
    "        tool_calls.append(_build_tool_call(call_node.func.id, args))\n",
    "    return tool_calls\n",
    "\n",
    "def _parse_json_block(block_string: str) -> Optional[ToolCall]:\n",
    "    \"\"\"[Strict] Parses a string containing a single JSON tool call object.\"\"\"\n",
    "    try:\n",
    "        data = json.loads(block_string)\n",
    "        name = data.get(\"name\")\n",
    "        args = data.get(\"parameters\", {})\n",
    "        if not name: return None\n",
    "        return _build_tool_call(name, args)\n",
    "    except json.JSONDecodeError:\n",
    "        return None\n",
    "\n",
    "def _parse_pseudo_pythonic_calls(text: str, schema: Dict[str, List[str]]) -> List[ToolCall]:\n",
    "    \"\"\"\n",
    "    [Lenient] Parses malformed Python-style calls from a string.\n",
    "    Handles missing commas, missing parentheses, etc.\n",
    "    Raises ValueError on ambiguity to assist an LLM in correcting the input.\n",
    "    \"\"\"\n",
    "    tool_calls = []\n",
    "    tool_names = list(schema.keys())\n",
    "    if not tool_names:\n",
    "        return []\n",
    "    pattern = re.compile(rf'({\"|\".join(re.escape(name) for name in tool_names)})\\s*\\(')\n",
    "\n",
    "    matches = list(pattern.finditer(text))\n",
    "    if not matches:\n",
    "        return []\n",
    "\n",
    "    for i, match in enumerate(matches):\n",
    "        tool_name = match.group(1)\n",
    "\n",
    "        start_pos = match.start()\n",
    "        end_pos = matches[i + 1].start() if i + 1 < len(matches) else len(text)\n",
    "        call_block = text[start_pos:end_pos]\n",
    "\n",
    "        arg_content_match = re.search(r'\\((.*)', call_block, re.DOTALL)\n",
    "        if not arg_content_match:\n",
    "            continue\n",
    "\n",
    "        arg_string = arg_content_match.group(1).rstrip()\n",
    "        if arg_string.endswith(')'):\n",
    "            arg_string = arg_string[:-1].rstrip()\n",
    "\n",
    "        known_args = schema.get(tool_name, [])\n",
    "        arg_positions = []\n",
    "        for arg_name in known_args:\n",
    "            arg_pattern = rf'\\b{re.escape(arg_name)}\\s*='\n",
    "            for arg_match in re.finditer(arg_pattern, arg_string):\n",
    "                arg_positions.append({'name': arg_name, 'start': arg_match.start()})\n",
    "\n",
    "        arg_positions.sort(key=lambda x: x['start'])\n",
    "\n",
    "        parsed_args = {}\n",
    "        for j, pos_info in enumerate(arg_positions):\n",
    "            arg_name = pos_info['name']\n",
    "            value_start = pos_info['start'] + len(arg_name)\n",
    "            while value_start < len(arg_string) and arg_string[value_start] in [' ', '=']:\n",
    "                value_start += 1\n",
    "\n",
    "            value_end = arg_positions[j + 1]['start'] if j + 1 < len(arg_positions) else len(arg_string)\n",
    "            value_str = arg_string[value_start:value_end].strip()\n",
    "\n",
    "            if value_str.endswith(','):\n",
    "                value_str = value_str[:-1].strip()\n",
    "\n",
    "            # --- NEW ERROR HANDLING ---\n",
    "            # 1. Check for empty values\n",
    "            if not value_str:\n",
    "                raise ValueError(\n",
    "                    f\"Error parsing tool call '{tool_name}': \"\n",
    "                    f\"Argument '{arg_name}' is missing a value. \"\n",
    "                    f\"Correct format is '{arg_name}=value'.\"\n",
    "                )\n",
    "\n",
    "            # 2. Check for ambiguity (likely missing comma) by looking for another keyword\n",
    "            inner_kw_match = re.search(r\"\\b\\w+\\s*=\", value_str)\n",
    "            if inner_kw_match:\n",
    "                 raise ValueError(\n",
    "                    f\"Error parsing tool call '{tool_name}': Ambiguous argument structure. \"\n",
    "                    f\"The value for argument '{arg_name}' seems to contain another keyword argument \"\n",
    "                    f\"('{inner_kw_match.group(0)}...'). \"\n",
    "                    \"Please check for missing commas between arguments.\"\n",
    "                )\n",
    "            # --- END NEW ERROR HANDLING ---\n",
    "\n",
    "            try:\n",
    "                parsed_args[arg_name] = ast.literal_eval(value_str)\n",
    "            except (ValueError, SyntaxError):\n",
    "                parsed_args[arg_name] = value_str.strip('\\'\"')\n",
    "\n",
    "        if parsed_args:\n",
    "            tool_calls.append(_build_tool_call(tool_name, parsed_args))\n",
    "\n",
    "    return tool_calls\n",
    "\n",
    "def parse_tool_calls(raw_string: str, tools_schema: Dict[str, List[str]]) -> List[ToolCall]:\n",
    "    \"\"\"\n",
    "    Extracts and parses tool calls from a raw string using multiple strategies.\n",
    "\n",
    "    It finds tool calls embedded in other text, processing them in order of strictness:\n",
    "    1. [Strict] Well-formed JSON objects: `{...}`\n",
    "    2. [Strict] Well-formed Pythonic calls in a list: `[...]`\n",
    "    3. [Lenient] Malformed Pythonic calls with syntax errors.\n",
    "\n",
    "    Args:\n",
    "        raw_string: The raw string which may contain text and tool calls.\n",
    "        tools_schema: A dict where keys are tool names and values are lists of their argument names.\n",
    "\n",
    "    Returns:\n",
    "        A list of all successfully parsed ToolCall Pydantic objects.\n",
    "\n",
    "    Raises:\n",
    "        ValueError: If the lenient parser finds an ambiguous or malformed tool call\n",
    "                    that it cannot resolve.\n",
    "    \"\"\"\n",
    "    if not tools_schema:\n",
    "        return []\n",
    "\n",
    "    all_tool_calls = []\n",
    "    processed_string = raw_string\n",
    "    tool_names = list(tools_schema.keys())\n",
    "    tool_name_pattern = \"|\".join(re.escape(name) for name in tool_names)\n",
    "\n",
    "    json_pattern = rf'(\\{{\\s*?\"name\"\\s*?:\\s*?\"(?:{tool_name_pattern})\".*?\\}})'\n",
    "    for block in re.findall(json_pattern, processed_string, re.DOTALL):\n",
    "        tool_call = _parse_json_block(block)\n",
    "        if tool_call:\n",
    "            all_tool_calls.append(tool_call)\n",
    "    processed_string = re.sub(json_pattern, '', processed_string)\n",
    "\n",
    "    pythonic_pattern = rf'(\\[.*?({tool_name_pattern})\\(.*?\\].*?\\])'\n",
    "    for block_tuple in re.findall(pythonic_pattern, processed_string, re.DOTALL):\n",
    "        block = block_tuple[0]\n",
    "        all_tool_calls.extend(_parse_pythonic_block(block))\n",
    "    processed_string = re.sub(pythonic_pattern, '', processed_string)\n",
    "\n",
    "    all_tool_calls.extend(_parse_pseudo_pythonic_calls(processed_string, tools_schema))\n",
    "\n",
    "    return all_tool_calls\n",
    "\n",
    "# --- Example Usage ---\n",
    "\n",
    "TOOLS_SCHEMA = {\n",
    "    \"get_stock_price\": [\"ticker\", \"exchange\"],\n",
    "    \"search_news\": [\"query\", \"max_results\"],\n",
    "    \"get_current_weather\": [\"city\", \"unit\"]\n",
    "}\n",
    "\n",
    "# 1. Test case with valid, mixed-format inputs\n",
    "print(\"--- 1. Parsing complex string with mixed formats and errors ---\")\n",
    "COMPLEX_RAW_STRING = \"\"\"\n",
    "Okay, I need to find the stock price for NVDA.\n",
    "{\"name\": \"get_stock_price\", \"parameters\": {\"ticker\": \"NVDA\", \"exchange\": \"NASDAQ\"}}\n",
    "Then I will search for news about AI. This call is a bit messy.\n",
    "search_news(query='AI Hardware' max_results=5)\n",
    "And finally a well-formed pythonic call for good measure.\n",
    "['get_stock_price(ticker=\"GOOGL\", exchange=\"NASDAQ\")']\n",
    "This should be all.\n",
    "\"\"\"\n",
    "try:\n",
    "    parsed_calls = parse_tool_calls(COMPLEX_RAW_STRING, TOOLS_SCHEMA)\n",
    "    print(json.dumps([call.model_dump() for call in parsed_calls], indent=2))\n",
    "except ValueError as e:\n",
    "    print(f\"Caught an error: {e}\")\n",
    "\n",
    "print(\"\\n\" + \"=\"*60 + \"\\n\")\n",
    "\n",
    "# 2. Test case designed to trigger the new error handling\n",
    "print(\"--- 2. Parsing string with ambiguous calls to trigger errors ---\")\n",
    "COMPLEX_RAW_STRING_WITH_ERRORS = \"\"\"\n",
    "I need to find news, but I'll make two mistakes.\n",
    "First, an unknown keyword argument, which suggests a missing comma.\n",
    "search_news(query='AI' unknown_arg='oops' max_results=5)\n",
    "Second, a keyword with no value.\n",
    "get_stock_price(ticker=, exchange=\"NASDAQ\")\n",
    "\"\"\"\n",
    "try:\n",
    "    parse_tool_calls(COMPLEX_RAW_STRING_WITH_ERRORS, TOOLS_SCHEMA)\n",
    "except ValueError as e:\n",
    "    print(f\"Successfully caught expected error:\\n{e}\")\n"
   ]
  },
  {
   "cell_type": "code",
   "execution_count": null,
   "id": "6f6ad705a14be133",
   "metadata": {},
   "outputs": [],
   "source": []
  },
  {
   "cell_type": "code",
   "execution_count": null,
   "id": "69ecf03bc16d56ab",
   "metadata": {},
   "outputs": [],
   "source": [
    "import re\n",
    "pattern = \"([rnbqkpRNBQKP1-8]+\\/){7}[rnbqkpRNBQKP1-8]+\\s[wb]\\s(-|[KQkq]{1,4})\\s(-|[a-h][36])\\s\\d+\\s\\d+\"\n",
    "\n",
    "text = '''The resulting FEN will be:\n",
    "\n",
    "\n",
    "\n",
    "`rnbqkbnr/pppppppp/8/8/4P3/8/PPPP1PPP/RNBQKBNR w KQkq f6 0 2`'''\n",
    "\n",
    "if re.search(pattern, text):\n",
    "    print(f\"Match found: {re.search(pattern, text).group(0)}\")\n",
    "else:\n",
    "    print(\"No match.\")"
   ]
  },
  {
   "cell_type": "code",
   "execution_count": null,
   "id": "2357cf21f2a0864c",
   "metadata": {},
   "outputs": [],
   "source": []
  },
  {
   "cell_type": "code",
   "execution_count": null,
   "id": "74ec2fe59eec5885",
   "metadata": {},
   "outputs": [],
   "source": [
    "from pathlib import Path\n",
    "import json\n",
    "import random\n",
    "from collections import Counter\n",
    "\n",
    "path = Path(r'C:\\Users\\anwan\\OneDrive\\Khan\\research\\ludwig\\assets\\ttt\\take-the-middle.json')\n",
    "data = json.loads(path.read_text())\n",
    "\n",
    "yes = [k for k, v in data.items() if v == 'yes']\n",
    "no = [k for k, v in data.items() if v == 'no']\n",
    "\n",
    "yes = sorted(yes)\n",
    "no = sorted(no)\n",
    "\n",
    "random.seed(1000000009)\n",
    "random.shuffle(yes)\n",
    "random.shuffle(no)\n",
    "\n",
    "full = {}\n",
    "for i in range(len(yes)):\n",
    "\tfull[yes[i]] = 'yes'\n",
    "\tfull[no[i]] = 'no'\n",
    "\n",
    "for i in range(len(yes), len(no)):\n",
    "\tfull[no[i]] = 'no'\n",
    "\n",
    "\n",
    "json.dump(full, path.open('w', encoding='utf-8'), indent=2)\n",
    "\n",
    "len(full)"
   ]
  },
  {
   "cell_type": "code",
   "execution_count": null,
   "id": "e7d2371978cb22ea",
   "metadata": {},
   "outputs": [],
   "source": [
    "print(\"{%- if tools %}\\n    {{- '<|im_start|>system\\\\n' }}\\n    {%- if messages[0].role == 'system' %}\\n        {{- messages[0].content + '\\\\n\\\\n' }}\\n    {%- endif %}\\n    {{- \\\"# Tools\\\\n\\\\nYou may call one or more functions to assist with the user query.\\\\n\\\\nYou are provided with function signatures within <tools></tools> XML tags:\\\\n<tools>\\\" }}\\n    {%- for tool in tools %}\\n        {{- \\\"\\\\n\\\" }}\\n        {{- tool | tojson }}\\n    {%- endfor %}\\n    {{- \\\"\\\\n</tools>\\\\n\\\\nFor each function call, return a json object with function name and arguments within <tool_call></tool_call> XML tags:\\\\n<tool_call>\\\\n{\\\\\\\"name\\\\\\\": <function-name>, \\\\\\\"arguments\\\\\\\": <args-json-object>}\\\\n</tool_call><|im_end|>\\\\n\\\" }}\\n{%- else %}\\n    {%- if messages[0].role == 'system' %}\\n        {{- '<|im_start|>system\\\\n' + messages[0].content + '<|im_end|>\\\\n' }}\\n    {%- endif %}\\n{%- endif %}\\n{%- set ns = namespace(multi_step_tool=true, last_query_index=messages|length - 1) %}\\n{%- for message in messages[::-1] %}\\n    {%- set index = (messages|length - 1) - loop.index0 %}\\n    {%- if ns.multi_step_tool and message.role == \\\"user\\\" and not(message.content.startswith('<tool_response>') and message.content.endswith('</tool_response>')) %}\\n        {%- set ns.multi_step_tool = false %}\\n        {%- set ns.last_query_index = index %}\\n    {%- endif %}\\n{%- endfor %}\\n{%- for message in messages %}\\n    {%- if (message.role == \\\"user\\\") or (message.role == \\\"system\\\" and not loop.first) %}\\n        {{- '<|im_start|>' + message.role + '\\\\n' + message.content + '<|im_end|>' + '\\\\n' }}\\n    {%- elif message.role == \\\"assistant\\\" %}\\n        {%- set content = message.content %}\\n        {%- set reasoning_content = '' %}\\n        {%- if message.reasoning_content is defined and message.reasoning_content is not none %}\\n            {%- set reasoning_content = message.reasoning_content %}\\n        {%- else %}\\n            {%- if '</think>' in message.content %}\\n                {%- set content = message.content.split('</think>')[-1].lstrip('\\\\n') %}\\n                {%- set reasoning_content = message.content.split('</think>')[0].rstrip('\\\\n').split('<think>')[-1].lstrip('\\\\n') %}\\n            {%- endif %}\\n        {%- endif %}\\n        {%- if loop.index0 > ns.last_query_index %}\\n            {%- if loop.last or (not loop.last and reasoning_content) %}\\n                {{- '<|im_start|>' + message.role + '\\\\n<think>\\\\n' + reasoning_content.strip('\\\\n') + '\\\\n</think>\\\\n\\\\n' + content.lstrip('\\\\n') }}\\n            {%- else %}\\n                {{- '<|im_start|>' + message.role + '\\\\n' + content }}\\n            {%- endif %}\\n        {%- else %}\\n            {{- '<|im_start|>' + message.role + '\\\\n' + content }}\\n        {%- endif %}\\n        {%- if message.tool_calls %}\\n            {%- for tool_call in message.tool_calls %}\\n                {%- if (loop.first and content) or (not loop.first) %}\\n                    {{- '\\\\n' }}\\n                {%- endif %}\\n                {%- if tool_call.function %}\\n                    {%- set tool_call = tool_call.function %}\\n                {%- endif %}\\n                {{- '<tool_call>\\\\n{\\\"name\\\": \\\"' }}\\n                {{- tool_call.name }}\\n                {{- '\\\", \\\"arguments\\\": ' }}\\n                {%- if tool_call.arguments is string %}\\n                    {{- tool_call.arguments }}\\n                {%- else %}\\n                    {{- tool_call.arguments | tojson }}\\n                {%- endif %}\\n                {{- '}\\\\n</tool_call>' }}\\n            {%- endfor %}\\n        {%- endif %}\\n        {{- '<|im_end|>\\\\n' }}\\n    {%- elif message.role == \\\"tool\\\" %}\\n        {%- if loop.first or (messages[loop.index0 - 1].role != \\\"tool\\\") %}\\n            {{- '<|im_start|>user' }}\\n        {%- endif %}\\n        {{- '\\\\n<tool_response>\\\\n' }}\\n        {{- message.content }}\\n        {{- '\\\\n</tool_response>' }}\\n        {%- if loop.last or (messages[loop.index0 + 1].role != \\\"tool\\\") %}\\n            {{- '<|im_end|>\\\\n' }}\\n        {%- endif %}\\n    {%- endif %}\\n{%- endfor %}\\n{%- if add_generation_prompt %}\\n    {{- '<|im_start|>assistant\\\\n' }}\\n    {%- if enable_thinking is defined and enable_thinking is false %}\\n        {{- '<think>\\\\n\\\\n</think>\\\\n\\\\n' }}\\n    {%- endif %}\\n{%- endif %}\")"
   ]
  },
  {
   "cell_type": "code",
   "execution_count": null,
   "id": "d50a1d347f708d32",
   "metadata": {},
   "outputs": [],
   "source": []
  },
  {
   "cell_type": "code",
   "execution_count": null,
   "id": "c1ba66144cb4dc20",
   "metadata": {},
   "outputs": [],
   "source": [
    "import re\n",
    "import json\n",
    "import uuid\n",
    "import ast\n",
    "from typing import List, Dict, Any\n",
    "from pydantic import BaseModel, Field\n",
    "\n",
    "# --- Pydantic Models ---\n",
    "# These models define the structure of the output. The `default_factory`\n",
    "# handles the automatic generation of unique IDs for each tool call.\n",
    "\n",
    "class Function(BaseModel):\n",
    "    \"\"\"Represents the function to be called.\"\"\"\n",
    "    name: str\n",
    "    arguments: str  # A JSON string representing the arguments\n",
    "\n",
    "class ToolCall(BaseModel):\n",
    "    \"\"\"Represents a single tool call.\"\"\"\n",
    "    id: str = Field(default_factory=lambda: f\"call_{uuid.uuid4().hex}\")\n",
    "    function: Function\n",
    "    type: str = 'function'\n",
    "\n",
    "\n",
    "# --- Argument Parsing Helper ---\n",
    "\n",
    "def _parse_arguments(arg_string: str) -> Dict[str, Any]:\n",
    "    \"\"\"\n",
    "    Parses a string of Python-like keyword arguments into a dictionary using regex.\n",
    "\n",
    "    This helper function is designed to be robust. It can handle:\n",
    "    - Strings in single or double quotes.\n",
    "    - Commas within quoted strings.\n",
    "    - Unquoted strings (which are treated as string literals).\n",
    "    - Other Python literals like numbers, booleans, and None.\n",
    "    \"\"\"\n",
    "    if not arg_string.strip():\n",
    "        return {}\n",
    "\n",
    "    # This regex pattern finds all key-value argument pairs.\n",
    "    # Pattern Explanation:\n",
    "    # (\\w+)\\s*=\\s* - Captures the argument name (key).\n",
    "    # (             - Starts a capturing group for the value.\n",
    "    #   '[^']*'    - Matches a single-quoted string.\n",
    "    #   |           - OR\n",
    "    #   \"[^\"]*\"    - Matches a double-quoted string.\n",
    "    #   |           - OR\n",
    "    #   [^,]+       - Matches an unquoted value (anything not a comma).\n",
    "    # )             - Ends the value-capturing group.\n",
    "    # The order of alternatives is important: quoted strings are matched first.\n",
    "    arg_pattern = re.compile(r\"(\\w+)\\s*=\\s*('[^']*'|\\\"[^\\\"]*\\\"|[^,]+)\")\n",
    "\n",
    "    args_dict = {}\n",
    "    for key, value_str in arg_pattern.findall(arg_string):\n",
    "        value_str = value_str.strip()\n",
    "        try:\n",
    "            # ast.literal_eval safely evaluates string literals of Python types.\n",
    "            value = ast.literal_eval(value_str)\n",
    "        except (ValueError, SyntaxError):\n",
    "            # If literal_eval fails, it's likely an unquoted string\n",
    "            # (e.g., `name=Alice` instead of `name='Alice'`).\n",
    "            # In this case, we simply treat it as a string.\n",
    "            value = value_str\n",
    "\n",
    "        args_dict[key] = value\n",
    "\n",
    "    return args_dict\n",
    "\n",
    "\n",
    "# --- Main Parsing Function ---\n",
    "\n",
    "def parse_pythonic_tool_calls(raw_string: str) -> List[ToolCall]:\n",
    "    \"\"\"\n",
    "    Parses a string of tool calls into a list of ToolCall objects using regex.\n",
    "\n",
    "    This version is more tolerant of minor syntactic errors (like missing commas\n",
    "    between calls or unquoted string values) than a strict `ast.parse` approach.\n",
    "    It can also handle inputs that are string-encoded lists of calls, even\n",
    "    when nested inside other strings (e.g., \"\"['call1']\"\").\n",
    "\n",
    "    Args:\n",
    "       raw_string: A string representing Python function calls.\n",
    "                e.g., \"[my_func(arg1='val1') another_func(arg2=123)]\"\n",
    "                or \"['my_func(arg1=\\\\'val1\\\\')', 'another_func(arg2=123)']\"\n",
    "                or \"\\\"['get_current_weather(city=Barcelona)']\\\"\"\n",
    "\n",
    "    Returns:\n",
    "       A list of ToolCall Pydantic objects.\n",
    "    \"\"\"\n",
    "    # --- Pre-processing to unwrap nested string representations ---\n",
    "    content = raw_string\n",
    "    # Repeatedly use literal_eval to \"peel\" layers of string quoting.\n",
    "    # For example, from \"\"['call1']\"\" -> \"['call1']\" -> ['call1']\n",
    "    while isinstance(content, str):\n",
    "        try:\n",
    "            content = ast.literal_eval(content)\n",
    "        except (ValueError, SyntaxError):\n",
    "            # If it's no longer a valid literal, we've unwrapped as far as we can.\n",
    "            break\n",
    "\n",
    "    # --- Prepare list of strings to search for function calls ---\n",
    "    if isinstance(content, list):\n",
    "        # If we successfully evaluated to a list, use its contents.\n",
    "        strings_to_search = content\n",
    "    elif isinstance(content, str):\n",
    "        # If we ended up with a string, search within that string.\n",
    "        strings_to_search = [content]\n",
    "    else:\n",
    "        # If the input is some other unsupported type, we can't process it.\n",
    "        return []\n",
    "\n",
    "    # This regex finds all occurrences of the pattern: function_name(...)\n",
    "    # It captures the function name and the raw string of arguments inside\n",
    "    # the parentheses.\n",
    "    call_pattern = re.compile(r\"(\\w+)\\s*\\(([^)]*)\\)\")\n",
    "\n",
    "    tool_calls = []\n",
    "    for text_block in strings_to_search:\n",
    "        if not isinstance(text_block, str):\n",
    "            # This handles cases where a list might contain non-string items.\n",
    "            continue\n",
    "\n",
    "        for match in call_pattern.finditer(text_block):\n",
    "            function_name, arg_string = match.groups()\n",
    "\n",
    "            try:\n",
    "                # Use the helper to parse the extracted argument string\n",
    "                arguments_dict = _parse_arguments(arg_string)\n",
    "\n",
    "                # Create the Pydantic Function object, serializing args to JSON\n",
    "                function_obj = Function(\n",
    "                    name=function_name,\n",
    "                    arguments=json.dumps(arguments_dict)\n",
    "                )\n",
    "\n",
    "                # Create the final ToolCall object\n",
    "                tool_call_obj = ToolCall(function=function_obj)\n",
    "                tool_calls.append(tool_call_obj)\n",
    "\n",
    "            except Exception as e:\n",
    "                # If parsing a specific call fails, print an error and skip it\n",
    "                # to avoid failing the entire process.\n",
    "                print(f\"Could not parse call for function '{function_name}': {e}\")\n",
    "                continue\n",
    "\n",
    "    return tool_calls\n",
    "\n",
    "value = \"['get_current_weather(city=Barcelona, country=ESP, unit=celsius)', 'get_current_weather(city=Jakarta, country=IDN, unit=celsius)']\"\n",
    "\n",
    "value = \"[get_current_weather(city='Barcelona', country='ESP', unit='celsius'), get_current_weather(city='Jakarta', country='IDN', unit=celsius)]\"\n",
    "\n",
    "parse_pythonic_tool_calls(value)\n"
   ]
  },
  {
   "cell_type": "code",
   "execution_count": null,
   "id": "12b0749f5eccf568",
   "metadata": {},
   "outputs": [],
   "source": [
    "from ludwig.util import repo_root\n",
    "from ludwig.tictactoe.example import NextMove\n",
    "import json\n",
    "import random\n",
    "from collections import Counter"
   ]
  },
  {
   "cell_type": "code",
   "execution_count": null,
   "id": "b65259c2ea5f08aa",
   "metadata": {},
   "outputs": [],
   "source": [
    "path = repo_root().joinpath('assets', 'ttt', 'minimax.json')\n",
    "data = json.loads(path.read_text())\n",
    "len(data)"
   ]
  },
  {
   "cell_type": "code",
   "execution_count": null,
   "id": "f3896eb81054e830",
   "metadata": {},
   "outputs": [],
   "source": [
    "def check_winner(state: str) -> str:\n",
    "\tlines = [\n",
    "\t\tstate[0:3], state[3:6], state[6:9],  # rows\n",
    "\t\tstate[0::3], state[1::3], state[2::3],  # columns\n",
    "\t\tstate[0::4], state[2:7:2]  # diagonals\n",
    "\t]\n",
    "\tfor line in lines:\n",
    "\t\tif line == 'XXX':\n",
    "\t\t\treturn 'X'\n",
    "\t\tif line == 'OOO':\n",
    "\t\t\treturn 'O'\n",
    "\treturn None"
   ]
  },
  {
   "cell_type": "code",
   "execution_count": null,
   "id": "acbb3d6163c33502",
   "metadata": {},
   "outputs": [],
   "source": [
    "probs = [b for b in data if b[4] == ' ' and check_winner(b) is None and Counter(b)[' '] == 4 and Counter(b)['X'] == 3]\n",
    "len(probs)"
   ]
  },
  {
   "cell_type": "code",
   "execution_count": null,
   "id": "ea288ebfae98dea2",
   "metadata": {},
   "outputs": [],
   "source": [
    "data[probs[1]]"
   ]
  },
  {
   "cell_type": "code",
   "execution_count": null,
   "id": "da46c73306ce8405",
   "metadata": {},
   "outputs": [],
   "source": [
    "from tabulate import tabulate\n",
    "def view(board):\n",
    "\tboard = board.replace(' ', '.')\n",
    "\tnested = [board[i:i+3] for i in range(0, 9, 3)]\n",
    "\t# return tabulate(nested, tablefmt='grid', stralign='center', numalign='center')\n",
    "\treturn '\\n'.join(''.join(row) for row in nested)"
   ]
  },
  {
   "cell_type": "code",
   "execution_count": null,
   "id": "7f938fe152afe019",
   "metadata": {},
   "outputs": [],
   "source": [
    "prob = probs[1]\n",
    "def gt(prob):\n",
    "\tnextstates = NextMove.generate_next_states(prob)\n",
    "\tmiddle = list(prob)\n",
    "\tmiddle[4] = 'O'\n",
    "\tmiddle = ''.join(middle)\n",
    "\tvals = {s: data[s] for s in nextstates}\n",
    "\tbest = min(vals.values())\n",
    "\tbest = [k for k, v in vals.items() if v == best]\n",
    "\tif best == [middle]:\n",
    "\t\treturn 'yes'\n",
    "\tif middle not in best:\n",
    "\t\treturn 'no'"
   ]
  },
  {
   "cell_type": "code",
   "execution_count": null,
   "id": "1bd3a0b9f9336ec8",
   "metadata": {},
   "outputs": [],
   "source": [
    "res = {p: gt(p) for p in probs}\n",
    "Counter(res.values())"
   ]
  },
  {
   "cell_type": "code",
   "execution_count": null,
   "id": "edcd7051b4d84d9a",
   "metadata": {},
   "outputs": [],
   "source": [
    "gold = {p: sol for p, sol in res.items() if sol is not None}\n",
    "sel = list(gold.items())\n",
    "len(gold)"
   ]
  },
  {
   "cell_type": "code",
   "execution_count": null,
   "id": "cc73b1c38a3e8ec8",
   "metadata": {},
   "outputs": [],
   "source": [
    "q, a = random.choice(sel)\n",
    "print(view(q))\n",
    "print()\n",
    "print(a)"
   ]
  },
  {
   "cell_type": "code",
   "execution_count": null,
   "id": "90247abd2f179fbf",
   "metadata": {},
   "outputs": [],
   "source": [
    "json.dump(gold, open(repo_root().joinpath('assets', 'ttt', 'take-the-middle.json'), 'w'), indent=2)"
   ]
  },
  {
   "cell_type": "code",
   "execution_count": null,
   "id": "d71bb2ba0c64c5e3",
   "metadata": {},
   "outputs": [],
   "source": [
    "from ludwig.tictactoe.helpers import *"
   ]
  },
  {
   "cell_type": "code",
   "execution_count": null,
   "id": "4116324fd3aac75",
   "metadata": {},
   "outputs": [],
   "source": [
    "state = 'XXXXOOOO '\n",
    "state = 'XXOXOOOOX'\n",
    "state = 'XXXXOOXOO'\n",
    "state = 'XXOXXOOOO'\n",
    "state = 'XXXXOOXOO'\n",
    "diff = state.count('X') - state.count('O')\n",
    "print(diff)\n",
    "starting_player = infer_starting_player(state)\n",
    "current_player = infer_current_player(state)\n",
    "print(f'{starting_player=}')\n",
    "print(f'{current_player=}')\n",
    "lines = [\n",
    "\t\tstate[0:3], state[3:6], state[6:9],  # rows\n",
    "\t\tstate[0::3], state[1::3], state[2::3],  # columns\n",
    "\t\tstate[0::4], state[2:7:2]  # diagonals\n",
    "\t]\n",
    "lines"
   ]
  },
  {
   "cell_type": "code",
   "execution_count": null,
   "id": "bc67a17f4d6f753",
   "metadata": {},
   "outputs": [],
   "source": [
    "(current_player == starting_player) == (diff == 0)"
   ]
  },
  {
   "cell_type": "code",
   "execution_count": null,
   "id": "c64c4720a1ad1a36",
   "metadata": {},
   "outputs": [],
   "source": [
    "check_winner(state)"
   ]
  },
  {
   "cell_type": "code",
   "execution_count": null,
   "id": "94642ac8342fc0f",
   "metadata": {},
   "outputs": [],
   "source": []
  },
  {
   "cell_type": "code",
   "execution_count": null,
   "id": "89704ff1012883fa",
   "metadata": {},
   "outputs": [],
   "source": [
    "\n",
    "tmpl = \"The user selected the following recommendation:\\n{'- '+'\\n- '.join([f'**{products[pid]['title']}**: {products[pid]['description']}' for pid in json.loads(selected1)])}\"\n",
    "\n",
    "print(pformat_new(tmpl, products=products, json=json, selected1=selected1))"
   ]
  },
  {
   "cell_type": "code",
   "execution_count": null,
   "id": "7dfcc51eaf6ed1c6",
   "metadata": {},
   "outputs": [],
   "source": [
    "pformat_new('{[x for x in range(3)]}')"
   ]
  },
  {
   "cell_type": "code",
   "execution_count": null,
   "id": "831a6f91feb8507b",
   "metadata": {},
   "outputs": [],
   "source": [
    "import random\n"
   ]
  },
  {
   "cell_type": "code",
   "execution_count": null,
   "id": "2cd5978ee8ed1799",
   "metadata": {},
   "outputs": [],
   "source": [
    "\n",
    "import numpy as np\n",
    "import math\n",
    "x = np.array([-2, -1, 0, 1, 2])\n",
    "# import built-in sigmoid function\n",
    "from scipy.special import expit\n",
    "# apply sigmoid function\n",
    "# sigmoid = 1 / (1 + np.exp(-0.5 * x))\n",
    "expit(1 * x)"
   ]
  },
  {
   "cell_type": "code",
   "execution_count": null,
   "id": "a4321969820d247f",
   "metadata": {},
   "outputs": [],
   "source": [
    "beta = 1\n",
    "[1 / (1 + math.exp(-beta * i)) for i in range(-2, 3)]"
   ]
  },
  {
   "cell_type": "code",
   "execution_count": null,
   "id": "5d2035498b44c8e2",
   "metadata": {},
   "outputs": [],
   "source": [
    "from ludwig.util import parse_pythonic_tool_calls"
   ]
  },
  {
   "cell_type": "code",
   "execution_count": null,
   "id": "11c2947a513ab94f",
   "metadata": {},
   "outputs": [],
   "source": [
    "line = '[get_current_weather(city=\"Dallas\", country=\"USA\")]'\n",
    "parse_pythonic_tool_calls(line)"
   ]
  },
  {
   "cell_type": "code",
   "execution_count": null,
   "id": "ba7467934f56e90b",
   "metadata": {},
   "outputs": [],
   "source": [
    "from ludwig.tictactoe.example import BestNextMove\n",
    "args = {'current_player': 'X', 'state': [['O', 'X', ' '], ['X', ' ', 'X'], ['O', ' ', ' ']]}\n",
    "tool = BestNextMove()\n",
    "tool.call(args)"
   ]
  },
  {
   "cell_type": "code",
   "execution_count": null,
   "id": "b159f7ad40c45307",
   "metadata": {},
   "outputs": [],
   "source": [
    "import re\n",
    "\n",
    "\n",
    "\n",
    "p2 = r'(?ix)\\b(?:the|my)?\\s*final\\s+answers?\\s*(?:is|are|[:=\\-])?\\s*\\**(Ne8|Na8|Ne6|Na6|Nxd5|Nb5|Rb6|Rb5|Rh4|Rg4|Rf4|Re4\\+|Rd4|Rc4|Ra4|Rb3|Rb2|Rb1|Kb3|Kb2|Kb1|Ka1|a4|c3|c4|c7e8|c7a8|c7e6|c7a6|c7d5|c7b5|b4b6|b4b5|b4h4|b4g4|b4f4|b4e4|b4d4|b4c4|b4a4|b4b3|b4b2|b4b1|a2b3|a2b2|a2b1|a2a1|a3a4|c2c3|c2c4)\\**\\b'\n",
    "\n",
    "p1 = r'(?ix)\\b(?:the|my)?\\s*final\\s+answers?\\s*(?:is|are|[:=\\-])?\\s*\\**(Ne8|Na8|Ne6|Na6|Nxd5|Nb5|Rb6|Rb5|Rh4|Rg4|Rf4|Re4\\+|Rd4|Rc4|Ra4|Rb3|Rb2|Rb1|Kb3|Kb2|Kb1|Ka1|a4|c3|c4|c7e8|c7a8|c7e6|c7a6|c7d5|c7b5|b4b6|b4b5|b4h4|b4g4|b4f4|b4e4|b4d4|b4c4|b4a4|b4b3|b4b2|b4b1|a2b3|a2b2|a2b1|a2a1|a3a4|c2c3|c2c4)\\**'\n",
    "text = '\\nFINAL ANSWER: Re4+'\n",
    "\n",
    "match1 = re.search(p1, text)\n",
    "match1"
   ]
  },
  {
   "cell_type": "code",
   "execution_count": null,
   "id": "763dc2306b523a0",
   "metadata": {},
   "outputs": [],
   "source": []
  },
  {
   "cell_type": "code",
   "execution_count": null,
   "id": "f873fac85d4423a6",
   "metadata": {},
   "outputs": [],
   "source": []
  },
  {
   "cell_type": "code",
   "execution_count": null,
   "id": "64cd6f78dbee459b",
   "metadata": {},
   "outputs": [],
   "source": [
    "from transformers import AutoTokenizer"
   ]
  },
  {
   "cell_type": "code",
   "execution_count": null,
   "id": "bf5c157bdaabe713",
   "metadata": {},
   "outputs": [],
   "source": [
    "model_name = 'meta-llama/Llama-3.3-70B-Instruct'\n",
    "model_name = 'google/gemma-3-27b-it'\n",
    "model_name = 'microsoft/Phi-4-reasoning'\n",
    "model_name = 'mistralai/Mistral-Small-3.2-24B-Instruct-2506'\n",
    "# model_name = \"mistralai/Mistral-7B-Instruct-v0.3\"\n",
    "\n",
    "tokenizer = AutoTokenizer.from_pretrained(model_name, trust_remote_code=True)"
   ]
  },
  {
   "cell_type": "code",
   "execution_count": null,
   "id": "1b080a40e6388d42",
   "metadata": {},
   "outputs": [],
   "source": [
    "\n",
    "print(\"Python Executable:\", sys.executable)\n",
    "print(\"Transformers Version:\", transformers.__version__)"
   ]
  },
  {
   "cell_type": "code",
   "execution_count": null,
   "id": "1d72061138fb2339",
   "metadata": {},
   "outputs": [],
   "source": [
    "print(tokenizer.chat_template)"
   ]
  },
  {
   "cell_type": "code",
   "execution_count": null,
   "id": "405d3044220831aa",
   "metadata": {},
   "outputs": [],
   "source": [
    "messages = [\n",
    "\t{\n",
    "\t\t\"role\": \"system\",\n",
    "\t\t\"content\": \"You are a helpful assistant.\"\n",
    "\t},\n",
    "\t{\n",
    "\t\t\"role\": \"user\",\n",
    "\t\t\"content\": \"What is the capital of France?\"\n",
    "\t}\n",
    "]\n",
    "\n",
    "tokens = tokenizer.apply_chat_template(messages, tokenize=False)\n",
    "\n",
    "tokens"
   ]
  },
  {
   "cell_type": "code",
   "execution_count": null,
   "id": "5c86652569b4c1be",
   "metadata": {},
   "outputs": [],
   "source": [
    "print(\"{{ bos_token }}\\n{%- if messages[0]['role'] == 'system' -%}\\n    {%- if messages[0]['content'] is string -%}\\n        {%- set first_user_prefix = messages[0]['content'] + '\\n\\n' -%}\\n    {%- else -%}\\n        {%- set first_user_prefix = messages[0]['content'][0]['text'] + '\\n\\n' -%}\\n    {%- endif -%}\\n    {%- set loop_messages = messages[1:] -%}\\n{%- else -%}\\n    {%- set first_user_prefix = \\\"\\\" -%}\\n    {%- set loop_messages = messages -%}\\n{%- endif -%}\\n{%- for message in loop_messages -%}\\n    {%- if (message['role'] == 'user') != (loop.index0 % 2 == 0) -%}\\n        {{ raise_exception(\\\"Conversation roles must alternate user/assistant/user/assistant/...\\\") }}\\n    {%- endif -%}\\n    {%- if (message['role'] == 'assistant') -%}\\n        {%- set role = \\\"model\\\" -%}\\n    {%- else -%}\\n        {%- set role = message['role'] -%}\\n    {%- endif -%}\\n    {{ '<start_of_turn>' + role + '\\n' + (first_user_prefix if loop.first else \\\"\\\") }}\\n    {%- if message['content'] is string -%}\\n        {{ message['content'] | trim }}\\n    {%- elif message['content'] is iterable -%}\\n        {%- for item in message['content'] -%}\\n            {%- if item['type'] == 'image' -%}\\n                {{ '<start_of_image>' }}\\n            {%- elif item['type'] == 'text' -%}\\n                {{ item['text'] | trim }}\\n            {%- endif -%}\\n        {%- endfor -%}\\n    {%- else -%}\\n        {{ raise_exception(\\\"Invalid content type\\\") }}\\n    {%- endif -%}\\n    {{ '<end_of_turn>\\n' }}\\n{%- endfor -%}\\n{%- if add_generation_prompt -%}\\n    {{'<start_of_turn>model\\n'}}\\n{%- endif -%}\\n\")"
   ]
  },
  {
   "cell_type": "code",
   "execution_count": null,
   "id": "b0f39b2dc4df34ce",
   "metadata": {},
   "outputs": [],
   "source": []
  },
  {
   "cell_type": "code",
   "execution_count": null,
   "id": "8445285c363a182b",
   "metadata": {},
   "outputs": [],
   "source": []
  },
  {
   "cell_type": "code",
   "execution_count": null,
   "id": "7948f3fee57e9b51",
   "metadata": {},
   "outputs": [],
   "source": []
  }
 ],
 "metadata": {
  "kernelspec": {
   "display_name": "py11",
   "language": "python",
   "name": "python3"
  },
  "language_info": {
   "codemirror_mode": {
    "name": "ipython",
    "version": 3
   },
   "file_extension": ".py",
   "mimetype": "text/x-python",
   "name": "python",
   "nbconvert_exporter": "python",
   "pygments_lexer": "ipython3",
   "version": "3.11.4"
  }
 },
 "nbformat": 4,
 "nbformat_minor": 5
}
