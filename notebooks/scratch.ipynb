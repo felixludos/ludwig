{
 "cells": [
  {
   "cell_type": "code",
   "execution_count": null,
   "id": "initial_id",
   "metadata": {
    "collapsed": true
   },
   "outputs": [],
   "source": [
    ""
   ]
  },
  {
   "metadata": {
    "ExecuteTime": {
     "end_time": "2025-04-02T20:52:36.552671Z",
     "start_time": "2025-04-02T20:52:36.543491Z"
    }
   },
   "cell_type": "code",
   "source": "len(range(10,100))",
   "id": "bd87fded314c781b",
   "outputs": [
    {
     "data": {
      "text/plain": [
       "90"
      ]
     },
     "execution_count": 1,
     "metadata": {},
     "output_type": "execute_result"
    }
   ],
   "execution_count": 1
  },
  {
   "metadata": {
    "ExecuteTime": {
     "end_time": "2025-04-03T12:59:42.707148Z",
     "start_time": "2025-04-03T12:59:42.702592Z"
    }
   },
   "cell_type": "code",
   "source": "from pathlib import Path",
   "id": "a5bfa387fffbe985",
   "outputs": [],
   "execution_count": 3
  },
  {
   "metadata": {
    "ExecuteTime": {
     "end_time": "2025-04-03T12:59:52.559279Z",
     "start_time": "2025-04-03T12:59:52.553226Z"
    }
   },
   "cell_type": "code",
   "source": "Path('foo/bar').relative_to('foo')",
   "id": "62b67168b7d8883e",
   "outputs": [
    {
     "data": {
      "text/plain": [
       "WindowsPath('bar')"
      ]
     },
     "execution_count": 5,
     "metadata": {},
     "output_type": "execute_result"
    }
   ],
   "execution_count": 5
  },
  {
   "metadata": {},
   "cell_type": "code",
   "outputs": [],
   "execution_count": null,
   "source": "",
   "id": "888c1b4a34c63bcc"
  },
  {
   "metadata": {
    "ExecuteTime": {
     "end_time": "2025-04-03T18:24:22.648920Z",
     "start_time": "2025-04-03T18:24:22.618762Z"
    }
   },
   "cell_type": "code",
   "source": [
    "# find what model is running on a vllm server\n",
    "import requests\n",
    "import json\n",
    "import os\n",
    "from typing import Dict, Any\n",
    "\n",
    "def get_vllm_model_info(server_url: str) -> Dict[str, Any]:\n",
    "\t\"\"\"\n",
    "\tGet the model information from a VLLM server.\n",
    "\n",
    "\tArgs:\n",
    "\t\tserver_url (str): The URL of the VLLM server.\n",
    "\n",
    "\tReturns:\n",
    "\t\tDict[str, Any]: A dictionary containing the model information.\n",
    "\t\"\"\"\n",
    "\ttry:\n",
    "\t\tresponse = requests.get(f\"{server_url}/v1/models\")\n",
    "\t\tresponse.raise_for_status()  # Raise an error for bad responses\n",
    "\t\tmodel_info = response.json()\n",
    "\t\treturn model_info\n",
    "\texcept requests.RequestException as e:\n",
    "\t\tprint(f\"Error fetching model info: {e}\")\n",
    "\t\treturn {}\n",
    "\n",
    "info = get_vllm_model_info(\"http://localhost:8000\")\n",
    "info"
   ],
   "id": "426557828a2dc5a4",
   "outputs": [
    {
     "data": {
      "text/plain": [
       "{'object': 'list',\n",
       " 'data': [{'id': 'microsoft/Phi-4-multimodal-instruct',\n",
       "   'object': 'model',\n",
       "   'created': 1743704659,\n",
       "   'owned_by': 'vllm',\n",
       "   'root': 'microsoft/Phi-4-multimodal-instruct',\n",
       "   'parent': None,\n",
       "   'max_model_len': 65536,\n",
       "   'permission': [{'id': 'modelperm-97ec2978acaa401e8ae91ab95a623042',\n",
       "     'object': 'model_permission',\n",
       "     'created': 1743704659,\n",
       "     'allow_create_engine': False,\n",
       "     'allow_sampling': True,\n",
       "     'allow_logprobs': True,\n",
       "     'allow_search_indices': False,\n",
       "     'allow_view': True,\n",
       "     'allow_fine_tuning': False,\n",
       "     'organization': '*',\n",
       "     'group': None,\n",
       "     'is_blocking': False}]}]}"
      ]
     },
     "execution_count": 8,
     "metadata": {},
     "output_type": "execute_result"
    }
   ],
   "execution_count": 8
  },
  {
   "metadata": {
    "ExecuteTime": {
     "end_time": "2025-04-03T21:18:41.908574Z",
     "start_time": "2025-04-03T21:18:41.901721Z"
    }
   },
   "cell_type": "code",
   "source": "info['data'][0]['id']",
   "id": "bc61c4cbc983c28f",
   "outputs": [
    {
     "data": {
      "text/plain": [
       "'microsoft/Phi-4-multimodal-instruct'"
      ]
     },
     "execution_count": 40,
     "metadata": {},
     "output_type": "execute_result"
    }
   ],
   "execution_count": 40
  },
  {
   "metadata": {
    "ExecuteTime": {
     "end_time": "2025-04-03T19:48:15.970278Z",
     "start_time": "2025-04-03T19:48:14.217392Z"
    }
   },
   "cell_type": "code",
   "source": "import openai",
   "id": "81e71e759fae9eca",
   "outputs": [],
   "execution_count": 9
  },
  {
   "metadata": {
    "ExecuteTime": {
     "end_time": "2025-04-03T19:48:58.699132Z",
     "start_time": "2025-04-03T19:48:58.572240Z"
    }
   },
   "cell_type": "code",
   "source": [
    "openai.ChatCompletion.create(\n",
    "\t  model=\"microsoft/Phi-4-multimodal-instruct\",\n",
    "\n",
    "  messages=[\n",
    "\t\t{\"role\": \"user\", \"content\": \"Hello!\"},\n",
    "\t]\n",
    "\t# temperature=0,\n",
    ")"
   ],
   "id": "8e2b48a913008b26",
   "outputs": [
    {
     "ename": "APIRemovedInV1",
     "evalue": "\n\nYou tried to access openai.ChatCompletion, but this is no longer supported in openai>=1.0.0 - see the README at https://github.com/openai/openai-python for the API.\n\nYou can run `openai migrate` to automatically upgrade your codebase to use the 1.0.0 interface. \n\nAlternatively, you can pin your installation to the old version, e.g. `pip install openai==0.28`\n\nA detailed migration guide is available here: https://github.com/openai/openai-python/discussions/742\n",
     "output_type": "error",
     "traceback": [
      "\u001B[1;31m---------------------------------------------------------------------------\u001B[0m",
      "\u001B[1;31mAPIRemovedInV1\u001B[0m                            Traceback (most recent call last)",
      "Cell \u001B[1;32mIn[13], line 1\u001B[0m\n\u001B[1;32m----> 1\u001B[0m \u001B[43mopenai\u001B[49m\u001B[38;5;241;43m.\u001B[39;49m\u001B[43mChatCompletion\u001B[49m\u001B[38;5;241;43m.\u001B[39;49m\u001B[43mcreate\u001B[49m\u001B[43m(\u001B[49m\n\u001B[0;32m      2\u001B[0m \u001B[43m\t  \u001B[49m\u001B[43mmodel\u001B[49m\u001B[38;5;241;43m=\u001B[39;49m\u001B[38;5;124;43m\"\u001B[39;49m\u001B[38;5;124;43mmicrosoft/Phi-4-multimodal-instruct\u001B[39;49m\u001B[38;5;124;43m\"\u001B[39;49m\u001B[43m,\u001B[49m\n\u001B[0;32m      3\u001B[0m \u001B[43m  \u001B[49m\u001B[43mmessages\u001B[49m\u001B[38;5;241;43m=\u001B[39;49m\u001B[43m[\u001B[49m\n\u001B[0;32m      4\u001B[0m \u001B[43m\t\t\u001B[49m\u001B[43m{\u001B[49m\u001B[38;5;124;43m\"\u001B[39;49m\u001B[38;5;124;43mrole\u001B[39;49m\u001B[38;5;124;43m\"\u001B[39;49m\u001B[43m:\u001B[49m\u001B[43m \u001B[49m\u001B[38;5;124;43m\"\u001B[39;49m\u001B[38;5;124;43muser\u001B[39;49m\u001B[38;5;124;43m\"\u001B[39;49m\u001B[43m,\u001B[49m\u001B[43m \u001B[49m\u001B[38;5;124;43m\"\u001B[39;49m\u001B[38;5;124;43mcontent\u001B[39;49m\u001B[38;5;124;43m\"\u001B[39;49m\u001B[43m:\u001B[49m\u001B[43m \u001B[49m\u001B[38;5;124;43m\"\u001B[39;49m\u001B[38;5;124;43mHello!\u001B[39;49m\u001B[38;5;124;43m\"\u001B[39;49m\u001B[43m}\u001B[49m\u001B[43m,\u001B[49m\n\u001B[0;32m      5\u001B[0m \u001B[43m\t\u001B[49m\u001B[43m]\u001B[49m\n\u001B[0;32m      6\u001B[0m \u001B[43m\t\u001B[49m\u001B[38;5;66;43;03m# temperature=0,\u001B[39;49;00m\n\u001B[0;32m      7\u001B[0m \u001B[43m)\u001B[49m\n",
      "File \u001B[1;32m~\\miniconda3\\Lib\\site-packages\\openai\\lib\\_old_api.py:39\u001B[0m, in \u001B[0;36mAPIRemovedInV1Proxy.__call__\u001B[1;34m(self, *_args, **_kwargs)\u001B[0m\n\u001B[0;32m     38\u001B[0m \u001B[38;5;28;01mdef\u001B[39;00m \u001B[38;5;21m__call__\u001B[39m(\u001B[38;5;28mself\u001B[39m, \u001B[38;5;241m*\u001B[39m_args: Any, \u001B[38;5;241m*\u001B[39m\u001B[38;5;241m*\u001B[39m_kwargs: Any) \u001B[38;5;241m-\u001B[39m\u001B[38;5;241m>\u001B[39m Any:\n\u001B[1;32m---> 39\u001B[0m     \u001B[38;5;28;01mraise\u001B[39;00m APIRemovedInV1(symbol\u001B[38;5;241m=\u001B[39m\u001B[38;5;28mself\u001B[39m\u001B[38;5;241m.\u001B[39m_symbol)\n",
      "\u001B[1;31mAPIRemovedInV1\u001B[0m: \n\nYou tried to access openai.ChatCompletion, but this is no longer supported in openai>=1.0.0 - see the README at https://github.com/openai/openai-python for the API.\n\nYou can run `openai migrate` to automatically upgrade your codebase to use the 1.0.0 interface. \n\nAlternatively, you can pin your installation to the old version, e.g. `pip install openai==0.28`\n\nA detailed migration guide is available here: https://github.com/openai/openai-python/discussions/742\n"
     ]
    }
   ],
   "execution_count": 13
  },
  {
   "metadata": {
    "ExecuteTime": {
     "end_time": "2025-04-03T19:53:56.227515Z",
     "start_time": "2025-04-03T19:53:55.379881Z"
    }
   },
   "cell_type": "code",
   "source": [
    "from openai import OpenAI\n",
    "\n",
    "# Modify OpenAI's API key and API base to use vLLM's API server.\n",
    "openai_api_key = \"EMPTY\"\n",
    "openai_api_base = \"http://localhost:8000/v1\"\n",
    "client = OpenAI(\n",
    "\tapi_key=openai_api_key,\n",
    "\tbase_url=openai_api_base,\n",
    ")\n",
    "completion = client.completions.create(model=\"microsoft/Phi-4-multimodal-instruct\",\n",
    "\t\t\t\t\t\t\t\t\t  prompt=\"Complete the sentence: San Francisco is a\")\n",
    "print(\"Completion result:\", completion)"
   ],
   "id": "2ca534ede83055a4",
   "outputs": [
    {
     "name": "stdout",
     "output_type": "stream",
     "text": [
      "Completion result: Completion(id='cmpl-9f402c1a31004efdba6df3c46bfb81ec', choices=[CompletionChoice(finish_reason='length', index=0, logprobs=None, text=' city in _____. Multiple choice:\\na. California\\nb. New York\\n', stop_reason=None, prompt_logprobs=None)], created=1743710032, model='microsoft/Phi-4-multimodal-instruct', object='text_completion', system_fingerprint=None, usage=CompletionUsage(completion_tokens=16, prompt_tokens=8, total_tokens=24, completion_tokens_details=None, prompt_tokens_details=None))\n"
     ]
    }
   ],
   "execution_count": 15
  },
  {
   "metadata": {
    "ExecuteTime": {
     "end_time": "2025-04-03T19:56:52.946124Z",
     "start_time": "2025-04-03T19:56:48.380473Z"
    }
   },
   "cell_type": "code",
   "source": [
    "resp = client.chat.completions.create(model=\"microsoft/Phi-4-multimodal-instruct\",\n",
    "\t\t\t\t\t\t\t\t\t  messages=[{'role':'user', 'content': 'Tell me a short joke.'}])\n",
    "resp"
   ],
   "id": "331e6e144664ef62",
   "outputs": [
    {
     "data": {
      "text/plain": [
       "ChatCompletion(id='chatcmpl-db823bf039a64989b0514e7dd29c52e9', choices=[Choice(finish_reason='stop', index=0, logprobs=None, message=ChatCompletionMessage(content='Why was the math book sad?\\n\\nBecause it had too many problems! 😄', refusal=None, role='assistant', annotations=None, audio=None, function_call=None, tool_calls=[], reasoning_content=None), stop_reason=200020)], created=1743710209, model='microsoft/Phi-4-multimodal-instruct', object='chat.completion', service_tier=None, system_fingerprint=None, usage=CompletionUsage(completion_tokens=17, prompt_tokens=9, total_tokens=26, completion_tokens_details=None, prompt_tokens_details=None), prompt_logprobs=None)"
      ]
     },
     "execution_count": 18,
     "metadata": {},
     "output_type": "execute_result"
    }
   ],
   "execution_count": 18
  },
  {
   "metadata": {
    "ExecuteTime": {
     "end_time": "2025-04-03T19:59:41.280068Z",
     "start_time": "2025-04-03T19:59:41.239203Z"
    }
   },
   "cell_type": "code",
   "source": "resp.choices[0].completion_tokens",
   "id": "eb4df55a51ebd511",
   "outputs": [
    {
     "ename": "AttributeError",
     "evalue": "'Choice' object has no attribute 'completion_tokens'",
     "output_type": "error",
     "traceback": [
      "\u001B[1;31m---------------------------------------------------------------------------\u001B[0m",
      "\u001B[1;31mKeyError\u001B[0m                                  Traceback (most recent call last)",
      "File \u001B[1;32m~\\miniconda3\\Lib\\site-packages\\pydantic\\main.py:883\u001B[0m, in \u001B[0;36mBaseModel.__getattr__\u001B[1;34m(self, item)\u001B[0m\n\u001B[0;32m    882\u001B[0m \u001B[38;5;28;01mtry\u001B[39;00m:\n\u001B[1;32m--> 883\u001B[0m     \u001B[38;5;28;01mreturn\u001B[39;00m \u001B[43mpydantic_extra\u001B[49m\u001B[43m[\u001B[49m\u001B[43mitem\u001B[49m\u001B[43m]\u001B[49m\n\u001B[0;32m    884\u001B[0m \u001B[38;5;28;01mexcept\u001B[39;00m \u001B[38;5;167;01mKeyError\u001B[39;00m \u001B[38;5;28;01mas\u001B[39;00m exc:\n",
      "\u001B[1;31mKeyError\u001B[0m: 'completion_tokens'",
      "\nThe above exception was the direct cause of the following exception:\n",
      "\u001B[1;31mAttributeError\u001B[0m                            Traceback (most recent call last)",
      "Cell \u001B[1;32mIn[21], line 1\u001B[0m\n\u001B[1;32m----> 1\u001B[0m \u001B[43mresp\u001B[49m\u001B[38;5;241;43m.\u001B[39;49m\u001B[43mchoices\u001B[49m\u001B[43m[\u001B[49m\u001B[38;5;241;43m0\u001B[39;49m\u001B[43m]\u001B[49m\u001B[38;5;241;43m.\u001B[39;49m\u001B[43mcompletion_tokens\u001B[49m\n",
      "File \u001B[1;32m~\\miniconda3\\Lib\\site-packages\\pydantic\\main.py:885\u001B[0m, in \u001B[0;36mBaseModel.__getattr__\u001B[1;34m(self, item)\u001B[0m\n\u001B[0;32m    883\u001B[0m         \u001B[38;5;28;01mreturn\u001B[39;00m pydantic_extra[item]\n\u001B[0;32m    884\u001B[0m     \u001B[38;5;28;01mexcept\u001B[39;00m \u001B[38;5;167;01mKeyError\u001B[39;00m \u001B[38;5;28;01mas\u001B[39;00m exc:\n\u001B[1;32m--> 885\u001B[0m         \u001B[38;5;28;01mraise\u001B[39;00m \u001B[38;5;167;01mAttributeError\u001B[39;00m(\u001B[38;5;124mf\u001B[39m\u001B[38;5;124m'\u001B[39m\u001B[38;5;132;01m{\u001B[39;00m\u001B[38;5;28mtype\u001B[39m(\u001B[38;5;28mself\u001B[39m)\u001B[38;5;241m.\u001B[39m\u001B[38;5;18m__name__\u001B[39m\u001B[38;5;132;01m!r}\u001B[39;00m\u001B[38;5;124m object has no attribute \u001B[39m\u001B[38;5;132;01m{\u001B[39;00mitem\u001B[38;5;132;01m!r}\u001B[39;00m\u001B[38;5;124m'\u001B[39m) \u001B[38;5;28;01mfrom\u001B[39;00m \u001B[38;5;21;01mexc\u001B[39;00m\n\u001B[0;32m    886\u001B[0m \u001B[38;5;28;01melse\u001B[39;00m:\n\u001B[0;32m    887\u001B[0m     \u001B[38;5;28;01mif\u001B[39;00m \u001B[38;5;28mhasattr\u001B[39m(\u001B[38;5;28mself\u001B[39m\u001B[38;5;241m.\u001B[39m\u001B[38;5;18m__class__\u001B[39m, item):\n",
      "\u001B[1;31mAttributeError\u001B[0m: 'Choice' object has no attribute 'completion_tokens'"
     ]
    }
   ],
   "execution_count": 21
  },
  {
   "metadata": {
    "ExecuteTime": {
     "end_time": "2025-04-03T20:00:15.883926Z",
     "start_time": "2025-04-03T20:00:15.870279Z"
    }
   },
   "cell_type": "code",
   "source": "resp.usage",
   "id": "c46412b03d49e4b6",
   "outputs": [
    {
     "data": {
      "text/plain": [
       "CompletionUsage(completion_tokens=17, prompt_tokens=9, total_tokens=26, completion_tokens_details=None, prompt_tokens_details=None)"
      ]
     },
     "execution_count": 22,
     "metadata": {},
     "output_type": "execute_result"
    }
   ],
   "execution_count": 22
  },
  {
   "metadata": {
    "ExecuteTime": {
     "end_time": "2025-04-03T21:39:51.843241Z",
     "start_time": "2025-04-03T21:39:51.801120Z"
    }
   },
   "cell_type": "code",
   "source": [
    "stream = client.chat.completions.create(model=\"microsoft/Phi-4-multimodal-instruct\", stream=True,\n",
    "\t\t\t\t\t\t\t\t\t\tstream_options={\"include_usage\": True},\n",
    "\t\t\t\t\t\t\t\t\t  messages=[{'role':'user', 'content': 'Tell me a short joke.'}])\n"
   ],
   "id": "148764cd21e66292",
   "outputs": [],
   "execution_count": 41
  },
  {
   "metadata": {
    "ExecuteTime": {
     "end_time": "2025-04-03T21:39:52.302980Z",
     "start_time": "2025-04-03T21:39:52.296597Z"
    }
   },
   "cell_type": "code",
   "source": "stream",
   "id": "557c01de99969331",
   "outputs": [
    {
     "data": {
      "text/plain": [
       "<openai.Stream at 0x20b1f75b710>"
      ]
     },
     "execution_count": 42,
     "metadata": {},
     "output_type": "execute_result"
    }
   ],
   "execution_count": 42
  },
  {
   "metadata": {
    "ExecuteTime": {
     "end_time": "2025-04-03T21:39:53.523271Z",
     "start_time": "2025-04-03T21:39:53.518074Z"
    }
   },
   "cell_type": "code",
   "source": "chunk = next(stream)",
   "id": "6bdd4e14b24dc4f9",
   "outputs": [],
   "execution_count": 43
  },
  {
   "metadata": {
    "ExecuteTime": {
     "end_time": "2025-04-03T21:39:54.459504Z",
     "start_time": "2025-04-03T21:39:54.453601Z"
    }
   },
   "cell_type": "code",
   "source": "chunk.choices[0].delta",
   "id": "e68974c9fb20f2c0",
   "outputs": [
    {
     "data": {
      "text/plain": [
       "ChoiceDelta(content='', function_call=None, refusal=None, role='assistant', tool_calls=None)"
      ]
     },
     "execution_count": 44,
     "metadata": {},
     "output_type": "execute_result"
    }
   ],
   "execution_count": 44
  },
  {
   "metadata": {
    "ExecuteTime": {
     "end_time": "2025-04-03T20:28:08.317578Z",
     "start_time": "2025-04-03T20:28:08.310036Z"
    }
   },
   "cell_type": "code",
   "source": "type(stream)",
   "id": "b25c1c3b092ecfef",
   "outputs": [
    {
     "data": {
      "text/plain": [
       "openai.Stream"
      ]
     },
     "execution_count": 34,
     "metadata": {},
     "output_type": "execute_result"
    }
   ],
   "execution_count": 34
  },
  {
   "metadata": {
    "ExecuteTime": {
     "end_time": "2025-04-04T13:07:58.074434Z",
     "start_time": "2025-04-04T13:07:58.054238Z"
    }
   },
   "cell_type": "code",
   "source": "chunk",
   "id": "2d8f2814dfec5e6d",
   "outputs": [
    {
     "data": {
      "text/plain": [
       "ChatCompletionChunk(id='chatcmpl-7891bb565e254e3a8a4313edcbe77616', choices=[Choice(delta=ChoiceDelta(content='', function_call=None, refusal=None, role='assistant', tool_calls=None), finish_reason=None, index=0, logprobs=None)], created=1743716391, model='microsoft/Phi-4-multimodal-instruct', object='chat.completion.chunk', service_tier=None, system_fingerprint=None, usage=None)"
      ]
     },
     "execution_count": 46,
     "metadata": {},
     "output_type": "execute_result"
    }
   ],
   "execution_count": 46
  },
  {
   "metadata": {
    "ExecuteTime": {
     "end_time": "2025-04-04T13:08:02.931472Z",
     "start_time": "2025-04-04T13:08:02.923187Z"
    }
   },
   "cell_type": "code",
   "source": "type(chunk)",
   "id": "efbd23daf489368f",
   "outputs": [
    {
     "data": {
      "text/plain": [
       "openai.types.chat.chat_completion_chunk.ChatCompletionChunk"
      ]
     },
     "execution_count": 47,
     "metadata": {},
     "output_type": "execute_result"
    }
   ],
   "execution_count": 47
  },
  {
   "metadata": {
    "ExecuteTime": {
     "end_time": "2025-04-04T13:28:29.921262Z",
     "start_time": "2025-04-04T13:28:29.443168Z"
    }
   },
   "cell_type": "code",
   "source": "client = openai.OpenAI(api_key='EMPTY', base_url='http://localhost:8000/v1')\n",
   "id": "47b1f982575c26f5",
   "outputs": [],
   "execution_count": 48
  },
  {
   "metadata": {
    "ExecuteTime": {
     "end_time": "2025-04-04T13:28:49.214728Z",
     "start_time": "2025-04-04T13:28:49.208260Z"
    }
   },
   "cell_type": "code",
   "source": "str(client.base_url)",
   "id": "11029fe591a323db",
   "outputs": [
    {
     "data": {
      "text/plain": [
       "'http://localhost:8000/v1/'"
      ]
     },
     "execution_count": 50,
     "metadata": {},
     "output_type": "execute_result"
    }
   ],
   "execution_count": 50
  },
  {
   "metadata": {
    "ExecuteTime": {
     "end_time": "2025-04-04T13:30:40.810763Z",
     "start_time": "2025-04-04T13:30:40.805285Z"
    }
   },
   "cell_type": "code",
   "source": "client.base_url.host",
   "id": "312ffb39af53e777",
   "outputs": [
    {
     "data": {
      "text/plain": [
       "'localhost'"
      ]
     },
     "execution_count": 54,
     "metadata": {},
     "output_type": "execute_result"
    }
   ],
   "execution_count": 54
  },
  {
   "metadata": {
    "ExecuteTime": {
     "end_time": "2025-04-04T13:47:06.980379Z",
     "start_time": "2025-04-04T13:47:06.974107Z"
    }
   },
   "cell_type": "code",
   "source": "str(client.base_url)[:-3]",
   "id": "3465267aa24ca984",
   "outputs": [
    {
     "data": {
      "text/plain": [
       "'http://localhost:8000/'"
      ]
     },
     "execution_count": 56,
     "metadata": {},
     "output_type": "execute_result"
    }
   ],
   "execution_count": 56
  },
  {
   "metadata": {
    "ExecuteTime": {
     "end_time": "2025-04-04T14:00:39.305303Z",
     "start_time": "2025-04-04T14:00:39.280153Z"
    }
   },
   "cell_type": "code",
   "source": "openai.types.chat.chatcompletion.ChatCompletionChunk",
   "id": "40bbd4df166e49f6",
   "outputs": [
    {
     "ename": "AttributeError",
     "evalue": "module 'openai.types.chat' has no attribute 'chatcompletion'",
     "output_type": "error",
     "traceback": [
      "\u001B[1;31m---------------------------------------------------------------------------\u001B[0m",
      "\u001B[1;31mAttributeError\u001B[0m                            Traceback (most recent call last)",
      "Cell \u001B[1;32mIn[57], line 1\u001B[0m\n\u001B[1;32m----> 1\u001B[0m \u001B[43mopenai\u001B[49m\u001B[38;5;241;43m.\u001B[39;49m\u001B[43mtypes\u001B[49m\u001B[38;5;241;43m.\u001B[39;49m\u001B[43mchat\u001B[49m\u001B[38;5;241;43m.\u001B[39;49m\u001B[43mchatcompletion\u001B[49m\u001B[38;5;241m.\u001B[39mChatCompletionChunk\n",
      "\u001B[1;31mAttributeError\u001B[0m: module 'openai.types.chat' has no attribute 'chatcompletion'"
     ]
    }
   ],
   "execution_count": 57
  },
  {
   "metadata": {
    "ExecuteTime": {
     "end_time": "2025-04-04T14:02:20.865221Z",
     "start_time": "2025-04-04T14:02:20.854936Z"
    }
   },
   "cell_type": "code",
   "source": "openai.ChatCompletion.chatcompletion.ChatCompletionChunk",
   "id": "ebad3a310719e232",
   "outputs": [
    {
     "data": {
      "text/plain": [
       "APIRemovedInV1Proxy"
      ]
     },
     "execution_count": 58,
     "metadata": {},
     "output_type": "execute_result"
    }
   ],
   "execution_count": 58
  },
  {
   "metadata": {
    "ExecuteTime": {
     "end_time": "2025-04-04T14:03:05.012245Z",
     "start_time": "2025-04-04T14:03:05.005229Z"
    }
   },
   "cell_type": "code",
   "source": "openai.ChatCompletion",
   "id": "15a5efd5ff9b8999",
   "outputs": [
    {
     "data": {
      "text/plain": [
       "APIRemovedInV1Proxy"
      ]
     },
     "execution_count": 62,
     "metadata": {},
     "output_type": "execute_result"
    }
   ],
   "execution_count": 62
  },
  {
   "metadata": {
    "ExecuteTime": {
     "end_time": "2025-04-10T21:13:15.567196Z",
     "start_time": "2025-04-10T21:13:15.562654Z"
    }
   },
   "cell_type": "code",
   "source": [
    "from pathlib import Path\n",
    "from ludwig.direct_prompt_and_parse.dpp_ttt import DPPforTicTacToe\n",
    "from ludwig.util.clients import MockEndpoint"
   ],
   "id": "1ab6bcb3e7e722a5",
   "outputs": [],
   "execution_count": 5
  },
  {
   "metadata": {
    "ExecuteTime": {
     "end_time": "2025-04-10T21:12:24.564504Z",
     "start_time": "2025-04-10T21:12:24.558455Z"
    }
   },
   "cell_type": "code",
   "source": "dpp = DPPforTicTacToe('bfs', client=MockEndpoint())",
   "id": "c1835830ddd98bd",
   "outputs": [],
   "execution_count": 2
  },
  {
   "metadata": {
    "ExecuteTime": {
     "end_time": "2025-04-10T21:12:53.191506Z",
     "start_time": "2025-04-10T21:12:53.182879Z"
    }
   },
   "cell_type": "code",
   "source": "dpp.state_desc_template",
   "id": "c26429040a73adb3",
   "outputs": [
    {
     "data": {
      "text/plain": [
       "'{c_sys}\\nDescribe the specification of the state representation that \"expand\" expects such that a person could, given a description of a state, represent it in the desired format to apply the ‘expand’ function.\\n{desc_f}'"
      ]
     },
     "execution_count": 4,
     "metadata": {},
     "output_type": "execute_result"
    }
   ],
   "execution_count": 4
  },
  {
   "metadata": {
    "ExecuteTime": {
     "end_time": "2025-04-10T21:14:20.457035Z",
     "start_time": "2025-04-10T21:14:20.451604Z"
    }
   },
   "cell_type": "code",
   "source": [
    "root = Path().absolute().parent.joinpath('assets/prompts') / 'dpp'\n",
    "root.mkdir(parents=True, exist_ok=True)"
   ],
   "id": "510b5a58907939a5",
   "outputs": [],
   "execution_count": 10
  },
  {
   "metadata": {
    "ExecuteTime": {
     "end_time": "2025-04-10T21:21:13.507634Z",
     "start_time": "2025-04-10T21:21:13.500840Z"
    }
   },
   "cell_type": "code",
   "source": "# root.joinpath('respones.txt').write_text(dpp.response_template, encoding='utf-8')",
   "id": "3597c91cc827de14",
   "outputs": [
    {
     "data": {
      "text/plain": [
       "302"
      ]
     },
     "execution_count": 16,
     "metadata": {},
     "output_type": "execute_result"
    }
   ],
   "execution_count": 16
  },
  {
   "metadata": {
    "ExecuteTime": {
     "end_time": "2025-04-11T14:31:40.991653Z",
     "start_time": "2025-04-11T14:31:40.982147Z"
    }
   },
   "cell_type": "code",
   "source": [
    "class TestContextManager:\n",
    "\tdef __enter__(self):\n",
    "\t\tprint(\"Entering context\")\n",
    "\t\tself.data = {}\n",
    "\t\treturn self.data\n",
    "\n",
    "\tdef __exit__(self, exc_type, exc_value, traceback):\n",
    "\t\tprint(\"Exiting context\")\n",
    "\t\tif exc_type:\n",
    "\t\t\tprint(f\"An exception occurred: {exc_value}\")\n",
    "\t\tself.data['something']= 'foo'\n",
    "\n",
    "class Top:\n",
    "\tdef collect(self):\n",
    "\t\treturn TestContextManager()\n",
    "\n",
    "cm  = Top()\n",
    "\n",
    "with cm.collect() as x:\n",
    "\tprint(x)\n",
    "\tpass\n",
    "print(x)"
   ],
   "id": "ea64c776b683d5b6",
   "outputs": [
    {
     "name": "stdout",
     "output_type": "stream",
     "text": [
      "Entering context\n",
      "{}\n",
      "Exiting context\n",
      "{'something': 'foo'}\n"
     ]
    }
   ],
   "execution_count": 24
  },
  {
   "metadata": {},
   "cell_type": "code",
   "outputs": [],
   "execution_count": null,
   "source": [
    "with strat.collect_stats() as stats:\n",
    "\tstrat.work(something)\n",
    "print(stats)"
   ],
   "id": "39a63c1ab4be1fe9"
  },
  {
   "metadata": {},
   "cell_type": "code",
   "outputs": [],
   "execution_count": null,
   "source": "",
   "id": "4292ffc8e76a91b7"
  },
  {
   "metadata": {},
   "cell_type": "code",
   "outputs": [],
   "execution_count": null,
   "source": "",
   "id": "381f803df3263c70"
  },
  {
   "metadata": {
    "ExecuteTime": {
     "end_time": "2025-04-30T22:27:26.468154Z",
     "start_time": "2025-04-30T22:27:26.461704Z"
    }
   },
   "cell_type": "code",
   "source": [
    "# def is_valid_tic_tac_toe(board):\n",
    "# \tdef count(board):\n",
    "# \t\tx_count = sum(row.count('X') for row in board)\n",
    "# \t\to_count = sum(row.count('O') for row in board)\n",
    "# \t\treturn x_count, o_count\n",
    "#\n",
    "# \tdef win(player):\n",
    "# \t\t# Check rows, columns, and diagonals\n",
    "# \t\tfor i in range(3):\n",
    "# \t\t\tif all(board[i][j] == player for j in range(3)):  # row\n",
    "# \t\t\t\treturn True\n",
    "# \t\t\tif all(board[j][i] == player for j in range(3)):  # column\n",
    "# \t\t\t\treturn True\n",
    "# \t\tif all(board[i][i] == player for i in range(3)):      # main diagonal\n",
    "# \t\t\treturn True\n",
    "# \t\tif all(board[i][2 - i] == player for i in range(3)):  # anti-diagonal\n",
    "# \t\t\treturn True\n",
    "# \t\treturn False\n",
    "#\n",
    "# \tx_count, o_count = count(board)\n",
    "#\n",
    "# \t# Rule: X always goes first\n",
    "# \tif o_count > x_count or x_count > o_count + 1:\n",
    "# \t\treturn False\n",
    "#\n",
    "# \tx_win = win('X')\n",
    "# \to_win = win('O')\n",
    "#\n",
    "# \t# Rule: Both players cannot win simultaneously\n",
    "# \tif x_win and o_win:\n",
    "# \t\treturn False\n",
    "#\n",
    "# \t# Rule: If X wins, X must have one more move\n",
    "# \tif x_win and x_count != o_count + 1:\n",
    "# \t\treturn False\n",
    "#\n",
    "# \t# Rule: If O wins, X and O must have the same number of moves\n",
    "# \tif o_win and x_count != o_count:\n",
    "# \t\treturn False\n",
    "#\n",
    "# \treturn True\n",
    "#\n",
    "# def check_winner(board):\n",
    "# \tdef win(player):\n",
    "# \t\t# Check rows, columns, and diagonals\n",
    "# \t\tfor i in range(3):\n",
    "# \t\t\tif all(board[i][j] == player for j in range(3)):  # row\n",
    "# \t\t\t\treturn True\n",
    "# \t\t\tif all(board[j][i] == player for j in range(3)):  # column\n",
    "# \t\t\t\treturn True\n",
    "# \t\tif all(board[i][i] == player for i in range(3)):      # main diagonal\n",
    "# \t\t\treturn True\n",
    "# \t\tif all(board[i][2 - i] == player for i in range(3)):  # anti-diagonal\n",
    "# \t\t\treturn True\n",
    "# \t\treturn False\n",
    "#\n",
    "# \tif win('X'):\n",
    "# \t\treturn 'X'\n",
    "# \telif win('O'):\n",
    "# \t\treturn 'O'\n",
    "# \telse:\n",
    "# \t\treturn None\n",
    "#\n",
    "# from itertools import product\n",
    "# def generate_ttt_states():\n",
    "# \tfor raw in product(*[['X', 'O', ' '] for _ in range(9)]):\n",
    "# \t\tboard = [list(raw[i:i+3]) for i in range(0, 9, 3)]\n",
    "# \t\tif is_valid_tic_tac_toe(board):\n",
    "# \t\t\tyield board\n",
    "#\n",
    "# def generate_next_states(state):\n",
    "# \t# Count pieces\n",
    "# \tx_count = sum(row.count('X') for row in state)\n",
    "# \to_count = sum(row.count('O') for row in state)\n",
    "#\n",
    "# \t# Infer next player\n",
    "# \tif x_count == o_count:\n",
    "# \t\tplayer = 'X'\n",
    "# \telif x_count == o_count + 1:\n",
    "# \t\tplayer = 'O'\n",
    "# \telse:\n",
    "# \t\traise ValueError(\"Invalid board state: too many Xs or Os\")\n",
    "#\n",
    "# \t# Generate next states\n",
    "# \tnext_states = []\n",
    "# \tfor i in range(3):\n",
    "# \t\tfor j in range(3):\n",
    "# \t\t\tif state[i][j] == ' ':\n",
    "# \t\t\t\tnew_state = [row[:] for row in state]\n",
    "# \t\t\t\tnew_state[i][j] = player\n",
    "# \t\t\t\tnext_states.append(new_state)\n",
    "# \treturn next_states\n",
    "#\n",
    "# def state_value(state):\n",
    "# \twinner = check_winner(state)\n",
    "# \tif winner == 'X':\n",
    "# \t\treturn 1\n",
    "# \telif winner == 'O':\n",
    "# \t\treturn -1\n",
    "#\n",
    "# \toptions = [state_value(state) for state in generate_next_states(state)]\n",
    "# \treturn sum(options) / len(options) if options else 0\n"
   ],
   "id": "459f99f063bc4ba2",
   "outputs": [],
   "execution_count": 68
  },
  {
   "metadata": {
    "ExecuteTime": {
     "end_time": "2025-04-30T18:57:41.512011Z",
     "start_time": "2025-04-30T18:57:41.390294Z"
    }
   },
   "cell_type": "code",
   "source": [
    "states = list(generate_ttt_states())\n",
    "len(states)"
   ],
   "id": "31b82f0f30bd2efc",
   "outputs": [
    {
     "data": {
      "text/plain": [
       "5478"
      ]
     },
     "execution_count": 10,
     "metadata": {},
     "output_type": "execute_result"
    }
   ],
   "execution_count": 10
  },
  {
   "metadata": {
    "ExecuteTime": {
     "end_time": "2025-04-30T19:10:18.397953Z",
     "start_time": "2025-04-30T19:10:18.282998Z"
    }
   },
   "cell_type": "code",
   "source": "from tqdm.notebook import tqdm",
   "id": "483b5501d968fec1",
   "outputs": [],
   "execution_count": 22
  },
  {
   "metadata": {
    "ExecuteTime": {
     "end_time": "2025-04-30T19:10:45.927023Z",
     "start_time": "2025-04-30T19:10:20.815213Z"
    }
   },
   "cell_type": "code",
   "source": [
    "to_code = lambda state: ''.join(''.join(row) for row in state)\n",
    "exp_values = {to_code(state): state_value(state) for state in tqdm(states)}\n"
   ],
   "id": "bf921684c40a2202",
   "outputs": [
    {
     "data": {
      "text/plain": [
       "  0%|          | 0/5478 [00:00<?, ?it/s]"
      ],
      "application/vnd.jupyter.widget-view+json": {
       "version_major": 2,
       "version_minor": 0,
       "model_id": "fce8c064f8a14087bcc624ee0696e1a1"
      }
     },
     "metadata": {},
     "output_type": "display_data"
    }
   ],
   "execution_count": 23
  },
  {
   "metadata": {
    "ExecuteTime": {
     "end_time": "2025-04-30T19:14:56.468766Z",
     "start_time": "2025-04-30T19:14:56.441422Z"
    }
   },
   "cell_type": "code",
   "source": [
    "# import json\n",
    "# json.dump(exp_values, open('expectimax.json', 'w'), indent=2)"
   ],
   "id": "cb169c8a8b5f120c",
   "outputs": [],
   "execution_count": 32
  },
  {
   "metadata": {
    "ExecuteTime": {
     "end_time": "2025-04-30T19:12:10.301359Z",
     "start_time": "2025-04-30T19:12:10.292920Z"
    }
   },
   "cell_type": "code",
   "source": "exp_values[' '*9]",
   "id": "3f95ecbcd5c8f440",
   "outputs": [
    {
     "data": {
      "text/plain": [
       "0.2968253968253968"
      ]
     },
     "execution_count": 26,
     "metadata": {},
     "output_type": "execute_result"
    }
   ],
   "execution_count": 26
  },
  {
   "metadata": {
    "ExecuteTime": {
     "end_time": "2025-04-30T19:13:47.333042Z",
     "start_time": "2025-04-30T19:13:47.327520Z"
    }
   },
   "cell_type": "code",
   "source": "exp_values['XXO O    ']",
   "id": "d1efa406635664f3",
   "outputs": [
    {
     "data": {
      "text/plain": [
       "-0.3333333333333333"
      ]
     },
     "execution_count": 31,
     "metadata": {},
     "output_type": "execute_result"
    }
   ],
   "execution_count": 31
  },
  {
   "metadata": {},
   "cell_type": "code",
   "outputs": [],
   "execution_count": null,
   "source": "",
   "id": "78a90350e03482c8"
  },
  {
   "metadata": {
    "ExecuteTime": {
     "end_time": "2025-04-30T18:58:56.955934Z",
     "start_time": "2025-04-30T18:58:56.951042Z"
    }
   },
   "cell_type": "code",
   "source": "from collections import Counter",
   "id": "3d6530a474be63ec",
   "outputs": [],
   "execution_count": 13
  },
  {
   "metadata": {},
   "cell_type": "code",
   "outputs": [],
   "execution_count": null,
   "source": "",
   "id": "f434f648ad1c9864"
  },
  {
   "metadata": {
    "ExecuteTime": {
     "end_time": "2025-04-30T18:59:05.315281Z",
     "start_time": "2025-04-30T18:59:05.259532Z"
    }
   },
   "cell_type": "code",
   "source": "Counter(check_winner(tuple(state)) for state in states)",
   "id": "3b4dac227ac15142",
   "outputs": [
    {
     "data": {
      "text/plain": [
       "Counter({None: 4536, 'X': 626, 'O': 316})"
      ]
     },
     "execution_count": 14,
     "metadata": {},
     "output_type": "execute_result"
    }
   ],
   "execution_count": 14
  },
  {
   "metadata": {
    "ExecuteTime": {
     "end_time": "2025-04-30T19:01:58.250587Z",
     "start_time": "2025-04-30T19:01:58.191315Z"
    }
   },
   "cell_type": "code",
   "source": [
    "sel = [state for state in states if check_winner(tuple(state)) == 'X']\n",
    "len(sel)"
   ],
   "id": "176a4d854b02622",
   "outputs": [
    {
     "data": {
      "text/plain": [
       "626"
      ]
     },
     "execution_count": 17,
     "metadata": {},
     "output_type": "execute_result"
    }
   ],
   "execution_count": 17
  },
  {
   "metadata": {},
   "cell_type": "code",
   "outputs": [],
   "execution_count": null,
   "source": "",
   "id": "fc18fe574771bc74"
  },
  {
   "metadata": {
    "ExecuteTime": {
     "end_time": "2025-04-30T22:43:32.084910Z",
     "start_time": "2025-04-30T22:43:32.075159Z"
    }
   },
   "cell_type": "code",
   "source": [
    "def check_winner(state):\n",
    "\tlines = [\n",
    "\t\tstate[0:3], state[3:6], state[6:9],  # rows\n",
    "\t\tstate[0::3], state[1::3], state[2::3],  # columns\n",
    "\t\tstate[0::4], state[2:7:2]  # diagonals\n",
    "\t]\n",
    "\tfor line in lines:\n",
    "\t\tif line == 'XXX':\n",
    "\t\t\treturn 'X'\n",
    "\t\tif line == 'OOO':\n",
    "\t\t\treturn 'O'\n",
    "\treturn None\n",
    "\n",
    "def is_full(state):\n",
    "\treturn ' ' not in state\n",
    "\n",
    "from functools import lru_cache\n",
    "\n",
    "def generate_next_states(state):\n",
    "\tif check_winner(state) is not None:\n",
    "\t\treturn []\n",
    "\tis_x_turn = state.count('X') == state.count('O')\n",
    "\tnext_states = []\n",
    "\tfor i in range(9):\n",
    "\t\tif state[i] == ' ':\n",
    "\t\t\tnew_state = state[:i] + ('X' if is_x_turn else 'O') + state[i+1:]\n",
    "\t\t\tnext_states.append(new_state)\n",
    "\treturn next_states\n",
    "\n",
    "\n",
    "@lru_cache(maxsize=None)\n",
    "def minimax(state):\n",
    "\twinner = check_winner(state)\n",
    "\tif winner == 'X':\n",
    "\t\treturn 1\n",
    "\tif winner == 'O':\n",
    "\t\treturn -1\n",
    "\tif is_full(state):\n",
    "\t\treturn 0\n",
    "\tis_x_turn = state.count('X') == state.count('O')\n",
    "\treturn (max if is_x_turn else min)(minimax(option) for option in generate_next_states(state))\n",
    "\n",
    "@lru_cache(maxsize=None)\n",
    "def expectimax(state):\n",
    "\twinner = check_winner(state)\n",
    "\tif winner == 'X':\n",
    "\t\treturn 1\n",
    "\tif winner == 'O':\n",
    "\t\treturn -1\n",
    "\tif is_full(state):\n",
    "\t\treturn 0\n",
    "\tis_x_turn = state.count('X') == state.count('O')\n",
    "\tvalues = [expectimax(option) for option in generate_next_states(state)]\n",
    "\treturn sum(values) / len(values) if values else 0\n"
   ],
   "id": "789bd6492498e83c",
   "outputs": [],
   "execution_count": 76
  },
  {
   "metadata": {
    "ExecuteTime": {
     "end_time": "2025-04-30T22:43:38.960812Z",
     "start_time": "2025-04-30T22:43:38.928447Z"
    }
   },
   "cell_type": "code",
   "source": [
    "all_states = []\n",
    "past_states = set()\n",
    "origin_state = ' ' * 9\n",
    "todo = [origin_state]\n",
    "while todo:\n",
    "\tstate = todo.pop()\n",
    "\tall_states.append(state)\n",
    "\tpast_states.add(state)\n",
    "\tfor next_state in generate_next_states(state):\n",
    "\t\tif next_state not in past_states:\n",
    "\t\t\ttodo.append(next_state)\n",
    "len(all_states)"
   ],
   "id": "41cb7aabe3b04fd1",
   "outputs": [
    {
     "data": {
      "text/plain": [
       "5478"
      ]
     },
     "execution_count": 78,
     "metadata": {},
     "output_type": "execute_result"
    }
   ],
   "execution_count": 78
  },
  {
   "metadata": {
    "ExecuteTime": {
     "end_time": "2025-04-30T22:43:40.495662Z",
     "start_time": "2025-04-30T22:43:40.478796Z"
    }
   },
   "cell_type": "code",
   "source": "all_states",
   "id": "12463e8aaef95e67",
   "outputs": [
    {
     "data": {
      "text/plain": [
       "['         ',\n",
       " '        X',\n",
       " '       OX',\n",
       " '      XOX',\n",
       " '     OXOX',\n",
       " '    XOXOX',\n",
       " '   OXOXOX',\n",
       " '  XOXOXOX',\n",
       " ' X OXOXOX',\n",
       " ' XOOXOXOX',\n",
       " 'XXOOXOXOX',\n",
       " 'OX OXOXOX',\n",
       " 'OXXOXOXOX',\n",
       " 'X  OXOXOX',\n",
       " '  O XOXOX',\n",
       " '  OXXOXOX',\n",
       " ' OOXXOXOX',\n",
       " 'XOOXXOXOX',\n",
       " 'O OXXOXOX',\n",
       " 'OXOXXOXOX',\n",
       " ' XO XOXOX',\n",
       " 'OXO XOXOX',\n",
       " 'X O XOXOX',\n",
       " ' O  XOXOX',\n",
       " ' O XXOXOX',\n",
       " 'OO XXOXOX',\n",
       " 'OOXXXOXOX',\n",
       " ' OX XOXOX',\n",
       " 'XO  XOXOX',\n",
       " 'O   XOXOX',\n",
       " 'O  XXOXOX',\n",
       " 'O X XOXOX',\n",
       " 'OX  XOXOX',\n",
       " '   X OXOX',\n",
       " '   XOOXOX',\n",
       " '  XXOOXOX',\n",
       " ' OXXOOXOX',\n",
       " 'O XXOOXOX',\n",
       " 'OXXXOOXOX',\n",
       " ' X XOOXOX',\n",
       " ' XOXOOXOX',\n",
       " 'XXOXOOXOX',\n",
       " 'OX XOOXOX',\n",
       " 'X  XOOXOX',\n",
       " '  OX OXOX',\n",
       " ' XOX OXOX',\n",
       " 'OXOX OXOX',\n",
       " 'X OX OXOX',\n",
       " ' O X OXOX',\n",
       " ' OXX OXOX',\n",
       " 'OOXX OXOX',\n",
       " 'XO X OXOX',\n",
       " 'O  X OXOX',\n",
       " 'O XX OXOX',\n",
       " 'OX X OXOX',\n",
       " '  X  OXOX',\n",
       " '  X OOXOX',\n",
       " ' XX OOXOX',\n",
       " ' XXOOOXOX',\n",
       " 'OXX OOXOX',\n",
       " 'X X OOXOX',\n",
       " 'X XOOOXOX',\n",
       " 'XOX OOXOX',\n",
       " '  XO OXOX',\n",
       " ' XXO OXOX',\n",
       " 'OXXO OXOX',\n",
       " 'X XO OXOX',\n",
       " 'XOXO OXOX',\n",
       " 'XOXOXOXOX',\n",
       " ' OX  OXOX',\n",
       " 'XOX  OXOX',\n",
       " 'O X  OXOX',\n",
       " 'OXX  OXOX',\n",
       " ' X   OXOX',\n",
       " ' X  OOXOX',\n",
       " 'XX  OOXOX',\n",
       " 'XX OOOXOX',\n",
       " 'XXO OOXOX',\n",
       " ' X O OXOX',\n",
       " 'XX O OXOX',\n",
       " 'XXOO OXOX',\n",
       " ' XO  OXOX',\n",
       " 'XXO  OXOX',\n",
       " 'OX   OXOX',\n",
       " 'X    OXOX',\n",
       " 'X   OOXOX',\n",
       " 'X  O OXOX',\n",
       " 'X O  OXOX',\n",
       " 'XO   OXOX',\n",
       " '    O XOX',\n",
       " '    OXXOX',\n",
       " '   OOXXOX',\n",
       " '  XOOXXOX',\n",
       " ' X OOXXOX',\n",
       " ' XOOOXXOX',\n",
       " 'XXOOOXXOX',\n",
       " 'OX OOXXOX',\n",
       " 'OXXOOXXOX',\n",
       " 'X  OOXXOX',\n",
       " 'X OOOXXOX',\n",
       " 'XO OOXXOX',\n",
       " '  O OXXOX',\n",
       " '  OXOXXOX',\n",
       " ' OOXOXXOX',\n",
       " 'O OXOXXOX',\n",
       " 'OXOXOXXOX',\n",
       " ' XO OXXOX',\n",
       " 'OXO OXXOX',\n",
       " 'X O OXXOX',\n",
       " 'XOO OXXOX',\n",
       " ' O  OXXOX',\n",
       " 'O   OXXOX',\n",
       " 'O  XOXXOX',\n",
       " 'OO XOXXOX',\n",
       " 'O X OXXOX',\n",
       " 'OX  OXXOX',\n",
       " '   XO XOX',\n",
       " '  OXO XOX',\n",
       " ' XOXO XOX',\n",
       " 'OXOXO XOX',\n",
       " 'X OXO XOX',\n",
       " ' O XO XOX',\n",
       " 'O  XO XOX',\n",
       " 'O XXO XOX',\n",
       " 'OOXXO XOX',\n",
       " 'OX XO XOX',\n",
       " '  X O XOX',\n",
       " '  XOO XOX',\n",
       " ' XXOO XOX',\n",
       " 'OXXOO XOX',\n",
       " 'X XOO XOX',\n",
       " 'XOXOO XOX',\n",
       " ' OX O XOX',\n",
       " 'O X O XOX',\n",
       " 'OXX O XOX',\n",
       " ' X  O XOX',\n",
       " ' X OO XOX',\n",
       " 'XX OO XOX',\n",
       " 'XXOOO XOX',\n",
       " ' XO O XOX',\n",
       " 'XXO O XOX',\n",
       " 'OX  O XOX',\n",
       " 'X   O XOX',\n",
       " 'X  OO XOX',\n",
       " 'X O O XOX',\n",
       " 'XO  O XOX',\n",
       " '   O  XOX',\n",
       " '   O XXOX',\n",
       " '  OO XXOX',\n",
       " '  OOXXXOX',\n",
       " ' OOOXXXOX',\n",
       " 'XOOOXXXOX',\n",
       " 'O OOXXXOX',\n",
       " 'OXOOXXXOX',\n",
       " ' XOO XXOX',\n",
       " 'OXOO XXOX',\n",
       " 'X OO XXOX',\n",
       " 'XOOO XXOX',\n",
       " ' O O XXOX',\n",
       " ' O OXXXOX',\n",
       " 'OO OXXXOX',\n",
       " 'OOXOXXXOX',\n",
       " ' OXO XXOX',\n",
       " 'XO O XXOX',\n",
       " 'O  O XXOX',\n",
       " 'O  OXXXOX',\n",
       " 'O XO XXOX',\n",
       " 'OX O XXOX',\n",
       " '   OX XOX',\n",
       " '  OOX XOX',\n",
       " ' XOOX XOX',\n",
       " 'OXOOX XOX',\n",
       " 'X OOX XOX',\n",
       " ' O OX XOX',\n",
       " ' OXOX XOX',\n",
       " 'XO OX XOX',\n",
       " 'O  OX XOX',\n",
       " 'O XOX XOX',\n",
       " 'OX OX XOX',\n",
       " '  XO  XOX',\n",
       " ' OXO  XOX',\n",
       " 'XOXO  XOX',\n",
       " 'O XO  XOX',\n",
       " 'OXXO  XOX',\n",
       " ' X O  XOX',\n",
       " ' XOO  XOX',\n",
       " 'XXOO  XOX',\n",
       " 'OX O  XOX',\n",
       " 'X  O  XOX',\n",
       " 'X OO  XOX',\n",
       " 'XO O  XOX',\n",
       " '  O   XOX',\n",
       " '  O  XXOX',\n",
       " ' OO  XXOX',\n",
       " ' OO XXXOX',\n",
       " 'OOO XXXOX',\n",
       " ' OOX XXOX',\n",
       " 'OOOX XXOX',\n",
       " 'XOO  XXOX',\n",
       " 'O O  XXOX',\n",
       " 'O O XXXOX',\n",
       " 'O OX XXOX',\n",
       " 'OXO  XXOX',\n",
       " '  O X XOX',\n",
       " ' OO X XOX',\n",
       " ' OOXX XOX',\n",
       " 'OOOXX XOX',\n",
       " 'XOO X XOX',\n",
       " 'O O X XOX',\n",
       " 'O OXX XOX',\n",
       " 'OXO X XOX',\n",
       " '  OX  XOX',\n",
       " ' OOX  XOX',\n",
       " 'XOOX  XOX',\n",
       " 'O OX  XOX',\n",
       " 'OXOX  XOX',\n",
       " ' XO   XOX',\n",
       " 'OXO   XOX',\n",
       " 'X O   XOX',\n",
       " 'XOO   XOX',\n",
       " ' O    XOX',\n",
       " ' O   XXOX',\n",
       " 'OO   XXOX',\n",
       " 'OO  XXXOX',\n",
       " 'OO X XXOX',\n",
       " 'OOX  XXOX',\n",
       " ' O  X XOX',\n",
       " 'OO  X XOX',\n",
       " 'OO XX XOX',\n",
       " 'OOX X XOX',\n",
       " ' O X  XOX',\n",
       " 'OO X  XOX',\n",
       " 'OOXX  XOX',\n",
       " ' OX   XOX',\n",
       " 'OOX   XOX',\n",
       " 'XO    XOX',\n",
       " 'O     XOX',\n",
       " 'O    XXOX',\n",
       " 'O   X XOX',\n",
       " 'O  X  XOX',\n",
       " 'O X   XOX',\n",
       " 'OX    XOX',\n",
       " '     X OX',\n",
       " '     XOOX',\n",
       " '    XXOOX',\n",
       " '   OXXOOX',\n",
       " '  XOXXOOX',\n",
       " ' X OXXOOX',\n",
       " ' XOOXXOOX',\n",
       " 'XXOOXXOOX',\n",
       " 'OX OXXOOX',\n",
       " 'X  OXXOOX',\n",
       " '  O XXOOX',\n",
       " '  OXXXOOX',\n",
       " ' XO XXOOX',\n",
       " 'OXO XXOOX',\n",
       " 'OXOXXXOOX',\n",
       " 'X O XXOOX',\n",
       " ' O  XXOOX',\n",
       " ' O XXXOOX',\n",
       " ' OX XXOOX',\n",
       " 'XO  XXOOX',\n",
       " 'O   XXOOX',\n",
       " 'O  XXXOOX',\n",
       " 'O X XXOOX',\n",
       " 'OX  XXOOX',\n",
       " '   X XOOX',\n",
       " '   XOXOOX',\n",
       " '  XXOXOOX',\n",
       " ' X XOXOOX',\n",
       " ' XOXOXOOX',\n",
       " 'OX XOXOOX',\n",
       " 'OXXXOXOOX',\n",
       " 'X  XOXOOX',\n",
       " 'X OXOXOOX',\n",
       " 'XO XOXOOX',\n",
       " '  OX XOOX',\n",
       " ' XOX XOOX',\n",
       " 'OXOX XOOX',\n",
       " 'X OX XOOX',\n",
       " 'XOOX XOOX',\n",
       " 'XOOXXXOOX',\n",
       " ' O X XOOX',\n",
       " ' OXX XOOX',\n",
       " 'XO X XOOX',\n",
       " 'O  X XOOX',\n",
       " 'O XX XOOX',\n",
       " 'OX X XOOX',\n",
       " '  X  XOOX',\n",
       " ' X   XOOX',\n",
       " ' X  OXOOX',\n",
       " ' XX OXOOX',\n",
       " 'XX  OXOOX',\n",
       " 'XX OOXOOX',\n",
       " 'XXXOOXOOX',\n",
       " 'XXO OXOOX',\n",
       " ' X O XOOX',\n",
       " ' XXO XOOX',\n",
       " 'XX O XOOX',\n",
       " 'XXOO XOOX',\n",
       " ' XO  XOOX',\n",
       " 'XXO  XOOX',\n",
       " 'OX   XOOX',\n",
       " 'OXX  XOOX',\n",
       " 'X    XOOX',\n",
       " 'X   OXOOX',\n",
       " 'X X OXOOX',\n",
       " 'X  O XOOX',\n",
       " 'X XO XOOX',\n",
       " 'X O  XOOX',\n",
       " 'XO   XOOX',\n",
       " 'XOX  XOOX',\n",
       " '    OX OX',\n",
       " '   XOX OX',\n",
       " '  OXOX OX',\n",
       " ' XOXOX OX',\n",
       " 'OXOXOX OX',\n",
       " 'X OXOX OX',\n",
       " 'XOOXOX OX',\n",
       " ' O XOX OX',\n",
       " 'O  XOX OX',\n",
       " 'O XXOX OX',\n",
       " 'OX XOX OX',\n",
       " '  X OX OX',\n",
       " ' X  OX OX',\n",
       " ' X OOX OX',\n",
       " ' XXOOX OX',\n",
       " 'XX OOX OX',\n",
       " 'XXOOOX OX',\n",
       " ' XO OX OX',\n",
       " 'XXO OX OX',\n",
       " 'OX  OX OX',\n",
       " 'OXX OX OX',\n",
       " 'X   OX OX',\n",
       " 'X  OOX OX',\n",
       " 'X XOOX OX',\n",
       " 'X O OX OX',\n",
       " 'XO  OX OX',\n",
       " '   O X OX',\n",
       " '   OXX OX',\n",
       " '  OOXX OX',\n",
       " ' XOOXX OX',\n",
       " 'OXOOXX OX',\n",
       " 'X OOXX OX',\n",
       " ' O OXX OX',\n",
       " ' OXOXX OX',\n",
       " 'XO OXX OX',\n",
       " 'O  OXX OX',\n",
       " 'O XOXX OX',\n",
       " 'OX OXX OX',\n",
       " '  XO X OX',\n",
       " ' X O X OX',\n",
       " ' XOO X OX',\n",
       " 'XXOO X OX',\n",
       " 'OX O X OX',\n",
       " 'OXXO X OX',\n",
       " 'X  O X OX',\n",
       " 'X OO X OX',\n",
       " 'XO O X OX',\n",
       " 'XOXO X OX',\n",
       " '  O  X OX',\n",
       " '  O XX OX',\n",
       " ' OO XX OX',\n",
       " ' OOXXX OX',\n",
       " 'XOO XX OX',\n",
       " 'O O XX OX',\n",
       " 'O OXXX OX',\n",
       " 'OXO XX OX',\n",
       " '  OX X OX',\n",
       " ' OOX X OX',\n",
       " 'XOOX X OX',\n",
       " 'O OX X OX',\n",
       " 'OXOX X OX',\n",
       " ' XO  X OX',\n",
       " 'OXO  X OX',\n",
       " 'X O  X OX',\n",
       " 'XOO  X OX',\n",
       " ' O   X OX',\n",
       " ' O  XX OX',\n",
       " 'OO  XX OX',\n",
       " 'OO XXX OX',\n",
       " 'OOX XX OX',\n",
       " ' O X X OX',\n",
       " 'OO X X OX',\n",
       " 'OOXX X OX',\n",
       " ' OX  X OX',\n",
       " 'XO   X OX',\n",
       " 'O    X OX',\n",
       " 'O   XX OX',\n",
       " 'O  X X OX',\n",
       " 'O X  X OX',\n",
       " 'OX   X OX',\n",
       " '    X  OX',\n",
       " '    X OOX',\n",
       " '   XX OOX',\n",
       " '   XXOOOX',\n",
       " '  XXXOOOX',\n",
       " ' OXXXOOOX',\n",
       " 'XOXXXOOOX',\n",
       " 'O XXXOOOX',\n",
       " 'OXXXXOOOX',\n",
       " ' X XXOOOX',\n",
       " ' XOXXOOOX',\n",
       " 'XXOXXOOOX',\n",
       " 'OX XXOOOX',\n",
       " 'X  XXOOOX',\n",
       " '  OXX OOX',\n",
       " ' XOXX OOX',\n",
       " 'OXOXX OOX',\n",
       " 'X OXX OOX',\n",
       " ' O XX OOX',\n",
       " ' OXXX OOX',\n",
       " 'OOXXX OOX',\n",
       " 'OOXXXXOOX',\n",
       " 'XO XX OOX',\n",
       " 'O  XX OOX',\n",
       " 'O XXX OOX',\n",
       " 'OX XX OOX',\n",
       " '  X X OOX',\n",
       " '  X XOOOX',\n",
       " ' XX XOOOX',\n",
       " ' XXOXOOOX',\n",
       " 'XXXOXOOOX',\n",
       " 'OXX XOOOX',\n",
       " 'X X XOOOX',\n",
       " '  XOX OOX',\n",
       " ' XXOX OOX',\n",
       " 'OXXOX OOX',\n",
       " 'X XOX OOX',\n",
       " ' OX X OOX',\n",
       " 'XOX X OOX',\n",
       " 'O X X OOX',\n",
       " 'OXX X OOX',\n",
       " ' X  X OOX',\n",
       " ' X  XOOOX',\n",
       " 'XX  XOOOX',\n",
       " ' X OX OOX',\n",
       " 'XX OX OOX',\n",
       " ' XO X OOX',\n",
       " 'XXO X OOX',\n",
       " 'OX  X OOX',\n",
       " 'X   X OOX',\n",
       " '    XO OX',\n",
       " '   XXO OX',\n",
       " '  OXXO OX',\n",
       " ' XOXXO OX',\n",
       " 'OXOXXO OX',\n",
       " 'X OXXO OX',\n",
       " ' O XXO OX',\n",
       " ' OXXXO OX',\n",
       " 'OOXXXO OX',\n",
       " 'XO XXO OX',\n",
       " 'O  XXO OX',\n",
       " 'O XXXO OX',\n",
       " 'OX XXO OX',\n",
       " '  X XO OX',\n",
       " '  XOXO OX',\n",
       " ' XXOXO OX',\n",
       " 'OXXOXO OX',\n",
       " 'X XOXO OX',\n",
       " ' OX XO OX',\n",
       " 'XOX XO OX',\n",
       " 'O X XO OX',\n",
       " 'OXX XO OX',\n",
       " ' X  XO OX',\n",
       " ' X OXO OX',\n",
       " 'XX OXO OX',\n",
       " ' XO XO OX',\n",
       " 'XXO XO OX',\n",
       " 'OX  XO OX',\n",
       " 'X   XO OX',\n",
       " '   OX  OX',\n",
       " '  XOX  OX',\n",
       " ' OXOX  OX',\n",
       " 'XOXOX  OX',\n",
       " 'O XOX  OX',\n",
       " 'OXXOX  OX',\n",
       " ' X OX  OX',\n",
       " ' XOOX  OX',\n",
       " 'XXOOX  OX',\n",
       " 'OX OX  OX',\n",
       " 'X  OX  OX',\n",
       " '  O X  OX',\n",
       " '  OXX  OX',\n",
       " ' OOXX  OX',\n",
       " 'XOOXX  OX',\n",
       " 'O OXX  OX',\n",
       " 'OXOXX  OX',\n",
       " ' XO X  OX',\n",
       " 'OXO X  OX',\n",
       " 'X O X  OX',\n",
       " ' O  X  OX',\n",
       " ' O XX  OX',\n",
       " 'OO XX  OX',\n",
       " 'OOXXX  OX',\n",
       " ' OX X  OX',\n",
       " 'OOX X  OX',\n",
       " 'XO  X  OX',\n",
       " 'O   X  OX',\n",
       " 'O  XX  OX',\n",
       " 'O X X  OX',\n",
       " 'OX  X  OX',\n",
       " '   X   OX',\n",
       " '   X  OOX',\n",
       " '  XX  OOX',\n",
       " '  XX OOOX',\n",
       " ' XXX OOOX',\n",
       " ' XXXOOOOX',\n",
       " 'XXXXOOOOX',\n",
       " 'OXXX OOOX',\n",
       " 'X XX OOOX',\n",
       " 'X XXOOOOX',\n",
       " 'XOXX OOOX',\n",
       " '  XXO OOX',\n",
       " ' XXXO OOX',\n",
       " 'OXXXO OOX',\n",
       " 'X XXO OOX',\n",
       " 'XOXXO OOX',\n",
       " ' OXX  OOX',\n",
       " 'XOXX  OOX',\n",
       " 'O XX  OOX',\n",
       " 'OXXX  OOX',\n",
       " ' X X  OOX',\n",
       " ' X X OOOX',\n",
       " 'XX X OOOX',\n",
       " 'XX XOOOOX',\n",
       " 'XXOX OOOX',\n",
       " ' X XO OOX',\n",
       " 'XX XO OOX',\n",
       " 'XXOXO OOX',\n",
       " ' XOX  OOX',\n",
       " 'XXOX  OOX',\n",
       " 'OX X  OOX',\n",
       " 'X  X  OOX',\n",
       " 'X  X OOOX',\n",
       " 'X  XO OOX',\n",
       " 'X OX  OOX',\n",
       " 'XO X  OOX',\n",
       " '   X O OX',\n",
       " '  XX O OX',\n",
       " '  XXOO OX',\n",
       " ' XXXOO OX',\n",
       " 'OXXXOO OX',\n",
       " 'X XXOO OX',\n",
       " 'XOXXOO OX',\n",
       " ' OXX O OX',\n",
       " 'XOXX O OX',\n",
       " 'O XX O OX',\n",
       " 'OXXX O OX',\n",
       " ' X X O OX',\n",
       " ' X XOO OX',\n",
       " 'XX XOO OX',\n",
       " 'XXOXOO OX',\n",
       " ' XOX O OX',\n",
       " 'XXOX O OX',\n",
       " 'OX X O OX',\n",
       " 'X  X O OX',\n",
       " 'X  XOO OX',\n",
       " 'X OX O OX',\n",
       " 'XO X O OX',\n",
       " '   XO  OX',\n",
       " '  XXO  OX',\n",
       " ' OXXO  OX',\n",
       " 'O XXO  OX',\n",
       " 'OXXXO  OX',\n",
       " ' X XO  OX',\n",
       " ' XOXO  OX',\n",
       " 'XXOXO  OX',\n",
       " 'OX XO  OX',\n",
       " 'X  XO  OX',\n",
       " 'X OXO  OX',\n",
       " 'XO XO  OX',\n",
       " '  OX   OX',\n",
       " ' XOX   OX',\n",
       " 'OXOX   OX',\n",
       " 'X OX   OX',\n",
       " 'XOOX   OX',\n",
       " ' O X   OX',\n",
       " ' OXX   OX',\n",
       " 'OOXX   OX',\n",
       " 'XO X   OX',\n",
       " 'O  X   OX',\n",
       " 'O XX   OX',\n",
       " 'OX X   OX',\n",
       " '  X    OX',\n",
       " '  X   OOX',\n",
       " ' XX   OOX',\n",
       " ' XX  OOOX',\n",
       " 'XXX  OOOX',\n",
       " ' XX O OOX',\n",
       " 'XXX O OOX',\n",
       " ' XXO  OOX',\n",
       " 'XXXO  OOX',\n",
       " 'OXX   OOX',\n",
       " 'X X   OOX',\n",
       " 'X X  OOOX',\n",
       " 'X X O OOX',\n",
       " 'X XO  OOX',\n",
       " 'XOX   OOX',\n",
       " '  X  O OX',\n",
       " ' XX  O OX',\n",
       " ' XX OO OX',\n",
       " 'XXX OO OX',\n",
       " ' XXO O OX',\n",
       " 'XXXO O OX',\n",
       " 'OXX  O OX',\n",
       " 'X X  O OX',\n",
       " 'X X OO OX',\n",
       " 'X XO O OX',\n",
       " 'XOX  O OX',\n",
       " '  X O  OX',\n",
       " ' XX O  OX',\n",
       " ' XXOO  OX',\n",
       " 'XXXOO  OX',\n",
       " 'OXX O  OX',\n",
       " 'X X O  OX',\n",
       " 'X XOO  OX',\n",
       " 'XOX O  OX',\n",
       " '  XO   OX',\n",
       " ' XXO   OX',\n",
       " 'OXXO   OX',\n",
       " 'X XO   OX',\n",
       " 'XOXO   OX',\n",
       " ' OX    OX',\n",
       " 'XOX    OX',\n",
       " 'O X    OX',\n",
       " 'OXX    OX',\n",
       " ' X     OX',\n",
       " ' X    OOX',\n",
       " 'XX    OOX',\n",
       " 'XX   OOOX',\n",
       " 'XX  O OOX',\n",
       " 'XX O  OOX',\n",
       " 'XXO   OOX',\n",
       " ' X   O OX',\n",
       " 'XX   O OX',\n",
       " 'XX  OO OX',\n",
       " 'XX O O OX',\n",
       " 'XXO  O OX',\n",
       " ' X  O  OX',\n",
       " 'XX  O  OX',\n",
       " 'XX OO  OX',\n",
       " 'XXO O  OX',\n",
       " ' X O   OX',\n",
       " 'XX O   OX',\n",
       " 'XXOO   OX',\n",
       " ' XO    OX',\n",
       " 'XXO    OX',\n",
       " 'OX     OX',\n",
       " 'X      OX',\n",
       " 'X     OOX',\n",
       " 'X    O OX',\n",
       " 'X   O  OX',\n",
       " 'X  O   OX',\n",
       " 'X O    OX',\n",
       " 'XO     OX',\n",
       " '      O X',\n",
       " '      OXX',\n",
       " '     OOXX',\n",
       " '    XOOXX',\n",
       " '   OXOOXX',\n",
       " '  XOXOOXX',\n",
       " ' OXOXOOXX',\n",
       " 'XOXOXOOXX',\n",
       " 'O XOXOOXX',\n",
       " ' X OXOOXX',\n",
       " 'X  OXOOXX',\n",
       " '  O XOOXX',\n",
       " '  OXXOOXX',\n",
       " ' OOXXOOXX',\n",
       " 'XOOXXOOXX',\n",
       " 'O OXXOOXX',\n",
       " 'OXOXXOOXX',\n",
       " ' XO XOOXX',\n",
       " 'X O XOOXX',\n",
       " ' O  XOOXX',\n",
       " ' O XXOOXX',\n",
       " 'OO XXOOXX',\n",
       " 'OOXXXOOXX',\n",
       " ' OX XOOXX',\n",
       " 'OOX XOOXX',\n",
       " 'XO  XOOXX',\n",
       " 'O   XOOXX',\n",
       " 'O  XXOOXX',\n",
       " 'O X XOOXX',\n",
       " 'OX  XOOXX',\n",
       " '   X OOXX',\n",
       " '   XOOOXX',\n",
       " '  XXOOOXX',\n",
       " ' OXXOOOXX',\n",
       " 'XOXXOOOXX',\n",
       " 'O XXOOOXX',\n",
       " 'OXXXOOOXX',\n",
       " ' X XOOOXX',\n",
       " ' XOXOOOXX',\n",
       " 'OX XOOOXX',\n",
       " 'X  XOOOXX',\n",
       " 'X OXOOOXX',\n",
       " 'XO XOOOXX',\n",
       " '  OX OOXX',\n",
       " ' XOX OOXX',\n",
       " 'OXOX OOXX',\n",
       " 'X OX OOXX',\n",
       " 'XOOX OOXX',\n",
       " ' O X OOXX',\n",
       " ' OXX OOXX',\n",
       " 'OOXX OOXX',\n",
       " 'XO X OOXX',\n",
       " 'O  X OOXX',\n",
       " 'O XX OOXX',\n",
       " 'OX X OOXX',\n",
       " '  X  OOXX',\n",
       " '  X OOOXX',\n",
       " ' XX OOOXX',\n",
       " ' XXOOOOXX',\n",
       " 'OXX OOOXX',\n",
       " 'X X OOOXX',\n",
       " 'X XOOOOXX',\n",
       " 'XOX OOOXX',\n",
       " '  XO OOXX',\n",
       " ' XXO OOXX',\n",
       " 'OXXO OOXX',\n",
       " 'X XO OOXX',\n",
       " 'XOXO OOXX',\n",
       " ' OX  OOXX',\n",
       " 'XOX  OOXX',\n",
       " 'O X  OOXX',\n",
       " 'OXX  OOXX',\n",
       " ' X   OOXX',\n",
       " ' X  OOOXX',\n",
       " 'XX  OOOXX',\n",
       " 'XX OOOOXX',\n",
       " 'XXO OOOXX',\n",
       " ' X O OOXX',\n",
       " 'XX O OOXX',\n",
       " 'XXOO OOXX',\n",
       " 'XXOOXOOXX',\n",
       " ' XO  OOXX',\n",
       " 'XXO  OOXX',\n",
       " 'OX   OOXX',\n",
       " 'X    OOXX',\n",
       " 'X   OOOXX',\n",
       " 'X  O OOXX',\n",
       " 'X O  OOXX',\n",
       " 'XO   OOXX',\n",
       " '    O OXX',\n",
       " '    OXOXX',\n",
       " '   OOXOXX',\n",
       " '  XOOXOXX',\n",
       " ' X OOXOXX',\n",
       " ' XOOOXOXX',\n",
       " 'OX OOXOXX',\n",
       " 'X  OOXOXX',\n",
       " 'X OOOXOXX',\n",
       " 'XO OOXOXX',\n",
       " 'XOXOOXOXX',\n",
       " '  O OXOXX',\n",
       " ' O  OXOXX',\n",
       " ' O XOXOXX',\n",
       " ' OOXOXOXX',\n",
       " 'OO XOXOXX',\n",
       " 'OOXXOXOXX',\n",
       " ' OX OXOXX',\n",
       " 'XO  OXOXX',\n",
       " 'XOO OXOXX',\n",
       " 'O   OXOXX',\n",
       " 'O  XOXOXX',\n",
       " 'O OXOXOXX',\n",
       " 'O X OXOXX',\n",
       " 'OX  OXOXX',\n",
       " 'OXO OXOXX',\n",
       " '   XO OXX',\n",
       " '  OXO OXX',\n",
       " ' O XO OXX',\n",
       " ' OXXO OXX',\n",
       " 'OOXXO OXX',\n",
       " 'XO XO OXX',\n",
       " 'XOOXO OXX',\n",
       " 'O  XO OXX',\n",
       " 'O XXO OXX',\n",
       " 'OX XO OXX',\n",
       " 'OXOXO OXX',\n",
       " '  X O OXX',\n",
       " '  XOO OXX',\n",
       " ' XXOO OXX',\n",
       " 'OXXOO OXX',\n",
       " 'X XOO OXX',\n",
       " 'XOXOO OXX',\n",
       " ' OX O OXX',\n",
       " 'XOX O OXX',\n",
       " 'O X O OXX',\n",
       " 'OXX O OXX',\n",
       " ' X  O OXX',\n",
       " ' X OO OXX',\n",
       " 'XX OO OXX',\n",
       " 'XXOOO OXX',\n",
       " ' XO O OXX',\n",
       " 'OX  O OXX',\n",
       " 'X   O OXX',\n",
       " 'X  OO OXX',\n",
       " 'X O O OXX',\n",
       " 'XO  O OXX',\n",
       " '   O  OXX',\n",
       " '   O XOXX',\n",
       " '  OO XOXX',\n",
       " '  OOXXOXX',\n",
       " ' OOOXXOXX',\n",
       " 'XOOOXXOXX',\n",
       " 'O OOXXOXX',\n",
       " ' XOO XOXX',\n",
       " 'OXOO XOXX',\n",
       " 'X OO XOXX',\n",
       " 'XOOO XOXX',\n",
       " ' O O XOXX',\n",
       " ' O OXXOXX',\n",
       " 'OO OXXOXX',\n",
       " ' OXO XOXX',\n",
       " 'XO O XOXX',\n",
       " 'O  O XOXX',\n",
       " '   OX OXX',\n",
       " '  OOX OXX',\n",
       " ' XOOX OXX',\n",
       " 'X OOX OXX',\n",
       " ' O OX OXX',\n",
       " ' OXOX OXX',\n",
       " 'OOXOX OXX',\n",
       " 'XO OX OXX',\n",
       " 'O  OX OXX',\n",
       " '  XO  OXX',\n",
       " ' OXO  OXX',\n",
       " 'XOXO  OXX',\n",
       " 'O XO  OXX',\n",
       " ' X O  OXX',\n",
       " ' XOO  OXX',\n",
       " 'XXOO  OXX',\n",
       " 'OX O  OXX',\n",
       " 'X  O  OXX',\n",
       " 'X OO  OXX',\n",
       " 'XO O  OXX',\n",
       " '  O   OXX',\n",
       " '  O  XOXX',\n",
       " ' OO  XOXX',\n",
       " ' OO XXOXX',\n",
       " 'OOO XXOXX',\n",
       " ' OOX XOXX',\n",
       " 'OOOX XOXX',\n",
       " 'XOO  XOXX',\n",
       " 'O O  XOXX',\n",
       " 'O O XXOXX',\n",
       " 'O OX XOXX',\n",
       " 'OXO  XOXX',\n",
       " '  O X OXX',\n",
       " ' OO X OXX',\n",
       " ' OOXX OXX',\n",
       " 'OOOXX OXX',\n",
       " 'XOO X OXX',\n",
       " 'O O X OXX',\n",
       " 'O OXX OXX',\n",
       " 'OXO X OXX',\n",
       " '  OX  OXX',\n",
       " ' OOX  OXX',\n",
       " 'XOOX  OXX',\n",
       " 'O OX  OXX',\n",
       " 'OXOX  OXX',\n",
       " ' XO   OXX',\n",
       " 'OXO   OXX',\n",
       " 'X O   OXX',\n",
       " 'XOO   OXX',\n",
       " ' O    OXX',\n",
       " ' O   XOXX',\n",
       " 'OO   XOXX',\n",
       " 'OO  XXOXX',\n",
       " 'OO X XOXX',\n",
       " 'OOX  XOXX',\n",
       " ' O  X OXX',\n",
       " 'OO  X OXX',\n",
       " 'OO XX OXX',\n",
       " 'OOX X OXX',\n",
       " ' O X  OXX',\n",
       " 'OO X  OXX',\n",
       " 'OOXX  OXX',\n",
       " ' OX   OXX',\n",
       " 'OOX   OXX',\n",
       " 'XO    OXX',\n",
       " 'O     OXX',\n",
       " 'O    XOXX',\n",
       " 'O   X OXX',\n",
       " 'O  X  OXX',\n",
       " 'O X   OXX',\n",
       " 'OX    OXX',\n",
       " '     XO X',\n",
       " '    OXO X',\n",
       " '   XOXO X',\n",
       " '  OXOXO X',\n",
       " ' O XOXO X',\n",
       " ' OXXOXO X',\n",
       " 'XO XOXO X',\n",
       " 'XOOXOXO X',\n",
       " 'O  XOXO X',\n",
       " 'O XXOXO X',\n",
       " 'OX XOXO X',\n",
       " 'OXOXOXO X',\n",
       " '  X OXO X',\n",
       " ' X  OXO X',\n",
       " ' X OOXO X',\n",
       " ' XXOOXO X',\n",
       " 'XX OOXO X',\n",
       " 'XXOOOXO X',\n",
       " ' XO OXO X',\n",
       " 'OX  OXO X',\n",
       " 'OXX OXO X',\n",
       " 'X   OXO X',\n",
       " 'X  OOXO X',\n",
       " 'X XOOXO X',\n",
       " 'X O OXO X',\n",
       " 'XO  OXO X',\n",
       " 'XOX OXO X',\n",
       " '   O XO X',\n",
       " '   OXXO X',\n",
       " '  OOXXO X',\n",
       " ' XOOXXO X',\n",
       " 'OXOOXXO X',\n",
       " 'X OOXXO X',\n",
       " ' O OXXO X',\n",
       " ' OXOXXO X',\n",
       " 'XO OXXO X',\n",
       " 'O  OXXO X',\n",
       " '  XO XO X',\n",
       " ' X O XO X',\n",
       " ' XOO XO X',\n",
       " 'XXOO XO X',\n",
       " 'OX O XO X',\n",
       " 'X  O XO X',\n",
       " 'X OO XO X',\n",
       " 'XO O XO X',\n",
       " 'XOXO XO X',\n",
       " '  O  XO X',\n",
       " '  O XXO X',\n",
       " ' OO XXO X',\n",
       " ' OOXXXO X',\n",
       " 'XOO XXO X',\n",
       " 'O O XXO X',\n",
       " 'O OXXXO X',\n",
       " 'OXO XXO X',\n",
       " '  OX XO X',\n",
       " ' OOX XO X',\n",
       " 'XOOX XO X',\n",
       " 'O OX XO X',\n",
       " 'OXOX XO X',\n",
       " ' XO  XO X',\n",
       " 'OXO  XO X',\n",
       " 'X O  XO X',\n",
       " 'XOO  XO X',\n",
       " ' O   XO X',\n",
       " ' O  XXO X',\n",
       " 'OO  XXO X',\n",
       " 'OO XXXO X',\n",
       " 'OOX XXO X',\n",
       " ' O X XO X',\n",
       " 'OO X XO X',\n",
       " 'OOXX XO X',\n",
       " ' OX  XO X',\n",
       " 'XO   XO X',\n",
       " 'O    XO X',\n",
       " 'O   XXO X',\n",
       " 'O  X XO X',\n",
       " 'O X  XO X',\n",
       " 'OX   XO X',\n",
       " '    X O X',\n",
       " '    XOO X',\n",
       " '   XXOO X',\n",
       " '  OXXOO X',\n",
       " ' XOXXOO X',\n",
       " 'OXOXXOO X',\n",
       " 'X OXXOO X',\n",
       " ' O XXOO X',\n",
       " ' OXXXOO X',\n",
       " 'OOXXXOO X',\n",
       " 'XO XXOO X',\n",
       " 'O  XXOO X',\n",
       " 'O XXXOO X',\n",
       " 'OX XXOO X',\n",
       " '  X XOO X',\n",
       " '  XOXOO X',\n",
       " ' XXOXOO X',\n",
       " 'OXXOXOO X',\n",
       " 'X XOXOO X',\n",
       " ' OX XOO X',\n",
       " 'XOX XOO X',\n",
       " 'O X XOO X',\n",
       " 'OXX XOO X',\n",
       " ' X  XOO X',\n",
       " ' X OXOO X',\n",
       " 'XX OXOO X',\n",
       " ' XO XOO X',\n",
       " 'XXO XOO X',\n",
       " 'OX  XOO X',\n",
       " 'X   XOO X',\n",
       " '   OX O X',\n",
       " '  XOX O X',\n",
       " ...]"
      ]
     },
     "execution_count": 79,
     "metadata": {},
     "output_type": "execute_result"
    }
   ],
   "execution_count": 79
  },
  {
   "metadata": {
    "ExecuteTime": {
     "end_time": "2025-04-30T22:44:55.069043Z",
     "start_time": "2025-04-30T22:44:55.046147Z"
    }
   },
   "cell_type": "code",
   "source": [
    "mm_values = {state: minimax(state) for state in tqdm(all_states)}\n",
    "Counter(mm_values.values()), mm_values[origin_state]"
   ],
   "id": "56a5adf2bf77f9b8",
   "outputs": [
    {
     "data": {
      "text/plain": [
       "  0%|          | 0/5478 [00:00<?, ?it/s]"
      ],
      "application/vnd.jupyter.widget-view+json": {
       "version_major": 2,
       "version_minor": 0,
       "model_id": "a272edee419d458698f4768b6c466c2d"
      }
     },
     "metadata": {},
     "output_type": "display_data"
    },
    {
     "data": {
      "text/plain": [
       "(Counter({1: 2936, -1: 1474, 0: 1068}), 0)"
      ]
     },
     "execution_count": 83,
     "metadata": {},
     "output_type": "execute_result"
    }
   ],
   "execution_count": 83
  },
  {
   "metadata": {
    "ExecuteTime": {
     "end_time": "2025-04-30T22:45:16.555011Z",
     "start_time": "2025-04-30T22:45:16.536879Z"
    }
   },
   "cell_type": "code",
   "source": [
    "ex_values = {state: expectimax(state) for state in tqdm(all_states)}\n",
    "ex_values[origin_state]"
   ],
   "id": "3757d9b6fe5d2ace",
   "outputs": [
    {
     "data": {
      "text/plain": [
       "  0%|          | 0/5478 [00:00<?, ?it/s]"
      ],
      "application/vnd.jupyter.widget-view+json": {
       "version_major": 2,
       "version_minor": 0,
       "model_id": "45e069bb12f74fe7918ceb7250a48e41"
      }
     },
     "metadata": {},
     "output_type": "display_data"
    },
    {
     "data": {
      "text/plain": [
       "0.2968253968253968"
      ]
     },
     "execution_count": 85,
     "metadata": {},
     "output_type": "execute_result"
    }
   ],
   "execution_count": 85
  },
  {
   "metadata": {
    "ExecuteTime": {
     "end_time": "2025-04-30T22:45:55.338599Z",
     "start_time": "2025-04-30T22:45:55.332368Z"
    }
   },
   "cell_type": "code",
   "source": "mm_values['XXOOXOX  ']",
   "id": "af050bb6b584cc9a",
   "outputs": [
    {
     "data": {
      "text/plain": [
       "-1"
      ]
     },
     "execution_count": 86,
     "metadata": {},
     "output_type": "execute_result"
    }
   ],
   "execution_count": 86
  },
  {
   "metadata": {},
   "cell_type": "code",
   "outputs": [],
   "execution_count": null,
   "source": "",
   "id": "ed846c764f00623f"
  },
  {
   "metadata": {
    "ExecuteTime": {
     "end_time": "2025-04-30T22:46:25.894300Z",
     "start_time": "2025-04-30T22:46:25.856938Z"
    }
   },
   "cell_type": "code",
   "source": [
    "import json\n",
    "json.dump(mm_values, open('minimax.json', 'w'), indent=2)\n",
    "json.dump(ex_values, open('expectimax.json', 'w'), indent=2)"
   ],
   "id": "6979a471830980dc",
   "outputs": [],
   "execution_count": 87
  },
  {
   "metadata": {
    "ExecuteTime": {
     "end_time": "2025-04-30T19:25:22.806400Z",
     "start_time": "2025-04-30T19:25:22.741390Z"
    }
   },
   "cell_type": "code",
   "source": "mm_values = {state: minimax_str(state, True) for state in tqdm(exp_values)}",
   "id": "63b0bcc820cc5a26",
   "outputs": [
    {
     "data": {
      "text/plain": [
       "  0%|          | 0/5478 [00:00<?, ?it/s]"
      ],
      "application/vnd.jupyter.widget-view+json": {
       "version_major": 2,
       "version_minor": 0,
       "model_id": "1984122c4b4441869a7cb30f61a297d9"
      }
     },
     "metadata": {},
     "output_type": "display_data"
    }
   ],
   "execution_count": 34
  },
  {
   "metadata": {
    "ExecuteTime": {
     "end_time": "2025-04-30T19:25:55.168167Z",
     "start_time": "2025-04-30T19:25:55.161200Z"
    }
   },
   "cell_type": "code",
   "source": "Counter(mm_values.values())",
   "id": "8ff7e99d8e631e9e",
   "outputs": [
    {
     "data": {
      "text/plain": [
       "Counter({1: 4473, 0: 533, -1: 472})"
      ]
     },
     "execution_count": 36,
     "metadata": {},
     "output_type": "execute_result"
    }
   ],
   "execution_count": 36
  },
  {
   "metadata": {
    "ExecuteTime": {
     "end_time": "2025-04-30T19:26:25.423441Z",
     "start_time": "2025-04-30T19:26:25.417351Z"
    }
   },
   "cell_type": "code",
   "source": "mm_values[' '*9]",
   "id": "8ad49a2d2b3ca8e0",
   "outputs": [
    {
     "data": {
      "text/plain": [
       "0"
      ]
     },
     "execution_count": 37,
     "metadata": {},
     "output_type": "execute_result"
    }
   ],
   "execution_count": 37
  },
  {
   "metadata": {
    "ExecuteTime": {
     "end_time": "2025-04-30T19:31:09.664890Z",
     "start_time": "2025-04-30T19:31:09.642855Z"
    }
   },
   "cell_type": "code",
   "source": "",
   "id": "d1864350bf36b30c",
   "outputs": [],
   "execution_count": 40
  },
  {
   "metadata": {
    "ExecuteTime": {
     "end_time": "2025-04-30T19:35:25.767205Z",
     "start_time": "2025-04-30T19:35:25.760240Z"
    }
   },
   "cell_type": "code",
   "source": "",
   "id": "e99d4d395a31b5ef",
   "outputs": [],
   "execution_count": 41
  },
  {
   "metadata": {
    "ExecuteTime": {
     "end_time": "2025-04-30T19:37:20.252281Z",
     "start_time": "2025-04-30T19:37:20.238967Z"
    }
   },
   "cell_type": "code",
   "source": "from tabulate import tabulate",
   "id": "44b7a16bb04dfdf0",
   "outputs": [],
   "execution_count": 44
  },
  {
   "metadata": {
    "ExecuteTime": {
     "end_time": "2025-04-30T19:40:29.118807Z",
     "start_time": "2025-04-30T19:40:29.109685Z"
    }
   },
   "cell_type": "code",
   "source": [
    "inits = [\"OO X  X X\", \"OX X XO  \", \"OXX   O X\", \"O XX  X O\"]\n",
    "for init in inits:\n",
    "\tprint(f'{init!r} - {mm_values[init]:.1f} - {exp_values[init]:.1f}')\n",
    "\ttbl = []\n",
    "\tfor state in generate_next_states(init):\n",
    "\t\ttbl.append((state, state[4] == 'O', mm_values[state], exp_values[state]))\n",
    "\tprint(tabulate(tbl, headers=['State', 'Minimax', 'Expectimax'], tablefmt='grid'))\n",
    "\tprint()"
   ],
   "id": "db9ae67a61bc10e4",
   "outputs": [
    {
     "name": "stdout",
     "output_type": "stream",
     "text": [
      "'OO X  X X' - 1.0 - -0.2\n",
      "+-----------+---------+-----------+--------------+\n",
      "|           | State   |   Minimax |   Expectimax |\n",
      "+===========+=========+===========+==============+\n",
      "| OOOX  X X | False   |        -1 |    -1        |\n",
      "+-----------+---------+-----------+--------------+\n",
      "| OO XO X X | True    |         1 |     0        |\n",
      "+-----------+---------+-----------+--------------+\n",
      "| OO X OX X | False   |         1 |     0.666667 |\n",
      "+-----------+---------+-----------+--------------+\n",
      "| OO X  XOX | False   |        -1 |    -0.333333 |\n",
      "+-----------+---------+-----------+--------------+\n",
      "\n",
      "'OX X XO  ' - 1.0 - 0.2\n",
      "+-----------+---------+-----------+--------------+\n",
      "|           | State   |   Minimax |   Expectimax |\n",
      "+===========+=========+===========+==============+\n",
      "| OXOX XO   | False   |         1 |     0.333333 |\n",
      "+-----------+---------+-----------+--------------+\n",
      "| OX XOXO   | True    |        -1 |    -0.333333 |\n",
      "+-----------+---------+-----------+--------------+\n",
      "| OX X XOO  | False   |         1 |     0.666667 |\n",
      "+-----------+---------+-----------+--------------+\n",
      "| OX X XO O | False   |         1 |     0        |\n",
      "+-----------+---------+-----------+--------------+\n",
      "\n",
      "'OXX   O X' - 1.0 - -0.2\n",
      "+-----------+---------+-----------+--------------+\n",
      "|           | State   |   Minimax |   Expectimax |\n",
      "+===========+=========+===========+==============+\n",
      "| OXXO  O X | False   |        -1 |    -1        |\n",
      "+-----------+---------+-----------+--------------+\n",
      "| OXX O O X | True    |         1 |     0.333333 |\n",
      "+-----------+---------+-----------+--------------+\n",
      "| OXX  OO X | False   |         0 |    -0.333333 |\n",
      "+-----------+---------+-----------+--------------+\n",
      "| OXX   OOX | False   |         1 |     0.333333 |\n",
      "+-----------+---------+-----------+--------------+\n",
      "\n",
      "'O XX  X O' - 1.0 - -0.0\n",
      "+-----------+---------+-----------+--------------+\n",
      "|           | State   |   Minimax |   Expectimax |\n",
      "+===========+=========+===========+==============+\n",
      "| OOXX  X O | False   |         1 |     0.333333 |\n",
      "+-----------+---------+-----------+--------------+\n",
      "| O XXO X O | True    |        -1 |    -1        |\n",
      "+-----------+---------+-----------+--------------+\n",
      "| O XX OX O | False   |         1 |     0.333333 |\n",
      "+-----------+---------+-----------+--------------+\n",
      "| O XX  XOO | False   |         1 |     0.333333 |\n",
      "+-----------+---------+-----------+--------------+\n",
      "\n"
     ]
    }
   ],
   "execution_count": 47
  },
  {
   "metadata": {
    "ExecuteTime": {
     "end_time": "2025-04-30T19:43:23.031230Z",
     "start_time": "2025-04-30T19:43:23.022225Z"
    }
   },
   "cell_type": "code",
   "source": "all_states = list(mm_values)",
   "id": "784bbf4e1a019014",
   "outputs": [],
   "execution_count": 48
  },
  {
   "metadata": {
    "ExecuteTime": {
     "end_time": "2025-04-30T19:45:24.251524Z",
     "start_time": "2025-04-30T19:45:24.243825Z"
    }
   },
   "cell_type": "code",
   "source": [
    "candidates = [state for state in all_states if state.count(' ') == 4 and state[4] == ' ' and check_winner_str(state) is None]\n",
    "len(candidates)"
   ],
   "id": "dea9c69195c85a8a",
   "outputs": [
    {
     "data": {
      "text/plain": [
       "520"
      ]
     },
     "execution_count": 54,
     "metadata": {},
     "output_type": "execute_result"
    }
   ],
   "execution_count": 54
  },
  {
   "metadata": {
    "ExecuteTime": {
     "end_time": "2025-04-30T19:45:27.715134Z",
     "start_time": "2025-04-30T19:45:27.709294Z"
    }
   },
   "cell_type": "code",
   "source": "candidates[0]",
   "id": "789a34c68be94cd2",
   "outputs": [
    {
     "data": {
      "text/plain": [
       "'XXOX O   '"
      ]
     },
     "execution_count": 55,
     "metadata": {},
     "output_type": "execute_result"
    }
   ],
   "execution_count": 55
  },
  {
   "metadata": {
    "ExecuteTime": {
     "end_time": "2025-04-30T19:50:17.377535Z",
     "start_time": "2025-04-30T19:50:17.366729Z"
    }
   },
   "cell_type": "code",
   "source": [
    "cand_vals = [{n: mm_values[n] for n in generate_next_states(state)} for state in candidates]\n",
    "gold = []\n",
    "for state, vals in zip(candidates, cand_vals):\n",
    "\tm = list(state)\n",
    "\tm[4] = 'O'\n",
    "\tm = ''.join(m)\n",
    "\tif vals[m] < min(v for s, v in vals.items() if s != m):\n",
    "\t\tgold.append(state)\n",
    "len(gold)"
   ],
   "id": "e528ce240360e891",
   "outputs": [
    {
     "data": {
      "text/plain": [
       "112"
      ]
     },
     "execution_count": 58,
     "metadata": {},
     "output_type": "execute_result"
    }
   ],
   "execution_count": 58
  },
  {
   "metadata": {
    "ExecuteTime": {
     "end_time": "2025-04-30T19:50:22.511826Z",
     "start_time": "2025-04-30T19:50:22.506492Z"
    }
   },
   "cell_type": "code",
   "source": "gold # where taking the middle is actually the best",
   "id": "f802c7876788b06d",
   "outputs": [
    {
     "data": {
      "text/plain": [
       "['XXOO   X ',\n",
       " 'XXOO    X',\n",
       " 'XXO  O  X',\n",
       " 'XXO   OX ',\n",
       " 'XXO   O X',\n",
       " 'XXO    OX',\n",
       " 'XX O O X ',\n",
       " 'XX O O  X',\n",
       " 'XOXO  X  ',\n",
       " 'XOX  O  X',\n",
       " 'XOX   XO ',\n",
       " 'XOX    OX',\n",
       " 'XOO  X  X',\n",
       " 'XO X XO  ',\n",
       " 'XO X X O ',\n",
       " 'XO X  O X',\n",
       " 'XO X   OX',\n",
       " 'XO   XXO ',\n",
       " 'XO   X OX',\n",
       " 'XO    XOX',\n",
       " 'XO    OXX',\n",
       " 'X XO OX  ',\n",
       " 'X XO O X ',\n",
       " 'X XO O  X',\n",
       " 'X OX XO  ',\n",
       " 'X OX  O X',\n",
       " 'X OO X  X',\n",
       " 'X O  XOX ',\n",
       " 'X O  XO X',\n",
       " 'X O  X OX',\n",
       " 'X O   OXX',\n",
       " 'X  X OO X',\n",
       " 'X  X  OOX',\n",
       " 'X  O OX X',\n",
       " 'X  O O XX',\n",
       " 'X  O  XOX',\n",
       " 'X  O  OXX',\n",
       " 'X    OOXX',\n",
       " 'OXXO  X  ',\n",
       " 'OXX  OX  ',\n",
       " 'OXX  O X ',\n",
       " 'OXX   XO ',\n",
       " 'OXX   X O',\n",
       " 'OXX    XO',\n",
       " 'OXOX X   ',\n",
       " 'OXOX   X ',\n",
       " 'OXO  X X ',\n",
       " 'OX X XO  ',\n",
       " 'OX X X O ',\n",
       " 'OX X X  O',\n",
       " 'OX X O X ',\n",
       " 'OX X  OX ',\n",
       " 'OX X   XO',\n",
       " 'OX   XX O',\n",
       " 'OX   X XO',\n",
       " 'OX    XXO',\n",
       " 'OOXX  X  ',\n",
       " 'O XX X  O',\n",
       " 'O XX OX  ',\n",
       " 'O XX  XO ',\n",
       " 'O XX  X O',\n",
       " 'O XX   XO',\n",
       " 'O X  XX O',\n",
       " 'O X   XXO',\n",
       " 'O  X XXO ',\n",
       " 'O  X XX O',\n",
       " 'O  X XOX ',\n",
       " 'O  X X XO',\n",
       " ' XXO OX  ',\n",
       " ' XXO O X ',\n",
       " ' XOX XO  ',\n",
       " ' XOX X O ',\n",
       " ' XOX X  O',\n",
       " ' XOX  OX ',\n",
       " ' XOX  O X',\n",
       " ' XOO X X ',\n",
       " ' XO  XOX ',\n",
       " ' XO  X XO',\n",
       " ' XO   OXX',\n",
       " ' X X OOX ',\n",
       " ' X X  OXO',\n",
       " ' X O X XO',\n",
       " ' X O OXX ',\n",
       " ' X O OX X',\n",
       " ' X O O XX',\n",
       " ' X O  XXO',\n",
       " ' X   XOXO',\n",
       " ' X   OOXX',\n",
       " ' OXX X O ',\n",
       " ' OXX X  O',\n",
       " ' OXX  XO ',\n",
       " ' OXX   OX',\n",
       " ' OX  XXO ',\n",
       " ' OX  XX O',\n",
       " ' OX   XXO',\n",
       " ' OX   XOX',\n",
       " ' O X XXO ',\n",
       " ' O X XOX ',\n",
       " ' O X X XO',\n",
       " ' O X X OX',\n",
       " '  XO XX O',\n",
       " '  XO OXX ',\n",
       " '  XO OX X',\n",
       " '  XO  XXO',\n",
       " '  X  XXOO',\n",
       " '  X  OXXO',\n",
       " '  X  OXOX',\n",
       " '  OX XOX ',\n",
       " '  OX XO X',\n",
       " '  OX X XO',\n",
       " '  OX X OX',\n",
       " '   X XOXO']"
      ]
     },
     "execution_count": 59,
     "metadata": {},
     "output_type": "execute_result"
    }
   ],
   "execution_count": 59
  },
  {
   "metadata": {
    "ExecuteTime": {
     "end_time": "2025-04-30T22:25:36.035656Z",
     "start_time": "2025-04-30T22:25:36.028785Z"
    }
   },
   "cell_type": "code",
   "source": [
    "# print(gold) # ['XXOO   X ', 'XXOO    X', 'XXO  O  X', 'XXO   OX ', 'XXO   O X', 'XXO    OX', 'XX O O X ', 'XX O O  X', 'XOXO  X  ', 'XOX  O  X', 'XOX   XO ', 'XOX    OX', 'XOO  X  X', 'XO X XO  ', 'XO X X O ', 'XO X  O X', 'XO X   OX', 'XO   XXO ', 'XO   X OX', 'XO    XOX', 'XO    OXX', 'X XO OX  ', 'X XO O X ', 'X XO O  X', 'X OX XO  ', 'X OX  O X', 'X OO X  X', 'X O  XOX ', 'X O  XO X', 'X O  X OX', 'X O   OXX', 'X  X OO X', 'X  X  OOX', 'X  O OX X', 'X  O O XX', 'X  O  XOX', 'X  O  OXX', 'X    OOXX', 'OXXO  X  ', 'OXX  OX  ', 'OXX  O X ', 'OXX   XO ', 'OXX   X O', 'OXX    XO', 'OXOX X   ', 'OXOX   X ', 'OXO  X X ', 'OX X XO  ', 'OX X X O ', 'OX X X  O', 'OX X O X ', 'OX X  OX ', 'OX X   XO', 'OX   XX O', 'OX   X XO', 'OX    XXO', 'OOXX  X  ', 'O XX X  O', 'O XX OX  ', 'O XX  XO ', 'O XX  X O', 'O XX   XO', 'O X  XX O', 'O X   XXO', 'O  X XXO ', 'O  X XX O', 'O  X XOX ', 'O  X X XO', ' XXO OX  ', ' XXO O X ', ' XOX XO  ', ' XOX X O ', ' XOX X  O', ' XOX  OX ', ' XOX  O X', ' XOO X X ', ' XO  XOX ', ' XO  X XO', ' XO   OXX', ' X X OOX ', ' X X  OXO', ' X O X XO', ' X O OXX ', ' X O OX X', ' X O O XX', ' X O  XXO', ' X   XOXO', ' X   OOXX', ' OXX X O ', ' OXX X  O', ' OXX  XO ', ' OXX   OX', ' OX  XXO ', ' OX  XX O', ' OX   XXO', ' OX   XOX', ' O X XXO ', ' O X XOX ', ' O X X XO', ' O X X OX', '  XO XX O', '  XO OXX ', '  XO OX X', '  XO  XXO', '  X  XXOO', '  X  OXXO', '  X  OXOX', '  OX XOX ', '  OX XO X', '  OX X XO', '  OX X OX', '   X XOXO']\n",
    "\n",
    "# print(candidates) # ['XXOX O   ', 'XXOX  O  ', 'XXOX   O ', 'XXOX    O', 'XXOO X   ', 'XXOO  X  ', 'XXOO   X ', 'XXOO    X', 'XXO  XO  ', 'XXO  X O ', 'XXO  X  O', 'XXO  OX  ', 'XXO  O X ', 'XXO  O  X', 'XXO   XO ', 'XXO   X O', 'XXO   OX ', 'XXO   O X', 'XXO    XO', 'XXO    OX', 'XX X OO  ', 'XX X O O ', 'XX X O  O', 'XX X  OO ', 'XX X  O O', 'XX X   OO', 'XX O XO  ', 'XX O X O ', 'XX O X  O', 'XX O OX  ', 'XX O O X ', 'XX O O  X', 'XX O  XO ', 'XX O  X O', 'XX O  OX ', 'XX O  O X', 'XX O   XO', 'XX O   OX', 'XX   XOO ', 'XX   XO O', 'XX   X OO', 'XX   OXO ', 'XX   OX O', 'XX   OOX ', 'XX   OO X', 'XX   O XO', 'XX   O OX', 'XX    XOO', 'XX    OXO', 'XX    OOX', 'XOXX O   ', 'XOXX  O  ', 'XOXX   O ', 'XOXX    O', 'XOXO X   ', 'XOXO  X  ', 'XOXO   X ', 'XOXO    X', 'XOX  XO  ', 'XOX  X O ', 'XOX  X  O', 'XOX  OX  ', 'XOX  O X ', 'XOX  O  X', 'XOX   XO ', 'XOX   X O', 'XOX   OX ', 'XOX   O X', 'XOX    XO', 'XOX    OX', 'XOOX X   ', 'XOOX   X ', 'XOOX    X', 'XOO  XX  ', 'XOO  X X ', 'XOO  X  X', 'XOO   XX ', 'XOO   X X', 'XOO    XX', 'XO X XO  ', 'XO X X O ', 'XO X X  O', 'XO X O X ', 'XO X O  X', 'XO X  OX ', 'XO X  O X', 'XO X   XO', 'XO X   OX', 'XO O XX  ', 'XO O X X ', 'XO O X  X', 'XO O  XX ', 'XO O  X X', 'XO O   XX', 'XO   XXO ', 'XO   XX O', 'XO   XOX ', 'XO   XO X', 'XO   X XO', 'XO   X OX', 'XO   OXX ', 'XO   OX X', 'XO   O XX', 'XO    XXO', 'XO    XOX', 'XO    OXX', 'X XX OO  ', 'X XX O O ', 'X XX O  O', 'X XX  OO ', 'X XX  O O', 'X XX   OO', 'X XO XO  ', 'X XO X O ', 'X XO X  O', 'X XO OX  ', 'X XO O X ', 'X XO O  X', 'X XO  XO ', 'X XO  X O', 'X XO  OX ', 'X XO  O X', 'X XO   XO', 'X XO   OX', 'X X  XOO ', 'X X  XO O', 'X X  X OO', 'X X  OXO ', 'X X  OX O', 'X X  OOX ', 'X X  OO X', 'X X  O XO', 'X X  O OX', 'X X   XOO', 'X X   OXO', 'X X   OOX', 'X OX XO  ', 'X OX X O ', 'X OX X  O', 'X OX O X ', 'X OX O  X', 'X OX  OX ', 'X OX  O X', 'X OX   XO', 'X OX   OX', 'X OO XX  ', 'X OO X X ', 'X OO X  X', 'X OO  XX ', 'X OO  X X', 'X OO   XX', 'X O  XXO ', 'X O  XX O', 'X O  XOX ', 'X O  XO X', 'X O  X XO', 'X O  X OX', 'X O  OXX ', 'X O  OX X', 'X O  O XX', 'X O   XXO', 'X O   XOX', 'X O   OXX', 'X  X XOO ', 'X  X XO O', 'X  X X OO', 'X  X OOX ', 'X  X OO X', 'X  X O XO', 'X  X O OX', 'X  X  OXO', 'X  X  OOX', 'X  O XXO ', 'X  O XX O', 'X  O XOX ', 'X  O XO X', 'X  O X XO', 'X  O X OX', 'X  O OXX ', 'X  O OX X', 'X  O O XX', 'X  O  XXO', 'X  O  XOX', 'X  O  OXX', 'X    XXOO', 'X    XOXO', 'X    XOOX', 'X    OXXO', 'X    OXOX', 'X    OOXX', 'OXXX O   ', 'OXXX  O  ', 'OXXX   O ', 'OXXX    O', 'OXXO X   ', 'OXXO  X  ', 'OXXO   X ', 'OXXO    X', 'OXX  XO  ', 'OXX  X O ', 'OXX  X  O', 'OXX  OX  ', 'OXX  O X ', 'OXX  O  X', 'OXX   XO ', 'OXX   X O', 'OXX   OX ', 'OXX   O X', 'OXX    XO', 'OXX    OX', 'OXOX X   ', 'OXOX  X  ', 'OXOX   X ', 'OXOX    X', 'OXO  XX  ', 'OXO  X X ', 'OXO  X  X', 'OXO   XX ', 'OXO   X X', 'OXO    XX', 'OX X XO  ', 'OX X X O ', 'OX X X  O', 'OX X OX  ', 'OX X O X ', 'OX X O  X', 'OX X  XO ', 'OX X  X O', 'OX X  OX ', 'OX X  O X', 'OX X   XO', 'OX X   OX', 'OX O XX  ', 'OX O X X ', 'OX O X  X', 'OX O  XX ', 'OX O  X X', 'OX O   XX', 'OX   XXO ', 'OX   XX O', 'OX   XOX ', 'OX   XO X', 'OX   X XO', 'OX   X OX', 'OX   OXX ', 'OX   OX X', 'OX   O XX', 'OX    XXO', 'OX    XOX', 'OX    OXX', 'OOXX X   ', 'OOXX  X  ', 'OOXX   X ', 'OOXX    X', 'OOX  XX  ', 'OOX  X X ', 'OOX   XX ', 'OOX   X X', 'OOX    XX', 'OO X XX  ', 'OO X X X ', 'OO X X  X', 'OO X  XX ', 'OO X  X X', 'OO X   XX', 'OO   XXX ', 'OO   XX X', 'OO   X XX', 'O XX XO  ', 'O XX X O ', 'O XX X  O', 'O XX OX  ', 'O XX O X ', 'O XX O  X', 'O XX  XO ', 'O XX  X O', 'O XX  OX ', 'O XX  O X', 'O XX   XO', 'O XX   OX', 'O XO XX  ', 'O XO X X ', 'O XO  XX ', 'O XO  X X', 'O XO   XX', 'O X  XXO ', 'O X  XX O', 'O X  XOX ', 'O X  X XO', 'O X  OXX ', 'O X  OX X', 'O X  O XX', 'O X   XXO', 'O X   XOX', 'O X   OXX', 'O OX XX  ', 'O OX X X ', 'O OX X  X', 'O OX  XX ', 'O OX  X X', 'O OX   XX', 'O O  XXX ', 'O O  XX X', 'O O  X XX', 'O  X XXO ', 'O  X XX O', 'O  X XOX ', 'O  X XO X', 'O  X X XO', 'O  X X OX', 'O  X OXX ', 'O  X OX X', 'O  X O XX', 'O  X  XXO', 'O  X  XOX', 'O  X  OXX', 'O  O XXX ', 'O  O XX X', 'O  O X XX', 'O    XXXO', 'O    XXOX', 'O    XOXX', ' XXX OO  ', ' XXX O O ', ' XXX O  O', ' XXX  OO ', ' XXX  O O', ' XXX   OO', ' XXO XO  ', ' XXO X O ', ' XXO X  O', ' XXO OX  ', ' XXO O X ', ' XXO O  X', ' XXO  XO ', ' XXO  X O', ' XXO  OX ', ' XXO  O X', ' XXO   XO', ' XXO   OX', ' XX  XOO ', ' XX  XO O', ' XX  X OO', ' XX  OXO ', ' XX  OX O', ' XX  OOX ', ' XX  OO X', ' XX  O XO', ' XX  O OX', ' XX   XOO', ' XX   OXO', ' XX   OOX', ' XOX XO  ', ' XOX X O ', ' XOX X  O', ' XOX OX  ', ' XOX O X ', ' XOX O  X', ' XOX  XO ', ' XOX  X O', ' XOX  OX ', ' XOX  O X', ' XOX   XO', ' XOX   OX', ' XOO XX  ', ' XOO X X ', ' XOO X  X', ' XOO  XX ', ' XOO  X X', ' XOO   XX', ' XO  XXO ', ' XO  XX O', ' XO  XOX ', ' XO  XO X', ' XO  X XO', ' XO  X OX', ' XO  OXX ', ' XO  OX X', ' XO  O XX', ' XO   XXO', ' XO   XOX', ' XO   OXX', ' X X XOO ', ' X X XO O', ' X X X OO', ' X X OXO ', ' X X OX O', ' X X OOX ', ' X X OO X', ' X X O XO', ' X X O OX', ' X X  XOO', ' X X  OXO', ' X X  OOX', ' X O XXO ', ' X O XX O', ' X O XOX ', ' X O XO X', ' X O X XO', ' X O X OX', ' X O OXX ', ' X O OX X', ' X O O XX', ' X O  XXO', ' X O  XOX', ' X O  OXX', ' X   XXOO', ' X   XOXO', ' X   XOOX', ' X   OXXO', ' X   OXOX', ' X   OOXX', ' OXX XO  ', ' OXX X O ', ' OXX X  O', ' OXX OX  ', ' OXX O X ', ' OXX O  X', ' OXX  XO ', ' OXX  X O', ' OXX  OX ', ' OXX  O X', ' OXX   XO', ' OXX   OX', ' OXO XX  ', ' OXO X X ', ' OXO  XX ', ' OXO  X X', ' OXO   XX', ' OX  XXO ', ' OX  XX O', ' OX  XOX ', ' OX  X XO', ' OX  OXX ', ' OX  OX X', ' OX  O XX', ' OX   XXO', ' OX   XOX', ' OX   OXX', ' OOX XX  ', ' OOX X X ', ' OOX X  X', ' OOX  XX ', ' OOX  X X', ' OOX   XX', ' OO  XXX ', ' OO  XX X', ' OO  X XX', ' O X XXO ', ' O X XX O', ' O X XOX ', ' O X XO X', ' O X X XO', ' O X X OX', ' O X OXX ', ' O X OX X', ' O X O XX', ' O X  XXO', ' O X  XOX', ' O X  OXX', ' O O XXX ', ' O O XX X', ' O O X XX', ' O   XXXO', ' O   XXOX', ' O   XOXX', '  XX XOO ', '  XX XO O', '  XX X OO', '  XX OXO ', '  XX OX O', '  XX OOX ', '  XX OO X', '  XX O XO', '  XX O OX', '  XX  XOO', '  XX  OXO', '  XX  OOX', '  XO XXO ', '  XO XX O', '  XO XOX ', '  XO X XO', '  XO OXX ', '  XO OX X', '  XO O XX', '  XO  XXO', '  XO  XOX', '  XO  OXX', '  X  XXOO', '  X  XOXO', '  X  OXXO', '  X  OXOX', '  X  OOXX', '  OX XXO ', '  OX XX O', '  OX XOX ', '  OX XO X', '  OX X XO', '  OX X OX', '  OX OXX ', '  OX OX X', '  OX O XX', '  OX  XXO', '  OX  XOX', '  OX  OXX', '  OO XXX ', '  OO XX X', '  OO X XX', '  O  XXXO', '  O  XXOX', '  O  XOXX', '   X XXOO', '   X XOXO', '   X XOOX', '   X OXXO', '   X OXOX', '   X OOXX', '   O XXXO', '   O XXOX', '   O XOXX']"
   ],
   "id": "c47632c7f4971fba",
   "outputs": [],
   "execution_count": 67
  },
  {
   "metadata": {},
   "cell_type": "code",
   "outputs": [],
   "execution_count": null,
   "source": "",
   "id": "d444c682e45b7cbf"
  },
  {
   "metadata": {
    "ExecuteTime": {
     "end_time": "2025-05-09T21:08:16.720589Z",
     "start_time": "2025-05-09T21:08:16.296882Z"
    }
   },
   "cell_type": "code",
   "source": [
    "import json\n",
    "from omnibelt import pformat"
   ],
   "id": "d79e3059653f10ef",
   "outputs": [],
   "execution_count": 1
  },
  {
   "metadata": {
    "ExecuteTime": {
     "end_time": "2025-05-09T21:08:22.315532Z",
     "start_time": "2025-05-09T21:08:22.303976Z"
    }
   },
   "cell_type": "code",
   "source": [
    "products = {'p1': {'title': 'Product 1', 'description': 'Description of product 1'},\n",
    "\t\t\t'p2': {'title': 'Product 2', 'description': 'Description of product 2'},\n",
    "\t\t\t'p3': {'title': 'Product 3', 'description': 'Description of product 3'}}\n",
    "selected1 = '[\"p1\", \"p2\"]'"
   ],
   "id": "ea316848c2debdde",
   "outputs": [],
   "execution_count": 2
  },
  {
   "metadata": {},
   "cell_type": "code",
   "outputs": [],
   "execution_count": null,
   "source": "",
   "id": "36cae350b9c033e5"
  },
  {
   "metadata": {
    "ExecuteTime": {
     "end_time": "2025-05-09T21:16:09.447873Z",
     "start_time": "2025-05-09T21:16:09.395119Z"
    }
   },
   "cell_type": "code",
   "source": "pformat('{[x for x in range(3)]}')",
   "id": "351548e86bf5eff0",
   "outputs": [
    {
     "ename": "KeyError",
     "evalue": "\"Variable 'x' not found in provided args or kwargs\"",
     "output_type": "error",
     "traceback": [
      "\u001B[1;31m---------------------------------------------------------------------------\u001B[0m",
      "\u001B[1;31mKeyError\u001B[0m                                  Traceback (most recent call last)",
      "Cell \u001B[1;32mIn[8], line 1\u001B[0m\n\u001B[1;32m----> 1\u001B[0m \u001B[43mpformat\u001B[49m\u001B[43m(\u001B[49m\u001B[38;5;124;43m'\u001B[39;49m\u001B[38;5;124;43m{\u001B[39;49m\u001B[38;5;124;43m[x for x in range(3)]}\u001B[39;49m\u001B[38;5;124;43m'\u001B[39;49m\u001B[43m)\u001B[49m\n",
      "File \u001B[1;32mc:\\users\\anwan\\onedrive\\khan\\research\\belt\\omnibelt\\utils.py:284\u001B[0m, in \u001B[0;36mpformat\u001B[1;34m(s, *srcs, **manual)\u001B[0m\n\u001B[0;32m    271\u001B[0m \u001B[38;5;250m\u001B[39m\u001B[38;5;124;03m\"\"\"\u001B[39;00m\n\u001B[0;32m    272\u001B[0m \u001B[38;5;124;03mEvaluates the keys in the given string as expressions using the given variables (recursively)\u001B[39;00m\n\u001B[0;32m    273\u001B[0m \n\u001B[1;32m   (...)\u001B[0m\n\u001B[0;32m    281\u001B[0m \u001B[38;5;124;03mNote however, that this will only work if the content inside the brackets is not a valid expression.\u001B[39;00m\n\u001B[0;32m    282\u001B[0m \u001B[38;5;124;03m\"\"\"\u001B[39;00m\n\u001B[0;32m    283\u001B[0m fmt \u001B[38;5;241m=\u001B[39m PowerFormatter()\n\u001B[1;32m--> 284\u001B[0m \u001B[38;5;28;01mreturn\u001B[39;00m \u001B[43mfmt\u001B[49m\u001B[38;5;241;43m.\u001B[39;49m\u001B[43mvformat\u001B[49m\u001B[43m(\u001B[49m\u001B[43ms\u001B[49m\u001B[43m,\u001B[49m\u001B[43m \u001B[49m\u001B[43msrcs\u001B[49m\u001B[43m,\u001B[49m\u001B[43m \u001B[49m\u001B[43mmanual\u001B[49m\u001B[43m)\u001B[49m\n",
      "File \u001B[1;32m~\\miniconda3\\Lib\\string.py:194\u001B[0m, in \u001B[0;36mFormatter.vformat\u001B[1;34m(self, format_string, args, kwargs)\u001B[0m\n\u001B[0;32m    192\u001B[0m \u001B[38;5;28;01mdef\u001B[39;00m \u001B[38;5;21mvformat\u001B[39m(\u001B[38;5;28mself\u001B[39m, format_string, args, kwargs):\n\u001B[0;32m    193\u001B[0m     used_args \u001B[38;5;241m=\u001B[39m \u001B[38;5;28mset\u001B[39m()\n\u001B[1;32m--> 194\u001B[0m     result, _ \u001B[38;5;241m=\u001B[39m \u001B[38;5;28;43mself\u001B[39;49m\u001B[38;5;241;43m.\u001B[39;49m\u001B[43m_vformat\u001B[49m\u001B[43m(\u001B[49m\u001B[43mformat_string\u001B[49m\u001B[43m,\u001B[49m\u001B[43m \u001B[49m\u001B[43margs\u001B[49m\u001B[43m,\u001B[49m\u001B[43m \u001B[49m\u001B[43mkwargs\u001B[49m\u001B[43m,\u001B[49m\u001B[43m \u001B[49m\u001B[43mused_args\u001B[49m\u001B[43m,\u001B[49m\u001B[43m \u001B[49m\u001B[38;5;241;43m2\u001B[39;49m\u001B[43m)\u001B[49m\n\u001B[0;32m    195\u001B[0m     \u001B[38;5;28mself\u001B[39m\u001B[38;5;241m.\u001B[39mcheck_unused_args(used_args, args, kwargs)\n\u001B[0;32m    196\u001B[0m     \u001B[38;5;28;01mreturn\u001B[39;00m result\n",
      "File \u001B[1;32m~\\miniconda3\\Lib\\string.py:234\u001B[0m, in \u001B[0;36mFormatter._vformat\u001B[1;34m(self, format_string, args, kwargs, used_args, recursion_depth, auto_arg_index)\u001B[0m\n\u001B[0;32m    230\u001B[0m     auto_arg_index \u001B[38;5;241m=\u001B[39m \u001B[38;5;28;01mFalse\u001B[39;00m\n\u001B[0;32m    232\u001B[0m \u001B[38;5;66;03m# given the field_name, find the object it references\u001B[39;00m\n\u001B[0;32m    233\u001B[0m \u001B[38;5;66;03m#  and the argument it came from\u001B[39;00m\n\u001B[1;32m--> 234\u001B[0m obj, arg_used \u001B[38;5;241m=\u001B[39m \u001B[38;5;28;43mself\u001B[39;49m\u001B[38;5;241;43m.\u001B[39;49m\u001B[43mget_field\u001B[49m\u001B[43m(\u001B[49m\u001B[43mfield_name\u001B[49m\u001B[43m,\u001B[49m\u001B[43m \u001B[49m\u001B[43margs\u001B[49m\u001B[43m,\u001B[49m\u001B[43m \u001B[49m\u001B[43mkwargs\u001B[49m\u001B[43m)\u001B[49m\n\u001B[0;32m    235\u001B[0m used_args\u001B[38;5;241m.\u001B[39madd(arg_used)\n\u001B[0;32m    237\u001B[0m \u001B[38;5;66;03m# do any conversion on the resulting object\u001B[39;00m\n",
      "File \u001B[1;32mc:\\users\\anwan\\onedrive\\khan\\research\\belt\\omnibelt\\utils.py:210\u001B[0m, in \u001B[0;36mPowerFormatter.get_field\u001B[1;34m(self, field_name, args, kwargs)\u001B[0m\n\u001B[0;32m    208\u001B[0m \u001B[38;5;28;01mdef\u001B[39;00m \u001B[38;5;21mget_field\u001B[39m(\u001B[38;5;28mself\u001B[39m, field_name, args, kwargs):\n\u001B[0;32m    209\u001B[0m \t\u001B[38;5;28;01mtry\u001B[39;00m:\n\u001B[1;32m--> 210\u001B[0m \t\tscope \u001B[38;5;241m=\u001B[39m \u001B[38;5;28;43mself\u001B[39;49m\u001B[38;5;241;43m.\u001B[39;49m\u001B[43mvariable_scope\u001B[49m\u001B[43m(\u001B[49m\u001B[43mfield_name\u001B[49m\u001B[43m,\u001B[49m\u001B[43m \u001B[49m\u001B[43margs\u001B[49m\u001B[43m,\u001B[49m\u001B[43m \u001B[49m\u001B[43mkwargs\u001B[49m\u001B[43m)\u001B[49m\n\u001B[0;32m    211\u001B[0m \t\tout \u001B[38;5;241m=\u001B[39m \u001B[38;5;28meval\u001B[39m(field_name, scope)\n\u001B[0;32m    212\u001B[0m \t\u001B[38;5;28;01mexcept\u001B[39;00m \u001B[38;5;167;01mSyntaxError\u001B[39;00m:\n",
      "File \u001B[1;32mc:\\users\\anwan\\onedrive\\khan\\research\\belt\\omnibelt\\utils.py:205\u001B[0m, in \u001B[0;36mPowerFormatter.variable_scope\u001B[1;34m(self, expr, args, kwargs)\u001B[0m\n\u001B[0;32m    203\u001B[0m \t\t\tscope[key] \u001B[38;5;241m=\u001B[39m __builtins__[key]\n\u001B[0;32m    204\u001B[0m \t\t\u001B[38;5;28;01melse\u001B[39;00m:\n\u001B[1;32m--> 205\u001B[0m \t\t\t\u001B[38;5;28;01mraise\u001B[39;00m \u001B[38;5;167;01mKeyError\u001B[39;00m(\u001B[38;5;124mf\u001B[39m\u001B[38;5;124m'\u001B[39m\u001B[38;5;124mVariable \u001B[39m\u001B[38;5;132;01m{\u001B[39;00mkey\u001B[38;5;132;01m!r}\u001B[39;00m\u001B[38;5;124m not found in provided args or kwargs\u001B[39m\u001B[38;5;124m'\u001B[39m)\n\u001B[0;32m    206\u001B[0m \u001B[38;5;28;01mreturn\u001B[39;00m scope\n",
      "\u001B[1;31mKeyError\u001B[0m: \"Variable 'x' not found in provided args or kwargs\""
     ]
    }
   ],
   "execution_count": 8
  },
  {
   "metadata": {
    "ExecuteTime": {
     "end_time": "2025-05-09T21:32:28.300814Z",
     "start_time": "2025-05-09T21:32:28.296713Z"
    }
   },
   "cell_type": "code",
   "source": [
    "\n",
    "\n",
    "# tmpl = \"The user selected the following recommendation:\\n{'- '+'\\n- '.join([f'**{products[pid]['title']}**: {products[pid]['description']}' for pid in json.loads(selected1)])}\"\n",
    "#\n",
    "# print(pformat(tmpl, products=products, json=json, selected1=selected1))\n"
   ],
   "id": "1a2c6508807a49ed",
   "outputs": [],
   "execution_count": 16
  },
  {
   "metadata": {
    "ExecuteTime": {
     "end_time": "2025-05-09T21:10:28.582836Z",
     "start_time": "2025-05-09T21:10:28.575987Z"
    }
   },
   "cell_type": "code",
   "source": "# eval('''[f'**{products[pid][\"title\"]}**: {products[pid][\"description\"]}' for pid in json.loads(selected1)]''')",
   "id": "f38bd04eab800980",
   "outputs": [
    {
     "data": {
      "text/plain": [
       "['**Product 1**: Description of product 1',\n",
       " '**Product 2**: Description of product 2']"
      ]
     },
     "execution_count": 6,
     "metadata": {},
     "output_type": "execute_result"
    }
   ],
   "execution_count": 6
  },
  {
   "metadata": {},
   "cell_type": "code",
   "outputs": [],
   "execution_count": null,
   "source": "",
   "id": "6b1504caafd5bf37"
  },
  {
   "metadata": {
    "ExecuteTime": {
     "end_time": "2025-05-09T21:25:33.388887Z",
     "start_time": "2025-05-09T21:25:33.336251Z"
    }
   },
   "cell_type": "code",
   "source": "",
   "id": "71186a6ac9f4cc5a",
   "outputs": [],
   "execution_count": 10
  },
  {
   "metadata": {
    "ExecuteTime": {
     "end_time": "2025-05-09T21:26:58.290579Z",
     "start_time": "2025-05-09T21:26:58.284516Z"
    }
   },
   "cell_type": "code",
   "source": "",
   "id": "1fd0da3c866457e8",
   "outputs": [],
   "execution_count": 12
  },
  {
   "metadata": {},
   "cell_type": "code",
   "outputs": [],
   "execution_count": null,
   "source": "",
   "id": "7358cea189a03e06"
  },
  {
   "metadata": {
    "ExecuteTime": {
     "end_time": "2025-05-09T21:28:07.697700Z",
     "start_time": "2025-05-09T21:28:07.662878Z"
    }
   },
   "cell_type": "code",
   "source": [
    "\n",
    "tmpl = \"The user selected the following recommendation:\\n{'- '+'\\n- '.join([f'**{products[pid]['title']}**: {products[pid]['description']}' for pid in json.loads(selected1)])}\"\n",
    "\n",
    "print(pformat_new(tmpl, products=products, json=json, selected1=selected1))"
   ],
   "id": "89704ff1012883fa",
   "outputs": [
    {
     "ename": "KeyError",
     "evalue": "\"'- '+'\\n- '\"",
     "output_type": "error",
     "traceback": [
      "\u001B[1;31m---------------------------------------------------------------------------\u001B[0m",
      "\u001B[1;31mKeyError\u001B[0m                                  Traceback (most recent call last)",
      "Cell \u001B[1;32mIn[15], line 3\u001B[0m\n\u001B[0;32m      1\u001B[0m tmpl \u001B[38;5;241m=\u001B[39m \u001B[38;5;124m\"\u001B[39m\u001B[38;5;124mThe user selected the following recommendation:\u001B[39m\u001B[38;5;130;01m\\n\u001B[39;00m\u001B[38;5;124m{\u001B[39m\u001B[38;5;124m'\u001B[39m\u001B[38;5;124m- \u001B[39m\u001B[38;5;124m'\u001B[39m\u001B[38;5;124m+\u001B[39m\u001B[38;5;124m'\u001B[39m\u001B[38;5;130;01m\\n\u001B[39;00m\u001B[38;5;124m- \u001B[39m\u001B[38;5;124m'\u001B[39m\u001B[38;5;124m.join([f\u001B[39m\u001B[38;5;124m'\u001B[39m\u001B[38;5;124m**\u001B[39m\u001B[38;5;132;01m{products[pid]['title']}\u001B[39;00m\u001B[38;5;124m**: \u001B[39m\u001B[38;5;132;01m{products[pid]['description']}\u001B[39;00m\u001B[38;5;124m'\u001B[39m\u001B[38;5;124m for pid in json.loads(selected1)])}\u001B[39m\u001B[38;5;124m\"\u001B[39m\n\u001B[1;32m----> 3\u001B[0m \u001B[38;5;28mprint\u001B[39m(\u001B[43mpformat_new\u001B[49m\u001B[43m(\u001B[49m\u001B[43mtmpl\u001B[49m\u001B[43m,\u001B[49m\u001B[43m \u001B[49m\u001B[43mproducts\u001B[49m\u001B[38;5;241;43m=\u001B[39;49m\u001B[43mproducts\u001B[49m\u001B[43m,\u001B[49m\u001B[43m \u001B[49m\u001B[43mjson\u001B[49m\u001B[38;5;241;43m=\u001B[39;49m\u001B[43mjson\u001B[49m\u001B[43m,\u001B[49m\u001B[43m \u001B[49m\u001B[43mselected1\u001B[49m\u001B[38;5;241;43m=\u001B[39;49m\u001B[43mselected1\u001B[49m\u001B[43m)\u001B[49m)\n",
      "Cell \u001B[1;32mIn[12], line 17\u001B[0m, in \u001B[0;36mpformat_new\u001B[1;34m(s, *srcs, **manual)\u001B[0m\n\u001B[0;32m      4\u001B[0m \u001B[38;5;250m\u001B[39m\u001B[38;5;124;03m\"\"\"\u001B[39;00m\n\u001B[0;32m      5\u001B[0m \u001B[38;5;124;03mEvaluates the keys in the given string as expressions using the given variables (recursively)\u001B[39;00m\n\u001B[0;32m      6\u001B[0m \n\u001B[1;32m   (...)\u001B[0m\n\u001B[0;32m     14\u001B[0m \u001B[38;5;124;03mNote however, that this will only work if the content inside the brackets is not a valid expression.\u001B[39;00m\n\u001B[0;32m     15\u001B[0m \u001B[38;5;124;03m\"\"\"\u001B[39;00m\n\u001B[0;32m     16\u001B[0m fmt \u001B[38;5;241m=\u001B[39m PowerFormatter()\n\u001B[1;32m---> 17\u001B[0m \u001B[38;5;28;01mreturn\u001B[39;00m \u001B[43mfmt\u001B[49m\u001B[38;5;241;43m.\u001B[39;49m\u001B[43mvformat\u001B[49m\u001B[43m(\u001B[49m\u001B[43ms\u001B[49m\u001B[43m,\u001B[49m\u001B[43m \u001B[49m\u001B[43msrcs\u001B[49m\u001B[43m,\u001B[49m\u001B[43m \u001B[49m\u001B[43mmanual\u001B[49m\u001B[43m)\u001B[49m\n",
      "Cell \u001B[1;32mIn[10], line 9\u001B[0m, in \u001B[0;36mFormatter.vformat\u001B[1;34m(self, format_string, args, kwargs)\u001B[0m\n\u001B[0;32m      6\u001B[0m \u001B[38;5;28;01mdef\u001B[39;00m \u001B[38;5;21mvformat\u001B[39m(\u001B[38;5;28mself\u001B[39m, format_string, args, kwargs):\n\u001B[0;32m      7\u001B[0m     \u001B[38;5;66;03m# This would be the core formatting logic, potentially calling get_field, etc.\u001B[39;00m\n\u001B[0;32m      8\u001B[0m     \u001B[38;5;66;03m# For this example, let's make it simple. This is NOT a complete Formatter.\u001B[39;00m\n\u001B[1;32m----> 9\u001B[0m     \u001B[38;5;28;01mreturn\u001B[39;00m \u001B[43mformat_string\u001B[49m\u001B[38;5;241;43m.\u001B[39;49m\u001B[43mformat\u001B[49m\u001B[43m(\u001B[49m\u001B[38;5;241;43m*\u001B[39;49m\u001B[43margs\u001B[49m\u001B[43m,\u001B[49m\u001B[43m \u001B[49m\u001B[38;5;241;43m*\u001B[39;49m\u001B[38;5;241;43m*\u001B[39;49m\u001B[43mkwargs\u001B[49m\u001B[43m)\u001B[49m\n",
      "\u001B[1;31mKeyError\u001B[0m: \"'- '+'\\n- '\""
     ]
    }
   ],
   "execution_count": 15
  },
  {
   "metadata": {
    "ExecuteTime": {
     "end_time": "2025-05-09T21:27:44.452005Z",
     "start_time": "2025-05-09T21:27:44.401328Z"
    }
   },
   "cell_type": "code",
   "source": "pformat_new('{[x for x in range(3)]}')",
   "id": "7dfcc51eaf6ed1c6",
   "outputs": [
    {
     "ename": "IndexError",
     "evalue": "Replacement index 0 out of range for positional args tuple",
     "output_type": "error",
     "traceback": [
      "\u001B[1;31m---------------------------------------------------------------------------\u001B[0m",
      "\u001B[1;31mIndexError\u001B[0m                                Traceback (most recent call last)",
      "Cell \u001B[1;32mIn[14], line 1\u001B[0m\n\u001B[1;32m----> 1\u001B[0m \u001B[43mpformat_new\u001B[49m\u001B[43m(\u001B[49m\u001B[38;5;124;43m'\u001B[39;49m\u001B[38;5;124;43m{\u001B[39;49m\u001B[38;5;124;43m[x for x in range(3)]}\u001B[39;49m\u001B[38;5;124;43m'\u001B[39;49m\u001B[43m)\u001B[49m\n",
      "Cell \u001B[1;32mIn[12], line 17\u001B[0m, in \u001B[0;36mpformat_new\u001B[1;34m(s, *srcs, **manual)\u001B[0m\n\u001B[0;32m      4\u001B[0m \u001B[38;5;250m\u001B[39m\u001B[38;5;124;03m\"\"\"\u001B[39;00m\n\u001B[0;32m      5\u001B[0m \u001B[38;5;124;03mEvaluates the keys in the given string as expressions using the given variables (recursively)\u001B[39;00m\n\u001B[0;32m      6\u001B[0m \n\u001B[1;32m   (...)\u001B[0m\n\u001B[0;32m     14\u001B[0m \u001B[38;5;124;03mNote however, that this will only work if the content inside the brackets is not a valid expression.\u001B[39;00m\n\u001B[0;32m     15\u001B[0m \u001B[38;5;124;03m\"\"\"\u001B[39;00m\n\u001B[0;32m     16\u001B[0m fmt \u001B[38;5;241m=\u001B[39m PowerFormatter()\n\u001B[1;32m---> 17\u001B[0m \u001B[38;5;28;01mreturn\u001B[39;00m \u001B[43mfmt\u001B[49m\u001B[38;5;241;43m.\u001B[39;49m\u001B[43mvformat\u001B[49m\u001B[43m(\u001B[49m\u001B[43ms\u001B[49m\u001B[43m,\u001B[49m\u001B[43m \u001B[49m\u001B[43msrcs\u001B[49m\u001B[43m,\u001B[49m\u001B[43m \u001B[49m\u001B[43mmanual\u001B[49m\u001B[43m)\u001B[49m\n",
      "Cell \u001B[1;32mIn[10], line 9\u001B[0m, in \u001B[0;36mFormatter.vformat\u001B[1;34m(self, format_string, args, kwargs)\u001B[0m\n\u001B[0;32m      6\u001B[0m \u001B[38;5;28;01mdef\u001B[39;00m \u001B[38;5;21mvformat\u001B[39m(\u001B[38;5;28mself\u001B[39m, format_string, args, kwargs):\n\u001B[0;32m      7\u001B[0m     \u001B[38;5;66;03m# This would be the core formatting logic, potentially calling get_field, etc.\u001B[39;00m\n\u001B[0;32m      8\u001B[0m     \u001B[38;5;66;03m# For this example, let's make it simple. This is NOT a complete Formatter.\u001B[39;00m\n\u001B[1;32m----> 9\u001B[0m     \u001B[38;5;28;01mreturn\u001B[39;00m \u001B[43mformat_string\u001B[49m\u001B[38;5;241;43m.\u001B[39;49m\u001B[43mformat\u001B[49m\u001B[43m(\u001B[49m\u001B[38;5;241;43m*\u001B[39;49m\u001B[43margs\u001B[49m\u001B[43m,\u001B[49m\u001B[43m \u001B[49m\u001B[38;5;241;43m*\u001B[39;49m\u001B[38;5;241;43m*\u001B[39;49m\u001B[43mkwargs\u001B[49m\u001B[43m)\u001B[49m\n",
      "\u001B[1;31mIndexError\u001B[0m: Replacement index 0 out of range for positional args tuple"
     ]
    }
   ],
   "execution_count": 14
  },
  {
   "metadata": {},
   "cell_type": "code",
   "outputs": [],
   "execution_count": null,
   "source": "",
   "id": "831a6f91feb8507b"
  },
  {
   "metadata": {},
   "cell_type": "code",
   "outputs": [],
   "execution_count": null,
   "source": "",
   "id": "2cd5978ee8ed1799"
  },
  {
   "metadata": {},
   "cell_type": "code",
   "outputs": [],
   "execution_count": null,
   "source": "",
   "id": "842295155451ca9f"
  },
  {
   "metadata": {},
   "cell_type": "code",
   "outputs": [],
   "execution_count": null,
   "source": "",
   "id": "a4321969820d247f"
  }
 ],
 "metadata": {
  "kernelspec": {
   "display_name": "Python 3",
   "language": "python",
   "name": "python3"
  },
  "language_info": {
   "codemirror_mode": {
    "name": "ipython",
    "version": 2
   },
   "file_extension": ".py",
   "mimetype": "text/x-python",
   "name": "python",
   "nbconvert_exporter": "python",
   "pygments_lexer": "ipython2",
   "version": "2.7.6"
  }
 },
 "nbformat": 4,
 "nbformat_minor": 5
}
