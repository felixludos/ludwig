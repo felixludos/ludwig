{
 "cells": [
  {
   "cell_type": "code",
   "execution_count": 1,
   "id": "5fc6676b",
   "metadata": {},
   "outputs": [],
   "source": [
    "import pandas as pd\n",
    "from pathlib import Path\n",
    "import os, yaml\n",
    "if '_fixed' not in locals():\n",
    "    _fixed = os.chdir(os.path.dirname(os.getcwd()))\n",
    "from ludwig import repo_root\n",
    "from ludwig.util import vllm_Client\n",
    "from collections import Counter\n",
    "from tqdm.notebook import tqdm\n",
    "import random\n",
    "from tabulate import tabulate\n",
    "import json\n",
    "import networkx as nx\n",
    "import io\n",
    "import matplotlib.pyplot as plt"
   ]
  },
  {
   "cell_type": "code",
   "execution_count": 2,
   "id": "4357d0f9",
   "metadata": {},
   "outputs": [],
   "source": [
    "\n",
    "# Login using e.g. `huggingface-cli login` to access this dataset\n",
    "df = pd.read_parquet(\"hf://datasets/livebench/reasoning/data/test-00000-of-00001.parquet\")"
   ]
  },
  {
   "cell_type": "code",
   "execution_count": 3,
   "id": "7ee84f1d",
   "metadata": {},
   "outputs": [
    {
     "data": {
      "text/html": [
       "<div>\n",
       "<style scoped>\n",
       "    .dataframe tbody tr th:only-of-type {\n",
       "        vertical-align: middle;\n",
       "    }\n",
       "\n",
       "    .dataframe tbody tr th {\n",
       "        vertical-align: top;\n",
       "    }\n",
       "\n",
       "    .dataframe thead th {\n",
       "        text-align: right;\n",
       "    }\n",
       "</style>\n",
       "<table border=\"1\" class=\"dataframe\">\n",
       "  <thead>\n",
       "    <tr style=\"text-align: right;\">\n",
       "      <th></th>\n",
       "      <th>question_id</th>\n",
       "      <th>category</th>\n",
       "      <th>ground_truth</th>\n",
       "      <th>turns</th>\n",
       "      <th>task</th>\n",
       "      <th>livebench_release_date</th>\n",
       "      <th>livebench_removal_date</th>\n",
       "      <th>level</th>\n",
       "    </tr>\n",
       "  </thead>\n",
       "  <tbody>\n",
       "    <tr>\n",
       "      <th>0</th>\n",
       "      <td>bd14ba82d1fe813dcdf6c16f0f868e5f3fe92e4cee9cf5...</td>\n",
       "      <td>reasoning</td>\n",
       "      <td>1, filmmaking, police-officer, journalist</td>\n",
       "      <td>[There are 2 people standing in a line. From l...</td>\n",
       "      <td>zebra_puzzle</td>\n",
       "      <td>2024-11-25</td>\n",
       "      <td></td>\n",
       "      <td>15.0</td>\n",
       "    </tr>\n",
       "    <tr>\n",
       "      <th>1</th>\n",
       "      <td>20d48b97e524cd64f82b0e4fb3c597a37bae1d9357e9b2...</td>\n",
       "      <td>reasoning</td>\n",
       "      <td>freelancer, animation, thriller, 1</td>\n",
       "      <td>[There are 2 people standing in a line. From l...</td>\n",
       "      <td>zebra_puzzle</td>\n",
       "      <td>2024-11-25</td>\n",
       "      <td></td>\n",
       "      <td>16.0</td>\n",
       "    </tr>\n",
       "    <tr>\n",
       "      <th>2</th>\n",
       "      <td>b1b1678a4f290c8ab2b85f957a0cdbba93ef0c97d1e7ab...</td>\n",
       "      <td>reasoning</td>\n",
       "      <td>architect, skiing, musical, 2</td>\n",
       "      <td>[There are 2 people standing in a line. From l...</td>\n",
       "      <td>zebra_puzzle</td>\n",
       "      <td>2024-11-25</td>\n",
       "      <td></td>\n",
       "      <td>17.0</td>\n",
       "    </tr>\n",
       "    <tr>\n",
       "      <th>3</th>\n",
       "      <td>743aa0ae2d518d95d45ab8b77a7e9ffde5a03c07da8a6a...</td>\n",
       "      <td>reasoning</td>\n",
       "      <td>canadian, 2, chef, thai</td>\n",
       "      <td>[There are 2 people standing in a line. From l...</td>\n",
       "      <td>zebra_puzzle</td>\n",
       "      <td>2024-11-25</td>\n",
       "      <td></td>\n",
       "      <td>14.0</td>\n",
       "    </tr>\n",
       "    <tr>\n",
       "      <th>4</th>\n",
       "      <td>84650f1042abf3d267bb79b6d1e1d899d27327a11ab81f...</td>\n",
       "      <td>reasoning</td>\n",
       "      <td>1, fisherman, coffee, musician</td>\n",
       "      <td>[There are 2 people standing in a line. From l...</td>\n",
       "      <td>zebra_puzzle</td>\n",
       "      <td>2024-11-25</td>\n",
       "      <td></td>\n",
       "      <td>12.0</td>\n",
       "    </tr>\n",
       "  </tbody>\n",
       "</table>\n",
       "</div>"
      ],
      "text/plain": [
       "                                         question_id   category  \\\n",
       "0  bd14ba82d1fe813dcdf6c16f0f868e5f3fe92e4cee9cf5...  reasoning   \n",
       "1  20d48b97e524cd64f82b0e4fb3c597a37bae1d9357e9b2...  reasoning   \n",
       "2  b1b1678a4f290c8ab2b85f957a0cdbba93ef0c97d1e7ab...  reasoning   \n",
       "3  743aa0ae2d518d95d45ab8b77a7e9ffde5a03c07da8a6a...  reasoning   \n",
       "4  84650f1042abf3d267bb79b6d1e1d899d27327a11ab81f...  reasoning   \n",
       "\n",
       "                                ground_truth  \\\n",
       "0  1, filmmaking, police-officer, journalist   \n",
       "1         freelancer, animation, thriller, 1   \n",
       "2              architect, skiing, musical, 2   \n",
       "3                    canadian, 2, chef, thai   \n",
       "4             1, fisherman, coffee, musician   \n",
       "\n",
       "                                               turns          task  \\\n",
       "0  [There are 2 people standing in a line. From l...  zebra_puzzle   \n",
       "1  [There are 2 people standing in a line. From l...  zebra_puzzle   \n",
       "2  [There are 2 people standing in a line. From l...  zebra_puzzle   \n",
       "3  [There are 2 people standing in a line. From l...  zebra_puzzle   \n",
       "4  [There are 2 people standing in a line. From l...  zebra_puzzle   \n",
       "\n",
       "  livebench_release_date livebench_removal_date  level  \n",
       "0             2024-11-25                          15.0  \n",
       "1             2024-11-25                          16.0  \n",
       "2             2024-11-25                          17.0  \n",
       "3             2024-11-25                          14.0  \n",
       "4             2024-11-25                          12.0  "
      ]
     },
     "execution_count": 3,
     "metadata": {},
     "output_type": "execute_result"
    }
   ],
   "source": [
    "df.head()"
   ]
  },
  {
   "cell_type": "code",
   "execution_count": 3,
   "id": "782c4f6f",
   "metadata": {},
   "outputs": [
    {
     "data": {
      "text/plain": [
       "task\n",
       "zebra_puzzle      100\n",
       "spatial            50\n",
       "web_of_lies_v2     50\n",
       "Name: count, dtype: int64"
      ]
     },
     "execution_count": 3,
     "metadata": {},
     "output_type": "execute_result"
    }
   ],
   "source": [
    "df['task'].value_counts()"
   ]
  },
  {
   "cell_type": "code",
   "execution_count": null,
   "id": "5d7f9254",
   "metadata": {},
   "outputs": [],
   "source": [
    "client = vllm_Client('8001')\n",
    "client.prepare()"
   ]
  },
  {
   "cell_type": "code",
   "execution_count": 65,
   "id": "43fea4d0",
   "metadata": {},
   "outputs": [
    {
     "name": "stdout",
     "output_type": "stream",
     "text": [
      "There are 4 people standing in a line numbered 1 through 4 in a left to right order.\n",
      "Each person has a set of attributes: Pet, Movie-Genre, Sport, Beverage.\n",
      "The attributes have the following possible values:\n",
      "- Pet: frog, rabbit, horse, lizard\n",
      "- Movie-Genre: action movies, drama movies, family movies, spy movies\n",
      "- Sport: rugby, water-polo, volleyball, golf\n",
      "- Beverage: juice, fanta, tea, sprite\n",
      "and exactly one person in the line has a given value for an attribute.\n",
      "\n",
      "Given the following premises about the line of people:\n",
      "- the person that has a rabbit drinks sprite or the person that watches drama movies has a rabbit or both\n",
      "- the person that watches drama movies plays volleyball or the person that plays volleyball drinks juice or both\n",
      "- the person that has a lizard is not anywhere to the right of the person that plays water-polo\n",
      "- the person who drinks fanta is not anywhere to the right of the person that plays golf\n",
      "- the person that plays volleyball is somewhere between the person that plays golf and the person that plays rugby\n",
      "- the person that has a lizard is not anywhere to the left of the person that has a rabbit\n",
      "- the person that plays rugby is somewhere between the person that plays volleyball and the person who drinks juice\n",
      "- the person that has a frog drinks tea or the person that plays volleyball has a frog or both\n",
      "- the person that watches spy movies is not anywhere to the right of the person who drinks sprite\n",
      "- the person who drinks fanta watches action movies or the person who drinks fanta has a rabbit, but not both\n",
      "\n",
      "Answer the following question:\n",
      "What kind of pet does the person who drinks sprite own? Return your answer as a single word, in the following format: ***X***, where X is the answer.\n"
     ]
    },
    {
     "data": {
      "text/plain": [
       "'rabbit'"
      ]
     },
     "execution_count": 65,
     "metadata": {},
     "output_type": "execute_result"
    }
   ],
   "source": [
    "x = df.sample()\n",
    "turns = x['turns'].values[0].tolist()\n",
    "gt = x['ground_truth'].values[0]\n",
    "print(turns[0])\n",
    "gt"
   ]
  },
  {
   "cell_type": "code",
   "execution_count": 68,
   "id": "c1eb7c68",
   "metadata": {},
   "outputs": [
    {
     "name": "stdout",
     "output_type": "stream",
     "text": [
      "***rabbit***\n"
     ]
    }
   ],
   "source": [
    "resp = client.step(turns[0], max_tokens=4096)\n",
    "\n",
    "msg = resp['choices'][0]['message']\n",
    "print(msg['content'])"
   ]
  },
  {
   "cell_type": "code",
   "execution_count": null,
   "id": "6898387b",
   "metadata": {},
   "outputs": [],
   "source": [
    "resp"
   ]
  },
  {
   "cell_type": "code",
   "execution_count": null,
   "id": "3045c186",
   "metadata": {},
   "outputs": [],
   "source": []
  },
  {
   "cell_type": "code",
   "execution_count": null,
   "id": "91cb9ea5",
   "metadata": {},
   "outputs": [],
   "source": []
  },
  {
   "cell_type": "code",
   "execution_count": null,
   "id": "cfca2bd3",
   "metadata": {},
   "outputs": [],
   "source": []
  },
  {
   "cell_type": "code",
   "execution_count": null,
   "id": "c8247585",
   "metadata": {},
   "outputs": [],
   "source": []
  },
  {
   "cell_type": "code",
   "execution_count": null,
   "id": "317e2f9e",
   "metadata": {},
   "outputs": [],
   "source": []
  },
  {
   "cell_type": "code",
   "execution_count": null,
   "id": "6d2b515d",
   "metadata": {},
   "outputs": [],
   "source": []
  }
 ],
 "metadata": {
  "kernelspec": {
   "display_name": "base",
   "language": "python",
   "name": "python3"
  },
  "language_info": {
   "codemirror_mode": {
    "name": "ipython",
    "version": 3
   },
   "file_extension": ".py",
   "mimetype": "text/x-python",
   "name": "python",
   "nbconvert_exporter": "python",
   "pygments_lexer": "ipython3",
   "version": "3.12.4"
  }
 },
 "nbformat": 4,
 "nbformat_minor": 5
}
