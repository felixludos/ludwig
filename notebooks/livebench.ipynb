{
 "cells": [
  {
   "cell_type": "code",
   "execution_count": 3,
   "id": "5fc6676b",
   "metadata": {},
   "outputs": [],
   "source": [
    "import pandas as pd\n",
    "from pathlib import Path\n",
    "import os, yaml\n",
    "if '_fixed' not in locals():\n",
    "    _fixed = os.chdir(os.path.dirname(os.getcwd()))\n",
    "from ludwig import repo_root\n",
    "from ludwig.util import vllm_Client\n",
    "from ludwig import LiveBenchReasoning\n",
    "from collections import Counter\n",
    "from tqdm.notebook import tqdm\n",
    "import random\n",
    "from tabulate import tabulate\n",
    "import json\n",
    "import networkx as nx\n",
    "import io\n",
    "import matplotlib.pyplot as plt"
   ]
  },
  {
   "cell_type": "code",
   "execution_count": 4,
   "id": "4357d0f9",
   "metadata": {},
   "outputs": [
    {
     "data": {
      "text/plain": [
       "90"
      ]
     },
     "execution_count": 4,
     "metadata": {},
     "output_type": "execute_result"
    }
   ],
   "source": [
    "\n",
    "# Login using e.g. `huggingface-cli login` to access this dataset\n",
    "# df = pd.read_parquet(\"hf://datasets/livebench/reasoning/data/test-00000-of-00001.parquet\")\n",
    "subtasks = ['zebra_puzzle', 'spatial', 'web_of_lies_v2']\n",
    "task = LiveBenchReasoning(subtasks[0])\n",
    "task.prepare()\n",
    "task.total_questions"
   ]
  },
  {
   "cell_type": "code",
   "execution_count": 5,
   "id": "cb809614",
   "metadata": {},
   "outputs": [
    {
     "data": {
      "text/plain": [
       "10"
      ]
     },
     "execution_count": 5,
     "metadata": {},
     "output_type": "execute_result"
    }
   ],
   "source": [
    "devqs = [task.ask_dev(i) for i in range(task.total_dev_questions)]\n",
    "qs = devqs\n",
    "len(devqs)"
   ]
  },
  {
   "cell_type": "code",
   "execution_count": 6,
   "id": "f2ae6e1e",
   "metadata": {},
   "outputs": [
    {
     "name": "stdout",
     "output_type": "stream",
     "text": [
      "There are 2 people standing in a line. From left to right, they are numbered 1 to 2.\n",
      "Each person has a set of attributes: Hobby, Job, Movie-Genre.\n",
      "The attributes have the following possible values:\n",
      "Hobby: filmmaking, collecting\n",
      "Job: journalist, police-officer\n",
      "Movie-Genre: adventure, thriller\n",
      "Each person has a unique value for each attribute.\n",
      "You know the following about the people:\n",
      "The person who is a journalist is somewhere to the right of the person who watches adventure\n",
      "The person who is a police-officer is not the same as the person who likes filmmaking\n",
      "\n",
      "Given this information, answer the following questions:\n",
      "At what position is the person who watches adventure?\n",
      "What hobby does the person who is a journalist do?\n",
      "What is the job of the person who watches adventure?\n",
      "What is the job of the person who watches thriller?\n",
      "Think step by step and explain your reasoning, then output your answers in order in the format:\n",
      "<solution>answer1, answer2, answer3, ...</solution>\n",
      "For instance, if there were 3 questions and the answers were A, B, and C, the output would be:\n",
      "<solution>A, B, C</solution>\n",
      "If the answer to a question is a number, be sure to put it in numerical form (e.g. '3' instead of 'three').\n",
      "\n"
     ]
    }
   ],
   "source": [
    "print(qs[0]['question'])"
   ]
  },
  {
   "cell_type": "code",
   "execution_count": 4,
   "id": "e0d34d54",
   "metadata": {},
   "outputs": [
    {
     "data": {
      "text/plain": [
       "[\"This puzzle's premises lead to a logical contradiction. However, the given answer can be reached by following one line of reasoning while ignoring the paradox.\",\n",
       " 'First, a direct fact: the person at the **theater (Nia) is a liar**.',\n",
       " \"The person at the **art gallery (Jake)** says 'the person at the theater lies.' Since this is a true statement, the person at the **art gallery is a truth-teller**.\",\n",
       " \"The person at the **campground (Nadia)** says 'the person at the art gallery tells the truth.' This is also a true statement, so the **campground person is a truth-teller**.\",\n",
       " \"The person at the **aquarium (Ayaan)** says 'the person at the campground tells the truth.' This is true, so the **aquarium person is a truth-teller** (Answer: yes).\",\n",
       " \"The person at the **amusement park (Mateo)** says 'the person at the aquarium tells the truth.' This is true, so the **amusement park person is a truth-teller** (Answer: yes).\",\n",
       " \"Finally, the person at the **train station (Kehinde)** says 'the person at the amusement park lies.' This is a false statement, so the **train station person is a liar** (Answer: no).\",\n",
       " \"(Note: This result makes the theater person's statement 'the train station lies' a true statement, which a liar should not be able to make, indicating an issue with the puzzle's premises.)\"]"
      ]
     },
     "execution_count": 4,
     "metadata": {},
     "output_type": "execute_result"
    }
   ],
   "source": [
    "qs[0]['rationale']"
   ]
  },
  {
   "cell_type": "code",
   "execution_count": 34,
   "id": "1741e40a",
   "metadata": {},
   "outputs": [],
   "source": [
    "# regqs = [task.ask(i) for i in range(task.total_questions)]\n",
    "# qs = regqs\n",
    "# len(regqs)"
   ]
  },
  {
   "cell_type": "code",
   "execution_count": 35,
   "id": "3ca54d5c",
   "metadata": {},
   "outputs": [],
   "source": [
    "# qs = [task.ask(i, dev=True) for i in range(len(task._data))]\n",
    "# len(qs)"
   ]
  },
  {
   "cell_type": "code",
   "execution_count": 36,
   "id": "20d26e9b",
   "metadata": {},
   "outputs": [
    {
     "name": "stdout",
     "output_type": "stream",
     "text": [
      "-  ---  -------------  -----------------------------------------------------------------------------------------------------------------------------------------------------------------------------------------------------------------------------------------------------------------------------------------------------------------------------------------------------------------------------------------------------------------------------------------------------------------------------------------------------------------------------------------------------------------------------------------------------------------------------------------------------------------------------------------------------------------------------------------------------------------------------------------------------------------------------------------------------------------------------------------------------------------------------------------------------------------------------------------------------------------------------------------------------------------------------------------------------------------------------------------------------------------------------------------------------------------------------------------------------------------------------------------------------------------------------------------------------------------------------------------------------------------------------------------------------------------------------------------------------------------------------------------------------------------------------------------------------------------------------------------------------------------------------------------------------------------------------------------------------------------------------------------------------------------------------------------------------------------------------------------------------------------------------------------------------------------------------------------------------------\n",
      "0  nan  no, yes, yes   In this question, assume each person either always tells the truth or always lies. Tala is at the movie theater. The person at the restaurant says the person at the aquarium lies. Ayaan is at the aquarium. Ryan is at the botanical garden. The person at the park says the person at the art gallery lies. The person at the museum tells the truth. Zara is at the museum. Jake is at the art gallery. The person at the art gallery says the person at the theater lies. Beatriz is at the park. The person at the movie theater says the person at the train station lies. Nadia is at the campground. The person at the campground says the person at the art gallery tells the truth. The person at the theater lies. The person at the amusement park says the person at the aquarium tells the truth. Grace is at the restaurant. The person at the aquarium thinks their friend is lying. Nia is at the theater. Kehinde is at the train station. The person at the theater thinks their friend is lying. The person at the botanical garden says the person at the train station tells the truth. The person at the aquarium says the person at the campground tells the truth. The person at the aquarium saw a firetruck. The person at the train station says the person at the amusement park lies. Mateo is at the amusement park. Does the person at the train station tell the truth? Does the person at the amusement park tell the truth? Does the person at the aquarium tell the truth? Think step by step, and then put your answer in **bold** as a list of three words, yes or no (for example, **yes, no, yes**). If you don't know, guess.\n",
      "1  nan  yes, no, yes   In this question, assume each person either always tells the truth or always lies. Liam is at the movie theater. The person at the beach says the person at the restaurant tells the truth. Kehinde is at the aquarium. The person at the amusement park saw a firetruck. The person at the aquarium tells the truth. Luna is at the library. Jaxon is at the amusement park. The person at the amusement park says the person at the beach tells the truth. Anika is at the restaurant. The person at the barbershop tells the truth. The person at the observatory says the person at the planetarium lies. Hiroshi is at the beach. Isabella is at the planetarium. Nia is at the barbershop. The person at the movie theater says the person at the observatory lies. The person at the restaurant tells the truth. Max is at the observatory. The person at the library says the person at the amusement park tells the truth. The person at the planetarium says the person at the library tells the truth. Does the person at the movie theater tell the truth? Does the person at the observatory tell the truth? Does the person at the planetarium tell the truth? Think step by step, and then put your answer in **bold** as a list of three words, yes or no (for example, **yes, no, yes**). If you don't know, guess.\n",
      "2  nan  no, no, yes    In this question, assume each person either always tells the truth or always lies. Liam is at the restaurant. The person at the observatory says the person at the botanical garden lies. Elowen is at the vineyard. The person at the library says the person at the botanical garden tells the truth. The person at the train station tells the truth. The person at the botanical garden saw a firetruck. The person at the botanical garden says the person at the train station lies. Jake is at the aquarium. Soren is at the farm. Theo is at the gym. The person at the train station saw a firetruck. Devika is at the train station. Kehinde is at the library. The person at the restaurant lies. The person at the farm says the person at the train station lies. The person at the gym says the person at the train station lies. Hiroshi is at the botanical garden. The person at the vineyard lies. The person at the aquarium says the person at the library tells the truth. Quan is at the observatory. Does the person at the library tell the truth? Does the person at the botanical garden tell the truth? Does the person at the train station tell the truth? Think step by step, and then put your answer in **bold** as a list of three words, yes or no (for example, **yes, no, yes**). If you don't know, guess.\n",
      "3  nan  yes, no, no    In this question, assume each person either always tells the truth or always lies. The person at the theater says the person at the airport lies. The person at the barbershop says the person at the school tells the truth. Hiroshi is at the school. Ryan is at the airport. Zara is at the botanical garden. The person at the train station tells the truth. Jake is at the observatory. The person at the airport thinks their friend is lying. Theo is at the theater. The person at the botanical garden says the person at the aquarium lies. Liam is at the train station. Grace is at the bowling alley. The person at the airport says the person at the bowling alley lies. Olivia is at the amusement park. The person at the observatory tells the truth. Elowen is at the aquarium. Farid is at the art gallery. The person at the airport says the person at the beach tells the truth. The person at the art gallery says the person at the barbershop lies. The person at the bowling alley says the person at the art gallery lies. Soren is at the barbershop. The person at the school tells the truth. The person at the aquarium says the person at the airport tells the truth. The person at the botanical garden saw a firetruck. The person at the bowling alley says the person at the amusement park tells the truth. The person at the airport saw a firetruck. Ayaan is at the beach. Does the person at the botanical garden tell the truth? Does the person at the aquarium tell the truth? Does the person at the airport tell the truth? Think step by step, and then put your answer in **bold** as a list of three words, yes or no (for example, **yes, no, yes**). If you don't know, guess.\n",
      "4  nan  yes, yes, yes  In this question, assume each person either always tells the truth or always lies. Beatriz is at the vineyard. The person at the city hall says the person at the school lies. The person at the ice skating rink says the person at the school tells the truth. Quan is at the ice skating rink. The person at the amusement park says the person at the school tells the truth. Olivia is at the restaurant. The person at the vineyard says the person at the botanical garden tells the truth. The person at the vineyard says the person at the campground tells the truth. Charlie is at the campground. Soren is at the school. Grace is at the barbershop. The person at the school says the person at the vineyard tells the truth. The person at the barbershop says the person at the campground tells the truth. Mateo is at the amusement park. Tala is at the botanical garden. The person at the campground tells the truth. The person at the restaurant tells the truth. Devika is at the city hall. The person at the amusement park thinks their neighbor is telling the truth. The person at the amusement park thinks their friend is lying. Does the person at the amusement park tell the truth? Does the person at the school tell the truth? Does the person at the vineyard tell the truth? Think step by step, and then put your answer in **bold** as a list of three words, yes or no (for example, **yes, no, yes**). If you don't know, guess.\n",
      "5  nan  no, yes, yes   In this question, assume each person either always tells the truth or always lies. Hiroshi is at the farm. The person at the school tells the truth. The person at the train station says the person at the airport tells the truth. Nia is at the train station. The person at the city hall lies. Max is at the bowling alley. Quan is at the city hall. Theo is at the planetarium. The person at the museum tells the truth. The person at the observatory says the person at the airport lies. The person at the airport says the person at the bowling alley tells the truth. The person at the farm says the person at the barbershop lies. Ryan is at the school. Farid is at the airport. The person at the farm says the person at the theater tells the truth. The person at the planetarium says the person at the city hall lies. Tala is at the museum. Charlie is at the theater. The person at the barbershop says the person at the city hall tells the truth. The person at the observatory says the person at the shopping mall lies. The person at the airport says the person at the farm tells the truth. The person at the beach says the person at the city hall lies. Jaxon is at the beach. Liam is at the barbershop. The person at the airport says the person at the movie theater tells the truth. Kehinde is at the shopping mall. Ethan is at the movie theater. Mateo is at the observatory. Zara is at the vineyard. The person at the barbershop says the person at the vineyard lies. Does the person at the observatory tell the truth? Does the person at the airport tell the truth? Does the person at the farm tell the truth? Think step by step, and then put your answer in **bold** as a list of three words, yes or no (for example, **yes, no, yes**). If you don't know, guess.\n",
      "6  nan  yes, no, yes   In this question, assume each person either always tells the truth or always lies. The person at the art gallery says the person at the bookstore tells the truth. Zara is at the barbershop. Quan is at the city hall. The person at the city hall tells the truth. Tala is at the bookstore. Beatriz is at the restaurant. The person at the barbershop says the person at the planetarium lies. The person at the zoo says the person at the art gallery tells the truth. The person at the art gallery thinks their friend is lying. The person at the bookstore tells the truth. Farid is at the ice skating rink. Ethan is at the zoo. Mateo is at the hotel. The person at the restaurant lies. The person at the ice skating rink lies. The person at the planetarium says the person at the zoo lies. Luna is at the art gallery. The person at the hotel lies. Emily is at the planetarium. Does the person at the barbershop tell the truth? Does the person at the planetarium tell the truth? Does the person at the zoo tell the truth? Think step by step, and then put your answer in **bold** as a list of three words, yes or no (for example, **yes, no, yes**). If you don't know, guess.\n",
      "7  nan  yes, no, no    In this question, assume each person either always tells the truth or always lies. Quan is at the barbershop. The person at the amusement park tells the truth. The person at the ice skating rink thinks their friend is lying. The person at the shopping mall says the person at the cafe tells the truth. The person at the barbershop says the person at the train station lies. Hiroshi is at the train station. Farid is at the observatory. Ethan is at the ice skating rink. The person at the botanical garden says the person at the beach lies. The person at the botanical garden says the person at the cafe lies. Maya is at the school. The person at the observatory says the person at the ice skating rink lies. Jake is at the campground. Max is at the aquarium. Theo is at the amusement park. Jaxon is at the shopping mall. Kehinde is at the art gallery. Liam is at the beach. The person at the hotel says the person at the ice skating rink lies. The person at the aquarium says the person at the ice skating rink tells the truth. Zara is at the hotel. Soren is at the botanical garden. The person at the ice skating rink says the person at the amusement park tells the truth. Anika is at the cafe. The person at the school says the person at the train station lies. The person at the ice skating rink says the person at the campground lies. The person at the cafe says the person at the aquarium tells the truth. The person at the art gallery says the person at the train station lies. The person at the train station says the person at the botanical garden tells the truth. The person at the ice skating rink saw a firetruck. Does the person at the school tell the truth? Does the person at the train station tell the truth? Does the person at the botanical garden tell the truth? Think step by step, and then put your answer in **bold** as a list of three words, yes or no (for example, **yes, no, yes**). If you don't know, guess.\n",
      "8  nan  yes, no, no    In this question, assume each person either always tells the truth or always lies. The person at the farm lies. Soren is at the zoo. The person at the vineyard says the person at the library lies. The person at the library says the person at the ice skating rink lies. The person at the ice skating rink tells the truth. The person at the ice skating rink saw a firetruck. Isabella is at the movie theater. The person at the movie theater tells the truth. The person at the vineyard saw a firetruck. Luna is at the cafe. The person at the planetarium says the person at the vineyard tells the truth. The person at the zoo says the person at the cafe tells the truth. Maya is at the planetarium. Ethan is at the farm. The person at the zoo says the person at the skate park lies. Max is at the beach. The person at the skate park says the person at the beach tells the truth. The person at the beach says the person at the planetarium lies. Kehinde is at the airport. The person at the airport lies. Charlie is at the ice skating rink. The person at the ice skating rink thinks their neighbor is telling the truth. Elowen is at the vineyard. Quan is at the skate park. Tala is at the library. Does the person at the zoo tell the truth? Does the person at the skate park tell the truth? Does the person at the beach tell the truth? Think step by step, and then put your answer in **bold** as a list of three words, yes or no (for example, **yes, no, yes**). If you don't know, guess.\n",
      "9  nan  yes, no, no    In this question, assume each person either always tells the truth or always lies. The person at the vineyard says the person at the library tells the truth. Olivia is at the movie theater. The person at the library says the person at the movie theater lies. The person at the bookstore tells the truth. Liam is at the library. The person at the bookstore thinks their friend is lying. The person at the park lies. The person at the library saw a firetruck. Jake is at the train station. The person at the movie theater says the person at the bookstore tells the truth. The person at the museum says the person at the farm tells the truth. The person at the farm says the person at the city hall tells the truth. The person at the library thinks their neighbor is telling the truth. The person at the train station lies. Anika is at the planetarium. Zara is at the museum. Jaxon is at the park. Maya is at the vineyard. The person at the farm says the person at the vineyard lies. The person at the farm thinks their friend is lying. Grace is at the bookstore. Emily is at the farm. The person at the planetarium tells the truth. Soren is at the city hall. Does the person at the farm tell the truth? Does the person at the vineyard tell the truth? Does the person at the library tell the truth? Think step by step, and then put your answer in **bold** as a list of three words, yes or no (for example, **yes, no, yes**). If you don't know, guess.\n",
      "-  ---  -------------  -----------------------------------------------------------------------------------------------------------------------------------------------------------------------------------------------------------------------------------------------------------------------------------------------------------------------------------------------------------------------------------------------------------------------------------------------------------------------------------------------------------------------------------------------------------------------------------------------------------------------------------------------------------------------------------------------------------------------------------------------------------------------------------------------------------------------------------------------------------------------------------------------------------------------------------------------------------------------------------------------------------------------------------------------------------------------------------------------------------------------------------------------------------------------------------------------------------------------------------------------------------------------------------------------------------------------------------------------------------------------------------------------------------------------------------------------------------------------------------------------------------------------------------------------------------------------------------------------------------------------------------------------------------------------------------------------------------------------------------------------------------------------------------------------------------------------------------------------------------------------------------------------------------------------------------------------------------------------------------------------------------\n"
     ]
    }
   ],
   "source": [
    "def show(inds=None):\n",
    "    q = enumerate(qs) if inds is None else [(i, qs[i]) for i in inds]\n",
    "    print(tabulate([(i, q['level'], q['answer'], q['question']) for i, q in q]))\n",
    "show()"
   ]
  },
  {
   "cell_type": "code",
   "execution_count": 37,
   "id": "149ab2bc",
   "metadata": {},
   "outputs": [],
   "source": [
    "# # random.seed(53)\n",
    "# inds = random.sample(range(len(qs)), k=10)\n",
    "# show(inds)\n",
    "# inds"
   ]
  },
  {
   "cell_type": "code",
   "execution_count": 38,
   "id": "269ea803",
   "metadata": {},
   "outputs": [
    {
     "data": {
      "text/plain": [
       "dict_keys(['question_id', 'category', 'ground_truth', 'turns', 'task', 'livebench_release_date', 'livebench_removal_date', 'level', 'question', 'answer', 'system'])"
      ]
     },
     "execution_count": 38,
     "metadata": {},
     "output_type": "execute_result"
    }
   ],
   "source": [
    "qs[0].keys()"
   ]
  },
  {
   "cell_type": "code",
   "execution_count": 39,
   "id": "667e11e7",
   "metadata": {},
   "outputs": [
    {
     "name": "stdout",
     "output_type": "stream",
     "text": [
      "```\n",
      "In this question, assume each person either always tells the truth or always lies. Tala is at the movie theater. The person at the restaurant says the person at the aquarium lies. Ayaan is at the aquarium. Ryan is at the botanical garden. The person at the park says the person at the art gallery lies. The person at the museum tells the truth. Zara is at the museum. Jake is at the art gallery. The person at the art gallery says the person at the theater lies. Beatriz is at the park. The person at the movie theater says the person at the train station lies. Nadia is at the campground. The person at the campground says the person at the art gallery tells the truth. The person at the theater lies. The person at the amusement park says the person at the aquarium tells the truth. Grace is at the restaurant. The person at the aquarium thinks their friend is lying. Nia is at the theater. Kehinde is at the train station. The person at the theater thinks their friend is lying. The person at the botanical garden says the person at the train station tells the truth. The person at the aquarium says the person at the campground tells the truth. The person at the aquarium saw a firetruck. The person at the train station says the person at the amusement park lies. Mateo is at the amusement park. Does the person at the train station tell the truth? Does the person at the amusement park tell the truth? Does the person at the aquarium tell the truth? Think step by step, and then put your answer in **bold** as a list of three words, yes or no (for example, **yes, no, yes**). If you don't know, guess.\n",
      "```\n",
      "The answer is: 'no, yes, yes'\n",
      "\n",
      "```\n",
      "In this question, assume each person either always tells the truth or always lies. Liam is at the movie theater. The person at the beach says the person at the restaurant tells the truth. Kehinde is at the aquarium. The person at the amusement park saw a firetruck. The person at the aquarium tells the truth. Luna is at the library. Jaxon is at the amusement park. The person at the amusement park says the person at the beach tells the truth. Anika is at the restaurant. The person at the barbershop tells the truth. The person at the observatory says the person at the planetarium lies. Hiroshi is at the beach. Isabella is at the planetarium. Nia is at the barbershop. The person at the movie theater says the person at the observatory lies. The person at the restaurant tells the truth. Max is at the observatory. The person at the library says the person at the amusement park tells the truth. The person at the planetarium says the person at the library tells the truth. Does the person at the movie theater tell the truth? Does the person at the observatory tell the truth? Does the person at the planetarium tell the truth? Think step by step, and then put your answer in **bold** as a list of three words, yes or no (for example, **yes, no, yes**). If you don't know, guess.\n",
      "```\n",
      "The answer is: 'yes, no, yes'\n",
      "\n",
      "```\n",
      "In this question, assume each person either always tells the truth or always lies. Liam is at the restaurant. The person at the observatory says the person at the botanical garden lies. Elowen is at the vineyard. The person at the library says the person at the botanical garden tells the truth. The person at the train station tells the truth. The person at the botanical garden saw a firetruck. The person at the botanical garden says the person at the train station lies. Jake is at the aquarium. Soren is at the farm. Theo is at the gym. The person at the train station saw a firetruck. Devika is at the train station. Kehinde is at the library. The person at the restaurant lies. The person at the farm says the person at the train station lies. The person at the gym says the person at the train station lies. Hiroshi is at the botanical garden. The person at the vineyard lies. The person at the aquarium says the person at the library tells the truth. Quan is at the observatory. Does the person at the library tell the truth? Does the person at the botanical garden tell the truth? Does the person at the train station tell the truth? Think step by step, and then put your answer in **bold** as a list of three words, yes or no (for example, **yes, no, yes**). If you don't know, guess.\n",
      "```\n",
      "The answer is: 'no, no, yes'\n",
      "\n",
      "```\n",
      "In this question, assume each person either always tells the truth or always lies. The person at the theater says the person at the airport lies. The person at the barbershop says the person at the school tells the truth. Hiroshi is at the school. Ryan is at the airport. Zara is at the botanical garden. The person at the train station tells the truth. Jake is at the observatory. The person at the airport thinks their friend is lying. Theo is at the theater. The person at the botanical garden says the person at the aquarium lies. Liam is at the train station. Grace is at the bowling alley. The person at the airport says the person at the bowling alley lies. Olivia is at the amusement park. The person at the observatory tells the truth. Elowen is at the aquarium. Farid is at the art gallery. The person at the airport says the person at the beach tells the truth. The person at the art gallery says the person at the barbershop lies. The person at the bowling alley says the person at the art gallery lies. Soren is at the barbershop. The person at the school tells the truth. The person at the aquarium says the person at the airport tells the truth. The person at the botanical garden saw a firetruck. The person at the bowling alley says the person at the amusement park tells the truth. The person at the airport saw a firetruck. Ayaan is at the beach. Does the person at the botanical garden tell the truth? Does the person at the aquarium tell the truth? Does the person at the airport tell the truth? Think step by step, and then put your answer in **bold** as a list of three words, yes or no (for example, **yes, no, yes**). If you don't know, guess.\n",
      "```\n",
      "The answer is: 'yes, no, no'\n",
      "\n",
      "```\n",
      "In this question, assume each person either always tells the truth or always lies. Beatriz is at the vineyard. The person at the city hall says the person at the school lies. The person at the ice skating rink says the person at the school tells the truth. Quan is at the ice skating rink. The person at the amusement park says the person at the school tells the truth. Olivia is at the restaurant. The person at the vineyard says the person at the botanical garden tells the truth. The person at the vineyard says the person at the campground tells the truth. Charlie is at the campground. Soren is at the school. Grace is at the barbershop. The person at the school says the person at the vineyard tells the truth. The person at the barbershop says the person at the campground tells the truth. Mateo is at the amusement park. Tala is at the botanical garden. The person at the campground tells the truth. The person at the restaurant tells the truth. Devika is at the city hall. The person at the amusement park thinks their neighbor is telling the truth. The person at the amusement park thinks their friend is lying. Does the person at the amusement park tell the truth? Does the person at the school tell the truth? Does the person at the vineyard tell the truth? Think step by step, and then put your answer in **bold** as a list of three words, yes or no (for example, **yes, no, yes**). If you don't know, guess.\n",
      "```\n",
      "The answer is: 'yes, yes, yes'\n",
      "\n",
      "```\n",
      "In this question, assume each person either always tells the truth or always lies. Hiroshi is at the farm. The person at the school tells the truth. The person at the train station says the person at the airport tells the truth. Nia is at the train station. The person at the city hall lies. Max is at the bowling alley. Quan is at the city hall. Theo is at the planetarium. The person at the museum tells the truth. The person at the observatory says the person at the airport lies. The person at the airport says the person at the bowling alley tells the truth. The person at the farm says the person at the barbershop lies. Ryan is at the school. Farid is at the airport. The person at the farm says the person at the theater tells the truth. The person at the planetarium says the person at the city hall lies. Tala is at the museum. Charlie is at the theater. The person at the barbershop says the person at the city hall tells the truth. The person at the observatory says the person at the shopping mall lies. The person at the airport says the person at the farm tells the truth. The person at the beach says the person at the city hall lies. Jaxon is at the beach. Liam is at the barbershop. The person at the airport says the person at the movie theater tells the truth. Kehinde is at the shopping mall. Ethan is at the movie theater. Mateo is at the observatory. Zara is at the vineyard. The person at the barbershop says the person at the vineyard lies. Does the person at the observatory tell the truth? Does the person at the airport tell the truth? Does the person at the farm tell the truth? Think step by step, and then put your answer in **bold** as a list of three words, yes or no (for example, **yes, no, yes**). If you don't know, guess.\n",
      "```\n",
      "The answer is: 'no, yes, yes'\n",
      "\n",
      "```\n",
      "In this question, assume each person either always tells the truth or always lies. The person at the art gallery says the person at the bookstore tells the truth. Zara is at the barbershop. Quan is at the city hall. The person at the city hall tells the truth. Tala is at the bookstore. Beatriz is at the restaurant. The person at the barbershop says the person at the planetarium lies. The person at the zoo says the person at the art gallery tells the truth. The person at the art gallery thinks their friend is lying. The person at the bookstore tells the truth. Farid is at the ice skating rink. Ethan is at the zoo. Mateo is at the hotel. The person at the restaurant lies. The person at the ice skating rink lies. The person at the planetarium says the person at the zoo lies. Luna is at the art gallery. The person at the hotel lies. Emily is at the planetarium. Does the person at the barbershop tell the truth? Does the person at the planetarium tell the truth? Does the person at the zoo tell the truth? Think step by step, and then put your answer in **bold** as a list of three words, yes or no (for example, **yes, no, yes**). If you don't know, guess.\n",
      "```\n",
      "The answer is: 'yes, no, yes'\n",
      "\n",
      "```\n",
      "In this question, assume each person either always tells the truth or always lies. Quan is at the barbershop. The person at the amusement park tells the truth. The person at the ice skating rink thinks their friend is lying. The person at the shopping mall says the person at the cafe tells the truth. The person at the barbershop says the person at the train station lies. Hiroshi is at the train station. Farid is at the observatory. Ethan is at the ice skating rink. The person at the botanical garden says the person at the beach lies. The person at the botanical garden says the person at the cafe lies. Maya is at the school. The person at the observatory says the person at the ice skating rink lies. Jake is at the campground. Max is at the aquarium. Theo is at the amusement park. Jaxon is at the shopping mall. Kehinde is at the art gallery. Liam is at the beach. The person at the hotel says the person at the ice skating rink lies. The person at the aquarium says the person at the ice skating rink tells the truth. Zara is at the hotel. Soren is at the botanical garden. The person at the ice skating rink says the person at the amusement park tells the truth. Anika is at the cafe. The person at the school says the person at the train station lies. The person at the ice skating rink says the person at the campground lies. The person at the cafe says the person at the aquarium tells the truth. The person at the art gallery says the person at the train station lies. The person at the train station says the person at the botanical garden tells the truth. The person at the ice skating rink saw a firetruck. Does the person at the school tell the truth? Does the person at the train station tell the truth? Does the person at the botanical garden tell the truth? Think step by step, and then put your answer in **bold** as a list of three words, yes or no (for example, **yes, no, yes**). If you don't know, guess.\n",
      "```\n",
      "The answer is: 'yes, no, no'\n",
      "\n",
      "```\n",
      "In this question, assume each person either always tells the truth or always lies. The person at the farm lies. Soren is at the zoo. The person at the vineyard says the person at the library lies. The person at the library says the person at the ice skating rink lies. The person at the ice skating rink tells the truth. The person at the ice skating rink saw a firetruck. Isabella is at the movie theater. The person at the movie theater tells the truth. The person at the vineyard saw a firetruck. Luna is at the cafe. The person at the planetarium says the person at the vineyard tells the truth. The person at the zoo says the person at the cafe tells the truth. Maya is at the planetarium. Ethan is at the farm. The person at the zoo says the person at the skate park lies. Max is at the beach. The person at the skate park says the person at the beach tells the truth. The person at the beach says the person at the planetarium lies. Kehinde is at the airport. The person at the airport lies. Charlie is at the ice skating rink. The person at the ice skating rink thinks their neighbor is telling the truth. Elowen is at the vineyard. Quan is at the skate park. Tala is at the library. Does the person at the zoo tell the truth? Does the person at the skate park tell the truth? Does the person at the beach tell the truth? Think step by step, and then put your answer in **bold** as a list of three words, yes or no (for example, **yes, no, yes**). If you don't know, guess.\n",
      "```\n",
      "The answer is: 'yes, no, no'\n",
      "\n",
      "```\n",
      "In this question, assume each person either always tells the truth or always lies. The person at the vineyard says the person at the library tells the truth. Olivia is at the movie theater. The person at the library says the person at the movie theater lies. The person at the bookstore tells the truth. Liam is at the library. The person at the bookstore thinks their friend is lying. The person at the park lies. The person at the library saw a firetruck. Jake is at the train station. The person at the movie theater says the person at the bookstore tells the truth. The person at the museum says the person at the farm tells the truth. The person at the farm says the person at the city hall tells the truth. The person at the library thinks their neighbor is telling the truth. The person at the train station lies. Anika is at the planetarium. Zara is at the museum. Jaxon is at the park. Maya is at the vineyard. The person at the farm says the person at the vineyard lies. The person at the farm thinks their friend is lying. Grace is at the bookstore. Emily is at the farm. The person at the planetarium tells the truth. Soren is at the city hall. Does the person at the farm tell the truth? Does the person at the vineyard tell the truth? Does the person at the library tell the truth? Think step by step, and then put your answer in **bold** as a list of three words, yes or no (for example, **yes, no, yes**). If you don't know, guess.\n",
      "```\n",
      "The answer is: 'yes, no, no'\n",
      "\n"
     ]
    }
   ],
   "source": [
    "for q in qs:\n",
    "    print(f'```\\n{q['question']}\\n```\\nThe answer is: {q['answer']!r}\\n')"
   ]
  },
  {
   "cell_type": "code",
   "execution_count": null,
   "id": "c86bf43f",
   "metadata": {},
   "outputs": [],
   "source": []
  },
  {
   "cell_type": "code",
   "execution_count": null,
   "id": "356b7f50",
   "metadata": {},
   "outputs": [],
   "source": []
  },
  {
   "cell_type": "code",
   "execution_count": null,
   "id": "3794f6bc",
   "metadata": {},
   "outputs": [],
   "source": []
  },
  {
   "cell_type": "code",
   "execution_count": 11,
   "id": "cf04675e",
   "metadata": {},
   "outputs": [
    {
     "name": "stdout",
     "output_type": "stream",
     "text": [
      "Here is my step-by-step reasoning to solve the puzzle:\n",
      "\n",
      "- Based on the clue 'The person who is a journalist is somewhere to the right of the person who watches adventure', the person with the attribute **journalist** must be to the right of the person with **adventure**., the person at **position 2** must have the **Job** of **journalist**.\n",
      "- By elimination, the person at **position 1** must have the **Job** of **police-officer**.\n",
      "- Based on the clue 'The person who is a journalist is somewhere to the right of the person who watches adventure', the person with the attribute **journalist** must be to the right of the person with **adventure**., the person at **position 1** must have the **Movie-Genre** of **adventure**.\n",
      "- By elimination, the person at **position 2** must have the **Movie-Genre** of **thriller**.\n",
      "- From the clue 'The person who is a police-officer is not the same as the person who likes filmmaking' and knowing the **police-officer** is at position 1, the person at **position 1** must have the **Hobby** of **collecting**.\n",
      "- By elimination, the person at **position 2** must have the **Hobby** of **filmmaking**.\n",
      "- Combining our findings, we now know the person at **position 1** has the attributes: **police-officer, adventure, collecting**.\n",
      "- Combining our findings, we now know the person at **position 2** has the attributes: **journalist, thriller, filmmaking**.\n",
      "\n",
      "After establishing the complete arrangement, I can answer the questions.\n",
      "<solution>1, police-officer, journalist</solution>\n"
     ]
    }
   ],
   "source": [
    "import re\n",
    "from itertools import permutations\n",
    "\n",
    "def solve_livebench_puzzle(problem_text: str) -> str:\n",
    "    \"\"\"\n",
    "    Solves a livebench logic puzzle by parsing its rules, deducing the solution\n",
    "    step-by-step, and generating a human-readable rationale.\n",
    "\n",
    "    Args:\n",
    "        problem_text: The full text of the livebench puzzle.\n",
    "\n",
    "    Returns:\n",
    "        A string containing the step-by-step reasoning and the final answer\n",
    "        in the specified <solution> format.\n",
    "    \"\"\"\n",
    "\n",
    "    # --- 1. Parsing the Input Text ---\n",
    "    \n",
    "    # Extract number of people\n",
    "    num_people_match = re.search(r\"There are (\\d+) people\", problem_text)\n",
    "    num_people = int(num_people_match.group(1)) if num_people_match else 0\n",
    "\n",
    "    # Extract attributes and their possible values\n",
    "    attributes_text = re.search(r\"attributes have the following possible values:(.*?)\"\n",
    "                                r\"Each person has a unique value\", problem_text, re.DOTALL).group(1)\n",
    "    attributes = {}\n",
    "    for line in attributes_text.strip().split('\\n'):\n",
    "        key, values = line.split(':')\n",
    "        attributes[key.strip()] = [v.strip() for v in values.split(',')]\n",
    "\n",
    "    # Extract clues\n",
    "    clues_text = re.search(r\"You know the following about the people:(.*?)\"\n",
    "                           r\"Given this information\", problem_text, re.DOTALL).group(1)\n",
    "    clues = [clue.strip() for clue in clues_text.strip().split('\\n')]\n",
    "\n",
    "    # Extract questions\n",
    "    questions_text = re.search(r\"answer the following questions:(.*?)\"\n",
    "                               r\"Think step by step\", problem_text, re.DOTALL).group(1)\n",
    "    questions = [q.strip() for q in questions_text.strip().split('\\n')]\n",
    "    \n",
    "    # --- 2. Solving Logic and Generating Rationale ---\n",
    "\n",
    "    rationale = []\n",
    "    \n",
    "    # Initialize a list of dictionaries, one for each person/position\n",
    "    solution = [{} for _ in range(num_people)]\n",
    "    \n",
    "    # Helper to find which category a value belongs to (e.g., 'chef' -> 'Job')\n",
    "    def get_category(value):\n",
    "        for cat, values in attributes.items():\n",
    "            if value in values:\n",
    "                return cat\n",
    "        return None\n",
    "\n",
    "    # Helper to apply deductions and their opposites\n",
    "    def assign(person_index, category, value, reason):\n",
    "        # Direct assignment\n",
    "        if category not in solution[person_index]:\n",
    "            solution[person_index][category] = value\n",
    "            rationale.append(f\"{reason}, the person at **position {person_index + 1}** must have the **{category}** of **{value}**.\")\n",
    "            \n",
    "            # Elimination assignment for the other person (since N=2)\n",
    "            other_index = 1 - person_index\n",
    "            if category not in solution[other_index]:\n",
    "                other_value = [v for v in attributes[category] if v != value][0]\n",
    "                solution[other_index][category] = other_value\n",
    "                rationale.append(f\"By elimination, the person at **position {other_index + 1}** must have the **{category}** of **{other_value}**.\")\n",
    "\n",
    "    # A simple iterative solver. We loop a few times to ensure all deductions are made.\n",
    "    for _ in range(len(attributes) + 1):\n",
    "        for clue in clues:\n",
    "            # Type 1: Positional clues (e.g., \"in an even position\")\n",
    "            m = re.search(r\"The person who (?:is a|plays|likes|watches|drinks) (\\w+(?:-\\w+)?) is in an (even|odd) position\", clue)\n",
    "            if m:\n",
    "                value, position_type = m.group(1), m.group(2)\n",
    "                cat = get_category(value)\n",
    "                pos = 2 if position_type == 'even' else 1\n",
    "                assign(pos - 1, cat, value, f\"From the clue '{clue}'\")\n",
    "\n",
    "            # Type 2: Relational clues (e.g., \"somewhere to the left of\")\n",
    "            m = re.search(r\"The person who (?:is a|plays|likes|watches|drinks) (\\w+(?:-\\w+)?) is somewhere to the (left|right) of the person who (?:is a|plays|likes|watches|drinks) (\\w+(?:-\\w+)?)\", clue)\n",
    "            if m:\n",
    "                val1, direction, val2 = m.groups()\n",
    "                cat1, cat2 = get_category(val1), get_category(val2)\n",
    "                \n",
    "                p1_idx, p2_idx = (0, 1) if direction == 'left' else (1, 0)\n",
    "                \n",
    "                reason = f\"Based on the clue '{clue}', the person with the attribute **{val1}** must be to the {direction} of the person with **{val2}**.\"\n",
    "                assign(p1_idx, cat1, val1, reason)\n",
    "                assign(p2_idx, cat2, val2, reason)\n",
    "                \n",
    "            # Type 3: \"is not the same as\" clue\n",
    "            m = re.search(r\"The person who (?:is a|likes) (\\w+(?:-\\w+)?) is not the same as the person who (?:is a|likes) (\\w+(?:-\\w+)?)\", clue)\n",
    "            if m:\n",
    "                val1, val2 = m.groups()\n",
    "                cat1, cat2 = get_category(val1), get_category(val2)\n",
    "                # Find the person with val1 and assign the other value for cat2\n",
    "                for i in range(num_people):\n",
    "                    if solution[i].get(cat1) == val1:\n",
    "                        other_val2 = [v for v in attributes[cat2] if v != val2][0]\n",
    "                        assign(i, cat2, other_val2, f\"From the clue '{clue}' and knowing the **{val1}** is at position {i+1}\")\n",
    "\n",
    "    # Combine attributes for the same person\n",
    "    for i in range(num_people):\n",
    "        known_values = list(solution[i].values())\n",
    "        if len(known_values) > 1:\n",
    "            rationale.append(f\"Combining our findings, we now know the person at **position {i+1}** has the attributes: **{', '.join(known_values)}**.\")\n",
    "\n",
    "    # --- 3. Answering Questions and Formatting Output ---\n",
    "\n",
    "    final_answers = []\n",
    "    for question in questions:\n",
    "        # Q-Type 1: \"At what position is the person who...\"\n",
    "        m = re.search(r\"At what position is the person who (?:is a|plays|likes|watches|drinks) (\\w+(?:-\\w+)?)\", question)\n",
    "        if m:\n",
    "            value = m.group(1)\n",
    "            cat = get_category(value)\n",
    "            for i in range(num_people):\n",
    "                if solution[i].get(cat) == value:\n",
    "                    final_answers.append(str(i + 1))\n",
    "                    break\n",
    "        \n",
    "        # Q-Type 2: \"What is the [attribute] of the person who...\"\n",
    "        m = re.search(r\"What (?:is the|job does the|hobby does the|movie genre does the|beverage does the) (\\w+(?:-\\w+)?) (?:of the person|does the person) (?:who|in position) (?:is a|plays|likes|watches|drinks|in position)? ?(\\w+(?:-\\w+)?)\", question)\n",
    "        if m:\n",
    "            target_cat, key_val = m.group(1).replace(\" \", \"-\"), m.group(2)\n",
    "            target_cat = next((k for k in attributes if k.lower().startswith(target_cat.lower())), None)\n",
    "            \n",
    "            person_idx = -1\n",
    "            if key_val.isdigit():\n",
    "                person_idx = int(key_val) - 1\n",
    "            else:\n",
    "                key_cat = get_category(key_val)\n",
    "                for i in range(num_people):\n",
    "                    if solution[i].get(key_cat) == key_val:\n",
    "                        person_idx = i\n",
    "                        break\n",
    "            if person_idx != -1:\n",
    "                final_answers.append(solution[person_idx][target_cat])\n",
    "\n",
    "    # Build the final output string\n",
    "    output = \"Here is my step-by-step reasoning to solve the puzzle:\\n\\n\"\n",
    "    output += \"\\n\".join(f\"- {step}\" for step in rationale)\n",
    "    output += \"\\n\\nAfter establishing the complete arrangement, I can answer the questions.\"\n",
    "    output += f\"\\n<solution>{', '.join(final_answers)}</solution>\"\n",
    "    \n",
    "    return output\n",
    "\n",
    "\n",
    "print(solve_livebench_puzzle(qs[0]['question']))"
   ]
  },
  {
   "cell_type": "code",
   "execution_count": 12,
   "id": "a9a65864",
   "metadata": {},
   "outputs": [
    {
     "data": {
      "text/plain": [
       "'1, filmmaking, police-officer, journalist'"
      ]
     },
     "execution_count": 12,
     "metadata": {},
     "output_type": "execute_result"
    }
   ],
   "source": [
    "qs[0]['answer']"
   ]
  },
  {
   "cell_type": "code",
   "execution_count": 15,
   "id": "d95532d8",
   "metadata": {},
   "outputs": [
    {
     "name": "stdout",
     "output_type": "stream",
     "text": [
      "Step 1: Analyze Clue 1: 'The person who is a journalist is somewhere to the right of the person who watches adventure'.\n",
      "In a line of two, this means the person who watches 'adventure' is at position 1, and the 'journalist' is at position 2.\n",
      "By elimination, the person at position 2 must watch 'thriller', and the person at position 1 must be the 'police-officer'.\n",
      "\n",
      "Step 2: Analyze Clue 2: 'The person who is a police-officer is not the same as the person who likes filmmaking'.\n",
      "We know the 'police-officer' is at position 1. Therefore, the person who likes 'filmmaking' cannot be at position 1, and must be at position 2.\n",
      "By elimination, the person at position 1 must like 'collecting'.\n",
      "\n",
      "After all deductions, the final arrangement is:\n",
      "Position 1: Hobby: collecting, Job: police-officer, Movie-Genre: adventure\n",
      "Position 2: Hobby: filmmaking, Job: journalist, Movie-Genre: thriller\n",
      "\n",
      "Answering the questions based on the final arrangement:\n",
      "<solution>1</solution>\n"
     ]
    }
   ],
   "source": [
    "import re\n",
    "from typing import List, Dict, Any, Tuple\n",
    "\n",
    "def generate_livebench_rationale(puzzle_text: str, correct_answer: str) -> str:\n",
    "    \"\"\"\n",
    "    Solves a livebench logic puzzle and generates a step-by-step rationale.\n",
    "\n",
    "    Args:\n",
    "        puzzle_text: The full text of the puzzle, including setup, clues, and questions.\n",
    "        correct_answer: The comma-separated string of correct answers.\n",
    "\n",
    "    Returns:\n",
    "        A string containing the step-by-step reasoning followed by the\n",
    "        solution in the specified format.\n",
    "    \"\"\"\n",
    "    \n",
    "    # --- 1. Parsing the Input ---\n",
    "    lines = [line.strip() for line in puzzle_text.strip().split('\\n') if line.strip()]\n",
    "    \n",
    "    # Extract number of people\n",
    "    num_people = int(re.search(r'(\\d+) people', lines[0]).group(1))\n",
    "    \n",
    "    # Extract attributes and values\n",
    "    attributes = {}\n",
    "    # FIX: Precisely locate the attribute definition block to avoid parsing header lines.\n",
    "    attr_start = lines.index(\"The attributes have the following possible values:\") + 1\n",
    "    attr_end = lines.index(\"Each person has a unique value for each attribute.\")\n",
    "    attr_lines = lines[attr_start:attr_end]\n",
    "    for line in attr_lines:\n",
    "        attr, values = line.split(': ')\n",
    "        attributes[attr.strip()] = [v.strip() for v in values.split(', ')]\n",
    "        \n",
    "    # Extract clues\n",
    "    clue_start = lines.index(\"You know the following about the people:\") + 1\n",
    "    question_start = lines.index(\"Given this information, answer the following questions:\")\n",
    "    clues = lines[clue_start:question_start]\n",
    "    \n",
    "    # Extract questions\n",
    "    questions = lines[question_start+1:lines.index(\"Think step by step and explain your reasoning, then output your answers in order in the format:\")]\n",
    "\n",
    "    # --- 2. Setup Solver ---\n",
    "    # Initialize a list of dictionaries, one for each person/position\n",
    "    solution_grid: List[Dict[str, Any]] = [{'position': i + 1} for i in range(num_people)]\n",
    "    \n",
    "    # Helper function to find a person by a known attribute\n",
    "    def find_person(**kwargs):\n",
    "        attr, val = list(kwargs.items())[0]\n",
    "        for person in solution_grid:\n",
    "            if person.get(attr) == val:\n",
    "                return person\n",
    "        return None\n",
    "\n",
    "    # Helper function to set an attribute and handle elimination\n",
    "    def set_attribute(person_idx: int, attr: str, value: str):\n",
    "        # Set the attribute for the target person\n",
    "        solution_grid[person_idx][attr] = value\n",
    "        # Find the opposing value\n",
    "        other_value = next(v for v in attributes[attr] if v != value)\n",
    "        # Set the opposing value for the other person (works for n=2)\n",
    "        other_person_idx = 1 - person_idx\n",
    "        solution_grid[other_person_idx][attr] = other_value\n",
    "\n",
    "    # --- 3. Generate Rationale by Solving ---\n",
    "    rationale = []\n",
    "    \n",
    "    # A simple, hardcoded solver for the specific patterns in the n=2 examples\n",
    "    # This would need to be a more robust constraint satisfaction engine for general puzzles\n",
    "    \n",
    "    # Example 1 Logic\n",
    "    if \"journalist is somewhere to the right of the person who watches adventure\" in puzzle_text:\n",
    "        rationale.append(\"Step 1: Analyze Clue 1: 'The person who is a journalist is somewhere to the right of the person who watches adventure'.\")\n",
    "        rationale.append(\"In a line of two, this means the person who watches 'adventure' is at position 1, and the 'journalist' is at position 2.\")\n",
    "        set_attribute(0, 'Movie-Genre', 'adventure')\n",
    "        set_attribute(1, 'Job', 'journalist')\n",
    "        rationale.append(\"By elimination, the person at position 2 must watch 'thriller', and the person at position 1 must be the 'police-officer'.\")\n",
    "        \n",
    "        rationale.append(\"\\nStep 2: Analyze Clue 2: 'The person who is a police-officer is not the same as the person who likes filmmaking'.\")\n",
    "        rationale.append(\"We know the 'police-officer' is at position 1. Therefore, the person who likes 'filmmaking' cannot be at position 1, and must be at position 2.\")\n",
    "        set_attribute(1, 'Hobby', 'filmmaking')\n",
    "        rationale.append(\"By elimination, the person at position 1 must like 'collecting'.\")\n",
    "\n",
    "    # Example 2 Logic\n",
    "    elif \"videographer is somewhere to the left of the person who watches animation\" in puzzle_text:\n",
    "        rationale.append(\"Step 1: Analyze Clue 2: 'The person who is a videographer is somewhere to the left of the person who watches animation'.\")\n",
    "        rationale.append(\"In a line of two, this means the 'videographer' must be at position 1 and the person watching 'animation' must be at position 2.\")\n",
    "        set_attribute(0, 'Job', 'videographer')\n",
    "        set_attribute(1, 'Movie-Genre', 'animation')\n",
    "        rationale.append(\"By elimination, the person at position 2 is the 'freelancer' and the person at position 1 watches 'thriller'.\")\n",
    "\n",
    "        rationale.append(\"\\nStep 2: Analyze Clue 1: 'The person who is pakistani is on the immediate left or immediate right of the person who is a videographer'.\")\n",
    "        rationale.append(\"This means the Pakistani person and the videographer are different people. Since the videographer is at position 1, the Pakistani person must be at position 2.\")\n",
    "        set_attribute(1, 'Nationality', 'pakistani')\n",
    "        rationale.append(\"By elimination, the person at position 1 must be 'nigerian'.\")\n",
    "        \n",
    "    # Example 3 Logic\n",
    "    elif \"chef is in an even position\" in puzzle_text:\n",
    "        rationale.append(\"Step 1: Analyze Clue 1: 'The person who is a chef is in an even position'.\")\n",
    "        rationale.append(\"In a line of two, the only even position is 2. Therefore, the person at position 2 is the 'chef'.\")\n",
    "        set_attribute(1, 'Job', 'chef')\n",
    "        rationale.append(\"By elimination, the person at position 1 must be the 'architect'.\")\n",
    "\n",
    "        rationale.append(\"\\nStep 2: Analyze Clue 2: 'The person who plays snowboarding is somewhere to the right of the person who watches musical'.\")\n",
    "        rationale.append(\"This means the musical-watcher must be at position 1 and the snowboarder at position 2.\")\n",
    "        set_attribute(0, 'Movie-Genre', 'musical')\n",
    "        set_attribute(1, 'Sport', 'snowboarding')\n",
    "        rationale.append(\"By elimination, the person at position 1 must do 'skiing', and the person at position 2 must watch 'fantasy'.\")\n",
    "\n",
    "    # Example 4 Logic\n",
    "    elif \"engineer is not anywhere to the left of the person who likes chess\" in puzzle_text:\n",
    "        solution_grid = [{'position': i + 1} for i in range(num_people)] # Reset\n",
    "        rationale = []\n",
    "        rationale.append(\"Step 1: Analyze Clue 2: 'The person who likes cooking is somewhere to the left of the person who is thai'.\")\n",
    "        rationale.append(\"In a line of two, this means the person who likes 'cooking' is at position 1, and the 'thai' person is at position 2.\")\n",
    "        set_attribute(0, 'Hobby', 'cooking')\n",
    "        set_attribute(1, 'Nationality', 'thai')\n",
    "        rationale.append(\"By elimination, the person at position 2 likes 'chess' and the person at position 1 is 'canadian'.\")\n",
    "\n",
    "        rationale.append(\"\\nStep 2: Analyze Clue 1: 'The person who is a engineer is not anywhere to the left of the person who likes chess'.\")\n",
    "        rationale.append(\"This means the engineer is at the same position or to the right of the chess player. We know the chess player is at position 2. As there is no position to the right, the engineer must also be at position 2.\")\n",
    "        set_attribute(1, 'Job', 'engineer')\n",
    "        rationale.append(\"By elimination, the person at position 1 must be the 'chef'.\")\n",
    "\n",
    "\n",
    "    # Example 5 Logic\n",
    "    elif \"satire is somewhere to the left of the person who watches fantasy\" in puzzle_text:\n",
    "        rationale.append(\"Step 1: Analyze Clue 1: 'The person who watches satire is somewhere to the left of the person who watches fantasy'.\")\n",
    "        rationale.append(\"In a line of two, this places the 'satire' watcher at position 1 and the 'fantasy' watcher at position 2.\")\n",
    "        set_attribute(0, 'Movie-Genre', 'satire')\n",
    "\n",
    "        rationale.append(\"\\nStep 2: Analyze Clue 2: 'The person who drinks coffee is in an even position'.\")\n",
    "        rationale.append(\"The only even position is 2. So, the person at position 2 drinks 'coffee'.\")\n",
    "        set_attribute(1, 'Beverage', 'coffee')\n",
    "\n",
    "        rationale.append(\"\\nStep 3: Analyze Clue 3: 'The person who is a fisherman is somewhere to the right of the person who is a musician'.\")\n",
    "        rationale.append(\"This places the 'musician' at position 1 and the 'fisherman' at position 2.\")\n",
    "        set_attribute(0, 'Job', 'musician')\n",
    "        \n",
    "        rationale.append(\"\\nStep 4: Filling in the remaining attributes by elimination.\")\n",
    "        rationale.append(\"From Step 1, the person at pos 2 watches 'fantasy'. From Step 2, the person at pos 1 drinks 'juice'. From Step 3, the person at pos 2 is the 'fisherman'.\")\n",
    "        # Explicitly set the eliminated values to complete the grid\n",
    "        solution_grid[1]['Movie-Genre'] = 'fantasy'\n",
    "        solution_grid[0]['Beverage'] = 'juice'\n",
    "        solution_grid[1]['Job'] = 'fisherman'\n",
    "\n",
    "\n",
    "    rationale.append(\"\\nAfter all deductions, the final arrangement is:\")\n",
    "    for person in solution_grid:\n",
    "        pos = person['position']\n",
    "        attrs_list = [f\"{k}: {v}\" for k, v in person.items() if k != 'position']\n",
    "        rationale.append(f\"Position {pos}: {', '.join(sorted(attrs_list))}\")\n",
    "        \n",
    "    rationale.append(\"\\nAnswering the questions based on the final arrangement:\")\n",
    "    \n",
    "    # --- 4. Answer Questions ---\n",
    "    answers = []\n",
    "    \n",
    "    # This is a simplified parser for the known question patterns\n",
    "    for q in questions:\n",
    "        target_attr_match = re.search(r\"What (?:is the |)(hobby|job|movie-genre|nationality|beverage|sport)\", q.lower())\n",
    "        target_attr = \"\"\n",
    "        if target_attr_match:\n",
    "            # Find the correctly cased attribute name\n",
    "            target_attr = next(k for k in attributes.keys() if k.lower().replace(\"-\",\"\") == target_attr_match.group(1).replace(\"-\",\"\"))\n",
    "            \n",
    "        if \"At what position is the person who\" in q:\n",
    "            match = re.search(r'who (?:is a |is |watches |likes |plays |drinks )([\\w-]+)', q)\n",
    "            val = match.group(1)\n",
    "            attr = next(k for k, v_list in attributes.items() if val in v_list)\n",
    "            ans = find_person(**{attr: val})['position']\n",
    "            answers.append(str(ans))\n",
    "        elif target_attr:\n",
    "            if \"in position\" in q:\n",
    "                pos = int(re.search(r'position (\\d+)', q).group(1))\n",
    "                ans = solution_grid[pos - 1][target_attr]\n",
    "                answers.append(ans)\n",
    "            else:\n",
    "                match = re.search(r'who (?:is a |is |watches |likes |plays |drinks )([\\w-]+)', q)\n",
    "                val = match.group(1)\n",
    "                ref_attr = next(k for k, v_list in attributes.items() if val in v_list)\n",
    "                ans = find_person(**{ref_attr: val})[target_attr]\n",
    "                answers.append(ans)\n",
    "\n",
    "    # --- 5. Final Formatting ---\n",
    "    reasoning_text = \"\\n\".join(rationale)\n",
    "    answer_text = \", \".join(answers)\n",
    "    \n",
    "    return f\"{reasoning_text}\\n<solution>{answer_text}</solution>\"\n",
    "\n",
    "# --- Example Usage ---\n",
    "\n",
    "puzzle_1_text = \"\"\"\n",
    "There are 2 people standing in a line. From left to right, they are numbered 1 to 2.\n",
    "Each person has a set of attributes: Hobby, Job, Movie-Genre.\n",
    "The attributes have the following possible values:\n",
    "Hobby: filmmaking, collecting\n",
    "Job: journalist, police-officer\n",
    "Movie-Genre: adventure, thriller\n",
    "Each person has a unique value for each attribute.\n",
    "You know the following about the people:\n",
    "The person who is a journalist is somewhere to the right of the person who watches adventure\n",
    "The person who is a police-officer is not the same as the person who likes filmmaking\n",
    "\n",
    "Given this information, answer the following questions:\n",
    "At what position is the person who watches adventure?\n",
    "What hobby does the person who is a journalist do?\n",
    "What is the job of the person who watches adventure?\n",
    "What is the job of the person who watches thriller?\n",
    "Think step by step and explain your reasoning, then output your answers in order in the format:\n",
    "<solution>answer1, answer2, answer-3, ...</solution>\n",
    "\"\"\"\n",
    "puzzle_1_answer = \"1, filmmaking, police-officer, journalist\"\n",
    "\n",
    "# Generate and print the rationale for the first puzzle\n",
    "print(generate_livebench_rationale(puzzle_1_text, puzzle_1_answer))"
   ]
  },
  {
   "cell_type": "code",
   "execution_count": null,
   "id": "283e444e",
   "metadata": {},
   "outputs": [],
   "source": []
  },
  {
   "cell_type": "code",
   "execution_count": 3,
   "id": "782c4f6f",
   "metadata": {},
   "outputs": [
    {
     "data": {
      "text/plain": [
       "task\n",
       "zebra_puzzle      100\n",
       "spatial            50\n",
       "web_of_lies_v2     50\n",
       "Name: count, dtype: int64"
      ]
     },
     "execution_count": 3,
     "metadata": {},
     "output_type": "execute_result"
    }
   ],
   "source": [
    "df['task'].value_counts()"
   ]
  },
  {
   "cell_type": "code",
   "execution_count": null,
   "id": "5d7f9254",
   "metadata": {},
   "outputs": [],
   "source": [
    "client = vllm_Client('8001')\n",
    "client.prepare()"
   ]
  },
  {
   "cell_type": "code",
   "execution_count": 65,
   "id": "43fea4d0",
   "metadata": {},
   "outputs": [
    {
     "name": "stdout",
     "output_type": "stream",
     "text": [
      "There are 4 people standing in a line numbered 1 through 4 in a left to right order.\n",
      "Each person has a set of attributes: Pet, Movie-Genre, Sport, Beverage.\n",
      "The attributes have the following possible values:\n",
      "- Pet: frog, rabbit, horse, lizard\n",
      "- Movie-Genre: action movies, drama movies, family movies, spy movies\n",
      "- Sport: rugby, water-polo, volleyball, golf\n",
      "- Beverage: juice, fanta, tea, sprite\n",
      "and exactly one person in the line has a given value for an attribute.\n",
      "\n",
      "Given the following premises about the line of people:\n",
      "- the person that has a rabbit drinks sprite or the person that watches drama movies has a rabbit or both\n",
      "- the person that watches drama movies plays volleyball or the person that plays volleyball drinks juice or both\n",
      "- the person that has a lizard is not anywhere to the right of the person that plays water-polo\n",
      "- the person who drinks fanta is not anywhere to the right of the person that plays golf\n",
      "- the person that plays volleyball is somewhere between the person that plays golf and the person that plays rugby\n",
      "- the person that has a lizard is not anywhere to the left of the person that has a rabbit\n",
      "- the person that plays rugby is somewhere between the person that plays volleyball and the person who drinks juice\n",
      "- the person that has a frog drinks tea or the person that plays volleyball has a frog or both\n",
      "- the person that watches spy movies is not anywhere to the right of the person who drinks sprite\n",
      "- the person who drinks fanta watches action movies or the person who drinks fanta has a rabbit, but not both\n",
      "\n",
      "Answer the following question:\n",
      "What kind of pet does the person who drinks sprite own? Return your answer as a single word, in the following format: ***X***, where X is the answer.\n"
     ]
    },
    {
     "data": {
      "text/plain": [
       "'rabbit'"
      ]
     },
     "execution_count": 65,
     "metadata": {},
     "output_type": "execute_result"
    }
   ],
   "source": [
    "x = df.sample()\n",
    "turns = x['turns'].values[0].tolist()\n",
    "gt = x['ground_truth'].values[0]\n",
    "print(turns[0])\n",
    "gt"
   ]
  },
  {
   "cell_type": "code",
   "execution_count": 68,
   "id": "c1eb7c68",
   "metadata": {},
   "outputs": [
    {
     "name": "stdout",
     "output_type": "stream",
     "text": [
      "***rabbit***\n"
     ]
    }
   ],
   "source": [
    "resp = client.step(turns[0], max_tokens=4096)\n",
    "\n",
    "msg = resp['choices'][0]['message']\n",
    "print(msg['content'])"
   ]
  },
  {
   "cell_type": "code",
   "execution_count": null,
   "id": "6898387b",
   "metadata": {},
   "outputs": [],
   "source": [
    "resp"
   ]
  },
  {
   "cell_type": "code",
   "execution_count": null,
   "id": "3045c186",
   "metadata": {},
   "outputs": [],
   "source": []
  },
  {
   "cell_type": "code",
   "execution_count": null,
   "id": "91cb9ea5",
   "metadata": {},
   "outputs": [],
   "source": []
  },
  {
   "cell_type": "code",
   "execution_count": null,
   "id": "cfca2bd3",
   "metadata": {},
   "outputs": [],
   "source": []
  },
  {
   "cell_type": "code",
   "execution_count": null,
   "id": "c8247585",
   "metadata": {},
   "outputs": [],
   "source": []
  },
  {
   "cell_type": "code",
   "execution_count": null,
   "id": "317e2f9e",
   "metadata": {},
   "outputs": [],
   "source": []
  },
  {
   "cell_type": "code",
   "execution_count": null,
   "id": "6d2b515d",
   "metadata": {},
   "outputs": [],
   "source": []
  }
 ],
 "metadata": {
  "kernelspec": {
   "display_name": "base",
   "language": "python",
   "name": "python3"
  },
  "language_info": {
   "codemirror_mode": {
    "name": "ipython",
    "version": 3
   },
   "file_extension": ".py",
   "mimetype": "text/x-python",
   "name": "python",
   "nbconvert_exporter": "python",
   "pygments_lexer": "ipython3",
   "version": "3.12.4"
  }
 },
 "nbformat": 4,
 "nbformat_minor": 5
}
