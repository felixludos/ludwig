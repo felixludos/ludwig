{
 "cells": [
  {
   "cell_type": "code",
   "execution_count": 74,
   "id": "initial_id",
   "metadata": {
    "collapsed": true
   },
   "outputs": [],
   "source": [
    "import os\n",
    "from pprint import pprint\n",
    "if '_fixed' not in locals():\n",
    "    _fixed = os.chdir(os.path.dirname(os.getcwd()))\n",
    "import requests\n",
    "from tqdm.notebook import tqdm\n",
    "import re\n",
    "import chess.pgn\n",
    "import pandas as pd\n",
    "import json\n",
    "from ludwig import repo_root\n"
   ]
  },
  {
   "cell_type": "code",
   "execution_count": 30,
   "id": "64f6fe225d5c77de",
   "metadata": {},
   "outputs": [],
   "source": [
    "\n",
    "def get_lichess_game_pgn(game_id: str) -> str | None:\n",
    "\t\"\"\"\n",
    "\tFetches the PGN of a Lichess game from its URL.\n",
    "\n",
    "\tArgs:\n",
    "\t\tgame_url: The full URL of the Lichess game.\n",
    "\n",
    "\tReturns:\n",
    "\t\tThe PGN string if successful, otherwise None.\n",
    "\t\"\"\"\n",
    "\t# Extract the game ID from the URL (the 8 characters after the domain)\n",
    "\t# match = re.search(r'lichess\\.org/([a-zA-Z0-9]{8})', game_url)\n",
    "\t# if not match:\n",
    "\t# \tprint(\"Error: Invalid Lichess game URL format.\")\n",
    "\t# \treturn None\n",
    "\n",
    "\t# game_id = match.group(1)\n",
    "\n",
    "\t# Construct the API URL for PGN export\n",
    "\tapi_url = f\"https://lichess.org/game/export/{game_id}\"\n",
    "\n",
    "\t# Set headers to request PGN format\n",
    "\theaders = {\"Accept\": \"application/x-pgn\"}\n",
    "\theaders = {\"Accept\": \"application/json\"}\n",
    "\t# params = {'pgnInJson': True}\n",
    "\t# print(api_url)\n",
    "\ttry:\n",
    "\t\tresponse = requests.get(api_url, headers=headers,)# params=params)\n",
    "\t\tresponse.raise_for_status()  # Raise an exception for bad status codes (4xx or 5xx)\n",
    "\t\treturn response\n",
    "\texcept requests.exceptions.RequestException as e:\n",
    "\t\tprint(f\"Error fetching game data: {e}\")\n",
    "\t\t# return None\n",
    "\t\traise e\n",
    "\t\t\n"
   ]
  },
  {
   "cell_type": "code",
   "execution_count": null,
   "id": "4aee4c787bb8ecff",
   "metadata": {},
   "outputs": [],
   "source": []
  },
  {
   "cell_type": "code",
   "execution_count": 9,
   "id": "5b1d8977e8a98a1e",
   "metadata": {},
   "outputs": [
    {
     "name": "stdout",
     "output_type": "stream",
     "text": [
      "https://lichess.org/game/export/gyFeQsOE\n",
      "{\"id\":\"gyFeQsOE\",\"rated\":true,\"variant\":\"standard\",\"speed\":\"rapid\",\"perf\":\"rapid\",\"createdAt\":1494612876704,\"lastMoveAt\":1494613610086,\"status\":\"draw\",\"source\":\"lobby\",\"players\":{\"white\":{\"user\":{\"name\":\"psogden2\",\"id\":\"psogden2\"},\"rating\":1871,\"ratingDiff\":-6,\"analysis\":{\"inaccuracy\":3,\"mistake\":3,\"blunder\":3,\"acpl\":77}},\"black\":{\"user\":{\"name\":\"AlexandrC\",\"id\":\"alexandrc\"},\"rating\":1661,\"ratingDiff\":21,\"provisional\":true,\"analysis\":{\"inaccuracy\":4,\"mistake\":1,\"blunder\":4,\"acpl\":76}}},\"opening\":{\"eco\":\"C01\",\"name\":\"French Defense: Exchange Variation\",\"ply\":7},\"moves\":\"e4 e6 d4 d5 exd5 exd5 Nf3 Nf6 c4 dxc4 Bxc4 c6 O-O Be7 Re1 O-O Nc3 Bg4 Qd3 b5 Bb3 Nbd7 Ne5 Nxe5 Rxe5 Bd6 Re3 Bxh2+ Kxh2 Qd6+ Kg1 Rfe8 Bc2 Qf4 Rg3 Re1+ Kh2 Qxf2 Be3 Rxe3 Qxe3 Qxc2 Rh1 Qf5 Kg1 Re8 Qd2 Nh5 Re3 Rxe3 Qxe3 g6 Qe8+ Kg7 Qxc6 Ng3 Rh4 Qg5 Rxg4 Qxg4 Qf3 Qg5 Ne4 Nxe4 Qxe4 Qc1+ Kh2 Qh6+ Kg1 Qc1+ Kh2 Qh6+ Kg1 Qc1+\",\"clocks\":[30003,30003,30547,30667,31259,31307,32003,31843,32531,32395,33059,33027,33731,33683,34355,34259,34955,34891,35515,34963,35899,34739,35219,35067,35811,35139,34227,35259,32419,35795,31627,36331,31563,35243,30771,33283,31139,31067,29435,28083,28195,27915,26291,27363,26675,26691,26555,25131,25123,24043,25739,23891,24507,24371,23539,24619,22843,19891,22251,20331,22803,20059,20475,20259,21099,20875,21667,21131,22083,21699,22579,22267,23147,22857,22842],\"analysis\":[{\"eval\":27},{\"eval\":6},{\"eval\":1},{\"eval\":15},{\"eval\":9},{\"eval\":14},{\"eval\":7},{\"eval\":4},{\"eval\":17},{\"eval\":30},{\"eval\":20},{\"eval\":59},{\"eval\":33},{\"eval\":38},{\"eval\":32},{\"eval\":30},{\"eval\":42},{\"eval\":55},{\"eval\":25},{\"eval\":39},{\"eval\":39},{\"eval\":49},{\"eval\":-14,\"best\":\"b3c2\",\"variation\":\"Bc2 g6\",\"judgment\":{\"name\":\"Inaccuracy\",\"comment\":\"Inaccuracy. Bc2 was best.\"}},{\"eval\":0},{\"eval\":0},{\"eval\":7},{\"eval\":-37},{\"eval\":273,\"best\":\"d8d7\",\"variation\":\"Qd7\",\"judgment\":{\"name\":\"Blunder\",\"comment\":\"Blunder. Qd7 was best.\"}},{\"eval\":271},{\"eval\":318},{\"eval\":312},{\"eval\":300},{\"eval\":252},{\"eval\":1505,\"best\":\"g4h5\",\"variation\":\"Bh5 Ne2 Bg6 Qd1 Bh5 f3 Bg6 Bb3 Nd5 Bxd5 Qxd5 Nf4 Qd6 Nxg6\",\"judgment\":{\"name\":\"Blunder\",\"comment\":\"Blunder. Bh5 was best.\"}},{\"eval\":-237,\"best\":\"e3e8\",\"variation\":\"Rxe8+\",\"judgment\":{\"name\":\"Blunder\",\"comment\":\"Blunder. Rxe8+ was best.\"}},{\"eval\":-235},{\"eval\":-235},{\"eval\":225,\"best\":\"e1c1\",\"variation\":\"Rxc1 Rxc1 Qh6+ Kg1 Qxc1+ Nd1 Re8 Qc3 g6 Bb3 Qxc3 Nxc3 b4 Na4\",\"judgment\":{\"name\":\"Blunder\",\"comment\":\"Blunder. Rxc1 was best.\"}},{\"eval\":231},{\"eval\":243},{\"eval\":-12,\"best\":\"g3e3\",\"variation\":\"Rxe3 Bf5 Qxf5 Qxe3 Ne4 Nxe4 Qxe4 Qxe4 Bxe4 Rd8 Rd1 Rd6 Kg3 g6\",\"judgment\":{\"name\":\"Blunder\",\"comment\":\"Blunder. Rxe3 was best.\"}},{\"eval\":-6},{\"eval\":-170,\"best\":\"a1e1\",\"variation\":\"Re1\",\"judgment\":{\"name\":\"Mistake\",\"comment\":\"Mistake. Re1 was best.\"}},{\"eval\":-37,\"best\":\"b5b4\",\"variation\":\"b4 Ne4\",\"judgment\":{\"name\":\"Mistake\",\"comment\":\"Mistake. b4 was best.\"}},{\"eval\":-349,\"best\":\"e3e5\",\"variation\":\"Qe5 b4 Qxf5 Bxf5 Rf1 Ng4+ Kg1 g6 Nd1 Rd8 Ne3 Nxe3 Rxe3 Rxd4\",\"judgment\":{\"name\":\"Blunder\",\"comment\":\"Blunder. Qe5 was best.\"}},{\"eval\":-210,\"best\":\"b5b4\",\"variation\":\"b4\",\"judgment\":{\"name\":\"Inaccuracy\",\"comment\":\"Inaccuracy. b4 was best.\"}},{\"eval\":-422,\"best\":\"e3f2\",\"variation\":\"Qf2 b4\",\"judgment\":{\"name\":\"Mistake\",\"comment\":\"Mistake. Qf2 was best.\"}},{\"eval\":-54,\"best\":\"b5b4\",\"variation\":\"b4\",\"judgment\":{\"name\":\"Blunder\",\"comment\":\"Blunder. b4 was best.\"}},{\"eval\":-75},{\"eval\":-40},{\"eval\":-39},{\"eval\":0},{\"eval\":-39},{\"eval\":-35},{\"eval\":-154,\"best\":\"c3e4\",\"variation\":\"Ne4 Nf4 Nd6 Qf6 Qe5 Qxe5 dxe5 Be6 b3 h5 Kf2 Nd3+ Ke3 Nxe5\",\"judgment\":{\"name\":\"Mistake\",\"comment\":\"Mistake. Ne4 was best.\"}},{\"eval\":-151},{\"eval\":-151},{\"eval\":-139},{\"eval\":-124},{\"eval\":-125},{\"eval\":-236,\"best\":\"c6c5\",\"variation\":\"Qc5 b4\",\"judgment\":{\"name\":\"Inaccuracy\",\"comment\":\"Inaccuracy. Qc5 was best.\"}},{\"eval\":-141,\"best\":\"g4d4\",\"variation\":\"Qxd4+ Qf2\",\"judgment\":{\"name\":\"Inaccuracy\",\"comment\":\"Inaccuracy. Qxd4+ was best.\"}},{\"eval\":-228,\"best\":\"c3e2\",\"variation\":\"Ne2 Nf5\",\"judgment\":{\"name\":\"Inaccuracy\",\"comment\":\"Inaccuracy. Ne2 was best.\"}},{\"eval\":-110,\"best\":\"g5c1\",\"variation\":\"Qc1+ Kf2 Nh1+ Ke2 Qxb2+ Ke3 f5 Nc5 Qa1 Qb7+ Kh6 Qf3 Qe1+ Kf4\",\"judgment\":{\"name\":\"Inaccuracy\",\"comment\":\"Inaccuracy. Qc1+ was best.\"}},{\"eval\":-113},{\"eval\":-87},{\"eval\":-92},{\"eval\":-94},{\"eval\":-114},{\"eval\":-117},{\"eval\":-91},{\"eval\":-60},{\"eval\":-85},{\"eval\":0,\"best\":\"g6g5\",\"variation\":\"g5 d5\",\"judgment\":{\"name\":\"Inaccuracy\",\"comment\":\"Inaccuracy. g5 was best.\"}}],\"clock\":{\"initial\":300,\"increment\":8,\"totalTime\":620},\"division\":{\"middle\":20,\"end\":51}}\n"
     ]
    }
   ],
   "source": [
    "url = \"https://lichess.org/gyFeQsOE\"\n",
    "res = get_lichess_game_pgn(url)\n",
    "print(res.content.decode('utf-8'))\n",
    "# text = res.text\n",
    "# pgn_data = res.json()\n",
    "# pgn_data"
   ]
  },
  {
   "cell_type": "code",
   "execution_count": 10,
   "id": "62398de7e53a794",
   "metadata": {},
   "outputs": [
    {
     "data": {
      "text/plain": [
       "{'id': 'gyFeQsOE',\n",
       " 'rated': True,\n",
       " 'variant': 'standard',\n",
       " 'speed': 'rapid',\n",
       " 'perf': 'rapid',\n",
       " 'createdAt': 1494612876704,\n",
       " 'lastMoveAt': 1494613610086,\n",
       " 'status': 'draw',\n",
       " 'source': 'lobby',\n",
       " 'players': {'white': {'user': {'name': 'psogden2', 'id': 'psogden2'},\n",
       "   'rating': 1871,\n",
       "   'ratingDiff': -6,\n",
       "   'analysis': {'inaccuracy': 3, 'mistake': 3, 'blunder': 3, 'acpl': 77}},\n",
       "  'black': {'user': {'name': 'AlexandrC', 'id': 'alexandrc'},\n",
       "   'rating': 1661,\n",
       "   'ratingDiff': 21,\n",
       "   'provisional': True,\n",
       "   'analysis': {'inaccuracy': 4, 'mistake': 1, 'blunder': 4, 'acpl': 76}}},\n",
       " 'opening': {'eco': 'C01',\n",
       "  'name': 'French Defense: Exchange Variation',\n",
       "  'ply': 7},\n",
       " 'moves': 'e4 e6 d4 d5 exd5 exd5 Nf3 Nf6 c4 dxc4 Bxc4 c6 O-O Be7 Re1 O-O Nc3 Bg4 Qd3 b5 Bb3 Nbd7 Ne5 Nxe5 Rxe5 Bd6 Re3 Bxh2+ Kxh2 Qd6+ Kg1 Rfe8 Bc2 Qf4 Rg3 Re1+ Kh2 Qxf2 Be3 Rxe3 Qxe3 Qxc2 Rh1 Qf5 Kg1 Re8 Qd2 Nh5 Re3 Rxe3 Qxe3 g6 Qe8+ Kg7 Qxc6 Ng3 Rh4 Qg5 Rxg4 Qxg4 Qf3 Qg5 Ne4 Nxe4 Qxe4 Qc1+ Kh2 Qh6+ Kg1 Qc1+ Kh2 Qh6+ Kg1 Qc1+',\n",
       " 'clocks': [30003,\n",
       "  30003,\n",
       "  30547,\n",
       "  30667,\n",
       "  31259,\n",
       "  31307,\n",
       "  32003,\n",
       "  31843,\n",
       "  32531,\n",
       "  32395,\n",
       "  33059,\n",
       "  33027,\n",
       "  33731,\n",
       "  33683,\n",
       "  34355,\n",
       "  34259,\n",
       "  34955,\n",
       "  34891,\n",
       "  35515,\n",
       "  34963,\n",
       "  35899,\n",
       "  34739,\n",
       "  35219,\n",
       "  35067,\n",
       "  35811,\n",
       "  35139,\n",
       "  34227,\n",
       "  35259,\n",
       "  32419,\n",
       "  35795,\n",
       "  31627,\n",
       "  36331,\n",
       "  31563,\n",
       "  35243,\n",
       "  30771,\n",
       "  33283,\n",
       "  31139,\n",
       "  31067,\n",
       "  29435,\n",
       "  28083,\n",
       "  28195,\n",
       "  27915,\n",
       "  26291,\n",
       "  27363,\n",
       "  26675,\n",
       "  26691,\n",
       "  26555,\n",
       "  25131,\n",
       "  25123,\n",
       "  24043,\n",
       "  25739,\n",
       "  23891,\n",
       "  24507,\n",
       "  24371,\n",
       "  23539,\n",
       "  24619,\n",
       "  22843,\n",
       "  19891,\n",
       "  22251,\n",
       "  20331,\n",
       "  22803,\n",
       "  20059,\n",
       "  20475,\n",
       "  20259,\n",
       "  21099,\n",
       "  20875,\n",
       "  21667,\n",
       "  21131,\n",
       "  22083,\n",
       "  21699,\n",
       "  22579,\n",
       "  22267,\n",
       "  23147,\n",
       "  22857,\n",
       "  22842],\n",
       " 'analysis': [{'eval': 27},\n",
       "  {'eval': 6},\n",
       "  {'eval': 1},\n",
       "  {'eval': 15},\n",
       "  {'eval': 9},\n",
       "  {'eval': 14},\n",
       "  {'eval': 7},\n",
       "  {'eval': 4},\n",
       "  {'eval': 17},\n",
       "  {'eval': 30},\n",
       "  {'eval': 20},\n",
       "  {'eval': 59},\n",
       "  {'eval': 33},\n",
       "  {'eval': 38},\n",
       "  {'eval': 32},\n",
       "  {'eval': 30},\n",
       "  {'eval': 42},\n",
       "  {'eval': 55},\n",
       "  {'eval': 25},\n",
       "  {'eval': 39},\n",
       "  {'eval': 39},\n",
       "  {'eval': 49},\n",
       "  {'eval': -14,\n",
       "   'best': 'b3c2',\n",
       "   'variation': 'Bc2 g6',\n",
       "   'judgment': {'name': 'Inaccuracy', 'comment': 'Inaccuracy. Bc2 was best.'}},\n",
       "  {'eval': 0},\n",
       "  {'eval': 0},\n",
       "  {'eval': 7},\n",
       "  {'eval': -37},\n",
       "  {'eval': 273,\n",
       "   'best': 'd8d7',\n",
       "   'variation': 'Qd7',\n",
       "   'judgment': {'name': 'Blunder', 'comment': 'Blunder. Qd7 was best.'}},\n",
       "  {'eval': 271},\n",
       "  {'eval': 318},\n",
       "  {'eval': 312},\n",
       "  {'eval': 300},\n",
       "  {'eval': 252},\n",
       "  {'eval': 1505,\n",
       "   'best': 'g4h5',\n",
       "   'variation': 'Bh5 Ne2 Bg6 Qd1 Bh5 f3 Bg6 Bb3 Nd5 Bxd5 Qxd5 Nf4 Qd6 Nxg6',\n",
       "   'judgment': {'name': 'Blunder', 'comment': 'Blunder. Bh5 was best.'}},\n",
       "  {'eval': -237,\n",
       "   'best': 'e3e8',\n",
       "   'variation': 'Rxe8+',\n",
       "   'judgment': {'name': 'Blunder', 'comment': 'Blunder. Rxe8+ was best.'}},\n",
       "  {'eval': -235},\n",
       "  {'eval': -235},\n",
       "  {'eval': 225,\n",
       "   'best': 'e1c1',\n",
       "   'variation': 'Rxc1 Rxc1 Qh6+ Kg1 Qxc1+ Nd1 Re8 Qc3 g6 Bb3 Qxc3 Nxc3 b4 Na4',\n",
       "   'judgment': {'name': 'Blunder', 'comment': 'Blunder. Rxc1 was best.'}},\n",
       "  {'eval': 231},\n",
       "  {'eval': 243},\n",
       "  {'eval': -12,\n",
       "   'best': 'g3e3',\n",
       "   'variation': 'Rxe3 Bf5 Qxf5 Qxe3 Ne4 Nxe4 Qxe4 Qxe4 Bxe4 Rd8 Rd1 Rd6 Kg3 g6',\n",
       "   'judgment': {'name': 'Blunder', 'comment': 'Blunder. Rxe3 was best.'}},\n",
       "  {'eval': -6},\n",
       "  {'eval': -170,\n",
       "   'best': 'a1e1',\n",
       "   'variation': 'Re1',\n",
       "   'judgment': {'name': 'Mistake', 'comment': 'Mistake. Re1 was best.'}},\n",
       "  {'eval': -37,\n",
       "   'best': 'b5b4',\n",
       "   'variation': 'b4 Ne4',\n",
       "   'judgment': {'name': 'Mistake', 'comment': 'Mistake. b4 was best.'}},\n",
       "  {'eval': -349,\n",
       "   'best': 'e3e5',\n",
       "   'variation': 'Qe5 b4 Qxf5 Bxf5 Rf1 Ng4+ Kg1 g6 Nd1 Rd8 Ne3 Nxe3 Rxe3 Rxd4',\n",
       "   'judgment': {'name': 'Blunder', 'comment': 'Blunder. Qe5 was best.'}},\n",
       "  {'eval': -210,\n",
       "   'best': 'b5b4',\n",
       "   'variation': 'b4',\n",
       "   'judgment': {'name': 'Inaccuracy', 'comment': 'Inaccuracy. b4 was best.'}},\n",
       "  {'eval': -422,\n",
       "   'best': 'e3f2',\n",
       "   'variation': 'Qf2 b4',\n",
       "   'judgment': {'name': 'Mistake', 'comment': 'Mistake. Qf2 was best.'}},\n",
       "  {'eval': -54,\n",
       "   'best': 'b5b4',\n",
       "   'variation': 'b4',\n",
       "   'judgment': {'name': 'Blunder', 'comment': 'Blunder. b4 was best.'}},\n",
       "  {'eval': -75},\n",
       "  {'eval': -40},\n",
       "  {'eval': -39},\n",
       "  {'eval': 0},\n",
       "  {'eval': -39},\n",
       "  {'eval': -35},\n",
       "  {'eval': -154,\n",
       "   'best': 'c3e4',\n",
       "   'variation': 'Ne4 Nf4 Nd6 Qf6 Qe5 Qxe5 dxe5 Be6 b3 h5 Kf2 Nd3+ Ke3 Nxe5',\n",
       "   'judgment': {'name': 'Mistake', 'comment': 'Mistake. Ne4 was best.'}},\n",
       "  {'eval': -151},\n",
       "  {'eval': -151},\n",
       "  {'eval': -139},\n",
       "  {'eval': -124},\n",
       "  {'eval': -125},\n",
       "  {'eval': -236,\n",
       "   'best': 'c6c5',\n",
       "   'variation': 'Qc5 b4',\n",
       "   'judgment': {'name': 'Inaccuracy', 'comment': 'Inaccuracy. Qc5 was best.'}},\n",
       "  {'eval': -141,\n",
       "   'best': 'g4d4',\n",
       "   'variation': 'Qxd4+ Qf2',\n",
       "   'judgment': {'name': 'Inaccuracy',\n",
       "    'comment': 'Inaccuracy. Qxd4+ was best.'}},\n",
       "  {'eval': -228,\n",
       "   'best': 'c3e2',\n",
       "   'variation': 'Ne2 Nf5',\n",
       "   'judgment': {'name': 'Inaccuracy', 'comment': 'Inaccuracy. Ne2 was best.'}},\n",
       "  {'eval': -110,\n",
       "   'best': 'g5c1',\n",
       "   'variation': 'Qc1+ Kf2 Nh1+ Ke2 Qxb2+ Ke3 f5 Nc5 Qa1 Qb7+ Kh6 Qf3 Qe1+ Kf4',\n",
       "   'judgment': {'name': 'Inaccuracy',\n",
       "    'comment': 'Inaccuracy. Qc1+ was best.'}},\n",
       "  {'eval': -113},\n",
       "  {'eval': -87},\n",
       "  {'eval': -92},\n",
       "  {'eval': -94},\n",
       "  {'eval': -114},\n",
       "  {'eval': -117},\n",
       "  {'eval': -91},\n",
       "  {'eval': -60},\n",
       "  {'eval': -85},\n",
       "  {'eval': 0,\n",
       "   'best': 'g6g5',\n",
       "   'variation': 'g5 d5',\n",
       "   'judgment': {'name': 'Inaccuracy', 'comment': 'Inaccuracy. g5 was best.'}}],\n",
       " 'clock': {'initial': 300, 'increment': 8, 'totalTime': 620},\n",
       " 'division': {'middle': 20, 'end': 51}}"
      ]
     },
     "execution_count": 10,
     "metadata": {},
     "output_type": "execute_result"
    }
   ],
   "source": [
    "pgn_data = res.json()\n",
    "pgn_data"
   ]
  },
  {
   "cell_type": "code",
   "execution_count": 16,
   "id": "3d5ddf9c",
   "metadata": {},
   "outputs": [
    {
     "data": {
      "text/html": [
       "<div>\n",
       "<style scoped>\n",
       "    .dataframe tbody tr th:only-of-type {\n",
       "        vertical-align: middle;\n",
       "    }\n",
       "\n",
       "    .dataframe tbody tr th {\n",
       "        vertical-align: top;\n",
       "    }\n",
       "\n",
       "    .dataframe thead th {\n",
       "        text-align: right;\n",
       "    }\n",
       "</style>\n",
       "<table border=\"1\" class=\"dataframe\">\n",
       "  <thead>\n",
       "    <tr style=\"text-align: right;\">\n",
       "      <th></th>\n",
       "      <th>PuzzleId</th>\n",
       "      <th>FEN</th>\n",
       "      <th>Moves</th>\n",
       "      <th>Rating</th>\n",
       "      <th>RatingDeviation</th>\n",
       "      <th>Popularity</th>\n",
       "      <th>NbPlays</th>\n",
       "      <th>Themes</th>\n",
       "      <th>GameUrl</th>\n",
       "      <th>OpeningTags</th>\n",
       "      <th>SortKey</th>\n",
       "    </tr>\n",
       "  </thead>\n",
       "  <tbody>\n",
       "    <tr>\n",
       "      <th>0</th>\n",
       "      <td>tewjc</td>\n",
       "      <td>r5k1/pp3p1p/2b2qp1/3pr3/8/4P2P/R1PN1PP1/Q3K2R ...</td>\n",
       "      <td>a2a7 e5e3 f2e3 f6a1 a7a1 a8a1</td>\n",
       "      <td>1493</td>\n",
       "      <td>76</td>\n",
       "      <td>94</td>\n",
       "      <td>18768</td>\n",
       "      <td>crushing discoveredAttack long middlegame xRay...</td>\n",
       "      <td>https://lichess.org/SLbfzQtP#36</td>\n",
       "      <td>Polish_Opening Polish_Opening_Other_variations</td>\n",
       "      <td>1764192</td>\n",
       "    </tr>\n",
       "    <tr>\n",
       "      <th>1</th>\n",
       "      <td>0kDWS</td>\n",
       "      <td>1r6/1PN5/3p4/4kpp1/1R6/P3n3/K1P5/8 b - - 0 49</td>\n",
       "      <td>e3d5 b4b5 b8b7 b5b7</td>\n",
       "      <td>1947</td>\n",
       "      <td>75</td>\n",
       "      <td>95</td>\n",
       "      <td>13691</td>\n",
       "      <td>advantage endgame pin short</td>\n",
       "      <td>https://lichess.org/q2SFqfYD/black#97</td>\n",
       "      <td>NaN</td>\n",
       "      <td>1300645</td>\n",
       "    </tr>\n",
       "    <tr>\n",
       "      <th>2</th>\n",
       "      <td>f2p5F</td>\n",
       "      <td>5r2/p3R2p/4Q1p1/3B2k1/2p2b2/2P2P2/P5P1/1q3K2 w...</td>\n",
       "      <td>e6e1 b1d3 f1f2 d3d5</td>\n",
       "      <td>1385</td>\n",
       "      <td>75</td>\n",
       "      <td>96</td>\n",
       "      <td>16934</td>\n",
       "      <td>advantage endgame fork short</td>\n",
       "      <td>https://lichess.org/BTADpsgd#76</td>\n",
       "      <td>NaN</td>\n",
       "      <td>1625664</td>\n",
       "    </tr>\n",
       "    <tr>\n",
       "      <th>3</th>\n",
       "      <td>LDIfb</td>\n",
       "      <td>rnbqkb1r/pp2pp1p/3p1np1/2p5/4P3/2P2N1P/PP1PBPP...</td>\n",
       "      <td>f6e4 d1a4 b8c6 a4e4</td>\n",
       "      <td>1472</td>\n",
       "      <td>75</td>\n",
       "      <td>95</td>\n",
       "      <td>21527</td>\n",
       "      <td>advantage fork opening short</td>\n",
       "      <td>https://lichess.org/hnuvOm1w/black#9</td>\n",
       "      <td>Sicilian_Defense Sicilian_Defense_Modern_Varia...</td>\n",
       "      <td>2045065</td>\n",
       "    </tr>\n",
       "    <tr>\n",
       "      <th>4</th>\n",
       "      <td>mJDcO</td>\n",
       "      <td>5rk1/p1Q3pp/8/3p4/3q1r2/8/P1P3PP/R4R1K w - - 0 21</td>\n",
       "      <td>f1f4 d4a1 f4f1 a1f1</td>\n",
       "      <td>1321</td>\n",
       "      <td>76</td>\n",
       "      <td>95</td>\n",
       "      <td>17352</td>\n",
       "      <td>endgame hangingPiece mate mateIn2 short</td>\n",
       "      <td>https://lichess.org/oAkUCwh7#40</td>\n",
       "      <td>NaN</td>\n",
       "      <td>1648440</td>\n",
       "    </tr>\n",
       "  </tbody>\n",
       "</table>\n",
       "</div>"
      ],
      "text/plain": [
       "  PuzzleId                                                FEN  \\\n",
       "0    tewjc  r5k1/pp3p1p/2b2qp1/3pr3/8/4P2P/R1PN1PP1/Q3K2R ...   \n",
       "1    0kDWS      1r6/1PN5/3p4/4kpp1/1R6/P3n3/K1P5/8 b - - 0 49   \n",
       "2    f2p5F  5r2/p3R2p/4Q1p1/3B2k1/2p2b2/2P2P2/P5P1/1q3K2 w...   \n",
       "3    LDIfb  rnbqkb1r/pp2pp1p/3p1np1/2p5/4P3/2P2N1P/PP1PBPP...   \n",
       "4    mJDcO  5rk1/p1Q3pp/8/3p4/3q1r2/8/P1P3PP/R4R1K w - - 0 21   \n",
       "\n",
       "                           Moves  Rating  RatingDeviation  Popularity  \\\n",
       "0  a2a7 e5e3 f2e3 f6a1 a7a1 a8a1    1493               76          94   \n",
       "1            e3d5 b4b5 b8b7 b5b7    1947               75          95   \n",
       "2            e6e1 b1d3 f1f2 d3d5    1385               75          96   \n",
       "3            f6e4 d1a4 b8c6 a4e4    1472               75          95   \n",
       "4            f1f4 d4a1 f4f1 a1f1    1321               76          95   \n",
       "\n",
       "   NbPlays                                             Themes  \\\n",
       "0    18768  crushing discoveredAttack long middlegame xRay...   \n",
       "1    13691                        advantage endgame pin short   \n",
       "2    16934                       advantage endgame fork short   \n",
       "3    21527                       advantage fork opening short   \n",
       "4    17352            endgame hangingPiece mate mateIn2 short   \n",
       "\n",
       "                                 GameUrl  \\\n",
       "0        https://lichess.org/SLbfzQtP#36   \n",
       "1  https://lichess.org/q2SFqfYD/black#97   \n",
       "2        https://lichess.org/BTADpsgd#76   \n",
       "3   https://lichess.org/hnuvOm1w/black#9   \n",
       "4        https://lichess.org/oAkUCwh7#40   \n",
       "\n",
       "                                         OpeningTags  SortKey  \n",
       "0     Polish_Opening Polish_Opening_Other_variations  1764192  \n",
       "1                                                NaN  1300645  \n",
       "2                                                NaN  1625664  \n",
       "3  Sicilian_Defense Sicilian_Defense_Modern_Varia...  2045065  \n",
       "4                                                NaN  1648440  "
      ]
     },
     "execution_count": 16,
     "metadata": {},
     "output_type": "execute_result"
    }
   ],
   "source": [
    "datapath = repo_root().joinpath('assets', 'chess', 'puzzles.csv')\n",
    "df = pd.read_csv(datapath)\n",
    "df.head()"
   ]
  },
  {
   "cell_type": "code",
   "execution_count": 19,
   "id": "a95cb318",
   "metadata": {},
   "outputs": [],
   "source": [
    "df['GameID'] = df['GameUrl'].apply(lambda x: x.split('/')[-2] if 'black#' in x else x.split('/')[-1].split('#')[0])"
   ]
  },
  {
   "cell_type": "code",
   "execution_count": 28,
   "id": "21a767b0",
   "metadata": {},
   "outputs": [],
   "source": [
    "done = set()\n",
    "savedir = repo_root().joinpath('assets', 'chess', 'games')\n",
    "savedir.mkdir(exist_ok=True, parents=True)"
   ]
  },
  {
   "cell_type": "code",
   "execution_count": null,
   "id": "a3fef302",
   "metadata": {},
   "outputs": [
    {
     "data": {
      "application/vnd.jupyter.widget-view+json": {
       "model_id": "3449cfbb619c45799daf8984b1e3cae8",
       "version_major": 2,
       "version_minor": 0
      },
      "text/plain": [
       "  0%|          | 0/974 [00:00<?, ?it/s]"
      ]
     },
     "metadata": {},
     "output_type": "display_data"
    }
   ],
   "source": [
    "# paths = [savedir.joinpath(f'{ID}.json') for ID in df['GameID']]\n",
    "# paths = [path for path in paths if not path.exists()]\n",
    "# for path in tqdm(paths):\n",
    "#     json.dump(get_lichess_game_pgn(path.stem).json(), path.open('w'), indent=2)"
   ]
  },
  {
   "cell_type": "code",
   "execution_count": 32,
   "id": "93e50190",
   "metadata": {},
   "outputs": [
    {
     "data": {
      "text/plain": [
       "1000"
      ]
     },
     "execution_count": 32,
     "metadata": {},
     "output_type": "execute_result"
    }
   ],
   "source": [
    "paths = [savedir.joinpath(f'{ID}.json') for ID in df['GameID']]\n",
    "len(paths)"
   ]
  },
  {
   "cell_type": "code",
   "execution_count": 33,
   "id": "70963ae2",
   "metadata": {},
   "outputs": [
    {
     "data": {
      "text/plain": [
       "{'id': 'SLbfzQtP',\n",
       " 'rated': True,\n",
       " 'variant': 'standard',\n",
       " 'speed': 'rapid',\n",
       " 'perf': 'rapid',\n",
       " 'createdAt': 1426597862255,\n",
       " 'lastMoveAt': 1426598299144,\n",
       " 'status': 'resign',\n",
       " 'source': 'lobby',\n",
       " 'players': {'white': {'user': {'name': 'zembelek', 'id': 'zembelek'},\n",
       "   'rating': 2053,\n",
       "   'ratingDiff': 11,\n",
       "   'analysis': {'inaccuracy': 4, 'mistake': 0, 'blunder': 4, 'acpl': 60}},\n",
       "  'black': {'user': {'name': 'tuskerking', 'id': 'tuskerking'},\n",
       "   'rating': 2081,\n",
       "   'ratingDiff': -17,\n",
       "   'analysis': {'inaccuracy': 3, 'mistake': 0, 'blunder': 7, 'acpl': 84}}},\n",
       " 'winner': 'white',\n",
       " 'opening': {'eco': 'A00', 'name': 'Polish Opening', 'ply': 1},\n",
       " 'moves': 'b4 d5 Bb2 Nf6 b5 g6 e3 Bg7 Be2 O-O d4 c6 Nd2 cxb5 a4 bxa4 Rxa4 Bd7 Ra2 Nc6 Ngf3 e5 dxe5 Ng4 Qa1 Re8 h3 Ngxe5 Nxe5 Bxe5 Bxe5 Rxe5 Bb5 Qf6 Bxc6 Bxc6 Rxa7 Rxa7 Qxa7 d4 Qxd4 Qe7 O-O Rd5 Qc3 Qd8 Nf3 Rd1 Nd4 Rxf1+ Kxf1 Bb5+ Nxb5 Qd1+ Qe1 Qxc2 Kg1 Qb3 Nd4 Qb2 Qa5 Qb1+ Kh2 Qf1 Qd8+ Kg7 f3 Qe2 Qe7 Qc4 Qxb7 h5 Qe4 f5 Qe5+ Kh6 h4 Qc1 Qf6 Kh7 Ne6',\n",
       " 'analysis': [{'eval': -71},\n",
       "  {'eval': -43},\n",
       "  {'eval': -41},\n",
       "  {'eval': -44},\n",
       "  {'eval': -56},\n",
       "  {'eval': -34},\n",
       "  {'eval': -30},\n",
       "  {'eval': -20},\n",
       "  {'eval': -28},\n",
       "  {'eval': -20},\n",
       "  {'eval': -49},\n",
       "  {'eval': -15},\n",
       "  {'eval': -80,\n",
       "   'best': 'a2a4',\n",
       "   'variation': 'a4 a6 Nc3 axb5 axb5 Rxa1 Qxa1 Bf5 Nf3 cxb5 Bxb5 Bxc2 O-O Nc6 Qa3 Bf5 Ne5 Nxe5 dxe5',\n",
       "   'judgment': {'name': 'Inaccuracy', 'comment': 'Inaccuracy. a4 was best.'}},\n",
       "  {'eval': -72},\n",
       "  {'eval': -80},\n",
       "  {'eval': -83},\n",
       "  {'eval': -82},\n",
       "  {'eval': -59},\n",
       "  {'eval': -85},\n",
       "  {'eval': -80},\n",
       "  {'eval': -116},\n",
       "  {'eval': -16,\n",
       "   'best': 'c6b4',\n",
       "   'variation': 'Nb4 Ra3 Bf5 O-O Bxc2 Qa1 a5 Bc3 Bf5 Qb2 Nc2 Rb3 a4 Rxb7 a3 Qa2 Rc8 Rb3',\n",
       "   'judgment': {'name': 'Inaccuracy', 'comment': 'Inaccuracy. Nb4 was best.'}},\n",
       "  {'eval': -10},\n",
       "  {'eval': 5},\n",
       "  {'eval': -95,\n",
       "   'best': 'e1g1',\n",
       "   'variation': 'O-O a5 Qa1 Qc7 c4 Nb4 e6 Bxb2 exf7+ Rxf7 Rxb2 Re8',\n",
       "   'judgment': {'name': 'Inaccuracy', 'comment': 'Inaccuracy. O-O was best.'}},\n",
       "  {'eval': 70,\n",
       "   'best': 'c6b4',\n",
       "   'variation': 'Nb4 O-O Nxa2 Qxa2 Qc7 Qxd5 Rfd8 Qb3 Nxe5 Nxe5 Bxe5 Bxe5 Qxe5 Bc4',\n",
       "   'judgment': {'name': 'Blunder', 'comment': 'Blunder. Nb4 was best.'}},\n",
       "  {'eval': -33,\n",
       "   'best': 'e5e6',\n",
       "   'variation': 'e6 Bxb2 exf7+ Kxf7 Rxb2 b6 O-O Kg8 h3 Nf6 Ba6 Qe7 c4 Rad8 Rc1 Ne5 cxd5 Nxd5 Qa2 Nxf3+',\n",
       "   'judgment': {'name': 'Inaccuracy', 'comment': 'Inaccuracy. e6 was best.'}},\n",
       "  {'eval': -30},\n",
       "  {'eval': -53},\n",
       "  {'eval': -57},\n",
       "  {'eval': -43},\n",
       "  {'eval': -48},\n",
       "  {'eval': -325,\n",
       "   'best': 'e1g1',\n",
       "   'variation': 'O-O Re8 Nf3 a5 c4 dxc4 Bxc4 Be6 Rd1 Qe7 Bxe6 fxe6 Nd4 Red8 Nxc6 Rxd1+ Qxd1 bxc6 Qg4',\n",
       "   'judgment': {'name': 'Blunder', 'comment': 'Blunder. O-O was best.'}},\n",
       "  {'eval': -36,\n",
       "   'best': 'd5d4',\n",
       "   'variation': 'd4 Bxc6 Bxc6 Nb3 Qg5 Nxd4',\n",
       "   'judgment': {'name': 'Blunder', 'comment': 'Blunder. d4 was best.'}},\n",
       "  {'eval': -66},\n",
       "  {'eval': -62},\n",
       "  {'eval': -776,\n",
       "   'best': 'd2f3',\n",
       "   'variation': 'Nf3 Rf5 Qxf6 Rxf6 Nd4 a5 Ke2 b6 Rb1 Bd7 g4 Kg7 c3 g5 Kd3 a4 f3 Rh6 Rh1 b5',\n",
       "   'judgment': {'name': 'Blunder', 'comment': 'Blunder. Nf3 was best.'}},\n",
       "  {'eval': -48,\n",
       "   'best': 'e5e3',\n",
       "   'variation': 'Rxe3+ fxe3 Qxa1+ Rxa1 Rxa1+ Kf2 Rxh1 Nf3 Rc1 Nd4 Ba4 Ke2 h5 Kf2 Bxc2 Ne2 Rd1 g4 hxg4 hxg4',\n",
       "   'judgment': {'name': 'Blunder', 'comment': 'Blunder. Rxe3+ was best.'}},\n",
       "  {'eval': -46},\n",
       "  {'eval': -48},\n",
       "  {'eval': -50},\n",
       "  {'eval': 20,\n",
       "   'best': 'c6g2',\n",
       "   'variation': 'Bxg2 Rh2 Bd5 h4 Qe6 h5 Rxh5 Rxh5 gxh5 Qc5 Qf5 c4 Be6 Qd4 h6 Qb2 Qg4 Qxb7 Bxc4 Nxc4',\n",
       "   'judgment': {'name': 'Inaccuracy',\n",
       "    'comment': 'Inaccuracy. Bxg2 was best.'}},\n",
       "  {'eval': 32},\n",
       "  {'eval': 48},\n",
       "  {'eval': 56},\n",
       "  {'eval': 110,\n",
       "   'best': 'd5c5',\n",
       "   'variation': 'Rc5 Qd3 Rd5 Qe2 Rc5 Rc1 Rc3 Nf3 Bxf3 Qxf3 Qc7 Qd5 Rc5 Qe4 Rc3 Qb4'},\n",
       "  {'eval': 101},\n",
       "  {'eval': 122},\n",
       "  {'eval': 122},\n",
       "  {'eval': 118},\n",
       "  {'eval': 120},\n",
       "  {'eval': 405,\n",
       "   'best': 'c6d5',\n",
       "   'variation': 'Bd5 f3 b6 e4 Bb7 Qe3 Ba6+ Kg1 Bc4 e5 Qe7 Qf4 h5 Kf2 h4 c3 Bd5 Qf6 Qxf6 exf6',\n",
       "   'judgment': {'name': 'Blunder', 'comment': 'Blunder. Bd5 was best.'}},\n",
       "  {'eval': 403},\n",
       "  {'eval': 403},\n",
       "  {'eval': 398},\n",
       "  {'eval': 400},\n",
       "  {'eval': 400},\n",
       "  {'eval': 408},\n",
       "  {'eval': 415},\n",
       "  {'eval': 420},\n",
       "  {'eval': 423},\n",
       "  {'eval': 416},\n",
       "  {'eval': 419},\n",
       "  {'eval': 463},\n",
       "  {'eval': 487},\n",
       "  {'eval': 484},\n",
       "  {'eval': 445},\n",
       "  {'mate': 9,\n",
       "   'best': 'f1a6',\n",
       "   'variation': 'Qa6 Qc7 Kg8 Qe7 Qa8 Nb5 Qf8 Qxb7 Qc5 Qb8+ Kg7 Nd4',\n",
       "   'judgment': {'name': 'Blunder',\n",
       "    'comment': 'Checkmate is now unavoidable. Qa6 was best.'}},\n",
       "  {'eval': 494,\n",
       "   'best': 'd4e2',\n",
       "   'variation': 'Nxe2 b5 Nd4 b4 Qe7 Kg8 Nc6 Kg7 Ne5 b3 Qxf7+ Kh6 g4 Kg5 f4+ Kh6 Qf8#',\n",
       "   'judgment': {'name': 'Blunder',\n",
       "    'comment': 'Lost forced checkmate sequence. Nxe2 was best.'}},\n",
       "  {'eval': 520},\n",
       "  {'eval': 521},\n",
       "  {'eval': 565},\n",
       "  {'eval': 517},\n",
       "  {'mate': 11,\n",
       "   'best': 'c4a6',\n",
       "   'variation': 'Qa6 Kg3 Qf6 f4 Kf8 Qa8+ Kg7 Qd5 Qe7 e4 Qc7 e5 Qc3+ Nf3 Qc7 Ng5 Qe7 e6 f6',\n",
       "   'judgment': {'name': 'Blunder',\n",
       "    'comment': 'Checkmate is now unavoidable. Qa6 was best.'}},\n",
       "  {'eval': 681,\n",
       "   'best': 'd4f5',\n",
       "   'variation': 'Nxf5+ gxf5 Qxc4 h4 Qxh4 Kf7 Kg3 Ke8 Qd4 Ke7 Kf4 Ke6 Qd8 Kf7 Kxf5 Kg7 Qc7+ Kf8 Kf6 Kg8',\n",
       "   'judgment': {'name': 'Blunder',\n",
       "    'comment': 'Lost forced checkmate sequence. Nxf5+ was best.'}},\n",
       "  {'mate': 3,\n",
       "   'best': 'g7f7',\n",
       "   'variation': 'Kf7 e4 fxe4 fxe4 h4 Qf4+ Kg8 e5 Qf7 Qg5 Qe8 Qf6 Qf7 Qd8+ Qf8 Qxh4 Qg7 Qg5 Qf7 e6',\n",
       "   'judgment': {'name': 'Blunder',\n",
       "    'comment': 'Checkmate is now unavoidable. Kf7 was best.'}},\n",
       "  {'eval': 6218,\n",
       "   'best': 'e5h8',\n",
       "   'variation': 'Qh8+ Kg5 f4+ Kh4 Nf3#',\n",
       "   'judgment': {'name': 'Inaccuracy',\n",
       "    'comment': 'Lost forced checkmate sequence. Qh8+ was best.'}},\n",
       "  {'mate': 1,\n",
       "   'best': 'c4g8',\n",
       "   'variation': 'Qg8 Ne6 Kh7 Qf6 Qb8+ Kh3 Qb7 Qf8 g5',\n",
       "   'judgment': {'name': 'Inaccuracy',\n",
       "    'comment': 'Checkmate is now unavoidable. Qg8 was best.'}},\n",
       "  {'mate': 7, 'best': 'e5h8', 'variation': 'Qh8#'},\n",
       "  {'mate': 4},\n",
       "  {'mate': 3}],\n",
       " 'clock': {'initial': 600, 'increment': 0, 'totalTime': 600},\n",
       " 'division': {'middle': 21, 'end': 39}}"
      ]
     },
     "execution_count": 33,
     "metadata": {},
     "output_type": "execute_result"
    }
   ],
   "source": [
    "data = json.load(paths[0].open('r'))\n",
    "data"
   ]
  },
  {
   "cell_type": "code",
   "execution_count": 63,
   "id": "a7296d6d",
   "metadata": {},
   "outputs": [
    {
     "data": {
      "text/plain": [
       "0       36\n",
       "1       97\n",
       "2       76\n",
       "3        9\n",
       "4       40\n",
       "      ... \n",
       "995    102\n",
       "996     49\n",
       "997     27\n",
       "998     34\n",
       "999     50\n",
       "Name: num_turns, Length: 1000, dtype: int64"
      ]
     },
     "execution_count": 63,
     "metadata": {},
     "output_type": "execute_result"
    }
   ],
   "source": [
    "df['num_turns'] = df['GameUrl'].apply(lambda x: int(x.split('#')[1]) if 'black#' in x else int(x.split('#')[1]))\n",
    "df['num_turns']"
   ]
  },
  {
   "cell_type": "code",
   "execution_count": null,
   "id": "9ea86ba7",
   "metadata": {},
   "outputs": [],
   "source": []
  },
  {
   "cell_type": "code",
   "execution_count": 75,
   "id": "74c52bc3",
   "metadata": {},
   "outputs": [],
   "source": [
    "import chess\n",
    "import chess.pgn"
   ]
  },
  {
   "cell_type": "code",
   "execution_count": null,
   "id": "80eff9f1",
   "metadata": {},
   "outputs": [],
   "source": []
  },
  {
   "cell_type": "code",
   "execution_count": null,
   "id": "3dec1b12",
   "metadata": {},
   "outputs": [],
   "source": []
  },
  {
   "cell_type": "code",
   "execution_count": 94,
   "id": "16aa0463",
   "metadata": {},
   "outputs": [],
   "source": [
    "pgns = {}"
   ]
  },
  {
   "cell_type": "code",
   "execution_count": 95,
   "id": "95b8299b",
   "metadata": {},
   "outputs": [
    {
     "data": {
      "application/vnd.jupyter.widget-view+json": {
       "model_id": "42a3f497e1fc466ab036755f33be4a9d",
       "version_major": 2,
       "version_minor": 0
      },
      "text/plain": [
       "  0%|          | 0/1000 [00:00<?, ?it/s]"
      ]
     },
     "metadata": {},
     "output_type": "display_data"
    }
   ],
   "source": [
    "# sample = df.sample().iloc[0]\n",
    "for i, sample in tqdm(df.iterrows(), total=len(df)):\n",
    "    datapath = savedir.joinpath(f'{sample[\"GameID\"]}.json')\n",
    "    data = json.load(datapath.open('r'))\n",
    "    moves = data['moves'].split()\n",
    "    puzzleid = sample['PuzzleId']\n",
    "    fen = chess.Board(sample['FEN']).fen()\n",
    "    n_turns = sample['num_turns']\n",
    "\n",
    "    game = chess.pgn.Game()\n",
    "    game.headers.clear()\n",
    "\n",
    "    node = game\n",
    "    board = chess.Board()\n",
    "    for move_san in moves:\n",
    "        if board.fen() != fen:\n",
    "            try:\n",
    "                move = board.push_san(move_san)\n",
    "            except chess.IllegalMoveError:\n",
    "                print(f\"Illegal move: {move_san} in position {board.fen()}\")\n",
    "                break\n",
    "            except chess.AmbiguousMoveError:\n",
    "                print(f\"Ambiguous move: {move_san} in position {board.fen()}\")\n",
    "                break\n",
    "            else:\n",
    "                node = node.add_main_variation(move)\n",
    "    pgns[puzzleid] = str(game)"
   ]
  },
  {
   "cell_type": "code",
   "execution_count": null,
   "id": "c9ba0410",
   "metadata": {},
   "outputs": [],
   "source": [
    "# df['pgn'] = df['PuzzleId'].apply(lambda x: pgns[x])\n"
   ]
  },
  {
   "cell_type": "code",
   "execution_count": 101,
   "id": "4e7b3d8058204db6",
   "metadata": {},
   "outputs": [
    {
     "data": {
      "text/html": [
       "<div>\n",
       "<style scoped>\n",
       "    .dataframe tbody tr th:only-of-type {\n",
       "        vertical-align: middle;\n",
       "    }\n",
       "\n",
       "    .dataframe tbody tr th {\n",
       "        vertical-align: top;\n",
       "    }\n",
       "\n",
       "    .dataframe thead th {\n",
       "        text-align: right;\n",
       "    }\n",
       "</style>\n",
       "<table border=\"1\" class=\"dataframe\">\n",
       "  <thead>\n",
       "    <tr style=\"text-align: right;\">\n",
       "      <th></th>\n",
       "      <th>PuzzleId</th>\n",
       "      <th>FEN</th>\n",
       "      <th>Moves</th>\n",
       "      <th>Rating</th>\n",
       "      <th>RatingDeviation</th>\n",
       "      <th>Popularity</th>\n",
       "      <th>NbPlays</th>\n",
       "      <th>Themes</th>\n",
       "      <th>GameUrl</th>\n",
       "      <th>OpeningTags</th>\n",
       "      <th>SortKey</th>\n",
       "      <th>GameID</th>\n",
       "      <th>PGN</th>\n",
       "    </tr>\n",
       "  </thead>\n",
       "  <tbody>\n",
       "    <tr>\n",
       "      <th>0</th>\n",
       "      <td>tewjc</td>\n",
       "      <td>r5k1/pp3p1p/2b2qp1/3pr3/8/4P2P/R1PN1PP1/Q3K2R ...</td>\n",
       "      <td>a2a7 e5e3 f2e3 f6a1 a7a1 a8a1</td>\n",
       "      <td>1493</td>\n",
       "      <td>76</td>\n",
       "      <td>94</td>\n",
       "      <td>18768</td>\n",
       "      <td>crushing discoveredAttack long middlegame xRay...</td>\n",
       "      <td>https://lichess.org/SLbfzQtP#36</td>\n",
       "      <td>Polish_Opening Polish_Opening_Other_variations</td>\n",
       "      <td>1764192</td>\n",
       "      <td>SLbfzQtP</td>\n",
       "      <td>1. b4 d5 2. Bb2 Nf6 3. b5 g6 4. e3 Bg7 5. Be2 ...</td>\n",
       "    </tr>\n",
       "    <tr>\n",
       "      <th>1</th>\n",
       "      <td>0kDWS</td>\n",
       "      <td>1r6/1PN5/3p4/4kpp1/1R6/P3n3/K1P5/8 b - - 0 49</td>\n",
       "      <td>e3d5 b4b5 b8b7 b5b7</td>\n",
       "      <td>1947</td>\n",
       "      <td>75</td>\n",
       "      <td>95</td>\n",
       "      <td>13691</td>\n",
       "      <td>advantage endgame pin short</td>\n",
       "      <td>https://lichess.org/q2SFqfYD/black#97</td>\n",
       "      <td>NaN</td>\n",
       "      <td>1300645</td>\n",
       "      <td>q2SFqfYD</td>\n",
       "      <td>1. e4 g6 2. Nf3 Bg7 3. d4 d6 4. h3 Nf6 5. Nc3 ...</td>\n",
       "    </tr>\n",
       "    <tr>\n",
       "      <th>2</th>\n",
       "      <td>f2p5F</td>\n",
       "      <td>5r2/p3R2p/4Q1p1/3B2k1/2p2b2/2P2P2/P5P1/1q3K2 w...</td>\n",
       "      <td>e6e1 b1d3 f1f2 d3d5</td>\n",
       "      <td>1385</td>\n",
       "      <td>75</td>\n",
       "      <td>96</td>\n",
       "      <td>16934</td>\n",
       "      <td>advantage endgame fork short</td>\n",
       "      <td>https://lichess.org/BTADpsgd#76</td>\n",
       "      <td>NaN</td>\n",
       "      <td>1625664</td>\n",
       "      <td>BTADpsgd</td>\n",
       "      <td>1. d4 d5 2. Nf3 Nc6 3. Bf4 Nf6 4. e3 e6 5. Bb5...</td>\n",
       "    </tr>\n",
       "    <tr>\n",
       "      <th>3</th>\n",
       "      <td>LDIfb</td>\n",
       "      <td>rnbqkb1r/pp2pp1p/3p1np1/2p5/4P3/2P2N1P/PP1PBPP...</td>\n",
       "      <td>f6e4 d1a4 b8c6 a4e4</td>\n",
       "      <td>1472</td>\n",
       "      <td>75</td>\n",
       "      <td>95</td>\n",
       "      <td>21527</td>\n",
       "      <td>advantage fork opening short</td>\n",
       "      <td>https://lichess.org/hnuvOm1w/black#9</td>\n",
       "      <td>Sicilian_Defense Sicilian_Defense_Modern_Varia...</td>\n",
       "      <td>2045065</td>\n",
       "      <td>hnuvOm1w</td>\n",
       "      <td>1. e4 c5 2. Nf3 d6 3. h3 g6 4. c3 Nf6 5. Be2 *</td>\n",
       "    </tr>\n",
       "    <tr>\n",
       "      <th>4</th>\n",
       "      <td>mJDcO</td>\n",
       "      <td>5rk1/p1Q3pp/8/3p4/3q1r2/8/P1P3PP/R4R1K w - - 0 21</td>\n",
       "      <td>f1f4 d4a1 f4f1 a1f1</td>\n",
       "      <td>1321</td>\n",
       "      <td>76</td>\n",
       "      <td>95</td>\n",
       "      <td>17352</td>\n",
       "      <td>endgame hangingPiece mate mateIn2 short</td>\n",
       "      <td>https://lichess.org/oAkUCwh7#40</td>\n",
       "      <td>NaN</td>\n",
       "      <td>1648440</td>\n",
       "      <td>oAkUCwh7</td>\n",
       "      <td>1. e4 e5 2. Nf3 Nc6 3. d4 exd4 4. Nxd4 Qf6 5. ...</td>\n",
       "    </tr>\n",
       "  </tbody>\n",
       "</table>\n",
       "</div>"
      ],
      "text/plain": [
       "  PuzzleId                                                FEN  \\\n",
       "0    tewjc  r5k1/pp3p1p/2b2qp1/3pr3/8/4P2P/R1PN1PP1/Q3K2R ...   \n",
       "1    0kDWS      1r6/1PN5/3p4/4kpp1/1R6/P3n3/K1P5/8 b - - 0 49   \n",
       "2    f2p5F  5r2/p3R2p/4Q1p1/3B2k1/2p2b2/2P2P2/P5P1/1q3K2 w...   \n",
       "3    LDIfb  rnbqkb1r/pp2pp1p/3p1np1/2p5/4P3/2P2N1P/PP1PBPP...   \n",
       "4    mJDcO  5rk1/p1Q3pp/8/3p4/3q1r2/8/P1P3PP/R4R1K w - - 0 21   \n",
       "\n",
       "                           Moves  Rating  RatingDeviation  Popularity  \\\n",
       "0  a2a7 e5e3 f2e3 f6a1 a7a1 a8a1    1493               76          94   \n",
       "1            e3d5 b4b5 b8b7 b5b7    1947               75          95   \n",
       "2            e6e1 b1d3 f1f2 d3d5    1385               75          96   \n",
       "3            f6e4 d1a4 b8c6 a4e4    1472               75          95   \n",
       "4            f1f4 d4a1 f4f1 a1f1    1321               76          95   \n",
       "\n",
       "   NbPlays                                             Themes  \\\n",
       "0    18768  crushing discoveredAttack long middlegame xRay...   \n",
       "1    13691                        advantage endgame pin short   \n",
       "2    16934                       advantage endgame fork short   \n",
       "3    21527                       advantage fork opening short   \n",
       "4    17352            endgame hangingPiece mate mateIn2 short   \n",
       "\n",
       "                                 GameUrl  \\\n",
       "0        https://lichess.org/SLbfzQtP#36   \n",
       "1  https://lichess.org/q2SFqfYD/black#97   \n",
       "2        https://lichess.org/BTADpsgd#76   \n",
       "3   https://lichess.org/hnuvOm1w/black#9   \n",
       "4        https://lichess.org/oAkUCwh7#40   \n",
       "\n",
       "                                         OpeningTags  SortKey    GameID  \\\n",
       "0     Polish_Opening Polish_Opening_Other_variations  1764192  SLbfzQtP   \n",
       "1                                                NaN  1300645  q2SFqfYD   \n",
       "2                                                NaN  1625664  BTADpsgd   \n",
       "3  Sicilian_Defense Sicilian_Defense_Modern_Varia...  2045065  hnuvOm1w   \n",
       "4                                                NaN  1648440  oAkUCwh7   \n",
       "\n",
       "                                                 PGN  \n",
       "0  1. b4 d5 2. Bb2 Nf6 3. b5 g6 4. e3 Bg7 5. Be2 ...  \n",
       "1  1. e4 g6 2. Nf3 Bg7 3. d4 d6 4. h3 Nf6 5. Nc3 ...  \n",
       "2  1. d4 d5 2. Nf3 Nc6 3. Bf4 Nf6 4. e3 e6 5. Bb5...  \n",
       "3     1. e4 c5 2. Nf3 d6 3. h3 g6 4. c3 Nf6 5. Be2 *  \n",
       "4  1. e4 e5 2. Nf3 Nc6 3. d4 exd4 4. Nxd4 Qf6 5. ...  "
      ]
     },
     "execution_count": 101,
     "metadata": {},
     "output_type": "execute_result"
    }
   ],
   "source": [
    "df.head()"
   ]
  },
  {
   "cell_type": "code",
   "execution_count": null,
   "id": "95ac215c",
   "metadata": {},
   "outputs": [
    {
     "ename": "",
     "evalue": "",
     "output_type": "error",
     "traceback": [
      "\u001b[1;31mThe Kernel crashed while executing code in the current cell or a previous cell. \n",
      "\u001b[1;31mPlease review the code in the cell(s) to identify a possible cause of the failure. \n",
      "\u001b[1;31mClick <a href='https://aka.ms/vscodeJupyterKernelCrash'>here</a> for more info. \n",
      "\u001b[1;31mView Jupyter <a href='command:jupyter.viewOutput'>log</a> for further details."
     ]
    }
   ],
   "source": [
    "# export df to CSV\n",
    "# df.to_csv(repo_root().joinpath('assets', 'chess', 'puzzles_with_pgn.csv'), index=False)"
   ]
  },
  {
   "cell_type": "code",
   "execution_count": null,
   "id": "ce54556c",
   "metadata": {},
   "outputs": [],
   "source": []
  },
  {
   "cell_type": "code",
   "execution_count": null,
   "id": "4eff3d01",
   "metadata": {},
   "outputs": [],
   "source": []
  },
  {
   "cell_type": "code",
   "execution_count": null,
   "id": "c99c2106",
   "metadata": {},
   "outputs": [],
   "source": []
  },
  {
   "cell_type": "code",
   "execution_count": 46,
   "id": "e70f79c75259df25",
   "metadata": {
    "ExecuteTime": {
     "end_time": "2025-07-28T23:05:06.903964Z",
     "start_time": "2025-07-28T23:05:04.987623Z"
    }
   },
   "outputs": [],
   "source": [
    "from ludwig.chess.puzzle import ChessPuzzle\n",
    "from pathlib import Path\n",
    "import pandas as pd\n",
    "from tqdm.notebook import tqdm\n",
    "import json\n",
    "from ludwig.util import repo_root\n",
    "import chess\n",
    "from stockfish import Stockfish\n",
    "engine_path = Path(r'C:\\Users\\anwan\\Downloads\\stockfish-windows-x86-64\\stockfish\\stockfish-windows-x86-64.exe')\n",
    "stockfish = Stockfish(path=engine_path)"
   ]
  },
  {
   "cell_type": "code",
   "execution_count": 47,
   "id": "d80278383f348941",
   "metadata": {
    "ExecuteTime": {
     "end_time": "2025-07-28T23:05:07.098798Z",
     "start_time": "2025-07-28T23:05:06.953379Z"
    }
   },
   "outputs": [
    {
     "data": {
      "text/html": [
       "<div>\n",
       "<style scoped>\n",
       "    .dataframe tbody tr th:only-of-type {\n",
       "        vertical-align: middle;\n",
       "    }\n",
       "\n",
       "    .dataframe tbody tr th {\n",
       "        vertical-align: top;\n",
       "    }\n",
       "\n",
       "    .dataframe thead th {\n",
       "        text-align: right;\n",
       "    }\n",
       "</style>\n",
       "<table border=\"1\" class=\"dataframe\">\n",
       "  <thead>\n",
       "    <tr style=\"text-align: right;\">\n",
       "      <th></th>\n",
       "      <th>FEN</th>\n",
       "      <th>Moves</th>\n",
       "      <th>Rating</th>\n",
       "      <th>RatingDeviation</th>\n",
       "      <th>Popularity</th>\n",
       "      <th>NbPlays</th>\n",
       "      <th>Themes</th>\n",
       "      <th>GameUrl</th>\n",
       "      <th>OpeningTags</th>\n",
       "      <th>SortKey</th>\n",
       "    </tr>\n",
       "    <tr>\n",
       "      <th>PuzzleId</th>\n",
       "      <th></th>\n",
       "      <th></th>\n",
       "      <th></th>\n",
       "      <th></th>\n",
       "      <th></th>\n",
       "      <th></th>\n",
       "      <th></th>\n",
       "      <th></th>\n",
       "      <th></th>\n",
       "      <th></th>\n",
       "    </tr>\n",
       "  </thead>\n",
       "  <tbody>\n",
       "    <tr>\n",
       "      <th>tewjc</th>\n",
       "      <td>r5k1/pp3p1p/2b2qp1/3pr3/8/4P2P/R1PN1PP1/Q3K2R ...</td>\n",
       "      <td>a2a7 e5e3 f2e3 f6a1 a7a1 a8a1</td>\n",
       "      <td>1493</td>\n",
       "      <td>76</td>\n",
       "      <td>94</td>\n",
       "      <td>18768</td>\n",
       "      <td>crushing discoveredAttack long middlegame xRay...</td>\n",
       "      <td>https://lichess.org/SLbfzQtP#36</td>\n",
       "      <td>Polish_Opening Polish_Opening_Other_variations</td>\n",
       "      <td>1764192</td>\n",
       "    </tr>\n",
       "    <tr>\n",
       "      <th>0kDWS</th>\n",
       "      <td>1r6/1PN5/3p4/4kpp1/1R6/P3n3/K1P5/8 b - - 0 49</td>\n",
       "      <td>e3d5 b4b5 b8b7 b5b7</td>\n",
       "      <td>1947</td>\n",
       "      <td>75</td>\n",
       "      <td>95</td>\n",
       "      <td>13691</td>\n",
       "      <td>advantage endgame pin short</td>\n",
       "      <td>https://lichess.org/q2SFqfYD/black#97</td>\n",
       "      <td>NaN</td>\n",
       "      <td>1300645</td>\n",
       "    </tr>\n",
       "    <tr>\n",
       "      <th>f2p5F</th>\n",
       "      <td>5r2/p3R2p/4Q1p1/3B2k1/2p2b2/2P2P2/P5P1/1q3K2 w...</td>\n",
       "      <td>e6e1 b1d3 f1f2 d3d5</td>\n",
       "      <td>1385</td>\n",
       "      <td>75</td>\n",
       "      <td>96</td>\n",
       "      <td>16934</td>\n",
       "      <td>advantage endgame fork short</td>\n",
       "      <td>https://lichess.org/BTADpsgd#76</td>\n",
       "      <td>NaN</td>\n",
       "      <td>1625664</td>\n",
       "    </tr>\n",
       "    <tr>\n",
       "      <th>LDIfb</th>\n",
       "      <td>rnbqkb1r/pp2pp1p/3p1np1/2p5/4P3/2P2N1P/PP1PBPP...</td>\n",
       "      <td>f6e4 d1a4 b8c6 a4e4</td>\n",
       "      <td>1472</td>\n",
       "      <td>75</td>\n",
       "      <td>95</td>\n",
       "      <td>21527</td>\n",
       "      <td>advantage fork opening short</td>\n",
       "      <td>https://lichess.org/hnuvOm1w/black#9</td>\n",
       "      <td>Sicilian_Defense Sicilian_Defense_Modern_Varia...</td>\n",
       "      <td>2045065</td>\n",
       "    </tr>\n",
       "    <tr>\n",
       "      <th>mJDcO</th>\n",
       "      <td>5rk1/p1Q3pp/8/3p4/3q1r2/8/P1P3PP/R4R1K w - - 0 21</td>\n",
       "      <td>f1f4 d4a1 f4f1 a1f1</td>\n",
       "      <td>1321</td>\n",
       "      <td>76</td>\n",
       "      <td>95</td>\n",
       "      <td>17352</td>\n",
       "      <td>endgame hangingPiece mate mateIn2 short</td>\n",
       "      <td>https://lichess.org/oAkUCwh7#40</td>\n",
       "      <td>NaN</td>\n",
       "      <td>1648440</td>\n",
       "    </tr>\n",
       "  </tbody>\n",
       "</table>\n",
       "</div>"
      ],
      "text/plain": [
       "                                                        FEN  \\\n",
       "PuzzleId                                                      \n",
       "tewjc     r5k1/pp3p1p/2b2qp1/3pr3/8/4P2P/R1PN1PP1/Q3K2R ...   \n",
       "0kDWS         1r6/1PN5/3p4/4kpp1/1R6/P3n3/K1P5/8 b - - 0 49   \n",
       "f2p5F     5r2/p3R2p/4Q1p1/3B2k1/2p2b2/2P2P2/P5P1/1q3K2 w...   \n",
       "LDIfb     rnbqkb1r/pp2pp1p/3p1np1/2p5/4P3/2P2N1P/PP1PBPP...   \n",
       "mJDcO     5rk1/p1Q3pp/8/3p4/3q1r2/8/P1P3PP/R4R1K w - - 0 21   \n",
       "\n",
       "                                  Moves  Rating  RatingDeviation  Popularity  \\\n",
       "PuzzleId                                                                       \n",
       "tewjc     a2a7 e5e3 f2e3 f6a1 a7a1 a8a1    1493               76          94   \n",
       "0kDWS               e3d5 b4b5 b8b7 b5b7    1947               75          95   \n",
       "f2p5F               e6e1 b1d3 f1f2 d3d5    1385               75          96   \n",
       "LDIfb               f6e4 d1a4 b8c6 a4e4    1472               75          95   \n",
       "mJDcO               f1f4 d4a1 f4f1 a1f1    1321               76          95   \n",
       "\n",
       "          NbPlays                                             Themes  \\\n",
       "PuzzleId                                                               \n",
       "tewjc       18768  crushing discoveredAttack long middlegame xRay...   \n",
       "0kDWS       13691                        advantage endgame pin short   \n",
       "f2p5F       16934                       advantage endgame fork short   \n",
       "LDIfb       21527                       advantage fork opening short   \n",
       "mJDcO       17352            endgame hangingPiece mate mateIn2 short   \n",
       "\n",
       "                                        GameUrl  \\\n",
       "PuzzleId                                          \n",
       "tewjc           https://lichess.org/SLbfzQtP#36   \n",
       "0kDWS     https://lichess.org/q2SFqfYD/black#97   \n",
       "f2p5F           https://lichess.org/BTADpsgd#76   \n",
       "LDIfb      https://lichess.org/hnuvOm1w/black#9   \n",
       "mJDcO           https://lichess.org/oAkUCwh7#40   \n",
       "\n",
       "                                                OpeningTags  SortKey  \n",
       "PuzzleId                                                              \n",
       "tewjc        Polish_Opening Polish_Opening_Other_variations  1764192  \n",
       "0kDWS                                                   NaN  1300645  \n",
       "f2p5F                                                   NaN  1625664  \n",
       "LDIfb     Sicilian_Defense Sicilian_Defense_Modern_Varia...  2045065  \n",
       "mJDcO                                                   NaN  1648440  "
      ]
     },
     "execution_count": 47,
     "metadata": {},
     "output_type": "execute_result"
    }
   ],
   "source": [
    "task = ChessPuzzle()\n",
    "task.prepare()\n",
    "data = task.data\n",
    "data.head()"
   ]
  },
  {
   "cell_type": "code",
   "execution_count": 3,
   "id": "610181ca56ffcdfd",
   "metadata": {
    "ExecuteTime": {
     "end_time": "2025-07-28T10:28:27.517739Z",
     "start_time": "2025-07-28T10:28:27.509183Z"
    }
   },
   "outputs": [
    {
     "data": {
      "text/plain": [
       "1000"
      ]
     },
     "execution_count": 3,
     "metadata": {},
     "output_type": "execute_result"
    }
   ],
   "source": [
    "len(set(data.index))"
   ]
  },
  {
   "cell_type": "code",
   "execution_count": 4,
   "id": "a81375e7e6c1a4f1",
   "metadata": {
    "ExecuteTime": {
     "end_time": "2025-07-28T10:28:27.707756Z",
     "start_time": "2025-07-28T10:28:27.699107Z"
    }
   },
   "outputs": [
    {
     "data": {
      "text/plain": [
       "'r5k1/pp3p1p/2b2qp1/3pr3/8/4P2P/R1PN1PP1/Q3K2R w K - 0 19'"
      ]
     },
     "execution_count": 4,
     "metadata": {},
     "output_type": "execute_result"
    }
   ],
   "source": [
    "data['FEN'].iloc[0]"
   ]
  },
  {
   "cell_type": "code",
   "execution_count": 48,
   "id": "8f60d957f4990819",
   "metadata": {
    "ExecuteTime": {
     "end_time": "2025-07-28T23:05:40.949117Z",
     "start_time": "2025-07-28T23:05:40.872970Z"
    }
   },
   "outputs": [
    {
     "data": {
      "text/plain": [
       "56"
      ]
     },
     "execution_count": 48,
     "metadata": {},
     "output_type": "execute_result"
    }
   ],
   "source": [
    "tags = set()\n",
    "for i, row in data.iterrows():\n",
    "\ttags.update(row['Themes'].split())\n",
    "len(tags)"
   ]
  },
  {
   "cell_type": "code",
   "execution_count": 50,
   "id": "1b09d22fa272856b",
   "metadata": {
    "ExecuteTime": {
     "end_time": "2025-07-28T23:06:07.418657Z",
     "start_time": "2025-07-28T23:06:07.411907Z"
    }
   },
   "outputs": [
    {
     "name": "stdout",
     "output_type": "stream",
     "text": [
      "{'veryLong', 'opening', 'defensiveMove', 'rookEndgame', 'quietMove', 'zugzwang', 'skewer', 'capturingDefender', 'discoveredAttack', 'exposedKing', 'pin', 'backRankMate', 'oneMove', 'mateIn2', 'fork', 'trappedPiece', 'queenRookEndgame', 'middlegame', 'underPromotion', 'knightEndgame', 'hangingPiece', 'endgame', 'mate', 'dovetailMate', 'long', 'masterVsMaster', 'crushing', 'arabianMate', 'mateIn5', 'advantage', 'superGM', 'attackingF2F7', 'doubleBishopMate', 'mateIn1', 'advancedPawn', 'intermezzo', 'short', 'xRayAttack', 'hookMate', 'deflection', 'mateIn4', 'pawnEndgame', 'doubleCheck', 'promotion', 'attraction', 'anastasiaMate', 'mateIn3', 'queensideAttack', 'clearance', 'kingsideAttack', 'enPassant', 'queenEndgame', 'sacrifice', 'interference', 'master', 'bishopEndgame'}\n"
     ]
    }
   ],
   "source": [
    "print(tags)"
   ]
  },
  {
   "cell_type": "code",
   "execution_count": null,
   "id": "6a6143c204ca394e",
   "metadata": {
    "ExecuteTime": {
     "end_time": "2025-07-28T10:28:27.935243Z",
     "start_time": "2025-07-28T10:28:27.931457Z"
    }
   },
   "outputs": [],
   "source": []
  },
  {
   "cell_type": "code",
   "execution_count": 5,
   "id": "c9c0a831f46fa080",
   "metadata": {
    "ExecuteTime": {
     "end_time": "2025-07-28T10:28:28.022052Z",
     "start_time": "2025-07-28T10:28:28.016749Z"
    }
   },
   "outputs": [],
   "source": [
    "# import matplotlib.pyplot as plt\n",
    "# import seaborn as sns\n",
    "# # show distribution of ratings\n",
    "# plt.figure(figsize=(10, 6))\n",
    "# sns.histplot(data['Rating'][:100], bins=30, kde=True)"
   ]
  },
  {
   "cell_type": "code",
   "execution_count": 6,
   "id": "d28b9c05720c6333",
   "metadata": {
    "ExecuteTime": {
     "end_time": "2025-07-28T10:28:29.277948Z",
     "start_time": "2025-07-28T10:28:28.782624Z"
    }
   },
   "outputs": [],
   "source": [
    "fen = data['FEN'].iloc[0]\n",
    "\n",
    "board = chess.Board(fen)\n",
    "\n",
    "# use stockfish to get the best move\n",
    "stockfish.set_fen_position(board.fen())\n",
    "best_move = stockfish.get_best_move()"
   ]
  },
  {
   "cell_type": "code",
   "execution_count": 10,
   "id": "4feb60c230769c5b",
   "metadata": {
    "ExecuteTime": {
     "end_time": "2025-07-28T10:28:42.280286Z",
     "start_time": "2025-07-28T10:28:42.273591Z"
    }
   },
   "outputs": [
    {
     "name": "stdout",
     "output_type": "stream",
     "text": [
      "+---+---+---+---+---+---+---+---+\n",
      "| r |   |   |   |   |   | k |   | 8\n",
      "+---+---+---+---+---+---+---+---+\n",
      "| p | p |   |   |   | p |   | p | 7\n",
      "+---+---+---+---+---+---+---+---+\n",
      "|   |   | b |   |   | q | p |   | 6\n",
      "+---+---+---+---+---+---+---+---+\n",
      "|   |   |   | p | r |   |   |   | 5\n",
      "+---+---+---+---+---+---+---+---+\n",
      "|   |   |   |   |   |   |   |   | 4\n",
      "+---+---+---+---+---+---+---+---+\n",
      "|   |   |   |   | P |   |   | P | 3\n",
      "+---+---+---+---+---+---+---+---+\n",
      "| R |   | P | N |   | P | P |   | 2\n",
      "+---+---+---+---+---+---+---+---+\n",
      "| Q |   |   |   | K |   |   | R | 1\n",
      "+---+---+---+---+---+---+---+---+\n",
      "  a   b   c   d   e   f   g   h\n",
      "\n"
     ]
    }
   ],
   "source": [
    "print(stockfish.get_board_visual(True))"
   ]
  },
  {
   "cell_type": "code",
   "execution_count": 11,
   "id": "eb52b2e9d45456eb",
   "metadata": {
    "ExecuteTime": {
     "end_time": "2025-07-28T10:29:00.429029Z",
     "start_time": "2025-07-28T10:29:00.421758Z"
    }
   },
   "outputs": [
    {
     "data": {
      "text/plain": [
       "'d2f3'"
      ]
     },
     "execution_count": 11,
     "metadata": {},
     "output_type": "execute_result"
    }
   ],
   "source": [
    "best_move"
   ]
  },
  {
   "cell_type": "code",
   "execution_count": 12,
   "id": "430a81356478e59a",
   "metadata": {
    "ExecuteTime": {
     "end_time": "2025-07-28T10:29:05.107930Z",
     "start_time": "2025-07-28T10:29:04.916639Z"
    }
   },
   "outputs": [
    {
     "data": {
      "text/plain": [
       "{'type': 'cp', 'value': -66}"
      ]
     },
     "execution_count": 12,
     "metadata": {},
     "output_type": "execute_result"
    }
   ],
   "source": [
    "stockfish.get_evaluation()"
   ]
  },
  {
   "cell_type": "code",
   "execution_count": 13,
   "id": "608d1ab34d0a066c",
   "metadata": {
    "ExecuteTime": {
     "end_time": "2025-07-28T10:29:10.218376Z",
     "start_time": "2025-07-28T10:29:06.974637Z"
    }
   },
   "outputs": [
    {
     "data": {
      "text/plain": [
       "34"
      ]
     },
     "execution_count": 13,
     "metadata": {},
     "output_type": "execute_result"
    }
   ],
   "source": [
    "moves = stockfish.get_top_moves(50)\n",
    "len(moves)"
   ]
  },
  {
   "cell_type": "code",
   "execution_count": 14,
   "id": "ea3ee801f65dfb5e",
   "metadata": {
    "ExecuteTime": {
     "end_time": "2025-07-28T10:29:12.777074Z",
     "start_time": "2025-07-28T10:29:12.770613Z"
    }
   },
   "outputs": [
    {
     "data": {
      "text/plain": [
       "34"
      ]
     },
     "execution_count": 14,
     "metadata": {},
     "output_type": "execute_result"
    }
   ],
   "source": [
    "legal_moves = list(board.legal_moves)\n",
    "len(legal_moves)"
   ]
  },
  {
   "cell_type": "code",
   "execution_count": 15,
   "id": "4cebb34b4ab232d1",
   "metadata": {
    "ExecuteTime": {
     "end_time": "2025-07-28T10:29:15.167620Z",
     "start_time": "2025-07-28T10:29:15.159656Z"
    }
   },
   "outputs": [
    {
     "data": {
      "text/plain": [
       "'info depth 15 seldepth 30 multipv 1 score cp -82 wdl 0 727 273 nodes 124154 nps 255460 hashfull 41 tbhits 0 time 486 pv d2f3 e5f5 a1f6 f5f6 f3d4 b7b6 f2f3 a7a5 e1f2 c6b7 h1b1 b7a6 a2b2 a6c4 b2b6 f6b6 b1b6'"
      ]
     },
     "execution_count": 15,
     "metadata": {},
     "output_type": "execute_result"
    }
   ],
   "source": [
    "stockfish.info"
   ]
  },
  {
   "cell_type": "code",
   "execution_count": 48,
   "id": "deec61f8a45aa630",
   "metadata": {
    "ExecuteTime": {
     "end_time": "2025-07-27T23:12:35.683717Z",
     "start_time": "2025-07-27T23:12:35.676375Z"
    }
   },
   "outputs": [
    {
     "name": "stdout",
     "output_type": "stream",
     "text": [
      "r . . . . . k .\n",
      "p p . . . p . p\n",
      ". . b . . q p .\n",
      ". . . p r . . .\n",
      ". . . . . . . .\n",
      ". . . . P . . P\n",
      "R . P N . P P .\n",
      "Q . . . K . . R\n"
     ]
    }
   ],
   "source": [
    "print(str(board))"
   ]
  },
  {
   "cell_type": "code",
   "execution_count": 55,
   "id": "a5d265900cd94b9b",
   "metadata": {
    "ExecuteTime": {
     "end_time": "2025-07-27T23:18:04.123566Z",
     "start_time": "2025-07-27T23:18:04.084531Z"
    }
   },
   "outputs": [
    {
     "ename": "AttributeError",
     "evalue": "'Board' object has no attribute 'ascii'",
     "output_type": "error",
     "traceback": [
      "\u001b[1;31m---------------------------------------------------------------------------\u001b[0m",
      "\u001b[1;31mAttributeError\u001b[0m                            Traceback (most recent call last)",
      "Cell \u001b[1;32mIn[55], line 1\u001b[0m\n\u001b[1;32m----> 1\u001b[0m \u001b[43mboard\u001b[49m\u001b[38;5;241;43m.\u001b[39;49m\u001b[43mascii\u001b[49m()\n",
      "\u001b[1;31mAttributeError\u001b[0m: 'Board' object has no attribute 'ascii'"
     ]
    }
   ],
   "source": [
    "board.ascii()"
   ]
  },
  {
   "cell_type": "code",
   "execution_count": 15,
   "id": "21cb782a4b754779",
   "metadata": {
    "ExecuteTime": {
     "end_time": "2025-07-28T10:04:11.916587Z",
     "start_time": "2025-07-28T10:04:11.909016Z"
    }
   },
   "outputs": [
    {
     "name": "stdout",
     "output_type": "stream",
     "text": [
      "  -----------------\n",
      "8 |♜|⭘|⭘|⭘|⭘|⭘|♚|⭘|\n",
      "  -----------------\n",
      "7 |♟|♟|⭘|⭘|⭘|♟|⭘|♟|\n",
      "  -----------------\n",
      "6 |⭘|⭘|♝|⭘|⭘|♛|♟|⭘|\n",
      "  -----------------\n",
      "5 |⭘|⭘|⭘|♟|♜|⭘|⭘|⭘|\n",
      "  -----------------\n",
      "4 |⭘|⭘|⭘|⭘|⭘|⭘|⭘|⭘|\n",
      "  -----------------\n",
      "3 |⭘|⭘|⭘|⭘|♙|⭘|⭘|♙|\n",
      "  -----------------\n",
      "2 |♖|⭘|♙|♘|⭘|♙|♙|⭘|\n",
      "  -----------------\n",
      "1 |♕|⭘|⭘|⭘|♔|⭘|⭘|♖|\n",
      "  -----------------\n",
      "   a b c d e f g h\n"
     ]
    }
   ],
   "source": [
    "print(board.unicode(borders=True))"
   ]
  },
  {
   "cell_type": "code",
   "execution_count": 24,
   "id": "6798c1429370309a",
   "metadata": {
    "ExecuteTime": {
     "end_time": "2025-07-28T10:05:13.120681Z",
     "start_time": "2025-07-28T10:05:13.112323Z"
    }
   },
   "outputs": [],
   "source": [
    "def board_to_text(board):\n",
    "\t\"\"\"\n",
    "\tCreates a text representation of the board with file and rank labels,\n",
    "\tusing simple letters for pieces.\n",
    "\t\"\"\"\n",
    "\ts = \"   a b c d e f g h\\n\"\n",
    "\ts += \" +-----------------+\\n\"\n",
    "\tfor rank in range(7, -1, -1):\n",
    "\t\ts += f\"{rank + 1}|\"\n",
    "\t\tfor file in range(8):\n",
    "\t\t\tsquare = chess.square(file, rank)\n",
    "\t\t\tpiece = board.piece_at(square)\n",
    "\n",
    "\t\t\t# The key is piece.symbol() which returns 'P', 'n', 'K', etc.\n",
    "\t\t\tsymbol = piece.symbol() if piece else \".\"\n",
    "\t\t\ts += f\" {symbol}\"\n",
    "\t\ts += f\" |{rank + 1}\\n\"\n",
    "\ts += \" +-----------------+\\n\"\n",
    "\ts += \"   a b c d e f g h\\n\"\n",
    "\treturn s"
   ]
  },
  {
   "cell_type": "code",
   "execution_count": 26,
   "id": "3d3a855fc3b8a252",
   "metadata": {
    "ExecuteTime": {
     "end_time": "2025-07-28T10:06:01.530778Z",
     "start_time": "2025-07-28T10:06:01.523128Z"
    }
   },
   "outputs": [
    {
     "name": "stdout",
     "output_type": "stream",
     "text": [
      "   a b c d e f g h\n",
      " +-----------------+\n",
      "8| r . . . . . k . |8\n",
      "7| p p . . . p . p |7\n",
      "6| . . b . . q p . |6\n",
      "5| . . . p r . . . |5\n",
      "4| . . . . . . . . |4\n",
      "3| . . . . P . . P |3\n",
      "2| R . P N . P P . |2\n",
      "1| Q . . . K . . R |1\n",
      " +-----------------+\n",
      "   a b c d e f g h\n",
      "\n"
     ]
    }
   ],
   "source": [
    "print(board_to_text(board))"
   ]
  },
  {
   "cell_type": "code",
   "execution_count": null,
   "id": "ec26f6567cb92aa0",
   "metadata": {},
   "outputs": [],
   "source": []
  },
  {
   "cell_type": "code",
   "execution_count": 28,
   "id": "9bae67e0d4610b64",
   "metadata": {
    "ExecuteTime": {
     "end_time": "2025-07-28T10:34:38.946947Z",
     "start_time": "2025-07-28T10:34:38.940726Z"
    }
   },
   "outputs": [],
   "source": []
  },
  {
   "cell_type": "code",
   "execution_count": 42,
   "id": "90eae6aeb2419306",
   "metadata": {
    "ExecuteTime": {
     "end_time": "2025-07-28T10:43:40.035277Z",
     "start_time": "2025-07-28T10:43:40.027375Z"
    }
   },
   "outputs": [],
   "source": [
    "depth = 18\n",
    "# stockfish.depth = depth\n",
    "stockfish.set_depth(depth)\n",
    "# stockfish.info\n",
    "# stockfish.get_parameters()"
   ]
  },
  {
   "cell_type": "code",
   "execution_count": null,
   "id": "94a5c98f8da595e8",
   "metadata": {},
   "outputs": [],
   "source": [
    "analysis = {}\n",
    "rerun = data.index.tolist()"
   ]
  },
  {
   "cell_type": "code",
   "execution_count": 40,
   "id": "d2e97c978a421942",
   "metadata": {
    "ExecuteTime": {
     "end_time": "2025-07-28T10:43:27.822855Z",
     "start_time": "2025-07-28T10:43:27.817728Z"
    }
   },
   "outputs": [],
   "source": [
    "todo = rerun"
   ]
  },
  {
   "cell_type": "code",
   "execution_count": 41,
   "id": "9595d7d9cb6feb6",
   "metadata": {
    "ExecuteTime": {
     "end_time": "2025-07-28T10:43:28.778539Z",
     "start_time": "2025-07-28T10:43:28.771251Z"
    }
   },
   "outputs": [
    {
     "data": {
      "text/plain": [
       "1"
      ]
     },
     "execution_count": 41,
     "metadata": {},
     "output_type": "execute_result"
    }
   ],
   "source": [
    "len(todo)"
   ]
  },
  {
   "cell_type": "code",
   "execution_count": 43,
   "id": "1eff586e9a218c3f",
   "metadata": {
    "ExecuteTime": {
     "end_time": "2025-07-28T10:43:52.895771Z",
     "start_time": "2025-07-28T10:43:48.548411Z"
    }
   },
   "outputs": [
    {
     "data": {
      "application/vnd.jupyter.widget-view+json": {
       "model_id": "74d1cf80c9774bb1b541516e7f3ef097",
       "version_major": 2,
       "version_minor": 0
      },
      "text/plain": [
       "  0%|          | 0/1 [00:00<?, ?it/s]"
      ]
     },
     "metadata": {},
     "output_type": "display_data"
    }
   ],
   "source": [
    "\n",
    "bad = []\n",
    "for i in tqdm(todo):\n",
    "\titem = data.loc[i]\n",
    "\ttry:\n",
    "\t\tfen = item['FEN']\n",
    "\t\tboard = chess.Board(fen)\n",
    "\t\tmoves = item['Moves'].split()\n",
    "\t\tfirst_move, answer, *other = moves\n",
    "\t\tboard.push_san(first_move)\n",
    "\n",
    "\t\tstockfish.set_fen_position(board.fen())\n",
    "\n",
    "\t\tbest = stockfish.get_best_move()\n",
    "\t\tif best != answer:\n",
    "\t\t\tbad.append(i)\n",
    "\t\t\tprint(f\"Game {i}: Best move: {best}, expected {answer}, url {item['GameUrl']}, moves {moves}\")\n",
    "\t\t\tprint(item)\n",
    "\t\t\tprint()\n",
    "\n",
    "\t\ta = {'ID': i}\n",
    "\n",
    "\t\tvalue = stockfish.get_evaluation()\n",
    "\t\ta['score'] = value['value']\n",
    "\n",
    "\t\ta['white_view'] = stockfish.get_board_visual(True)\n",
    "\t\ta['black_view'] = stockfish.get_board_visual(False)\n",
    "\n",
    "\t\ta['moves'] = stockfish.get_top_moves(board.legal_moves.count())\n",
    "\n",
    "\t\tanalysis[i] = a\n",
    "\texcept KeyboardInterrupt:\n",
    "\t\traise\n",
    "\texcept Exception as e:\n",
    "\t\tprint(f\"Error processing game {i}: {e}\")\n",
    "\t\tbad.append(i)\n",
    "rerun = bad"
   ]
  },
  {
   "cell_type": "code",
   "execution_count": 44,
   "id": "33de804b6c6e7f20",
   "metadata": {
    "ExecuteTime": {
     "end_time": "2025-07-28T10:43:57.719087Z",
     "start_time": "2025-07-28T10:43:57.030243Z"
    }
   },
   "outputs": [],
   "source": [
    "# json.dump(analysis, repo_root().joinpath('assets', 'chess', f'analysis.json').open('w'), indent=2)"
   ]
  },
  {
   "cell_type": "code",
   "execution_count": 45,
   "id": "9748a68485159535",
   "metadata": {
    "ExecuteTime": {
     "end_time": "2025-07-28T10:44:08.000902Z",
     "start_time": "2025-07-28T10:44:07.992386Z"
    }
   },
   "outputs": [
    {
     "data": {
      "text/plain": [
       "FEN                       8/1p6/4p3/p1k1B1P1/2b5/4KP2/8/8 b - - 2 52\n",
       "Moves                                            c5d5 g5g6 d5e5 g6g7\n",
       "Rating                                                          1595\n",
       "RatingDeviation                                                   80\n",
       "Popularity                                                        96\n",
       "NbPlays                                                        17911\n",
       "Themes             advancedPawn bishopEndgame crushing endgame sa...\n",
       "GameUrl                       https://lichess.org/NiPQzKJ2/black#103\n",
       "OpeningTags                                                      NaN\n",
       "SortKey                                                      1719456\n",
       "Name: OTEpS, dtype: object"
      ]
     },
     "execution_count": 45,
     "metadata": {},
     "output_type": "execute_result"
    }
   ],
   "source": [
    "item"
   ]
  },
  {
   "cell_type": "code",
   "execution_count": null,
   "id": "f5cc7c9bdbf9777c",
   "metadata": {},
   "outputs": [],
   "source": []
  },
  {
   "cell_type": "code",
   "execution_count": null,
   "id": "3dd8a07a1ebee257",
   "metadata": {},
   "outputs": [],
   "source": []
  },
  {
   "cell_type": "code",
   "execution_count": 55,
   "id": "94cf23b2fc90c567",
   "metadata": {
    "ExecuteTime": {
     "end_time": "2025-07-28T10:19:31.941395Z",
     "start_time": "2025-07-28T10:19:31.924161Z"
    }
   },
   "outputs": [
    {
     "data": {
      "text/plain": [
       "{'Debug Log File': '',\n",
       " 'Contempt': 0,\n",
       " 'Min Split Depth': 0,\n",
       " 'Ponder': 'false',\n",
       " 'MultiPV': 1,\n",
       " 'Skill Level': 20,\n",
       " 'Move Overhead': 10,\n",
       " 'Minimum Thinking Time': 20,\n",
       " 'Slow Mover': 100,\n",
       " 'UCI_Chess960': 'false',\n",
       " 'UCI_LimitStrength': 'false',\n",
       " 'UCI_Elo': 1350,\n",
       " 'Threads': 1,\n",
       " 'Hash': 16}"
      ]
     },
     "execution_count": 55,
     "metadata": {},
     "output_type": "execute_result"
    }
   ],
   "source": [
    "# stockfish.depth = 15\n",
    "stockfish.get_parameters()"
   ]
  },
  {
   "cell_type": "code",
   "execution_count": 53,
   "id": "65dd440158c45548",
   "metadata": {
    "ExecuteTime": {
     "end_time": "2025-07-28T10:16:37.388768Z",
     "start_time": "2025-07-28T10:16:37.331302Z"
    }
   },
   "outputs": [
    {
     "data": {
      "image/svg+xml": [
       "<svg xmlns=\"http://www.w3.org/2000/svg\" xmlns:xlink=\"http://www.w3.org/1999/xlink\" viewBox=\"0 0 390 390\" width=\"390\" height=\"390\"><desc><pre>. . . . . . . .\n",
       ". . p q . r p k\n",
       ". b . p . . n p\n",
       "p . . P . . . b\n",
       ". p . B P p . .\n",
       ". P . Q . N . P\n",
       "P . R . . P P .\n",
       ". . R . . . . K</pre></desc><defs><g id=\"white-pawn\" class=\"white pawn\"><path d=\"M22.5 9c-2.21 0-4 1.79-4 4 0 .89.29 1.71.78 2.38C17.33 16.5 16 18.59 16 21c0 2.03.94 3.84 2.41 5.03-3 1.06-7.41 5.55-7.41 13.47h23c0-7.92-4.41-12.41-7.41-13.47 1.47-1.19 2.41-3 2.41-5.03 0-2.41-1.33-4.5-3.28-5.62.49-.67.78-1.49.78-2.38 0-2.21-1.79-4-4-4z\" fill=\"#fff\" stroke=\"#000\" stroke-width=\"1.5\" stroke-linecap=\"round\" /></g><g id=\"white-knight\" class=\"white knight\" fill=\"none\" fill-rule=\"evenodd\" stroke=\"#000\" stroke-width=\"1.5\" stroke-linecap=\"round\" stroke-linejoin=\"round\"><path d=\"M 22,10 C 32.5,11 38.5,18 38,39 L 15,39 C 15,30 25,32.5 23,18\" style=\"fill:#ffffff; stroke:#000000;\" /><path d=\"M 24,18 C 24.38,20.91 18.45,25.37 16,27 C 13,29 13.18,31.34 11,31 C 9.958,30.06 12.41,27.96 11,28 C 10,28 11.19,29.23 10,30 C 9,30 5.997,31 6,26 C 6,24 12,14 12,14 C 12,14 13.89,12.1 14,10.5 C 13.27,9.506 13.5,8.5 13.5,7.5 C 14.5,6.5 16.5,10 16.5,10 L 18.5,10 C 18.5,10 19.28,8.008 21,7 C 22,7 22,10 22,10\" style=\"fill:#ffffff; stroke:#000000;\" /><path d=\"M 9.5 25.5 A 0.5 0.5 0 1 1 8.5,25.5 A 0.5 0.5 0 1 1 9.5 25.5 z\" style=\"fill:#000000; stroke:#000000;\" /><path d=\"M 15 15.5 A 0.5 1.5 0 1 1 14,15.5 A 0.5 1.5 0 1 1 15 15.5 z\" transform=\"matrix(0.866,0.5,-0.5,0.866,9.693,-5.173)\" style=\"fill:#000000; stroke:#000000;\" /></g><g id=\"white-bishop\" class=\"white bishop\" fill=\"none\" fill-rule=\"evenodd\" stroke=\"#000\" stroke-width=\"1.5\" stroke-linecap=\"round\" stroke-linejoin=\"round\"><g fill=\"#fff\" stroke-linecap=\"butt\"><path d=\"M9 36c3.39-.97 10.11.43 13.5-2 3.39 2.43 10.11 1.03 13.5 2 0 0 1.65.54 3 2-.68.97-1.65.99-3 .5-3.39-.97-10.11.46-13.5-1-3.39 1.46-10.11.03-13.5 1-1.354.49-2.323.47-3-.5 1.354-1.94 3-2 3-2zM15 32c2.5 2.5 12.5 2.5 15 0 .5-1.5 0-2 0-2 0-2.5-2.5-4-2.5-4 5.5-1.5 6-11.5-5-15.5-11 4-10.5 14-5 15.5 0 0-2.5 1.5-2.5 4 0 0-.5.5 0 2zM25 8a2.5 2.5 0 1 1-5 0 2.5 2.5 0 1 1 5 0z\" /></g><path d=\"M17.5 26h10M15 30h15m-7.5-14.5v5M20 18h5\" stroke-linejoin=\"miter\" /></g><g id=\"white-rook\" class=\"white rook\" fill=\"#fff\" fill-rule=\"evenodd\" stroke=\"#000\" stroke-width=\"1.5\" stroke-linecap=\"round\" stroke-linejoin=\"round\"><path d=\"M9 39h27v-3H9v3zM12 36v-4h21v4H12zM11 14V9h4v2h5V9h5v2h5V9h4v5\" stroke-linecap=\"butt\" /><path d=\"M34 14l-3 3H14l-3-3\" /><path d=\"M31 17v12.5H14V17\" stroke-linecap=\"butt\" stroke-linejoin=\"miter\" /><path d=\"M31 29.5l1.5 2.5h-20l1.5-2.5\" /><path d=\"M11 14h23\" fill=\"none\" stroke-linejoin=\"miter\" /></g><g id=\"white-queen\" class=\"white queen\" fill=\"#fff\" fill-rule=\"evenodd\" stroke=\"#000\" stroke-width=\"1.5\" stroke-linecap=\"round\" stroke-linejoin=\"round\"><path d=\"M8 12a2 2 0 1 1-4 0 2 2 0 1 1 4 0zM24.5 7.5a2 2 0 1 1-4 0 2 2 0 1 1 4 0zM41 12a2 2 0 1 1-4 0 2 2 0 1 1 4 0zM16 8.5a2 2 0 1 1-4 0 2 2 0 1 1 4 0zM33 9a2 2 0 1 1-4 0 2 2 0 1 1 4 0z\" /><path d=\"M9 26c8.5-1.5 21-1.5 27 0l2-12-7 11V11l-5.5 13.5-3-15-3 15-5.5-14V25L7 14l2 12zM9 26c0 2 1.5 2 2.5 4 1 1.5 1 1 .5 3.5-1.5 1-1.5 2.5-1.5 2.5-1.5 1.5.5 2.5.5 2.5 6.5 1 16.5 1 23 0 0 0 1.5-1 0-2.5 0 0 .5-1.5-1-2.5-.5-2.5-.5-2 .5-3.5 1-2 2.5-2 2.5-4-8.5-1.5-18.5-1.5-27 0z\" stroke-linecap=\"butt\" /><path d=\"M11.5 30c3.5-1 18.5-1 22 0M12 33.5c6-1 15-1 21 0\" fill=\"none\" /></g><g id=\"white-king\" class=\"white king\" fill=\"none\" fill-rule=\"evenodd\" stroke=\"#000\" stroke-width=\"1.5\" stroke-linecap=\"round\" stroke-linejoin=\"round\"><path d=\"M22.5 11.63V6M20 8h5\" stroke-linejoin=\"miter\" /><path d=\"M22.5 25s4.5-7.5 3-10.5c0 0-1-2.5-3-2.5s-3 2.5-3 2.5c-1.5 3 3 10.5 3 10.5\" fill=\"#fff\" stroke-linecap=\"butt\" stroke-linejoin=\"miter\" /><path d=\"M11.5 37c5.5 3.5 15.5 3.5 21 0v-7s9-4.5 6-10.5c-4-6.5-13.5-3.5-16 4V27v-3.5c-3.5-7.5-13-10.5-16-4-3 6 5 10 5 10V37z\" fill=\"#fff\" /><path d=\"M11.5 30c5.5-3 15.5-3 21 0m-21 3.5c5.5-3 15.5-3 21 0m-21 3.5c5.5-3 15.5-3 21 0\" /></g><g id=\"black-pawn\" class=\"black pawn\"><path d=\"M22.5 9c-2.21 0-4 1.79-4 4 0 .89.29 1.71.78 2.38C17.33 16.5 16 18.59 16 21c0 2.03.94 3.84 2.41 5.03-3 1.06-7.41 5.55-7.41 13.47h23c0-7.92-4.41-12.41-7.41-13.47 1.47-1.19 2.41-3 2.41-5.03 0-2.41-1.33-4.5-3.28-5.62.49-.67.78-1.49.78-2.38 0-2.21-1.79-4-4-4z\" fill=\"#000\" stroke=\"#000\" stroke-width=\"1.5\" stroke-linecap=\"round\" /></g><g id=\"black-knight\" class=\"black knight\" fill=\"none\" fill-rule=\"evenodd\" stroke=\"#000\" stroke-width=\"1.5\" stroke-linecap=\"round\" stroke-linejoin=\"round\"><path d=\"M 22,10 C 32.5,11 38.5,18 38,39 L 15,39 C 15,30 25,32.5 23,18\" style=\"fill:#000000; stroke:#000000;\" /><path d=\"M 24,18 C 24.38,20.91 18.45,25.37 16,27 C 13,29 13.18,31.34 11,31 C 9.958,30.06 12.41,27.96 11,28 C 10,28 11.19,29.23 10,30 C 9,30 5.997,31 6,26 C 6,24 12,14 12,14 C 12,14 13.89,12.1 14,10.5 C 13.27,9.506 13.5,8.5 13.5,7.5 C 14.5,6.5 16.5,10 16.5,10 L 18.5,10 C 18.5,10 19.28,8.008 21,7 C 22,7 22,10 22,10\" style=\"fill:#000000; stroke:#000000;\" /><path d=\"M 9.5 25.5 A 0.5 0.5 0 1 1 8.5,25.5 A 0.5 0.5 0 1 1 9.5 25.5 z\" style=\"fill:#ececec; stroke:#ececec;\" /><path d=\"M 15 15.5 A 0.5 1.5 0 1 1 14,15.5 A 0.5 1.5 0 1 1 15 15.5 z\" transform=\"matrix(0.866,0.5,-0.5,0.866,9.693,-5.173)\" style=\"fill:#ececec; stroke:#ececec;\" /><path d=\"M 24.55,10.4 L 24.1,11.85 L 24.6,12 C 27.75,13 30.25,14.49 32.5,18.75 C 34.75,23.01 35.75,29.06 35.25,39 L 35.2,39.5 L 37.45,39.5 L 37.5,39 C 38,28.94 36.62,22.15 34.25,17.66 C 31.88,13.17 28.46,11.02 25.06,10.5 L 24.55,10.4 z \" style=\"fill:#ececec; stroke:none;\" /></g><g id=\"black-bishop\" class=\"black bishop\" fill=\"none\" fill-rule=\"evenodd\" stroke=\"#000\" stroke-width=\"1.5\" stroke-linecap=\"round\" stroke-linejoin=\"round\"><path d=\"M9 36c3.39-.97 10.11.43 13.5-2 3.39 2.43 10.11 1.03 13.5 2 0 0 1.65.54 3 2-.68.97-1.65.99-3 .5-3.39-.97-10.11.46-13.5-1-3.39 1.46-10.11.03-13.5 1-1.354.49-2.323.47-3-.5 1.354-1.94 3-2 3-2zm6-4c2.5 2.5 12.5 2.5 15 0 .5-1.5 0-2 0-2 0-2.5-2.5-4-2.5-4 5.5-1.5 6-11.5-5-15.5-11 4-10.5 14-5 15.5 0 0-2.5 1.5-2.5 4 0 0-.5.5 0 2zM25 8a2.5 2.5 0 1 1-5 0 2.5 2.5 0 1 1 5 0z\" fill=\"#000\" stroke-linecap=\"butt\" /><path d=\"M17.5 26h10M15 30h15m-7.5-14.5v5M20 18h5\" stroke=\"#fff\" stroke-linejoin=\"miter\" /></g><g id=\"black-rook\" class=\"black rook\" fill=\"#000\" fill-rule=\"evenodd\" stroke=\"#000\" stroke-width=\"1.5\" stroke-linecap=\"round\" stroke-linejoin=\"round\"><path d=\"M9 39h27v-3H9v3zM12.5 32l1.5-2.5h17l1.5 2.5h-20zM12 36v-4h21v4H12z\" stroke-linecap=\"butt\" /><path d=\"M14 29.5v-13h17v13H14z\" stroke-linecap=\"butt\" stroke-linejoin=\"miter\" /><path d=\"M14 16.5L11 14h23l-3 2.5H14zM11 14V9h4v2h5V9h5v2h5V9h4v5H11z\" stroke-linecap=\"butt\" /><path d=\"M12 35.5h21M13 31.5h19M14 29.5h17M14 16.5h17M11 14h23\" fill=\"none\" stroke=\"#fff\" stroke-width=\"1\" stroke-linejoin=\"miter\" /></g><g id=\"black-queen\" class=\"black queen\" fill=\"#000\" fill-rule=\"evenodd\" stroke=\"#000\" stroke-width=\"1.5\" stroke-linecap=\"round\" stroke-linejoin=\"round\"><g fill=\"#000\" stroke=\"none\"><circle cx=\"6\" cy=\"12\" r=\"2.75\" /><circle cx=\"14\" cy=\"9\" r=\"2.75\" /><circle cx=\"22.5\" cy=\"8\" r=\"2.75\" /><circle cx=\"31\" cy=\"9\" r=\"2.75\" /><circle cx=\"39\" cy=\"12\" r=\"2.75\" /></g><path d=\"M9 26c8.5-1.5 21-1.5 27 0l2.5-12.5L31 25l-.3-14.1-5.2 13.6-3-14.5-3 14.5-5.2-13.6L14 25 6.5 13.5 9 26zM9 26c0 2 1.5 2 2.5 4 1 1.5 1 1 .5 3.5-1.5 1-1.5 2.5-1.5 2.5-1.5 1.5.5 2.5.5 2.5 6.5 1 16.5 1 23 0 0 0 1.5-1 0-2.5 0 0 .5-1.5-1-2.5-.5-2.5-.5-2 .5-3.5 1-2 2.5-2 2.5-4-8.5-1.5-18.5-1.5-27 0z\" stroke-linecap=\"butt\" /><path d=\"M11 38.5a35 35 1 0 0 23 0\" fill=\"none\" stroke-linecap=\"butt\" /><path d=\"M11 29a35 35 1 0 1 23 0M12.5 31.5h20M11.5 34.5a35 35 1 0 0 22 0M10.5 37.5a35 35 1 0 0 24 0\" fill=\"none\" stroke=\"#fff\" /></g><g id=\"black-king\" class=\"black king\" fill=\"none\" fill-rule=\"evenodd\" stroke=\"#000\" stroke-width=\"1.5\" stroke-linecap=\"round\" stroke-linejoin=\"round\"><path d=\"M22.5 11.63V6\" stroke-linejoin=\"miter\" /><path d=\"M22.5 25s4.5-7.5 3-10.5c0 0-1-2.5-3-2.5s-3 2.5-3 2.5c-1.5 3 3 10.5 3 10.5\" fill=\"#000\" stroke-linecap=\"butt\" stroke-linejoin=\"miter\" /><path d=\"M11.5 37c5.5 3.5 15.5 3.5 21 0v-7s9-4.5 6-10.5c-4-6.5-13.5-3.5-16 4V27v-3.5c-3.5-7.5-13-10.5-16-4-3 6 5 10 5 10V37z\" fill=\"#000\" /><path d=\"M20 8h5\" stroke-linejoin=\"miter\" /><path d=\"M32 29.5s8.5-4 6.03-9.65C34.15 14 25 18 22.5 24.5l.01 2.1-.01-2.1C20 18 9.906 14 6.997 19.85c-2.497 5.65 4.853 9 4.853 9M11.5 30c5.5-3 15.5-3 21 0m-21 3.5c5.5-3 15.5-3 21 0m-21 3.5c5.5-3 15.5-3 21 0\" stroke=\"#fff\" /></g></defs><rect x=\"7.5\" y=\"7.5\" width=\"375\" height=\"375\" fill=\"none\" stroke=\"#212121\" stroke-width=\"15\" /><g transform=\"translate(20, 1) scale(0.75, 0.75)\" fill=\"#e5e5e5\" stroke=\"#e5e5e5\"><path d=\"M23.328 10.016q-1.742 0-2.414.398-.672.398-.672 1.36 0 .765.5 1.218.508.445 1.375.445 1.196 0 1.914-.843.727-.852.727-2.258v-.32zm2.867-.594v4.992h-1.437v-1.328q-.492.797-1.227 1.18-.734.375-1.797.375-1.343 0-2.14-.75-.79-.758-.79-2.024 0-1.476.985-2.226.992-.75 2.953-.75h2.016V8.75q0-.992-.656-1.531-.649-.547-1.829-.547-.75 0-1.46.18-.711.18-1.368.539V6.062q.79-.304 1.532-.453.742-.156 1.445-.156 1.898 0 2.836.984.937.985.937 2.985z\" /></g><g transform=\"translate(20, 375) scale(0.75, 0.75)\" fill=\"#e5e5e5\" stroke=\"#e5e5e5\"><path d=\"M23.328 10.016q-1.742 0-2.414.398-.672.398-.672 1.36 0 .765.5 1.218.508.445 1.375.445 1.196 0 1.914-.843.727-.852.727-2.258v-.32zm2.867-.594v4.992h-1.437v-1.328q-.492.797-1.227 1.18-.734.375-1.797.375-1.343 0-2.14-.75-.79-.758-.79-2.024 0-1.476.985-2.226.992-.75 2.953-.75h2.016V8.75q0-.992-.656-1.531-.649-.547-1.829-.547-.75 0-1.46.18-.711.18-1.368.539V6.062q.79-.304 1.532-.453.742-.156 1.445-.156 1.898 0 2.836.984.937.985.937 2.985z\" /></g><g transform=\"translate(65, 1) scale(0.75, 0.75)\" fill=\"#e5e5e5\" stroke=\"#e5e5e5\"><path d=\"M24.922 10.047q0-1.586-.656-2.485-.649-.906-1.79-.906-1.14 0-1.796.906-.649.899-.649 2.485 0 1.586.649 2.492.656.898 1.797.898 1.14 0 1.789-.898.656-.906.656-2.492zm-4.89-3.055q.452-.781 1.14-1.156.695-.383 1.656-.383 1.594 0 2.586 1.266 1 1.265 1 3.328 0 2.062-1 3.328-.992 1.266-2.586 1.266-.96 0-1.656-.375-.688-.383-1.14-1.164v1.312h-1.446V2.258h1.445z\" /></g><g transform=\"translate(65, 375) scale(0.75, 0.75)\" fill=\"#e5e5e5\" stroke=\"#e5e5e5\"><path d=\"M24.922 10.047q0-1.586-.656-2.485-.649-.906-1.79-.906-1.14 0-1.796.906-.649.899-.649 2.485 0 1.586.649 2.492.656.898 1.797.898 1.14 0 1.789-.898.656-.906.656-2.492zm-4.89-3.055q.452-.781 1.14-1.156.695-.383 1.656-.383 1.594 0 2.586 1.266 1 1.265 1 3.328 0 2.062-1 3.328-.992 1.266-2.586 1.266-.96 0-1.656-.375-.688-.383-1.14-1.164v1.312h-1.446V2.258h1.445z\" /></g><g transform=\"translate(110, 1) scale(0.75, 0.75)\" fill=\"#e5e5e5\" stroke=\"#e5e5e5\"><path d=\"M25.96 6v1.344q-.608-.336-1.226-.5-.609-.172-1.234-.172-1.398 0-2.172.89-.773.883-.773 2.485 0 1.601.773 2.492.774.883 2.172.883.625 0 1.234-.164.618-.172 1.227-.508v1.328q-.602.281-1.25.422-.64.14-1.367.14-1.977 0-3.14-1.242-1.165-1.242-1.165-3.351 0-2.14 1.172-3.367 1.18-1.227 3.227-1.227.664 0 1.296.14.633.134 1.227.407z\" /></g><g transform=\"translate(110, 375) scale(0.75, 0.75)\" fill=\"#e5e5e5\" stroke=\"#e5e5e5\"><path d=\"M25.96 6v1.344q-.608-.336-1.226-.5-.609-.172-1.234-.172-1.398 0-2.172.89-.773.883-.773 2.485 0 1.601.773 2.492.774.883 2.172.883.625 0 1.234-.164.618-.172 1.227-.508v1.328q-.602.281-1.25.422-.64.14-1.367.14-1.977 0-3.14-1.242-1.165-1.242-1.165-3.351 0-2.14 1.172-3.367 1.18-1.227 3.227-1.227.664 0 1.296.14.633.134 1.227.407z\" /></g><g transform=\"translate(155, 1) scale(0.75, 0.75)\" fill=\"#e5e5e5\" stroke=\"#e5e5e5\"><path d=\"M24.973 6.992V2.258h1.437v12.156h-1.437v-1.312q-.453.78-1.149 1.164-.687.375-1.656.375-1.586 0-2.586-1.266-.992-1.266-.992-3.328 0-2.063.992-3.328 1-1.266 2.586-1.266.969 0 1.656.383.696.375 1.149 1.156zm-4.899 3.055q0 1.586.649 2.492.656.898 1.797.898 1.14 0 1.796-.898.657-.906.657-2.492 0-1.586-.657-2.485-.656-.906-1.796-.906-1.141 0-1.797.906-.649.899-.649 2.485z\" /></g><g transform=\"translate(155, 375) scale(0.75, 0.75)\" fill=\"#e5e5e5\" stroke=\"#e5e5e5\"><path d=\"M24.973 6.992V2.258h1.437v12.156h-1.437v-1.312q-.453.78-1.149 1.164-.687.375-1.656.375-1.586 0-2.586-1.266-.992-1.266-.992-3.328 0-2.063.992-3.328 1-1.266 2.586-1.266.969 0 1.656.383.696.375 1.149 1.156zm-4.899 3.055q0 1.586.649 2.492.656.898 1.797.898 1.14 0 1.796-.898.657-.906.657-2.492 0-1.586-.657-2.485-.656-.906-1.796-.906-1.141 0-1.797.906-.649.899-.649 2.485z\" /></g><g transform=\"translate(200, 1) scale(0.75, 0.75)\" fill=\"#e5e5e5\" stroke=\"#e5e5e5\"><path d=\"M26.555 9.68v.703h-6.61q.094 1.484.89 2.265.806.774 2.235.774.828 0 1.602-.203.781-.203 1.547-.61v1.36q-.774.328-1.586.5-.813.172-1.649.172-2.093 0-3.32-1.22-1.219-1.218-1.219-3.296 0-2.148 1.157-3.406 1.164-1.266 3.132-1.266 1.766 0 2.79 1.14 1.03 1.134 1.03 3.087zm-1.438-.422q-.015-1.18-.664-1.883-.64-.703-1.703-.703-1.203 0-1.93.68-.718.68-.828 1.914z\" /></g><g transform=\"translate(200, 375) scale(0.75, 0.75)\" fill=\"#e5e5e5\" stroke=\"#e5e5e5\"><path d=\"M26.555 9.68v.703h-6.61q.094 1.484.89 2.265.806.774 2.235.774.828 0 1.602-.203.781-.203 1.547-.61v1.36q-.774.328-1.586.5-.813.172-1.649.172-2.093 0-3.32-1.22-1.219-1.218-1.219-3.296 0-2.148 1.157-3.406 1.164-1.266 3.132-1.266 1.766 0 2.79 1.14 1.03 1.134 1.03 3.087zm-1.438-.422q-.015-1.18-.664-1.883-.64-.703-1.703-.703-1.203 0-1.93.68-.718.68-.828 1.914z\" /></g><g transform=\"translate(245, 1) scale(0.75, 0.75)\" fill=\"#e5e5e5\" stroke=\"#e5e5e5\"><path d=\"M25.285 2.258v1.195H23.91q-.773 0-1.078.313-.297.312-.297 1.125v.773h2.367v1.117h-2.367v7.633H21.09V6.781h-1.375V5.664h1.375v-.61q0-1.46.68-2.124.68-.672 2.156-.672z\" /></g><g transform=\"translate(245, 375) scale(0.75, 0.75)\" fill=\"#e5e5e5\" stroke=\"#e5e5e5\"><path d=\"M25.285 2.258v1.195H23.91q-.773 0-1.078.313-.297.312-.297 1.125v.773h2.367v1.117h-2.367v7.633H21.09V6.781h-1.375V5.664h1.375v-.61q0-1.46.68-2.124.68-.672 2.156-.672z\" /></g><g transform=\"translate(290, 1) scale(0.75, 0.75)\" fill=\"#e5e5e5\" stroke=\"#e5e5e5\"><path d=\"M24.973 9.937q0-1.562-.649-2.421-.64-.86-1.804-.86-1.157 0-1.805.86-.64.859-.64 2.421 0 1.555.64 2.415.648.859 1.805.859 1.164 0 1.804-.86.649-.859.649-2.414zm1.437 3.391q0 2.234-.992 3.32-.992 1.094-3.04 1.094-.757 0-1.429-.117-.672-.11-1.304-.344v-1.398q.632.344 1.25.508.617.164 1.257.164 1.414 0 2.118-.743.703-.734.703-2.226v-.711q-.446.773-1.141 1.156-.695.383-1.664.383-1.61 0-2.594-1.227-.984-1.226-.984-3.25 0-2.03.984-3.257.985-1.227 2.594-1.227.969 0 1.664.383t1.14 1.156V5.664h1.438z\" /></g><g transform=\"translate(290, 375) scale(0.75, 0.75)\" fill=\"#e5e5e5\" stroke=\"#e5e5e5\"><path d=\"M24.973 9.937q0-1.562-.649-2.421-.64-.86-1.804-.86-1.157 0-1.805.86-.64.859-.64 2.421 0 1.555.64 2.415.648.859 1.805.859 1.164 0 1.804-.86.649-.859.649-2.414zm1.437 3.391q0 2.234-.992 3.32-.992 1.094-3.04 1.094-.757 0-1.429-.117-.672-.11-1.304-.344v-1.398q.632.344 1.25.508.617.164 1.257.164 1.414 0 2.118-.743.703-.734.703-2.226v-.711q-.446.773-1.141 1.156-.695.383-1.664.383-1.61 0-2.594-1.227-.984-1.226-.984-3.25 0-2.03.984-3.257.985-1.227 2.594-1.227.969 0 1.664.383t1.14 1.156V5.664h1.438z\" /></g><g transform=\"translate(335, 1) scale(0.75, 0.75)\" fill=\"#e5e5e5\" stroke=\"#e5e5e5\"><path d=\"M26.164 9.133v5.281h-1.437V9.18q0-1.243-.485-1.86-.484-.617-1.453-.617-1.164 0-1.836.742-.672.742-.672 2.024v4.945h-1.445V2.258h1.445v4.765q.516-.789 1.211-1.18.703-.39 1.617-.39 1.508 0 2.282.938.773.93.773 2.742z\" /></g><g transform=\"translate(335, 375) scale(0.75, 0.75)\" fill=\"#e5e5e5\" stroke=\"#e5e5e5\"><path d=\"M26.164 9.133v5.281h-1.437V9.18q0-1.243-.485-1.86-.484-.617-1.453-.617-1.164 0-1.836.742-.672.742-.672 2.024v4.945h-1.445V2.258h1.445v4.765q.516-.789 1.211-1.18.703-.39 1.617-.39 1.508 0 2.282.938.773.93.773 2.742z\" /></g><g transform=\"translate(0, 335) scale(0.75, 0.75)\" fill=\"#e5e5e5\" stroke=\"#e5e5e5\"><path d=\"M6.754 26.996h2.578v-8.898l-2.805.562v-1.437l2.79-.563h1.578v10.336h2.578v1.328h-6.72z\" /></g><g transform=\"translate(375, 335) scale(0.75, 0.75)\" fill=\"#e5e5e5\" stroke=\"#e5e5e5\"><path d=\"M6.754 26.996h2.578v-8.898l-2.805.562v-1.437l2.79-.563h1.578v10.336h2.578v1.328h-6.72z\" /></g><g transform=\"translate(0, 290) scale(0.75, 0.75)\" fill=\"#e5e5e5\" stroke=\"#e5e5e5\"><path d=\"M8.195 26.996h5.508v1.328H6.297v-1.328q.898-.93 2.445-2.492 1.555-1.57 1.953-2.024.758-.851 1.055-1.437.305-.594.305-1.164 0-.93-.657-1.516-.648-.586-1.695-.586-.742 0-1.57.258-.82.258-1.758.781v-1.593q.953-.383 1.781-.578.828-.196 1.516-.196 1.812 0 2.89.906 1.079.907 1.079 2.422 0 .72-.274 1.368-.265.64-.976 1.515-.196.227-1.243 1.313-1.046 1.078-2.953 3.023z\" /></g><g transform=\"translate(375, 290) scale(0.75, 0.75)\" fill=\"#e5e5e5\" stroke=\"#e5e5e5\"><path d=\"M8.195 26.996h5.508v1.328H6.297v-1.328q.898-.93 2.445-2.492 1.555-1.57 1.953-2.024.758-.851 1.055-1.437.305-.594.305-1.164 0-.93-.657-1.516-.648-.586-1.695-.586-.742 0-1.57.258-.82.258-1.758.781v-1.593q.953-.383 1.781-.578.828-.196 1.516-.196 1.812 0 2.89.906 1.079.907 1.079 2.422 0 .72-.274 1.368-.265.64-.976 1.515-.196.227-1.243 1.313-1.046 1.078-2.953 3.023z\" /></g><g transform=\"translate(0, 245) scale(0.75, 0.75)\" fill=\"#e5e5e5\" stroke=\"#e5e5e5\"><path d=\"M11.434 22.035q1.132.242 1.765 1.008.64.766.64 1.89 0 1.727-1.187 2.672-1.187.946-3.375.946-.734 0-1.515-.149-.774-.14-1.602-.43V26.45q.656.383 1.438.578.78.196 1.632.196 1.485 0 2.258-.586.782-.586.782-1.703 0-1.032-.727-1.61-.719-.586-2.008-.586h-1.36v-1.297h1.423q1.164 0 1.78-.46.618-.47.618-1.344 0-.899-.64-1.375-.633-.485-1.82-.485-.65 0-1.391.141-.743.14-1.633.437V16.95q.898-.25 1.68-.375.788-.125 1.484-.125 1.797 0 2.844.82 1.046.813 1.046 2.204 0 .968-.554 1.64-.555.664-1.578.922z\" /></g><g transform=\"translate(375, 245) scale(0.75, 0.75)\" fill=\"#e5e5e5\" stroke=\"#e5e5e5\"><path d=\"M11.434 22.035q1.132.242 1.765 1.008.64.766.64 1.89 0 1.727-1.187 2.672-1.187.946-3.375.946-.734 0-1.515-.149-.774-.14-1.602-.43V26.45q.656.383 1.438.578.78.196 1.632.196 1.485 0 2.258-.586.782-.586.782-1.703 0-1.032-.727-1.61-.719-.586-2.008-.586h-1.36v-1.297h1.423q1.164 0 1.78-.46.618-.47.618-1.344 0-.899-.64-1.375-.633-.485-1.82-.485-.65 0-1.391.141-.743.14-1.633.437V16.95q.898-.25 1.68-.375.788-.125 1.484-.125 1.797 0 2.844.82 1.046.813 1.046 2.204 0 .968-.554 1.64-.555.664-1.578.922z\" /></g><g transform=\"translate(0, 200) scale(0.75, 0.75)\" fill=\"#e5e5e5\" stroke=\"#e5e5e5\"><path d=\"M11.016 18.035L7.03 24.262h3.985zm-.414-1.375h1.984v7.602h1.664v1.312h-1.664v2.75h-1.57v-2.75H5.75v-1.523z\" /></g><g transform=\"translate(375, 200) scale(0.75, 0.75)\" fill=\"#e5e5e5\" stroke=\"#e5e5e5\"><path d=\"M11.016 18.035L7.03 24.262h3.985zm-.414-1.375h1.984v7.602h1.664v1.312h-1.664v2.75h-1.57v-2.75H5.75v-1.523z\" /></g><g transform=\"translate(0, 155) scale(0.75, 0.75)\" fill=\"#e5e5e5\" stroke=\"#e5e5e5\"><path d=\"M6.719 16.66h6.195v1.328h-4.75v2.86q.344-.118.688-.172.343-.063.687-.063 1.953 0 3.094 1.07 1.14 1.07 1.14 2.899 0 1.883-1.171 2.93-1.172 1.039-3.305 1.039-.735 0-1.5-.125-.758-.125-1.57-.375v-1.586q.703.383 1.453.57.75.188 1.586.188 1.351 0 2.14-.711.79-.711.79-1.93 0-1.219-.79-1.93-.789-.71-2.14-.71-.633 0-1.266.14-.625.14-1.281.438z\" /></g><g transform=\"translate(375, 155) scale(0.75, 0.75)\" fill=\"#e5e5e5\" stroke=\"#e5e5e5\"><path d=\"M6.719 16.66h6.195v1.328h-4.75v2.86q.344-.118.688-.172.343-.063.687-.063 1.953 0 3.094 1.07 1.14 1.07 1.14 2.899 0 1.883-1.171 2.93-1.172 1.039-3.305 1.039-.735 0-1.5-.125-.758-.125-1.57-.375v-1.586q.703.383 1.453.57.75.188 1.586.188 1.351 0 2.14-.711.79-.711.79-1.93 0-1.219-.79-1.93-.789-.71-2.14-.71-.633 0-1.266.14-.625.14-1.281.438z\" /></g><g transform=\"translate(0, 110) scale(0.75, 0.75)\" fill=\"#e5e5e5\" stroke=\"#e5e5e5\"><path d=\"M10.137 21.863q-1.063 0-1.688.727-.617.726-.617 1.992 0 1.258.617 1.992.625.727 1.688.727 1.062 0 1.68-.727.624-.734.624-1.992 0-1.266-.625-1.992-.617-.727-1.68-.727zm3.133-4.945v1.437q-.594-.28-1.204-.43-.601-.148-1.195-.148-1.562 0-2.39 1.055-.82 1.055-.938 3.188.46-.68 1.156-1.04.696-.367 1.531-.367 1.758 0 2.774 1.07 1.023 1.063 1.023 2.899 0 1.797-1.062 2.883-1.063 1.086-2.828 1.086-2.024 0-3.094-1.547-1.07-1.555-1.07-4.5 0-2.766 1.312-4.406 1.313-1.649 3.524-1.649.593 0 1.195.117.61.118 1.266.352z\" /></g><g transform=\"translate(375, 110) scale(0.75, 0.75)\" fill=\"#e5e5e5\" stroke=\"#e5e5e5\"><path d=\"M10.137 21.863q-1.063 0-1.688.727-.617.726-.617 1.992 0 1.258.617 1.992.625.727 1.688.727 1.062 0 1.68-.727.624-.734.624-1.992 0-1.266-.625-1.992-.617-.727-1.68-.727zm3.133-4.945v1.437q-.594-.28-1.204-.43-.601-.148-1.195-.148-1.562 0-2.39 1.055-.82 1.055-.938 3.188.46-.68 1.156-1.04.696-.367 1.531-.367 1.758 0 2.774 1.07 1.023 1.063 1.023 2.899 0 1.797-1.062 2.883-1.063 1.086-2.828 1.086-2.024 0-3.094-1.547-1.07-1.555-1.07-4.5 0-2.766 1.312-4.406 1.313-1.649 3.524-1.649.593 0 1.195.117.61.118 1.266.352z\" /></g><g transform=\"translate(0, 65) scale(0.75, 0.75)\" fill=\"#e5e5e5\" stroke=\"#e5e5e5\"><path d=\"M6.25 16.66h7.5v.672L9.516 28.324H7.867l3.985-10.336H6.25z\" /></g><g transform=\"translate(375, 65) scale(0.75, 0.75)\" fill=\"#e5e5e5\" stroke=\"#e5e5e5\"><path d=\"M6.25 16.66h7.5v.672L9.516 28.324H7.867l3.985-10.336H6.25z\" /></g><g transform=\"translate(0, 20) scale(0.75, 0.75)\" fill=\"#e5e5e5\" stroke=\"#e5e5e5\"><path d=\"M10 22.785q-1.125 0-1.773.602-.641.601-.641 1.656t.64 1.656q.649.602 1.774.602t1.773-.602q.649-.61.649-1.656 0-1.055-.649-1.656-.64-.602-1.773-.602zm-1.578-.672q-1.016-.25-1.586-.945-.563-.695-.563-1.695 0-1.399.993-2.211 1-.813 2.734-.813 1.742 0 2.734.813.993.812.993 2.21 0 1-.57 1.696-.563.695-1.571.945 1.14.266 1.773 1.04.641.773.641 1.89 0 1.695-1.04 2.602-1.03.906-2.96.906t-2.969-.906Q6 26.738 6 25.043q0-1.117.64-1.89.641-.774 1.782-1.04zm-.578-2.492q0 .906.562 1.414.57.508 1.594.508 1.016 0 1.586-.508.578-.508.578-1.414 0-.906-.578-1.414-.57-.508-1.586-.508-1.023 0-1.594.508-.562.508-.562 1.414z\" /></g><g transform=\"translate(375, 20) scale(0.75, 0.75)\" fill=\"#e5e5e5\" stroke=\"#e5e5e5\"><path d=\"M10 22.785q-1.125 0-1.773.602-.641.601-.641 1.656t.64 1.656q.649.602 1.774.602t1.773-.602q.649-.61.649-1.656 0-1.055-.649-1.656-.64-.602-1.773-.602zm-1.578-.672q-1.016-.25-1.586-.945-.563-.695-.563-1.695 0-1.399.993-2.211 1-.813 2.734-.813 1.742 0 2.734.813.993.812.993 2.21 0 1-.57 1.696-.563.695-1.571.945 1.14.266 1.773 1.04.641.773.641 1.89 0 1.695-1.04 2.602-1.03.906-2.96.906t-2.969-.906Q6 26.738 6 25.043q0-1.117.64-1.89.641-.774 1.782-1.04zm-.578-2.492q0 .906.562 1.414.57.508 1.594.508 1.016 0 1.586-.508.578-.508.578-1.414 0-.906-.578-1.414-.57-.508-1.586-.508-1.023 0-1.594.508-.562.508-.562 1.414z\" /></g><rect x=\"15\" y=\"330\" width=\"45\" height=\"45\" class=\"square dark a1\" stroke=\"none\" fill=\"#d18b47\" /><rect x=\"60\" y=\"330\" width=\"45\" height=\"45\" class=\"square light b1\" stroke=\"none\" fill=\"#ffce9e\" /><rect x=\"105\" y=\"330\" width=\"45\" height=\"45\" class=\"square dark c1\" stroke=\"none\" fill=\"#d18b47\" /><rect x=\"150\" y=\"330\" width=\"45\" height=\"45\" class=\"square light d1\" stroke=\"none\" fill=\"#ffce9e\" /><rect x=\"195\" y=\"330\" width=\"45\" height=\"45\" class=\"square dark e1\" stroke=\"none\" fill=\"#d18b47\" /><rect x=\"240\" y=\"330\" width=\"45\" height=\"45\" class=\"square light f1\" stroke=\"none\" fill=\"#ffce9e\" /><rect x=\"285\" y=\"330\" width=\"45\" height=\"45\" class=\"square dark g1\" stroke=\"none\" fill=\"#d18b47\" /><rect x=\"330\" y=\"330\" width=\"45\" height=\"45\" class=\"square light h1\" stroke=\"none\" fill=\"#ffce9e\" /><rect x=\"15\" y=\"285\" width=\"45\" height=\"45\" class=\"square light a2\" stroke=\"none\" fill=\"#ffce9e\" /><rect x=\"60\" y=\"285\" width=\"45\" height=\"45\" class=\"square dark lastmove b2\" stroke=\"none\" fill=\"#aaa23b\" /><rect x=\"105\" y=\"285\" width=\"45\" height=\"45\" class=\"square light c2\" stroke=\"none\" fill=\"#ffce9e\" /><rect x=\"150\" y=\"285\" width=\"45\" height=\"45\" class=\"square dark d2\" stroke=\"none\" fill=\"#d18b47\" /><rect x=\"195\" y=\"285\" width=\"45\" height=\"45\" class=\"square light e2\" stroke=\"none\" fill=\"#ffce9e\" /><rect x=\"240\" y=\"285\" width=\"45\" height=\"45\" class=\"square dark f2\" stroke=\"none\" fill=\"#d18b47\" /><rect x=\"285\" y=\"285\" width=\"45\" height=\"45\" class=\"square light g2\" stroke=\"none\" fill=\"#ffce9e\" /><rect x=\"330\" y=\"285\" width=\"45\" height=\"45\" class=\"square dark h2\" stroke=\"none\" fill=\"#d18b47\" /><rect x=\"15\" y=\"240\" width=\"45\" height=\"45\" class=\"square dark a3\" stroke=\"none\" fill=\"#d18b47\" /><rect x=\"60\" y=\"240\" width=\"45\" height=\"45\" class=\"square light b3\" stroke=\"none\" fill=\"#ffce9e\" /><rect x=\"105\" y=\"240\" width=\"45\" height=\"45\" class=\"square dark c3\" stroke=\"none\" fill=\"#d18b47\" /><rect x=\"150\" y=\"240\" width=\"45\" height=\"45\" class=\"square light d3\" stroke=\"none\" fill=\"#ffce9e\" /><rect x=\"195\" y=\"240\" width=\"45\" height=\"45\" class=\"square dark e3\" stroke=\"none\" fill=\"#d18b47\" /><rect x=\"240\" y=\"240\" width=\"45\" height=\"45\" class=\"square light f3\" stroke=\"none\" fill=\"#ffce9e\" /><rect x=\"285\" y=\"240\" width=\"45\" height=\"45\" class=\"square dark g3\" stroke=\"none\" fill=\"#d18b47\" /><rect x=\"330\" y=\"240\" width=\"45\" height=\"45\" class=\"square light h3\" stroke=\"none\" fill=\"#ffce9e\" /><rect x=\"15\" y=\"195\" width=\"45\" height=\"45\" class=\"square light a4\" stroke=\"none\" fill=\"#ffce9e\" /><rect x=\"60\" y=\"195\" width=\"45\" height=\"45\" class=\"square dark b4\" stroke=\"none\" fill=\"#d18b47\" /><rect x=\"105\" y=\"195\" width=\"45\" height=\"45\" class=\"square light c4\" stroke=\"none\" fill=\"#ffce9e\" /><rect x=\"150\" y=\"195\" width=\"45\" height=\"45\" class=\"square dark lastmove d4\" stroke=\"none\" fill=\"#aaa23b\" /><rect x=\"195\" y=\"195\" width=\"45\" height=\"45\" class=\"square light e4\" stroke=\"none\" fill=\"#ffce9e\" /><rect x=\"240\" y=\"195\" width=\"45\" height=\"45\" class=\"square dark f4\" stroke=\"none\" fill=\"#d18b47\" /><rect x=\"285\" y=\"195\" width=\"45\" height=\"45\" class=\"square light g4\" stroke=\"none\" fill=\"#ffce9e\" /><rect x=\"330\" y=\"195\" width=\"45\" height=\"45\" class=\"square dark h4\" stroke=\"none\" fill=\"#d18b47\" /><rect x=\"15\" y=\"150\" width=\"45\" height=\"45\" class=\"square dark a5\" stroke=\"none\" fill=\"#d18b47\" /><rect x=\"60\" y=\"150\" width=\"45\" height=\"45\" class=\"square light b5\" stroke=\"none\" fill=\"#ffce9e\" /><rect x=\"105\" y=\"150\" width=\"45\" height=\"45\" class=\"square dark c5\" stroke=\"none\" fill=\"#d18b47\" /><rect x=\"150\" y=\"150\" width=\"45\" height=\"45\" class=\"square light d5\" stroke=\"none\" fill=\"#ffce9e\" /><rect x=\"195\" y=\"150\" width=\"45\" height=\"45\" class=\"square dark e5\" stroke=\"none\" fill=\"#d18b47\" /><rect x=\"240\" y=\"150\" width=\"45\" height=\"45\" class=\"square light f5\" stroke=\"none\" fill=\"#ffce9e\" /><rect x=\"285\" y=\"150\" width=\"45\" height=\"45\" class=\"square dark g5\" stroke=\"none\" fill=\"#d18b47\" /><rect x=\"330\" y=\"150\" width=\"45\" height=\"45\" class=\"square light h5\" stroke=\"none\" fill=\"#ffce9e\" /><rect x=\"15\" y=\"105\" width=\"45\" height=\"45\" class=\"square light a6\" stroke=\"none\" fill=\"#ffce9e\" /><rect x=\"60\" y=\"105\" width=\"45\" height=\"45\" class=\"square dark b6\" stroke=\"none\" fill=\"#d18b47\" /><rect x=\"105\" y=\"105\" width=\"45\" height=\"45\" class=\"square light c6\" stroke=\"none\" fill=\"#ffce9e\" /><rect x=\"150\" y=\"105\" width=\"45\" height=\"45\" class=\"square dark d6\" stroke=\"none\" fill=\"#d18b47\" /><rect x=\"195\" y=\"105\" width=\"45\" height=\"45\" class=\"square light e6\" stroke=\"none\" fill=\"#ffce9e\" /><rect x=\"240\" y=\"105\" width=\"45\" height=\"45\" class=\"square dark f6\" stroke=\"none\" fill=\"#d18b47\" /><rect x=\"285\" y=\"105\" width=\"45\" height=\"45\" class=\"square light g6\" stroke=\"none\" fill=\"#ffce9e\" /><rect x=\"330\" y=\"105\" width=\"45\" height=\"45\" class=\"square dark h6\" stroke=\"none\" fill=\"#d18b47\" /><rect x=\"15\" y=\"60\" width=\"45\" height=\"45\" class=\"square dark a7\" stroke=\"none\" fill=\"#d18b47\" /><rect x=\"60\" y=\"60\" width=\"45\" height=\"45\" class=\"square light b7\" stroke=\"none\" fill=\"#ffce9e\" /><rect x=\"105\" y=\"60\" width=\"45\" height=\"45\" class=\"square dark c7\" stroke=\"none\" fill=\"#d18b47\" /><rect x=\"150\" y=\"60\" width=\"45\" height=\"45\" class=\"square light d7\" stroke=\"none\" fill=\"#ffce9e\" /><rect x=\"195\" y=\"60\" width=\"45\" height=\"45\" class=\"square dark e7\" stroke=\"none\" fill=\"#d18b47\" /><rect x=\"240\" y=\"60\" width=\"45\" height=\"45\" class=\"square light f7\" stroke=\"none\" fill=\"#ffce9e\" /><rect x=\"285\" y=\"60\" width=\"45\" height=\"45\" class=\"square dark g7\" stroke=\"none\" fill=\"#d18b47\" /><rect x=\"330\" y=\"60\" width=\"45\" height=\"45\" class=\"square light h7\" stroke=\"none\" fill=\"#ffce9e\" /><rect x=\"15\" y=\"15\" width=\"45\" height=\"45\" class=\"square light a8\" stroke=\"none\" fill=\"#ffce9e\" /><rect x=\"60\" y=\"15\" width=\"45\" height=\"45\" class=\"square dark b8\" stroke=\"none\" fill=\"#d18b47\" /><rect x=\"105\" y=\"15\" width=\"45\" height=\"45\" class=\"square light c8\" stroke=\"none\" fill=\"#ffce9e\" /><rect x=\"150\" y=\"15\" width=\"45\" height=\"45\" class=\"square dark d8\" stroke=\"none\" fill=\"#d18b47\" /><rect x=\"195\" y=\"15\" width=\"45\" height=\"45\" class=\"square light e8\" stroke=\"none\" fill=\"#ffce9e\" /><rect x=\"240\" y=\"15\" width=\"45\" height=\"45\" class=\"square dark f8\" stroke=\"none\" fill=\"#d18b47\" /><rect x=\"285\" y=\"15\" width=\"45\" height=\"45\" class=\"square light g8\" stroke=\"none\" fill=\"#ffce9e\" /><rect x=\"330\" y=\"15\" width=\"45\" height=\"45\" class=\"square dark h8\" stroke=\"none\" fill=\"#d18b47\" /><use href=\"#white-rook\" xlink:href=\"#white-rook\" transform=\"translate(105, 330)\" /><use href=\"#white-king\" xlink:href=\"#white-king\" transform=\"translate(330, 330)\" /><use href=\"#white-pawn\" xlink:href=\"#white-pawn\" transform=\"translate(15, 285)\" /><use href=\"#white-rook\" xlink:href=\"#white-rook\" transform=\"translate(105, 285)\" /><use href=\"#white-pawn\" xlink:href=\"#white-pawn\" transform=\"translate(240, 285)\" /><use href=\"#white-pawn\" xlink:href=\"#white-pawn\" transform=\"translate(285, 285)\" /><use href=\"#white-pawn\" xlink:href=\"#white-pawn\" transform=\"translate(60, 240)\" /><use href=\"#white-queen\" xlink:href=\"#white-queen\" transform=\"translate(150, 240)\" /><use href=\"#white-knight\" xlink:href=\"#white-knight\" transform=\"translate(240, 240)\" /><use href=\"#white-pawn\" xlink:href=\"#white-pawn\" transform=\"translate(330, 240)\" /><use href=\"#black-pawn\" xlink:href=\"#black-pawn\" transform=\"translate(60, 195)\" /><use href=\"#white-bishop\" xlink:href=\"#white-bishop\" transform=\"translate(150, 195)\" /><use href=\"#white-pawn\" xlink:href=\"#white-pawn\" transform=\"translate(195, 195)\" /><use href=\"#black-pawn\" xlink:href=\"#black-pawn\" transform=\"translate(240, 195)\" /><use href=\"#black-pawn\" xlink:href=\"#black-pawn\" transform=\"translate(15, 150)\" /><use href=\"#white-pawn\" xlink:href=\"#white-pawn\" transform=\"translate(150, 150)\" /><use href=\"#black-bishop\" xlink:href=\"#black-bishop\" transform=\"translate(330, 150)\" /><use href=\"#black-bishop\" xlink:href=\"#black-bishop\" transform=\"translate(60, 105)\" /><use href=\"#black-pawn\" xlink:href=\"#black-pawn\" transform=\"translate(150, 105)\" /><use href=\"#black-knight\" xlink:href=\"#black-knight\" transform=\"translate(285, 105)\" /><use href=\"#black-pawn\" xlink:href=\"#black-pawn\" transform=\"translate(330, 105)\" /><use href=\"#black-pawn\" xlink:href=\"#black-pawn\" transform=\"translate(105, 60)\" /><use href=\"#black-queen\" xlink:href=\"#black-queen\" transform=\"translate(150, 60)\" /><use href=\"#black-rook\" xlink:href=\"#black-rook\" transform=\"translate(240, 60)\" /><use href=\"#black-pawn\" xlink:href=\"#black-pawn\" transform=\"translate(285, 60)\" /><use href=\"#black-king\" xlink:href=\"#black-king\" transform=\"translate(330, 60)\" /></svg>"
      ],
      "text/plain": [
       "Board('8/2pq1rpk/1b1p2np/p2P3b/1p1BPp2/1P1Q1N1P/P1R2PP1/2R4K b - - 1 26')"
      ]
     },
     "execution_count": 53,
     "metadata": {},
     "output_type": "execute_result"
    }
   ],
   "source": [
    "board"
   ]
  },
  {
   "cell_type": "code",
   "execution_count": 50,
   "id": "dbb3d38e65500c68",
   "metadata": {
    "ExecuteTime": {
     "end_time": "2025-07-28T10:16:10.306930Z",
     "start_time": "2025-07-28T10:16:10.095487Z"
    }
   },
   "outputs": [
    {
     "data": {
      "text/plain": [
       "[]"
      ]
     },
     "execution_count": 50,
     "metadata": {},
     "output_type": "execute_result"
    }
   ],
   "source": [
    "stockfish.get_top_moves(3)"
   ]
  },
  {
   "cell_type": "code",
   "execution_count": 45,
   "id": "d7e34edaca57ba5c",
   "metadata": {
    "ExecuteTime": {
     "end_time": "2025-07-28T10:13:48.230181Z",
     "start_time": "2025-07-28T10:13:48.212656Z"
    }
   },
   "outputs": [
    {
     "data": {
      "text/plain": [
       "[]"
      ]
     },
     "execution_count": 45,
     "metadata": {},
     "output_type": "execute_result"
    }
   ],
   "source": [
    "# stockfish.get_parameters()\n",
    "stockfish.get_top_moves(board.legal_moves.count())"
   ]
  },
  {
   "cell_type": "code",
   "execution_count": 60,
   "id": "64322d95bf3bfed2",
   "metadata": {
    "ExecuteTime": {
     "end_time": "2025-07-28T10:24:40.706458Z",
     "start_time": "2025-07-28T10:24:40.515420Z"
    }
   },
   "outputs": [
    {
     "data": {
      "text/plain": [
       "[]"
      ]
     },
     "execution_count": 60,
     "metadata": {},
     "output_type": "execute_result"
    }
   ],
   "source": [
    "stockfish.get_top_moves(2)"
   ]
  },
  {
   "cell_type": "code",
   "execution_count": 57,
   "id": "edb33d6d86da04a1",
   "metadata": {
    "ExecuteTime": {
     "end_time": "2025-07-28T10:20:24.003714Z",
     "start_time": "2025-07-28T10:20:23.996670Z"
    }
   },
   "outputs": [
    {
     "data": {
      "text/plain": [
       "'h5f3'"
      ]
     },
     "execution_count": 57,
     "metadata": {},
     "output_type": "execute_result"
    }
   ],
   "source": [
    "answer"
   ]
  },
  {
   "cell_type": "code",
   "execution_count": null,
   "id": "e287b999174001d3",
   "metadata": {},
   "outputs": [],
   "source": []
  },
  {
   "cell_type": "code",
   "execution_count": null,
   "id": "9ede82afcc7258ff",
   "metadata": {},
   "outputs": [],
   "source": []
  },
  {
   "cell_type": "code",
   "execution_count": null,
   "id": "77ce922afaaaf627",
   "metadata": {},
   "outputs": [],
   "source": []
  }
 ],
 "metadata": {
  "kernelspec": {
   "display_name": "py11",
   "language": "python",
   "name": "python3"
  },
  "language_info": {
   "codemirror_mode": {
    "name": "ipython",
    "version": 3
   },
   "file_extension": ".py",
   "mimetype": "text/x-python",
   "name": "python",
   "nbconvert_exporter": "python",
   "pygments_lexer": "ipython3",
   "version": "3.11.4"
  }
 },
 "nbformat": 4,
 "nbformat_minor": 5
}
