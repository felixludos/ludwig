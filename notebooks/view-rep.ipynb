{
 "cells": [
  {
   "cell_type": "code",
   "execution_count": 11,
   "id": "7fb38391",
   "metadata": {},
   "outputs": [],
   "source": [
    "import os\n",
    "from pprint import pprint\n",
    "if '_fixed' not in locals():\n",
    "    _fixed = os.chdir(os.path.dirname(os.getcwd()))\n",
    "from pathlib import Path\n",
    "import json, yaml\n",
    "import inspect\n",
    "import jsonschema\n",
    "from tabulate import tabulate\n",
    "from tqdm.notebook import tqdm\n",
    "from ludwig.util import PromptTemplate, repo_root\n",
    "from ludwig.tictactoe import TakeTheMiddle\n",
    "from ludwig.util import vllm_Client\n",
    "from ludwig.util import extract_code_blocks\n",
    "from ludwig.jsonutils import unflatten, flatten\n"
   ]
  },
  {
   "cell_type": "code",
   "execution_count": 9,
   "id": "6b6d3c7d",
   "metadata": {},
   "outputs": [
    {
     "data": {
      "text/plain": [
       "True"
      ]
     },
     "execution_count": 9,
     "metadata": {},
     "output_type": "execute_result"
    }
   ],
   "source": [
    "# jobdir = Path(r'local_data/tree-build-ChessPuzzle-')\n",
    "jobdir = Path(r'local_data/tree-build-ChessPuzzle-1f77_250808-174050') # active\n",
    "jobdir = Path(r'local_data/tree-build-ChessPuzzle-1f77_250809-234455') # fen\n",
    "jobdir = Path(r'local_data/tree-build-ChessPuzzle-1f77_250809-230620') # pgn\n",
    "# jobdir = Path(r'local_data/tree-build-TakeTheMiddle-1f77_250809-003845') # moves\n",
    "# jobdir = Path(r'local_data/tree-build-TakeTheMiddle-1f77_250809-005349') # compact\n",
    "jobdir = Path(r'local_data/tree-build-TakeTheMiddle-8fc9_250813-230409')\n",
    "path = jobdir.joinpath('log.jsonl')\n",
    "jobdir.exists()"
   ]
  },
  {
   "cell_type": "code",
   "execution_count": 10,
   "id": "b31405b3",
   "metadata": {},
   "outputs": [
    {
     "data": {
      "text/plain": [
       "10"
      ]
     },
     "execution_count": 10,
     "metadata": {},
     "output_type": "execute_result"
    }
   ],
   "source": [
    "full = [unflatten(json.loads(line)) for line in path.read_text().splitlines()]\n",
    "len(full)"
   ]
  },
  {
   "cell_type": "code",
   "execution_count": 4,
   "id": "90fbf1c4",
   "metadata": {},
   "outputs": [
    {
     "name": "stdout",
     "output_type": "stream",
     "text": [
      "----------  -----------------------------------------------------------------------------------------------------------------------------------------------------------------------------------------------------------------------------------------------------------------------------------------------------------------------------------------------------------------------------------------------------------------------------------------------------------------------------------------------------------------------------------------------------------------------------------------------------------------------------------------------------------------------------------------------------------------------------------------------------------------------------------------------------------------------------------------------------------------------------------------------------------------------------------------------------------------------------------------------------------------------------------------------------------------------------------------------------------------------------------------------------------------------------------------------------------------------------------------------------------------------------------------------------------------------------------------------------------------------------------------------------------------------------------------------------------------------------------------------------------------------------------------------------------------------------------------------------------------------------------------------------------------------------------------------------------------------------------------------------------------------------------------------------------------------------------------------------------------------------------------------------------------------------------------------------------------------------------------------------------------------------------------------------------------------------------------------------------------------------------------------------------------------------------------------------------------------------------------------------------------------------------------------------------------------------------------------------------------------------------------------------------------------------------------------------------------------------------------------------------------------------------------------------------------------------------------------------------------------------------------------------------------------------------------------------------------------------------------------------------------------------------------------------------------------------------------------------------------------------------------------------------------------------------------------------------------------------------------------------------------------------------------------------------------------------------------------------------------------------------------------------------------------------------------------------------------------------------------------------------------------------------------------------------------------------------------------------------------------------------------------------------------------------------------------------------------------------------------------------------------------------------------------------------------------------------------------------------------------------------------------------------------------------------------------------------------------------------------------------------------------------------------------------------------------------------------------------------------------------------------------------------------------------------------------------------------------------------------------------------------------------------------------------------------------------------------------------------------------------------------------------------------------------------------------------------------------------------------------------------------------------------------------------------------------------------------------------------------------------------------------------------------------------------------------------------------------------------------------------------------------------------------------------------------------------------------------------------------------------------------------------------------------------------------------------------------------------------------------------------------------------------------------------------------------------------------------------------------------------------------------------------------------------------------------------------------------------------------------------------------------------------------------------------------------------------------------------------------------------------------------------------------------------------------------------------------------------------------------------------------------------------------------------------------------------------------------------------------------------------------------------------------------------------------------------------------------------------------------------------------------------------------------------------------------------------------------------------------------------------------------------------------------------------------------------------------------------------------------------------------------------------------------------------------------------------------------------------------------------------------------------------------------------------------------------------------------------------------------------------------------------------------------------------------------------------------------------------------------------------------------------------------------------------------------------------------------------------------------------------------------------------------------------------------------------------------------------------------------------------------------------------------------------------------------------------------------------------------------------------------------------------------------------------------------------------------------------------------------------------------------------------------------------------------------------------------------------------------------------------------------------------------------------------------------------------------------------------------------------------------------------------------------------------------------------------------------------------------------------------------------------------------------------------------------------------------------------------------------------------------------------------------------------------------------------------------------------------------------------------------------------------------------------------------------------------------------------------------------------------------------------------------------------------------------------------------------------------------------------------------------------------------------------------------------------------------------------------------------------------------------------------------------------------------------------------------------------------------------------------------------------------------------------------------------------------------------------------------------------------------------------------------------------------------------------------------------------------------------------------------------------------------------------------------------------------------------------------------------------------------------------------------------------------------------------------------------------------------------------------------------------------------------------------------------------------------------------------------------------------------------------------------------------------------------------------------------------------------------------------------------------------------------------------------------------------------------------------------------------------------------------------------------------------------------------------------------------------------------------------------------------------------------------------------------------------------------------------------------------------------------------------------------------------------------------------------------------------------------------------------------------------------------------------------------------------------------------------------------------------------------------------------------------------------------------------------------------------------------------------------------------------------------------------------------------------------------------------------------------------------------------------------------------------------------------------------------------------------------------------------------------------------------------------------------------------------------------------------------------------------------------------------------------------------------------------------------------------------------------------------------------------------------------------------------------------------------------------------------------------------------------------------------------------------------------------------------------------------------------------------------------------------------------------------------------------------------------------------------------------------------------------------------------------------------------------------------------------------------------------------------------------------------------------------------------------------------------------------------------------------------------------------------------------------------------------------------------------------------------------------------------------------------------------------------------------------------------------------------------------------------------------------------------------------------------------------------------------------------------------------------------------------------------------------------------------------------------------------------------------------------------------------------------------------------------------------------------------------------------------------------------------------------------------------------------------------------------------------------------------------------------------------------------------------------------------------------------------------------------------------------------------------------------------------------------------------------------------------------------------------------------------------------------------------------------------------------------------------------------------------------------------------------------------------------------------------------------------------------------------------------------------------------------------------------------------------------------------------------------------------------------------------------------------------------------------------------------------------------------------------------------------------------------------------------------------------------------------------------------------------------------------------------------------------------------------------------------------------------------------------------------------------------------------------------------------------------------------------------------------------------------------------------------------------------------------------------------------------------------------------------------------------------------------------------------------------------------------------------------------------------------------------------------------------------------------------------------------------------------------------------------------------------------------------------------------------------------------------------------------------------------------------------------------------------------------------------------------------------------------------------------------------------------------------------------------------------------------------------------------------------------------------------------------------------------------------------------------------------------------------------------------------------------------------------------------------------------------------------------------------------------------------------------------------------------------------------------------------------------------------------------------------------------------------------------------------------------------------------------------------------------------------------------------------------------------------------------------------------------------------------------------------------------------------------------------------------------------------------------------------------------------------------------------------------------------------------------------------------------------------------------------------------------------------------------------------------------------------------------------------------------------------------------------------------------------------------------------------------------------------------------------------------------------------------------------------------------------------------------------------------------------------------------------------------------------------------------------------------------------------------------------------------------------------------------------------------------------------------------------------------------------------------------------------------------------------------------------------------------------------------------------------------------------------------------------------------------------------------------------------------------------------------------------------------------------------------------------------------------------------------------------------------------------------------------------------------------------------------------------------------------------------------------------------------------------------------------------------------------------------------------------------------------------------------------------------------------------------------------------------------------------------------------------------------------------------------------------------------------------------------------------------------------------------------------------------------------------------------------------------------------------------------------------------------------------------------------------------------------------------------------------------------------------------------------------------------------------------------------------------------------------------------------------------------------------------------------------------------------------------------------------------------------------------------------------------------------------------------------------------------------------------------------------------------------------------------------------------------------------------------------------------------------------------------------------------------------------------------------------------------------------------------------------------------------------------------------------------------------------------------------------------------------------------------------------------------------------------------------------------------------------------------------------------------------------------------------------------------------------------------------------------------------------------------------------------------------------------------------------------------------------------------------------------------------------------------------------------------------------------------------------------------------------------------------------------------------------------------------------------------------------------------------------------------------------------------------------------------------------------------------------------------------------------------------------------------------------------------------------------------------------------------------------------------------------------------------------------------------------------------------------------------------------------------------------------------------------------------------------------------------------------------------------------------------------------------------------------------------------------------------------------------------------------------------------------------------------------------------------------------------------------------------------------------------------------------------------------------------------------------------------------------------------------------------------------------------------------------------------------------------------------------------------------------------------------------------------------------------------------------------------------------------------------------------------------------------------------------------------------------------------------------------------------------------------------------------------------------------------------------------------------------------------------------------------------------------------------------------------------------------------------------------------------------------------------------------------------------------------------------------------------------------------------------------------------------------------------------------------------------------------------------------------------------------------------------------------------------------------------------------------------------------------------------------------------------------------------------------------------------------------------------------------------------------------------------------------------------------------------------------------------------------------------------------------------------------------------------------------------------------------------------------------------------------------------------------------------------------------------------------------------------------------------------------------------------------------------------------------------------------------------------------------------------------------------------------------------------------------------------------------------------------------------------------------------------------------------------------------------------------------------------------------------------------------------\n",
      "log         {'time': {'mean': 9.288675599628025, 'min': 0.13569378852844238, 'max': 34.87869095802307}, 'input_tokens': 11402, 'output_tokens': 2402, 'tok_per_sec': {'mean': 19.498304962449925, 'min': 1.6364282956726552, 'max': 33.22616424370152}, 'requests': 9}\n",
      "table       {'index': 0, 'seed': 2064054871, 'task': \"We're playing tic-tac-toe, and, given the current game state, I would like to know specifically whether or not I should play in the middle next.\", 'context': 'Implement all the rules of tic-tac-toe.', 'rep': {'$schema': 'http://json-schema.org/draft-07/schema#', 'title': 'Tic Tac Toe Game State', 'description': 'Represents the state of a Tic Tac Toe game.', 'type': 'object', 'properties': {'board': {'type': 'array', 'description': 'Represents the Tic Tac Toe board as a 2D array of strings.', 'items': {'type': 'array', 'items': {'type': 'string', 'enum': ['.', 'X', 'O'], 'description': \"Represents a cell on the board. '.' indicates an empty cell, 'X' represents player X, and 'O' represents player O.\"}}, 'minItems': 3, 'maxItems': 3, 'uniqueItems': True}, 'currentPlayer': {'type': 'string', 'description': \"Indicates which player's turn it is.\", 'enum': ['X', 'O']}, 'lastMove': {'type': ['object', 'null'], 'description': 'The coordinates of the last move made. Null if no move has been made yet', 'properties': {'row': {'type': 'integer', 'minimum': 0, 'maximum': 2}, 'col': {'type': 'integer', 'minimum': 0, 'maximum': 2}}, 'required': ['row', 'col']}}, 'required': ['board', 'currentPlayer']}, 'expand_code': 'def expand(state):\\n  \"\"\"\\n  Generates a list of valid next states from a given Tic Tac Toe state.\\n\\n  Args:\\n    state: A dictionary representing the current game state, conforming to the JSON schema.\\n\\n  Returns:\\n    A list of dictionaries, each representing a valid next state.\\n  \"\"\"\\n  board = state[\\'board\\']\\n  currentPlayer = state[\\'currentPlayer\\']\\n  next_states = []\\n\\n  for row in range(3):\\n    for col in range(3):\\n      if board[row][col] == \\'.\\':\\n        new_board = [row[:] for row in board]  # Create a deep copy of the board\\n        new_board[row][col] = currentPlayer\\n        next_state = {\\n            \\'board\\': new_board,\\n            \\'currentPlayer\\': \\'X\\' if currentPlayer == \\'O\\' else \\'O\\',\\n            \\'lastMove\\': {\\'row\\': row, \\'col\\': col}\\n        }\\n        next_states.append(next_state)\\n\\n  return next_states', 'extract_code': 'def extract(trajectory):\\n  \"\"\"\\n  Extracts information from a search trajectory to determine if the center move is good.\\n\\n  Args:\\n    trajectory: A list of states representing a game trajectory.\\n\\n  Returns:\\n    A string indicating a result if found, or None if the search should continue.\\n  \"\"\"\\n  if not trajectory:\\n    return None\\n\\n  final_state = trajectory[-1]\\n  board = final_state[\\'board\\']\\n\\n  # Check for a win/loss/draw\\n  winner = check_winner(board)\\n  if winner:\\n    if trajectory[0][\\'currentPlayer\\'] == winner:\\n      return \"Win with center move\"  # Favorable outcome\\n    else:\\n      return \"Loss with center move\"  # Unfavorable outcome\\n  elif is_board_full(board):\\n    return \"Draw with center move\"  # Neutral outcome\\n  else:\\n    return None # Game not finished, continue searching\\n\\n\\ndef check_winner(board):\\n  \"\"\"Helper function to determine the winner of the game.\"\"\"\\n  for i in range(3):\\n    if board[i][0] == board[i][1] == board[i][2] != \\'.\\':\\n      return board[i][0]\\n    if board[0][i] == board[1][i] == board[2][i] != \\'.\\':\\n      return board[0][i]\\n  if board[0][0] == board[1][1] == board[2][2] != \\'.\\':\\n    return board[0][0]\\n  if board[0][2] == board[1][1] == board[2][0] != \\'.\\':\\n    return board[0][2]\\n  return None\\n\\ndef is_board_full(board):\\n  \"\"\"Helper function to check if the board is full.\"\"\"\\n  for row in board:\\n    for cell in row:\\n      if cell == \\'.\\':\\n        return False\\n  return True', 'extract_approach': 'trajectory-based', 'evaluate_code': 'def evaluate(state):\\n  \"\"\"\\n  Evaluates the desirability of a Tic Tac Toe state using a score-based heuristic.\\n\\n  Args:\\n    state: A dictionary representing the current game state.\\n\\n  Returns:\\n    A numerical score representing the desirability of the state.\\n  \"\"\"\\n  board = state[\\'board\\']\\n  currentPlayer = state[\\'currentPlayer\\']\\n  opponent = \\'X\\' if currentPlayer == \\'O\\' else \\'O\\'\\n\\n  score = 0\\n\\n  # Check for immediate win/loss\\n  winner = check_winner(board)\\n  if winner:\\n    if winner == currentPlayer:\\n      return 10\\n    else:\\n      return -10\\n\\n  # Check for blocking opponent\\'s win\\n  for row in range(3):\\n    for col in range(3):\\n      if board[row][col] == \\'.\\':\\n        temp_board = [r[:] for r in board]\\n        temp_board[row][col] = opponent\\n        if check_winner(temp_board):\\n          score += 5  # Block opponent win\\n\\n  # Check for creating own potential win\\n  for row in range(3):\\n    for col in range(3):\\n      if board[row][col] == \\'.\\':\\n        temp_board = [r[:] for r in board]\\n        temp_board[row][col] = currentPlayer\\n        if check_potential_win(temp_board, currentPlayer):\\n          score += 2  # Create potential win\\n\\n  # Check for blocking opponent\\'s potential win\\n  for row in range(3):\\n    for col in range(3):\\n      if board[row][col] == \\'.\\':\\n        temp_board = [r[:] for r in board]\\n        temp_board[row][col] = opponent\\n        if check_potential_win(temp_board, opponent):\\n          score += 1 # Block opponent potential win\\n\\n  return score\\n\\n\\ndef check_winner(board):\\n  \"\"\"Helper function to determine the winner of the game.\"\"\"\\n  for i in range(3):\\n    if board[i][0] == board[i][1] == board[i][2] != \\'.\\':\\n      return board[i][0]\\n    if board[0][i] == board[1][i] == board[2][i] != \\'.\\':\\n      return board[0][i]\\n  if board[0][0] == board[1][1] == board[2][2] != \\'.\\':\\n    return board[0][0]\\n  if board[0][2] == board[1][1] == board[2][0] != \\'.\\':\\n    return board[0][2]\\n  return None\\n\\ndef check_potential_win(board, player):\\n  \"\"\"Helper function to check for potential wins (two in a row).\"\"\"\\n  for i in range(3):\\n    count = 0\\n    for j in range(3):\\n      if board[i][j] == player:\\n        count += 1\\n    if count == 2 and \\'.\\' in board[i]:\\n      return True\\n\\n    count = 0\\n    for j in range(3):\\n      if board[j][i] == player:\\n        count += 1\\n    if count == 2 and \\'.\\' in [board[k][i] for k in range(3)]:\\n      return True\\n\\n  # Diagonals\\n  if board[0][0] == board[1][1] == player and board[2][2] == \\'.\\':\\n    return True\\n  if board[0][0] == board[2][2] == player and board[1][1] == \\'.\\':\\n    return True\\n  if board[0][2] == board[1][1] == player and board[2][0] == \\'.\\':\\n    return True\\n  if board[0][2] == board[2][0] == player and board[1][1] == \\'.\\':\\n    return True\\n\\n  return False', 'evaluate_approach': 'score-based', 'chat': [{'role': 'user', 'content': 'We will solve the following task using a structured tree-search framework.\\n\\n**Task Description:**\\nWe\\'re playing tic-tac-toe, and, given the current game state, I would like to know specifically whether or not I should play in the middle next.\\n\\n**Example Problem:**\\n```\\nAlice is \"X\" and I am \"O\". Take a careful look at the current situation:\\n X | O | . \\n X | . | X \\n . | O | . \\nShould I play in the central cell - is that my best move?\\n```\\n\\nYour first task is to design an optimal state representation for this kind of problem. The representation must be:\\n1.  **High-Fidelity:** It must capture all details necessary to solve the task unambiguously.\\n2.  **Efficient:** It should contain minimal redundancy and exclude irrelevant \"nuisance\" details.\\n3.  **Conducive to Search:** The structure should make it easy to implement the search functions (`expand`, `extract`, `evaluate`) which are crucial for the tree search algorithm.\\n\\nDefine this representation as a JSON schema, including clear descriptions for each property. Enclose the final output in a ```json ... ``` block.'}, {'role': 'assistant', 'content': '```json\\n{\\n  \"$schema\": \"http://json-schema.org/draft-07/schema#\",\\n  \"title\": \"Tic Tac Toe Game State\",\\n  \"description\": \"Represents the state of a Tic Tac Toe game.\",\\n  \"type\": \"object\",\\n  \"properties\": {\\n    \"board\": {\\n      \"type\": \"array\",\\n      \"description\": \"Represents the Tic Tac Toe board as a 2D array of strings.\",\\n      \"items\": {\\n        \"type\": \"array\",\\n        \"items\": {\\n          \"type\": \"string\",\\n          \"enum\": [\".\", \"X\", \"O\"],\\n          \"description\": \"Represents a cell on the board. \\'.\\' indicates an empty cell, \\'X\\' represents player X, and \\'O\\' represents player O.\"\\n        }\\n      },\\n      \"minItems\": 3,\\n      \"maxItems\": 3,\\n      \"uniqueItems\": true\\n    },\\n    \"currentPlayer\": {\\n      \"type\": \"string\",\\n      \"description\": \"Indicates which player\\'s turn it is.\",\\n      \"enum\": [\"X\", \"O\"]\\n    },\\n    \"lastMove\": {\\n      \"type\": [\"object\", \"null\"],\\n      \"description\": \"The coordinates of the last move made. Null if no move has been made yet\",\\n      \"properties\": {\\n        \"row\": {\\n          \"type\": \"integer\",\\n          \"minimum\": 0,\\n          \"maximum\": 2\\n        },\\n        \"col\": {\\n          \"type\": \"integer\",\\n          \"minimum\": 0,\\n          \"maximum\": 2\\n        }\\n      },\\n      \"required\": [\"row\", \"col\"]\\n    }\\n  },\\n  \"required\": [\"board\", \"currentPlayer\"]\\n}\\n```'}, {'role': 'user', 'content': 'Now your task is to implement the `expand` function in Python. This function takes a single state object (conforming to the schema) and returns a list of all valid next states.\\n\\nThe function should only contain the minimal logic necessary to generate the next states (i.e., the \"rules\" of the task). Do not include any recursion, search, or heuristic logic within this function.\\n\\nProvide the implementation as a Python function named `expand` inside a ```python ... ``` block. If you need helper functions, make sure they are defined within the same block so the block can stand alone.'}, {'role': 'assistant', 'content': '```python\\ndef expand(state):\\n  \"\"\"\\n  Generates a list of valid next states from a given Tic Tac Toe state.\\n\\n  Args:\\n    state: A dictionary representing the current game state, conforming to the JSON schema.\\n\\n  Returns:\\n    A list of dictionaries, each representing a valid next state.\\n  \"\"\"\\n  board = state[\\'board\\']\\n  currentPlayer = state[\\'currentPlayer\\']\\n  next_states = []\\n\\n  for row in range(3):\\n    for col in range(3):\\n      if board[row][col] == \\'.\\':\\n        new_board = [row[:] for row in board]  # Create a deep copy of the board\\n        new_board[row][col] = currentPlayer\\n        next_state = {\\n            \\'board\\': new_board,\\n            \\'currentPlayer\\': \\'X\\' if currentPlayer == \\'O\\' else \\'O\\',\\n            \\'lastMove\\': {\\'row\\': row, \\'col\\': col}\\n        }\\n        next_states.append(next_state)\\n\\n  return next_states\\n```'}, {'role': 'user', 'content': 'Next, your task is to implement the `extract` function in Python. This function analyzes a search path to find results or decide if the path should be abandoned. Its signature and return values should be:\\n- **Input:** Either a single state or a list of states (a trajectory).\\n- **Returns `str`:** An extracted result or piece of information. Prune the search here. If the string is not empty, it indicates some useful information has been found to help solve the problem.\\n- **Returns `None`:** No result found yet. The search continues down this path.\\n\\nFirst, state whether a **state-based** or **trajectory-based** input is more suitable for this task and briefly explain why.\\n\\nThen, implement the `extract` function based on your choice. Provide the implementation inside a ```python ... ``` block. If you need helper functions, make sure they are defined within the same block so the block can stand alone.'}, {'role': 'assistant', 'content': '**Choice:** A **trajectory-based** input is more suitable for this task.\\n\\n**Explanation:** We are trying to determine if playing in the center cell is the *best* move. This requires evaluating multiple possible game sequences resulting from that move and comparing them to sequences resulting from other moves. A single state doesn\\'t provide enough information to make this determination. We need to see how the game unfolds *after* a move is made.  A trajectory (list of states) allows us to track the game\\'s progression and evaluate outcomes, making it possible to compare different move choices.  We can evaluate the final outcome of a trajectory (win, loss, draw) to assess the quality of the initial move that started the trajectory.\\n\\n```python\\ndef extract(trajectory):\\n  \"\"\"\\n  Extracts information from a search trajectory to determine if the center move is good.\\n\\n  Args:\\n    trajectory: A list of states representing a game trajectory.\\n\\n  Returns:\\n    A string indicating a result if found, or None if the search should continue.\\n  \"\"\"\\n  if not trajectory:\\n    return None\\n\\n  final_state = trajectory[-1]\\n  board = final_state[\\'board\\']\\n\\n  # Check for a win/loss/draw\\n  winner = check_winner(board)\\n  if winner:\\n    if trajectory[0][\\'currentPlayer\\'] == winner:\\n      return \"Win with center move\"  # Favorable outcome\\n    else:\\n      return \"Loss with center move\"  # Unfavorable outcome\\n  elif is_board_full(board):\\n    return \"Draw with center move\"  # Neutral outcome\\n  else:\\n    return None # Game not finished, continue searching\\n\\n\\ndef check_winner(board):\\n  \"\"\"Helper function to determine the winner of the game.\"\"\"\\n  for i in range(3):\\n    if board[i][0] == board[i][1] == board[i][2] != \\'.\\':\\n      return board[i][0]\\n    if board[0][i] == board[1][i] == board[2][i] != \\'.\\':\\n      return board[0][i]\\n  if board[0][0] == board[1][1] == board[2][2] != \\'.\\':\\n    return board[0][0]\\n  if board[0][2] == board[1][1] == board[2][0] != \\'.\\':\\n    return board[0][2]\\n  return None\\n\\ndef is_board_full(board):\\n  \"\"\"Helper function to check if the board is full.\"\"\"\\n  for row in board:\\n    for cell in row:\\n      if cell == \\'.\\':\\n        return False\\n  return True\\n```'}, {'role': 'user', 'content': \"To make the search more efficient, we may need a heuristic `evaluate` function.\\n\\nThis function's goal is to guide the search by prioritizing more promising states to solve the problem.\\n\\nFirst, state whether a heuristic is necessary for this task.\\n- If not, explain why (e.g., the search space is small enough).\\n- If it is, explain your chosen approach (e.g., scoring individual states, or sorting a list of candidates) and implement the `evaluate` function.\\n\\nThe two possible approaches are:\\n1. **Score-based**: The function takes a single state and returns a score indicating its desirability. States with higher scores are considered and expanded first.\\n2. **Comparison-based**: The function takes a list of states and sorts them in which the most promising states come first. The search will then expand states in this order.\\n\\nProvide your reasoning and, if applicable, the Python implementation inside a ```python ... ``` block. If you need helper functions, make sure they are defined within the same block so the block can stand alone.\"}, {'role': 'assistant', 'content': '**Is a heuristic necessary?**\\n\\nYes, a heuristic is beneficial for this task, despite the relatively small search space of Tic-Tac-Toe. While a brute-force search *could* explore all possibilities, using a heuristic can significantly reduce the search depth needed to determine if playing in the center is the best move. Without a heuristic, the search might explore many irrelevant branches, especially if the opponent plays optimally.\\n\\n**Chosen Approach:**\\n\\nI will implement a **score-based** heuristic. This approach is simpler to integrate into a tree search framework than a comparison-based one, which would require re-sorting at each level of the search. The score will be calculated based on the following principles:\\n\\n1.  **Winning State:** Highest score (+10)\\n2.  **Losing State:** Lowest score (-10)\\n3.  **Blocking Opponent\\'s Win:** High score (+5)\\n4.  **Creating Own Potential Win (Two in a row):** Moderate score (+2)\\n5.  **Blocking Opponent\\'s Potential Win:** Moderate score (+1)\\n6.  **Other moves:** Low score (0)\\n\\nThis heuristic prioritizes states that lead to winning or prevent losing, then focuses on creating or preventing opportunities.\\n\\n```python\\ndef evaluate(state):\\n  \"\"\"\\n  Evaluates the desirability of a Tic Tac Toe state using a score-based heuristic.\\n\\n  Args:\\n    state: A dictionary representing the current game state.\\n\\n  Returns:\\n    A numerical score representing the desirability of the state.\\n  \"\"\"\\n  board = state[\\'board\\']\\n  currentPlayer = state[\\'currentPlayer\\']\\n  opponent = \\'X\\' if currentPlayer == \\'O\\' else \\'O\\'\\n\\n  score = 0\\n\\n  # Check for immediate win/loss\\n  winner = check_winner(board)\\n  if winner:\\n    if winner == currentPlayer:\\n      return 10\\n    else:\\n      return -10\\n\\n  # Check for blocking opponent\\'s win\\n  for row in range(3):\\n    for col in range(3):\\n      if board[row][col] == \\'.\\':\\n        temp_board = [r[:] for r in board]\\n        temp_board[row][col] = opponent\\n        if check_winner(temp_board):\\n          score += 5  # Block opponent win\\n\\n  # Check for creating own potential win\\n  for row in range(3):\\n    for col in range(3):\\n      if board[row][col] == \\'.\\':\\n        temp_board = [r[:] for r in board]\\n        temp_board[row][col] = currentPlayer\\n        if check_potential_win(temp_board, currentPlayer):\\n          score += 2  # Create potential win\\n\\n  # Check for blocking opponent\\'s potential win\\n  for row in range(3):\\n    for col in range(3):\\n      if board[row][col] == \\'.\\':\\n        temp_board = [r[:] for r in board]\\n        temp_board[row][col] = opponent\\n        if check_potential_win(temp_board, opponent):\\n          score += 1 # Block opponent potential win\\n\\n  return score\\n\\n\\ndef check_winner(board):\\n  \"\"\"Helper function to determine the winner of the game.\"\"\"\\n  for i in range(3):\\n    if board[i][0] == board[i][1] == board[i][2] != \\'.\\':\\n      return board[i][0]\\n    if board[0][i] == board[1][i] == board[2][i] != \\'.\\':\\n      return board[0][i]\\n  if board[0][0] == board[1][1] == board[2][2] != \\'.\\':\\n    return board[0][0]\\n  if board[0][2] == board[1][1] == board[2][0] != \\'.\\':\\n    return board[0][2]\\n  return None\\n\\ndef check_potential_win(board, player):\\n  \"\"\"Helper function to check for potential wins (two in a row).\"\"\"\\n  for i in range(3):\\n    count = 0\\n    for j in range(3):\\n      if board[i][j] == player:\\n        count += 1\\n    if count == 2 and \\'.\\' in board[i]:\\n      return True\\n\\n    count = 0\\n    for j in range(3):\\n      if board[j][i] == player:\\n        count += 1\\n    if count == 2 and \\'.\\' in [board[k][i] for k in range(3)]:\\n      return True\\n\\n  # Diagonals\\n  if board[0][0] == board[1][1] == player and board[2][2] == \\'.\\':\\n    return True\\n  if board[0][0] == board[2][2] == player and board[1][1] == \\'.\\':\\n    return True\\n  if board[0][2] == board[1][1] == player and board[2][0] == \\'.\\':\\n    return True\\n  if board[0][2] == board[2][0] == player and board[1][1] == \\'.\\':\\n    return True\\n\\n  return False\\n```'}]}\n",
      "idx         0\n",
      "failed      False\n",
      "score\n",
      "correct     0.0\n",
      "iterations  1\n",
      "fails       0\n",
      "invalid     1\n",
      "----------  -----------------------------------------------------------------------------------------------------------------------------------------------------------------------------------------------------------------------------------------------------------------------------------------------------------------------------------------------------------------------------------------------------------------------------------------------------------------------------------------------------------------------------------------------------------------------------------------------------------------------------------------------------------------------------------------------------------------------------------------------------------------------------------------------------------------------------------------------------------------------------------------------------------------------------------------------------------------------------------------------------------------------------------------------------------------------------------------------------------------------------------------------------------------------------------------------------------------------------------------------------------------------------------------------------------------------------------------------------------------------------------------------------------------------------------------------------------------------------------------------------------------------------------------------------------------------------------------------------------------------------------------------------------------------------------------------------------------------------------------------------------------------------------------------------------------------------------------------------------------------------------------------------------------------------------------------------------------------------------------------------------------------------------------------------------------------------------------------------------------------------------------------------------------------------------------------------------------------------------------------------------------------------------------------------------------------------------------------------------------------------------------------------------------------------------------------------------------------------------------------------------------------------------------------------------------------------------------------------------------------------------------------------------------------------------------------------------------------------------------------------------------------------------------------------------------------------------------------------------------------------------------------------------------------------------------------------------------------------------------------------------------------------------------------------------------------------------------------------------------------------------------------------------------------------------------------------------------------------------------------------------------------------------------------------------------------------------------------------------------------------------------------------------------------------------------------------------------------------------------------------------------------------------------------------------------------------------------------------------------------------------------------------------------------------------------------------------------------------------------------------------------------------------------------------------------------------------------------------------------------------------------------------------------------------------------------------------------------------------------------------------------------------------------------------------------------------------------------------------------------------------------------------------------------------------------------------------------------------------------------------------------------------------------------------------------------------------------------------------------------------------------------------------------------------------------------------------------------------------------------------------------------------------------------------------------------------------------------------------------------------------------------------------------------------------------------------------------------------------------------------------------------------------------------------------------------------------------------------------------------------------------------------------------------------------------------------------------------------------------------------------------------------------------------------------------------------------------------------------------------------------------------------------------------------------------------------------------------------------------------------------------------------------------------------------------------------------------------------------------------------------------------------------------------------------------------------------------------------------------------------------------------------------------------------------------------------------------------------------------------------------------------------------------------------------------------------------------------------------------------------------------------------------------------------------------------------------------------------------------------------------------------------------------------------------------------------------------------------------------------------------------------------------------------------------------------------------------------------------------------------------------------------------------------------------------------------------------------------------------------------------------------------------------------------------------------------------------------------------------------------------------------------------------------------------------------------------------------------------------------------------------------------------------------------------------------------------------------------------------------------------------------------------------------------------------------------------------------------------------------------------------------------------------------------------------------------------------------------------------------------------------------------------------------------------------------------------------------------------------------------------------------------------------------------------------------------------------------------------------------------------------------------------------------------------------------------------------------------------------------------------------------------------------------------------------------------------------------------------------------------------------------------------------------------------------------------------------------------------------------------------------------------------------------------------------------------------------------------------------------------------------------------------------------------------------------------------------------------------------------------------------------------------------------------------------------------------------------------------------------------------------------------------------------------------------------------------------------------------------------------------------------------------------------------------------------------------------------------------------------------------------------------------------------------------------------------------------------------------------------------------------------------------------------------------------------------------------------------------------------------------------------------------------------------------------------------------------------------------------------------------------------------------------------------------------------------------------------------------------------------------------------------------------------------------------------------------------------------------------------------------------------------------------------------------------------------------------------------------------------------------------------------------------------------------------------------------------------------------------------------------------------------------------------------------------------------------------------------------------------------------------------------------------------------------------------------------------------------------------------------------------------------------------------------------------------------------------------------------------------------------------------------------------------------------------------------------------------------------------------------------------------------------------------------------------------------------------------------------------------------------------------------------------------------------------------------------------------------------------------------------------------------------------------------------------------------------------------------------------------------------------------------------------------------------------------------------------------------------------------------------------------------------------------------------------------------------------------------------------------------------------------------------------------------------------------------------------------------------------------------------------------------------------------------------------------------------------------------------------------------------------------------------------------------------------------------------------------------------------------------------------------------------------------------------------------------------------------------------------------------------------------------------------------------------------------------------------------------------------------------------------------------------------------------------------------------------------------------------------------------------------------------------------------------------------------------------------------------------------------------------------------------------------------------------------------------------------------------------------------------------------------------------------------------------------------------------------------------------------------------------------------------------------------------------------------------------------------------------------------------------------------------------------------------------------------------------------------------------------------------------------------------------------------------------------------------------------------------------------------------------------------------------------------------------------------------------------------------------------------------------------------------------------------------------------------------------------------------------------------------------------------------------------------------------------------------------------------------------------------------------------------------------------------------------------------------------------------------------------------------------------------------------------------------------------------------------------------------------------------------------------------------------------------------------------------------------------------------------------------------------------------------------------------------------------------------------------------------------------------------------------------------------------------------------------------------------------------------------------------------------------------------------------------------------------------------------------------------------------------------------------------------------------------------------------------------------------------------------------------------------------------------------------------------------------------------------------------------------------------------------------------------------------------------------------------------------------------------------------------------------------------------------------------------------------------------------------------------------------------------------------------------------------------------------------------------------------------------------------------------------------------------------------------------------------------------------------------------------------------------------------------------------------------------------------------------------------------------------------------------------------------------------------------------------------------------------------------------------------------------------------------------------------------------------------------------------------------------------------------------------------------------------------------------------------------------------------------------------------------------------------------------------------------------------------------------------------------------------------------------------------------------------------------------------------------------------------------------------------------------------------------------------------------------------------------------------------------------------------------------------------------------------------------------------------------------------------------------------------------------------------------------------------------------------------------------------------------------------------------------------------------------------------------------------------------------------------------------------------------------------------------------------------------------------------------------------------------------------------------------------------------------------------------------------------------------------------------------------------------------------------------------------------------------------------------------------------------------------------------------------------------------------------------------------------------------------------------------------------------------------------------------------------------------------------------------------------------------------------------------------------------------------------------------------------------------------------------------------------------------------------------------------------------------------------------------------------------------------------------------------------------------------------------------------------------------------------------------------------------------------------------------------------------------------------------------------------------------------------------------------------------------------------------------------------------------------------------------------------------------------------------------------------------------------------------------------------------------------------------------------------------------------------------------------------------------------------------------------------------------------------------------------------------------------------------------------------------------------------------------------------------------------------------------------------------------------------------------------------------------------------------------------------------------------------------------------------------------------------------------------------------------------------------------------------------------------------------------------------------------------------------------------------------------------------------------------------------------------------------------------------------------------------------------------------------------------------------------------------------------------------------------------------------------------------------------------------------------------------------------------------------------------------------------------------------------------------------------------------------------------------------------------------------------------------------------------------------------------------------------------------------------------------------------------------------------------------------------------------------------------------------------------------------------------------------------------------------------------------------------------------------------------------------------------------------------------------------------------------------------------------------------------------------------------------------------------------------------------------------------------------------------------------------------------------------------------------------------------------------------------------------------------------------------------------------------------------------------------------------------------------------------------------------------------------------------------------------------------------------------------------------------------------------------------------------------------------------------------------------------------------------------------------------------------------------------------------------------------------------------------------------------------------------------------------------------------------------------------------------------------------------------------------------------------------------------------------------------------------------------------------------------------------------------------------------------------------------------------------------------------------------------------------------------------------------------------------------------------------------------------------------------------------------------------------------------------------------------------------------------------------------------------------------------------------------------------------------------------------------------------------------------------------------------------------------------------------------------------------------------------------------------------------------------------------------------------------------------------------------------------------------------------------------------------------------------------------------------------------------------------------------------------------------------------------------------------------------------------------------------------------------------------------------------------------------------------------\n"
     ]
    }
   ],
   "source": [
    "item = full[0]\n",
    "print(tabulate(item.items()))"
   ]
  },
  {
   "cell_type": "code",
   "execution_count": 5,
   "id": "278fbf80",
   "metadata": {},
   "outputs": [
    {
     "data": {
      "text/plain": [
       "dict_keys(['index', 'seed', 'task', 'context', 'rep', 'expand_code', 'extract_code', 'extract_approach', 'evaluate_code', 'evaluate_approach', 'chat'])"
      ]
     },
     "execution_count": 5,
     "metadata": {},
     "output_type": "execute_result"
    }
   ],
   "source": [
    "item['table'].keys()"
   ]
  },
  {
   "cell_type": "code",
   "execution_count": 6,
   "id": "87baaafe",
   "metadata": {},
   "outputs": [
    {
     "name": "stdout",
     "output_type": "stream",
     "text": [
      "We will solve the following task using a structured tree-search framework.\n",
      "\n",
      "**Task Description:**\n",
      "We're playing tic-tac-toe, and, given the current game state, I would like to know specifically whether or not I should play in the middle next.\n",
      "\n",
      "**Example Problem:**\n",
      "```\n",
      "Alice is \"X\" and I am \"O\". Take a careful look at the current situation:\n",
      " X | O | . \n",
      " X | . | X \n",
      " . | O | . \n",
      "Should I play in the central cell - is that my best move?\n",
      "```\n",
      "\n",
      "Your first task is to design an optimal state representation for this kind of problem. The representation must be:\n",
      "1.  **High-Fidelity:** It must capture all details necessary to solve the task unambiguously.\n",
      "2.  **Efficient:** It should contain minimal redundancy and exclude irrelevant \"nuisance\" details.\n",
      "3.  **Conducive to Search:** The structure should make it easy to implement the search functions (`expand`, `extract`, `evaluate`) which are crucial for the tree search algorithm.\n",
      "\n",
      "Define this representation as a JSON schema, including clear descriptions for each property. Enclose the final output in a ```json ... ``` block.\n"
     ]
    }
   ],
   "source": [
    "print(item['table']['chat'][0]['content'])"
   ]
  },
  {
   "cell_type": "code",
   "execution_count": 7,
   "id": "0e36f9bb",
   "metadata": {},
   "outputs": [
    {
     "name": "stdout",
     "output_type": "stream",
     "text": [
      "$schema: http://json-schema.org/draft-07/schema#\n",
      "title: Tic Tac Toe Game State\n",
      "description: Represents the state of a Tic Tac Toe game.\n",
      "type: object\n",
      "properties:\n",
      "  board:\n",
      "    type: array\n",
      "    description: Represents the Tic Tac Toe board as a 2D array of strings.\n",
      "    items:\n",
      "      type: array\n",
      "      items:\n",
      "        type: string\n",
      "        enum: [., X, O]\n",
      "        description: Represents a cell on the board. '.' indicates an empty cell,\n",
      "          'X' represents player X, and 'O' represents player O.\n",
      "    minItems: 3\n",
      "    maxItems: 3\n",
      "    uniqueItems: true\n",
      "  currentPlayer:\n",
      "    type: string\n",
      "    description: Indicates which player's turn it is.\n",
      "    enum: [X, O]\n",
      "  lastMove:\n",
      "    type: [object, 'null']\n",
      "    description: The coordinates of the last move made. Null if no move has been made\n",
      "      yet\n",
      "    properties:\n",
      "      row: {type: integer, minimum: 0, maximum: 2}\n",
      "      col: {type: integer, minimum: 0, maximum: 2}\n",
      "    required: [row, col]\n",
      "required: [board, currentPlayer]\n",
      "\n",
      "****************************************************************************************************\n",
      "\n",
      "$schema: http://json-schema.org/draft-07/schema#\n",
      "title: TicTacToeGameState\n",
      "description: Represents the state of a Tic-Tac-Toe game.\n",
      "type: object\n",
      "properties:\n",
      "  board:\n",
      "    type: array\n",
      "    description: A 2D array representing the Tic-Tac-Toe board. Each element is either\n",
      "      'X', 'O', or '.' (empty).\n",
      "    items:\n",
      "    - type: array\n",
      "      items:\n",
      "      - type: string\n",
      "        enum: [X, O, ., INVALID]\n",
      "      minItems: 3\n",
      "      maxItems: 3\n",
      "    minItems: 3\n",
      "    maxItems: 3\n",
      "  currentPlayer:\n",
      "    type: string\n",
      "    description: Indicates the current player's mark ('X' or 'O').\n",
      "    enum: [X, O]\n",
      "  moveNumber: {type: integer, description: The number of moves played so far. Useful\n",
      "      for tie detection or limiting search depth., minimum: 0}\n",
      "required: [board, currentPlayer, moveNumber]\n",
      "\n",
      "****************************************************************************************************\n",
      "\n",
      "$schema: http://json-schema.org/draft-07/schema#\n",
      "title: TicTacToeGameState\n",
      "description: Represents the state of a Tic-Tac-Toe game.\n",
      "type: object\n",
      "properties:\n",
      "  board:\n",
      "    type: array\n",
      "    description: A 2D array representing the Tic-Tac-Toe board.\n",
      "    items:\n",
      "      type: array\n",
      "      items:\n",
      "        type: string\n",
      "        enum: [., X, O]\n",
      "        description: 'The cell value: ''.'' for empty, ''X'' for player X, ''O'' for\n",
      "          player O.'\n",
      "    minItems: 3\n",
      "    maxItems: 3\n",
      "    uniqueItems: true\n",
      "  currentPlayer:\n",
      "    type: string\n",
      "    enum: [X, O]\n",
      "    description: Indicates which player's turn it is.\n",
      "  moveNumber: {type: integer, description: The number of moves made so far in the\n",
      "      game. Used for tie-game detection or other turn-based logic.}\n",
      "required: [board, currentPlayer, moveNumber]\n",
      "\n",
      "****************************************************************************************************\n",
      "\n",
      "$schema: http://json-schema.org/draft-07/schema#\n",
      "title: TicTacToeGameState\n",
      "description: Represents the state of a Tic-Tac-Toe game.\n",
      "type: object\n",
      "properties:\n",
      "  board:\n",
      "    type: array\n",
      "    description: A 2D array representing the Tic-Tac-Toe board.\n",
      "    items:\n",
      "      type: array\n",
      "      items:\n",
      "        type: string\n",
      "        enum: [., X, O]\n",
      "        description: 'Represents a cell on the board: ''.'' for empty, ''X'' for player\n",
      "          X, ''O'' for player O.'\n",
      "    minItems: 3\n",
      "    maxItems: 3\n",
      "    uniqueItems: true\n",
      "  currentPlayer:\n",
      "    type: string\n",
      "    enum: [X, O]\n",
      "    description: Indicates which player's turn it is currently.\n",
      "  moveNumber: {type: integer, description: 'The current move number, starting from\n",
      "      0.', minimum: 0}\n",
      "required: [board, currentPlayer, moveNumber]\n",
      "\n",
      "****************************************************************************************************\n",
      "\n",
      "$schema: http://json-schema.org/draft-07/schema#\n",
      "title: Tic Tac Toe State\n",
      "description: Represents the state of a Tic Tac Toe game.\n",
      "type: object\n",
      "properties:\n",
      "  board:\n",
      "    type: array\n",
      "    description: A 2D array representing the Tic Tac Toe board.\n",
      "    items:\n",
      "    - {type: array, minItems: 3, maxItems: 3, uniqueItems: true}\n",
      "    minItems: 3\n",
      "    maxItems: 3\n",
      "    uniqueItems: true\n",
      "  currentPlayer:\n",
      "    type: string\n",
      "    enum: [X, O]\n",
      "    description: The player whose turn it is to move.\n",
      "  myPlayer:\n",
      "    type: string\n",
      "    enum: [X, O]\n",
      "    description: The player that this agent controls.\n",
      "required: [board, currentPlayer, myPlayer]\n",
      "\n",
      "****************************************************************************************************\n",
      "\n",
      "$schema: http://json-schema.org/draft-07/schema#\n",
      "title: TicTacToeGameState\n",
      "description: Represents the state of a Tic-Tac-Toe game.\n",
      "type: object\n",
      "properties:\n",
      "  board:\n",
      "    type: array\n",
      "    description: A 2D array representing the Tic-Tac-Toe board.\n",
      "    items:\n",
      "      type: array\n",
      "      items:\n",
      "        type: string\n",
      "        enum: [., X, O]\n",
      "        description: Represents a cell on the board. '.' for empty, 'X' for player\n",
      "          X, 'O' for player O.\n",
      "    minItems: 3\n",
      "    maxItems: 3\n",
      "    uniqueItems: true\n",
      "  currentPlayer:\n",
      "    type: string\n",
      "    enum: [X, O]\n",
      "    description: Indicates which player's turn it is.\n",
      "  moveNumber: {type: integer, description: 'The current move number, starting from\n",
      "      0.', minimum: 0}\n",
      "required: [board, currentPlayer, moveNumber]\n",
      "\n",
      "****************************************************************************************************\n",
      "\n",
      "$schema: http://json-schema.org/draft-07/schema#\n",
      "title: Tic Tac Toe Game State\n",
      "description: Represents the state of a Tic Tac Toe game for decision making.\n",
      "type: object\n",
      "properties:\n",
      "  board:\n",
      "    type: array\n",
      "    description: A 2D array representing the Tic Tac Toe board. Each element is a\n",
      "      string representing a cell's content.\n",
      "    items:\n",
      "      type: array\n",
      "      items:\n",
      "        type: string\n",
      "        enum: [., X, O]\n",
      "        description: Represents a cell on the board. '.' indicates an empty cell,\n",
      "          'X' represents Alice's mark, and 'O' represents the player's mark.\n",
      "    minItems: 3\n",
      "    maxItems: 3\n",
      "  currentPlayer:\n",
      "    type: string\n",
      "    description: Indicates whose turn it is to play. Either 'X' or 'O'.\n",
      "    enum: [X, O]\n",
      "  isTerminal: {type: boolean, description: 'Indicates whether the game has reached\n",
      "      a terminal state (win, loss, or draw).'}\n",
      "  winner:\n",
      "    type: [string, 'null']\n",
      "    description: If 'isTerminal' is true and the game ended in a win, this indicates\n",
      "      the winning player ('X' or 'O').  If the game ended in a draw, this is null.\n",
      "    nullable: true\n",
      "    enum: [X, O, null]\n",
      "required: [board, currentPlayer, isTerminal, winner]\n",
      "\n",
      "****************************************************************************************************\n",
      "\n",
      "$schema: http://json-schema.org/draft-07/schema#\n",
      "title: TicTacToeGameState\n",
      "description: Represents the state of a Tic-Tac-Toe game.\n",
      "type: object\n",
      "properties:\n",
      "  board:\n",
      "    type: array\n",
      "    description: A 2D array representing the Tic-Tac-Toe board.\n",
      "    items:\n",
      "      type: array\n",
      "      items:\n",
      "        type: string\n",
      "        enum: [., X, O]\n",
      "        description: Represents a cell on the board. '.' indicates an empty cell,\n",
      "          'X' represents Alice's move, and 'O' represents the player's move.\n",
      "    minItems: 3\n",
      "    maxItems: 3\n",
      "    uniqueItems: true\n",
      "  currentPlayer:\n",
      "    type: string\n",
      "    enum: [X, O]\n",
      "    description: Indicates which player's turn it is ('X' for Alice, 'O' for the player).\n",
      "  lastMove:\n",
      "    type: [object, 'null']\n",
      "    description: The coordinates of the last move made. Null if it is the first turn.\n",
      "    properties:\n",
      "      row: {type: integer, minimum: 0, maximum: 2, description: The row index of the\n",
      "          last move.}\n",
      "      col: {type: integer, minimum: 0, maximum: 2, description: The column index of\n",
      "          the last move.}\n",
      "    required: [row, col]\n",
      "required: [board, currentPlayer]\n",
      "\n",
      "****************************************************************************************************\n",
      "\n",
      "$schema: http://json-schema.org/draft-07/schema#\n",
      "title: TicTacToeGameState\n",
      "description: Represents the state of a Tic-Tac-Toe game.\n",
      "type: object\n",
      "properties:\n",
      "  board:\n",
      "    type: array\n",
      "    description: A 2D array representing the Tic-Tac-Toe board. Each element is a\n",
      "      string representing a cell.\n",
      "    items:\n",
      "      type: string\n",
      "      enum: [., X, O]\n",
      "      description: '''.'' represents an empty cell, ''X'' represents Alice''s move,\n",
      "        ''O'' represents the current player''s move.'\n",
      "    minItems: 9\n",
      "    maxItems: 9\n",
      "    uniqueItems: true\n",
      "  currentPlayer:\n",
      "    type: string\n",
      "    description: Indicates the current player's symbol.\n",
      "    enum: [X, O]\n",
      "  moveNumber: {type: integer, description: The number of moves played so far. Useful\n",
      "      for potential tie game detection., minimum: 0}\n",
      "required: [board, currentPlayer, moveNumber]\n",
      "\n",
      "****************************************************************************************************\n",
      "\n",
      "$schema: http://json-schema.org/draft-07/schema#\n",
      "title: TicTacToeGameState\n",
      "description: Represents the state of a Tic-Tac-Toe game.\n",
      "type: object\n",
      "properties:\n",
      "  board:\n",
      "    type: array\n",
      "    description: A 2D array representing the Tic-Tac-Toe board.\n",
      "    items:\n",
      "      type: array\n",
      "      items:\n",
      "        type: string\n",
      "        enum: [., X, O]\n",
      "        description: Represents a cell on the board. '.' for empty, 'X' for player\n",
      "          X, and 'O' for player O.\n",
      "    minItems: 3\n",
      "    maxItems: 3\n",
      "    uniqueItems: true\n",
      "  currentPlayer:\n",
      "    type: string\n",
      "    enum: [X, O]\n",
      "    description: Indicates which player's turn it is.\n",
      "  availableMoves:\n",
      "    type: array\n",
      "    description: An array of coordinate pairs representing the empty cells on the\n",
      "      board.\n",
      "    items:\n",
      "      type: array\n",
      "      items: {type: integer, minimum: 0, maximum: 2}\n",
      "      minItems: 2\n",
      "      maxItems: 2\n",
      "    uniqueItems: true\n",
      "required: [board, currentPlayer, availableMoves]\n",
      "\n",
      "****************************************************************************************************\n",
      "\n"
     ]
    }
   ],
   "source": [
    "for item in full:\n",
    "    # pprint(item['table']['rep'])\n",
    "    rep = item['table']['rep']\n",
    "    print(yaml.dump(rep, sort_keys=False, allow_unicode=True, default_flow_style=None))\n",
    "    print('*'*100)\n",
    "    print()"
   ]
  },
  {
   "cell_type": "code",
   "execution_count": null,
   "id": "8dd40f2b",
   "metadata": {},
   "outputs": [],
   "source": []
  },
  {
   "cell_type": "code",
   "execution_count": null,
   "id": "6d71863a",
   "metadata": {},
   "outputs": [],
   "source": [
    "\n",
    "_schema_bad_keys = {'uniqueItems', '$schema'}\n",
    "class SchemaInvalidError(ValueError):\n",
    "    pass\n",
    "\n",
    "def filter_schema(data):\n",
    "    if isinstance(data, dict):\n",
    "        if data.get('type') == 'array' and 'items' not in data:\n",
    "            raise SchemaInvalidError(\"Array schema must have 'items' key\")\n",
    "        if 'items' in data and isinstance(data['items'], list):\n",
    "            assert len(data['items']) == 1\n",
    "            data['items'] = data['items'][0]\n",
    "        return {key: filter_schema(val) for key, val in data.items() if key not in _schema_bad_keys}\n",
    "    if isinstance(data, list):\n",
    "        return [filter_schema(item) for item in data]\n",
    "    return data\n",
    "\n",
    "def publish(fn):\n",
    "    if fn is None:\n",
    "        return fn\n",
    "    return inspect.getsource(fn).replace(fn.__name__, 'formalize')"
   ]
  },
  {
   "cell_type": "code",
   "execution_count": 9,
   "id": "d3fb92fd",
   "metadata": {},
   "outputs": [
    {
     "name": "stdout",
     "output_type": "stream",
     "text": [
      "WARNING: Default chat template not found at c:\\Users\\anwan\\OneDrive\\Khan\\research\\ludwig\\assets\\chat-template\\tools-pythonic\\openai-gpt-oss-120b.jinja\n"
     ]
    },
    {
     "data": {
      "text/plain": [
       "'openai-gpt-oss-120b'"
      ]
     },
     "execution_count": 9,
     "metadata": {},
     "output_type": "execute_result"
    }
   ],
   "source": [
    "from ludwig.util import vllm_Client, SAIA_Client\n",
    "# client = vllm_Client('8001')\n",
    "api_secrets_info = yaml.safe_load(repo_root().joinpath('config', 'secrets', 'saia.yml').open('r'))\n",
    "client = SAIA_Client(api_key=api_secrets_info['api-key'], model='openai-gpt-oss-120b')\n",
    "client.prepare()\n",
    "client.ident"
   ]
  },
  {
   "cell_type": "code",
   "execution_count": 15,
   "id": "d0ef3274",
   "metadata": {},
   "outputs": [
    {
     "data": {
      "text/plain": [
       "{'title': 'TicTacToeGameState',\n",
       " 'description': 'Represents the state of a Tic-Tac-Toe game.',\n",
       " 'type': 'object',\n",
       " 'properties': {'board': {'type': 'array',\n",
       "   'description': 'A 2D array representing the Tic-Tac-Toe board.',\n",
       "   'items': {'type': 'array',\n",
       "    'items': {'type': 'string',\n",
       "     'enum': ['.', 'X', 'O'],\n",
       "     'description': \"Represents a cell on the board. '.' for empty, 'X' for player X, and 'O' for player O.\"}},\n",
       "   'minItems': 3,\n",
       "   'maxItems': 3},\n",
       "  'currentPlayer': {'type': 'string',\n",
       "   'enum': ['X', 'O'],\n",
       "   'description': \"Indicates which player's turn it is.\"},\n",
       "  'availableMoves': {'type': 'array',\n",
       "   'description': 'An array of coordinate pairs representing the empty cells on the board.',\n",
       "   'items': {'type': 'array',\n",
       "    'items': {'type': 'integer', 'minimum': 0, 'maximum': 2},\n",
       "    'minItems': 2,\n",
       "    'maxItems': 2}}},\n",
       " 'required': ['board', 'currentPlayer', 'availableMoves']}"
      ]
     },
     "execution_count": 15,
     "metadata": {},
     "output_type": "execute_result"
    }
   ],
   "source": [
    "item = full[9]\n",
    "rep = filter_schema(item['table']['rep'])\n",
    "rep"
   ]
  },
  {
   "cell_type": "code",
   "execution_count": 13,
   "id": "b5b9cfc1",
   "metadata": {},
   "outputs": [
    {
     "data": {
      "text/plain": [
       "{'board': [['X', 'O', 'X'], ['O', 'X', '.'], ['.', 'O', '.']],\n",
       " 'currentPlayer': 'X',\n",
       " 'lastMove': {'row': 2, 'col': 1}}"
      ]
     },
     "execution_count": 13,
     "metadata": {},
     "output_type": "execute_result"
    }
   ],
   "source": [
    "chat = client.begin_chat(f'Give me a random state of a Tic Tac Toe game using this representation?\\n{json.dumps(rep, indent=2)}')\n",
    "resp = client.step(chat, grammar=rep)\n",
    "raw = chat[-1]['content']\n",
    "example = json.loads(raw)\n",
    "example"
   ]
  },
  {
   "cell_type": "code",
   "execution_count": 1,
   "id": "7e9b1f99",
   "metadata": {},
   "outputs": [],
   "source": [
    "def formalize1(board, active_player):\n",
    "    symbols = {' ':'.'}\n",
    "    board = [symbols.get(cell, cell) for cell in board]\n",
    "    state = {'board': [[board[0], board[1], board[2]], [board[3], board[4], board[5]], [board[6], board[7], board[8]]],\n",
    "             'currentPlayer': active_player,\n",
    "             }\n",
    "    return state\n",
    "def formalize2(board, active_player):\n",
    "    symbols = {' ':'.'}\n",
    "    board = [symbols.get(cell, cell) for cell in board]\n",
    "    state = {'board': [[board[0], board[1], board[2]], [board[3], board[4], board[5]], [board[6], board[7], board[8]]],\n",
    "             'currentPlayer': active_player,\n",
    "             'moveNumber': sum(1 for cell in board if cell != '.')\n",
    "             }\n",
    "    return state\n",
    "def formalize3(board, active_player):\n",
    "    def check_winner(state: str):\n",
    "        lines = [\n",
    "            state[0:3], state[3:6], state[6:9],  # rows\n",
    "            state[0::3], state[1::3], state[2::3],  # columns\n",
    "            state[0::4], state[2:7:2]  # diagonals\n",
    "        ]\n",
    "        for line in lines:\n",
    "            if line == 'XXX':\n",
    "                return 'X'\n",
    "            if line == 'OOO':\n",
    "                return 'O'\n",
    "    # winner = check_winner(board)\n",
    "    symbols = {' ':'.'}\n",
    "    board = [symbols.get(cell, cell) for cell in board]\n",
    "    state = {'board': [[board[0], board[1], board[2]], [board[3], board[4], board[5]], [board[6], board[7], board[8]]],\n",
    "             'currentPlayer': active_player,\n",
    "            #  'isTerminal': winner is not None or all(cell != '.' for cell in board),\n",
    "            #  'winner': winner,\n",
    "             }\n",
    "    return state\n",
    "def formalize4(board, active_player):\n",
    "    coords = [[0,0], [0,1], [0,2], [1,0], [1,1], [1,2], [2,0], [2,1], [2,2]]\n",
    "    symbols = {' ':'.'}\n",
    "    board = [symbols.get(cell, cell) for cell in board]\n",
    "    state = {'board': [[board[0], board[1], board[2]], [board[3], board[4], board[5]], [board[6], board[7], board[8]]],\n",
    "             'currentPlayer': active_player,\n",
    "             'availableMoves': [coords[i] for i, cell in enumerate(board) if cell == '.']}"
   ]
  },
  {
   "cell_type": "code",
   "execution_count": null,
   "id": "db9c7729",
   "metadata": {},
   "outputs": [],
   "source": []
  },
  {
   "cell_type": "code",
   "execution_count": 15,
   "id": "21ffd402",
   "metadata": {},
   "outputs": [],
   "source": [
    "gt_formalizations = [\n",
    "    formalize1,\n",
    "    formalize2,\n",
    "    formalize2,\n",
    "    formalize2,\n",
    "    None,\n",
    "    formalize2,\n",
    "    formalize3,\n",
    "    formalize2,\n",
    "    formalize2,\n",
    "    formalize4,\n",
    "]"
   ]
  },
  {
   "cell_type": "code",
   "execution_count": 16,
   "id": "8581710e",
   "metadata": {},
   "outputs": [
    {
     "data": {
      "text/plain": [
       "<function __main__.formalize1(board, active_player)>"
      ]
     },
     "execution_count": 16,
     "metadata": {},
     "output_type": "execute_result"
    }
   ],
   "source": [
    "fn = gt_formalizations[0]\n",
    "fn"
   ]
  },
  {
   "cell_type": "code",
   "execution_count": 17,
   "id": "08df9d47",
   "metadata": {},
   "outputs": [],
   "source": [
    "outpath = jobdir.joinpath('log-formal.jsonl')\n",
    "with outpath.open('w') as f:\n",
    "    for item, fn in zip(full, gt_formalizations):\n",
    "        item['table']['formalize_code'] = publish(fn)\n",
    "        f.write(json.dumps(item) + '\\n')"
   ]
  },
  {
   "cell_type": "code",
   "execution_count": null,
   "id": "1e27e5f4",
   "metadata": {},
   "outputs": [],
   "source": []
  },
  {
   "cell_type": "code",
   "execution_count": null,
   "id": "3a5b50af",
   "metadata": {},
   "outputs": [],
   "source": []
  },
  {
   "cell_type": "code",
   "execution_count": null,
   "id": "0d6df086",
   "metadata": {},
   "outputs": [],
   "source": []
  },
  {
   "cell_type": "code",
   "execution_count": null,
   "id": "ae2cb343",
   "metadata": {},
   "outputs": [],
   "source": []
  },
  {
   "cell_type": "code",
   "execution_count": null,
   "id": "d4ecf583",
   "metadata": {},
   "outputs": [],
   "source": []
  },
  {
   "cell_type": "code",
   "execution_count": null,
   "id": "c7e6f811",
   "metadata": {},
   "outputs": [],
   "source": []
  }
 ],
 "metadata": {
  "kernelspec": {
   "display_name": "base",
   "language": "python",
   "name": "python3"
  },
  "language_info": {
   "codemirror_mode": {
    "name": "ipython",
    "version": 3
   },
   "file_extension": ".py",
   "mimetype": "text/x-python",
   "name": "python",
   "nbconvert_exporter": "python",
   "pygments_lexer": "ipython3",
   "version": "3.12.4"
  }
 },
 "nbformat": 4,
 "nbformat_minor": 5
}
